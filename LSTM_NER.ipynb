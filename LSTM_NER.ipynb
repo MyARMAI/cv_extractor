{
 "cells": [
  {
   "cell_type": "code",
   "execution_count": 1,
   "metadata": {},
   "outputs": [
    {
     "data": {
      "text/html": [
       "<div>\n",
       "<style scoped>\n",
       "    .dataframe tbody tr th:only-of-type {\n",
       "        vertical-align: middle;\n",
       "    }\n",
       "\n",
       "    .dataframe tbody tr th {\n",
       "        vertical-align: top;\n",
       "    }\n",
       "\n",
       "    .dataframe thead th {\n",
       "        text-align: right;\n",
       "    }\n",
       "</style>\n",
       "<table border=\"1\" class=\"dataframe\">\n",
       "  <thead>\n",
       "    <tr style=\"text-align: right;\">\n",
       "      <th></th>\n",
       "      <th>Sentence #</th>\n",
       "      <th>Word</th>\n",
       "      <th>Tag</th>\n",
       "    </tr>\n",
       "  </thead>\n",
       "  <tbody>\n",
       "    <tr>\n",
       "      <th>0</th>\n",
       "      <td>0</td>\n",
       "      <td>Govardhana</td>\n",
       "      <td>Name</td>\n",
       "    </tr>\n",
       "    <tr>\n",
       "      <th>1</th>\n",
       "      <td>0</td>\n",
       "      <td>K</td>\n",
       "      <td>Name</td>\n",
       "    </tr>\n",
       "    <tr>\n",
       "      <th>2</th>\n",
       "      <td>0</td>\n",
       "      <td>Senior</td>\n",
       "      <td>Designation</td>\n",
       "    </tr>\n",
       "    <tr>\n",
       "      <th>3</th>\n",
       "      <td>0</td>\n",
       "      <td>Software</td>\n",
       "      <td>Designation</td>\n",
       "    </tr>\n",
       "    <tr>\n",
       "      <th>4</th>\n",
       "      <td>0</td>\n",
       "      <td>Engineer</td>\n",
       "      <td>Designation</td>\n",
       "    </tr>\n",
       "    <tr>\n",
       "      <th>...</th>\n",
       "      <td>...</td>\n",
       "      <td>...</td>\n",
       "      <td>...</td>\n",
       "    </tr>\n",
       "    <tr>\n",
       "      <th>94174</th>\n",
       "      <td>3757</td>\n",
       "      <td>tuning</td>\n",
       "      <td>O</td>\n",
       "    </tr>\n",
       "    <tr>\n",
       "      <th>94175</th>\n",
       "      <td>3758</td>\n",
       "      <td>and</td>\n",
       "      <td>O</td>\n",
       "    </tr>\n",
       "    <tr>\n",
       "      <th>94176</th>\n",
       "      <td>3758</td>\n",
       "      <td>escalating</td>\n",
       "      <td>O</td>\n",
       "    </tr>\n",
       "    <tr>\n",
       "      <th>94177</th>\n",
       "      <td>3758</td>\n",
       "      <td>Security</td>\n",
       "      <td>O</td>\n",
       "    </tr>\n",
       "    <tr>\n",
       "      <th>94178</th>\n",
       "      <td>3758</td>\n",
       "      <td>events.</td>\n",
       "      <td>O</td>\n",
       "    </tr>\n",
       "  </tbody>\n",
       "</table>\n",
       "<p>93954 rows × 3 columns</p>\n",
       "</div>"
      ],
      "text/plain": [
       "       Sentence #        Word          Tag\n",
       "0               0  Govardhana         Name\n",
       "1               0           K         Name\n",
       "2               0      Senior  Designation\n",
       "3               0    Software  Designation\n",
       "4               0    Engineer  Designation\n",
       "...           ...         ...          ...\n",
       "94174        3757      tuning            O\n",
       "94175        3758         and            O\n",
       "94176        3758  escalating            O\n",
       "94177        3758    Security            O\n",
       "94178        3758     events.            O\n",
       "\n",
       "[93954 rows x 3 columns]"
      ]
     },
     "execution_count": 1,
     "metadata": {},
     "output_type": "execute_result"
    }
   ],
   "source": [
    "import pandas as pd\n",
    "import numpy as np\n",
    "import re\n",
    "\n",
    "pd.set_option('display.max_rows', 500)\n",
    "pd.set_option('display.max_columns', 500)\n",
    "pd.set_option('display.width', 1000)\n",
    "pd.set_option('display.max_colwidth', None)\n",
    "\n",
    "filepath = u\"./resume_sentence_dataset.json\"\n",
    "\n",
    "data = pd.read_json(filepath)\n",
    "data"
   ]
  },
  {
   "cell_type": "code",
   "execution_count": 2,
   "metadata": {},
   "outputs": [],
   "source": [
    "#change date tag to Date instead of 0\n",
    "#data.loc[data.index[data.Word.str.contains(\"[0-9]{4}$\")],'Tag'] = \"Date\""
   ]
  },
  {
   "cell_type": "code",
   "execution_count": 3,
   "metadata": {},
   "outputs": [
    {
     "data": {
      "text/plain": [
       "O                      81390\n",
       "Skills                  6049\n",
       "Date                    1407\n",
       "Designation             1175\n",
       "College Name             957\n",
       "Companies worked at      928\n",
       "Degree                   924\n",
       "Name                     395\n",
       "Location                 381\n",
       "Email Address            256\n",
       "Years of Experience       71\n",
       "Graduation Year           15\n",
       "UNKNOWN                    6\n",
       "Name: Tag, dtype: int64"
      ]
     },
     "execution_count": 3,
     "metadata": {},
     "output_type": "execute_result"
    }
   ],
   "source": [
    "data[\"Tag\"].value_counts()"
   ]
  },
  {
   "cell_type": "code",
   "execution_count": 4,
   "metadata": {
    "scrolled": true
   },
   "outputs": [
    {
     "data": {
      "text/plain": [
       "O                      8139\n",
       "Skills                 6049\n",
       "Date                   1407\n",
       "Designation            1175\n",
       "College Name            957\n",
       "Companies worked at     928\n",
       "Degree                  924\n",
       "Name                    395\n",
       "Location                381\n",
       "Email Address           256\n",
       "Years of Experience      71\n",
       "Graduation Year          15\n",
       "UNKNOWN                   6\n",
       "Name: Tag, dtype: int64"
      ]
     },
     "execution_count": 4,
     "metadata": {},
     "output_type": "execute_result"
    }
   ],
   "source": [
    "## remove random O-Tag\n",
    "#import random\n",
    "import math\n",
    "\n",
    "index = data.index[data['Tag'] == \"O\"]\n",
    "O_tagSize = math.ceil((len(index)*0.9))\n",
    "\n",
    "drop_indices = np.random.choice(index, O_tagSize, replace=False)\n",
    "data = data.drop(drop_indices)\n",
    "\n",
    "data[\"Tag\"].value_counts()"
   ]
  },
  {
   "cell_type": "code",
   "execution_count": 5,
   "metadata": {},
   "outputs": [
    {
     "data": {
      "text/plain": [
       "6649"
      ]
     },
     "execution_count": 5,
     "metadata": {},
     "output_type": "execute_result"
    }
   ],
   "source": [
    "words = list(set(data[\"Word\"].values))\n",
    "words.append(\"ENDPAD\")\n",
    "n_words = len(words); n_words"
   ]
  },
  {
   "cell_type": "code",
   "execution_count": 6,
   "metadata": {},
   "outputs": [
    {
     "data": {
      "text/plain": [
       "13"
      ]
     },
     "execution_count": 6,
     "metadata": {},
     "output_type": "execute_result"
    }
   ],
   "source": [
    "tags = list(set(data[\"Tag\"].values))\n",
    "n_tags = len(tags); n_tags"
   ]
  },
  {
   "cell_type": "code",
   "execution_count": 7,
   "metadata": {},
   "outputs": [],
   "source": [
    "class SentenceGetter(object):\n",
    "    \n",
    "    def __init__(self, data):\n",
    "        self.n_sent = 1\n",
    "        self.data = data\n",
    "        self.empty = False\n",
    "        agg_func = lambda s: [(w,t) for w, t in zip(s[\"Word\"].values.tolist(),s[\"Tag\"].values.tolist())]\n",
    "        self.grouped = self.data.groupby(\"Sentence #\").apply(agg_func)\n",
    "        self.sentences = [s for s in self.grouped]\n",
    "    \n",
    "    def get_next(self):\n",
    "        try:\n",
    "            s = self.grouped[self.n_sent]\n",
    "            print(s)\n",
    "            self.n_sent += 1\n",
    "            return s\n",
    "        except:\n",
    "            return None\n",
    "        \n",
    "getter = SentenceGetter(data)"
   ]
  },
  {
   "cell_type": "code",
   "execution_count": 8,
   "metadata": {},
   "outputs": [],
   "source": [
    "sentences = getter.sentences"
   ]
  },
  {
   "cell_type": "code",
   "execution_count": 9,
   "metadata": {},
   "outputs": [],
   "source": [
    "#pad word to a length of 50 (why ? Keras need to have same length for each input in the neural net)\n",
    "max_len = 50\n",
    "word2idx = {w: i for i, w in enumerate(words)}\n",
    "tag2idx = {t: i for i, t in enumerate(tags)}"
   ]
  },
  {
   "cell_type": "code",
   "execution_count": 10,
   "metadata": {},
   "outputs": [
    {
     "name": "stderr",
     "output_type": "stream",
     "text": [
      "Using TensorFlow backend.\n"
     ]
    }
   ],
   "source": [
    "from keras.preprocessing.sequence import pad_sequences\n",
    "\n",
    "X = [[word2idx[w[0]] for w in s] for s in sentences]\n",
    "y = [[tag2idx[w[1]] for w in s] for s in sentences]\n",
    "\n",
    "\n",
    "X = pad_sequences(maxlen=max_len, sequences=X, padding=\"post\", value=n_words - 1)\n",
    "y = pad_sequences(maxlen=max_len, sequences=y, padding=\"post\", value=tag2idx[\"O\"])"
   ]
  },
  {
   "cell_type": "code",
   "execution_count": 11,
   "metadata": {},
   "outputs": [],
   "source": [
    "# change label to categorical\n",
    "from keras.utils import to_categorical\n",
    "y = [to_categorical(i, num_classes=n_tags) for i in y]"
   ]
  },
  {
   "cell_type": "code",
   "execution_count": 12,
   "metadata": {},
   "outputs": [],
   "source": [
    "# split dataset into train (input & label) test (input & label)\n",
    "from sklearn.model_selection import train_test_split\n",
    "\n",
    "X_tr, X_te, y_tr, y_te = train_test_split(X, y, test_size=0.3)\n"
   ]
  },
  {
   "cell_type": "code",
   "execution_count": 13,
   "metadata": {},
   "outputs": [
    {
     "name": "stdout",
     "output_type": "stream",
     "text": [
      "WARNING:tensorflow:From C:\\Users\\Cheikh\\Anaconda3\\envs\\tensorflow\\lib\\site-packages\\keras\\backend\\tensorflow_backend.py:74: The name tf.get_default_graph is deprecated. Please use tf.compat.v1.get_default_graph instead.\n",
      "\n",
      "WARNING:tensorflow:From C:\\Users\\Cheikh\\Anaconda3\\envs\\tensorflow\\lib\\site-packages\\keras\\backend\\tensorflow_backend.py:517: The name tf.placeholder is deprecated. Please use tf.compat.v1.placeholder instead.\n",
      "\n",
      "WARNING:tensorflow:From C:\\Users\\Cheikh\\Anaconda3\\envs\\tensorflow\\lib\\site-packages\\keras\\backend\\tensorflow_backend.py:4138: The name tf.random_uniform is deprecated. Please use tf.random.uniform instead.\n",
      "\n",
      "WARNING:tensorflow:From C:\\Users\\Cheikh\\Anaconda3\\envs\\tensorflow\\lib\\site-packages\\keras\\backend\\tensorflow_backend.py:133: The name tf.placeholder_with_default is deprecated. Please use tf.compat.v1.placeholder_with_default instead.\n",
      "\n",
      "WARNING:tensorflow:From C:\\Users\\Cheikh\\Anaconda3\\envs\\tensorflow\\lib\\site-packages\\keras\\backend\\tensorflow_backend.py:3445: calling dropout (from tensorflow.python.ops.nn_ops) with keep_prob is deprecated and will be removed in a future version.\n",
      "Instructions for updating:\n",
      "Please use `rate` instead of `keep_prob`. Rate should be set to `rate = 1 - keep_prob`.\n"
     ]
    }
   ],
   "source": [
    "from keras.models import Model, Input\n",
    "from keras.layers import LSTM, Embedding, Dense, TimeDistributed, Dropout, Bidirectional\n",
    "\n",
    "input = Input(shape=(max_len,))\n",
    "model = Embedding(input_dim=n_words, output_dim=50, input_length=max_len)(input)  # 50-dim embedding\n",
    "model = Dropout(0.1)(model)\n",
    "model = Bidirectional(LSTM(units=100, return_sequences=True, recurrent_dropout=0.1))(model)  # variational biLSTM\n",
    "out = TimeDistributed(Dense(n_tags, activation=\"softmax\"))(model)  # softmax output layer\n"
   ]
  },
  {
   "cell_type": "code",
   "execution_count": 14,
   "metadata": {},
   "outputs": [
    {
     "name": "stdout",
     "output_type": "stream",
     "text": [
      "_________________________________________________________________\n",
      "Layer (type)                 Output Shape              Param #   \n",
      "=================================================================\n",
      "input_1 (InputLayer)         (None, 50)                0         \n",
      "_________________________________________________________________\n",
      "embedding_1 (Embedding)      (None, 50, 25)            166225    \n",
      "_________________________________________________________________\n",
      "dropout_1 (Dropout)          (None, 50, 25)            0         \n",
      "_________________________________________________________________\n",
      "bidirectional_1 (Bidirection (None, 50, 200)           100800    \n",
      "_________________________________________________________________\n",
      "time_distributed_1 (TimeDist (None, 50, 13)            2613      \n",
      "=================================================================\n",
      "Total params: 269,638\n",
      "Trainable params: 269,638\n",
      "Non-trainable params: 0\n",
      "_________________________________________________________________\n"
     ]
    }
   ],
   "source": [
    "model = Model(input, out)\n",
    "model.summary()"
   ]
  },
  {
   "cell_type": "code",
   "execution_count": 15,
   "metadata": {},
   "outputs": [
    {
     "name": "stdout",
     "output_type": "stream",
     "text": [
      "WARNING:tensorflow:From C:\\Users\\Cheikh\\Anaconda3\\envs\\tensorflow\\lib\\site-packages\\keras\\optimizers.py:790: The name tf.train.Optimizer is deprecated. Please use tf.compat.v1.train.Optimizer instead.\n",
      "\n",
      "WARNING:tensorflow:From C:\\Users\\Cheikh\\Anaconda3\\envs\\tensorflow\\lib\\site-packages\\keras\\backend\\tensorflow_backend.py:3295: The name tf.log is deprecated. Please use tf.math.log instead.\n",
      "\n"
     ]
    }
   ],
   "source": [
    "model.compile(optimizer=\"rmsprop\", loss=\"categorical_crossentropy\", metrics=[\"accuracy\"])"
   ]
  },
  {
   "cell_type": "code",
   "execution_count": 16,
   "metadata": {
    "scrolled": false
   },
   "outputs": [
    {
     "name": "stdout",
     "output_type": "stream",
     "text": [
      "WARNING:tensorflow:From C:\\Users\\Cheikh\\Anaconda3\\envs\\tensorflow\\lib\\site-packages\\tensorflow_core\\python\\ops\\math_grad.py:1424: where (from tensorflow.python.ops.array_ops) is deprecated and will be removed in a future version.\n",
      "Instructions for updating:\n",
      "Use tf.where in 2.0, which has the same broadcast rule as np.where\n",
      "WARNING:tensorflow:From C:\\Users\\Cheikh\\Anaconda3\\envs\\tensorflow\\lib\\site-packages\\keras\\backend\\tensorflow_backend.py:986: The name tf.assign_add is deprecated. Please use tf.compat.v1.assign_add instead.\n",
      "\n",
      "WARNING:tensorflow:From C:\\Users\\Cheikh\\Anaconda3\\envs\\tensorflow\\lib\\site-packages\\keras\\backend\\tensorflow_backend.py:973: The name tf.assign is deprecated. Please use tf.compat.v1.assign instead.\n",
      "\n",
      "WARNING:tensorflow:From C:\\Users\\Cheikh\\Anaconda3\\envs\\tensorflow\\lib\\site-packages\\keras\\backend\\tensorflow_backend.py:2741: The name tf.Session is deprecated. Please use tf.compat.v1.Session instead.\n",
      "\n",
      "Train on 2279 samples, validate on 254 samples\n",
      "Epoch 1/10\n",
      "WARNING:tensorflow:From C:\\Users\\Cheikh\\Anaconda3\\envs\\tensorflow\\lib\\site-packages\\keras\\backend\\tensorflow_backend.py:174: The name tf.get_default_session is deprecated. Please use tf.compat.v1.get_default_session instead.\n",
      "\n",
      "WARNING:tensorflow:From C:\\Users\\Cheikh\\Anaconda3\\envs\\tensorflow\\lib\\site-packages\\keras\\backend\\tensorflow_backend.py:181: The name tf.ConfigProto is deprecated. Please use tf.compat.v1.ConfigProto instead.\n",
      "\n",
      "WARNING:tensorflow:From C:\\Users\\Cheikh\\Anaconda3\\envs\\tensorflow\\lib\\site-packages\\keras\\backend\\tensorflow_backend.py:190: The name tf.global_variables is deprecated. Please use tf.compat.v1.global_variables instead.\n",
      "\n",
      "WARNING:tensorflow:From C:\\Users\\Cheikh\\Anaconda3\\envs\\tensorflow\\lib\\site-packages\\keras\\backend\\tensorflow_backend.py:199: The name tf.is_variable_initialized is deprecated. Please use tf.compat.v1.is_variable_initialized instead.\n",
      "\n",
      "WARNING:tensorflow:From C:\\Users\\Cheikh\\Anaconda3\\envs\\tensorflow\\lib\\site-packages\\keras\\backend\\tensorflow_backend.py:206: The name tf.variables_initializer is deprecated. Please use tf.compat.v1.variables_initializer instead.\n",
      "\n",
      "2279/2279 [==============================] - 30s 13ms/step - loss: 0.3956 - acc: 0.9178 - val_loss: 0.1953 - val_acc: 0.9395\n",
      "Epoch 2/10\n",
      "2279/2279 [==============================] - 20s 9ms/step - loss: 0.1706 - acc: 0.9543 - val_loss: 0.1396 - val_acc: 0.9617\n",
      "Epoch 3/10\n",
      "2279/2279 [==============================] - 26s 11ms/step - loss: 0.1371 - acc: 0.9601 - val_loss: 0.1197 - val_acc: 0.9639\n",
      "Epoch 4/10\n",
      "2279/2279 [==============================] - 20s 9ms/step - loss: 0.1269 - acc: 0.9615 - val_loss: 0.1191 - val_acc: 0.9654\n",
      "Epoch 5/10\n",
      "2279/2279 [==============================] - 21s 9ms/step - loss: 0.1192 - acc: 0.9635 - val_loss: 0.1109 - val_acc: 0.9669\n",
      "Epoch 6/10\n",
      "2279/2279 [==============================] - 22s 10ms/step - loss: 0.1113 - acc: 0.9658 - val_loss: 0.1056 - val_acc: 0.9679\n",
      "Epoch 7/10\n",
      "2279/2279 [==============================] - 21s 9ms/step - loss: 0.1004 - acc: 0.9696 - val_loss: 0.0958 - val_acc: 0.9719\n",
      "Epoch 8/10\n",
      "2279/2279 [==============================] - 21s 9ms/step - loss: 0.0905 - acc: 0.9728 - val_loss: 0.0881 - val_acc: 0.9747\n",
      "Epoch 9/10\n",
      "2279/2279 [==============================] - 23s 10ms/step - loss: 0.0809 - acc: 0.9756 - val_loss: 0.0874 - val_acc: 0.9742\n",
      "Epoch 10/10\n",
      "2279/2279 [==============================] - 24s 10ms/step - loss: 0.0722 - acc: 0.9784 - val_loss: 0.0794 - val_acc: 0.9776\n"
     ]
    }
   ],
   "source": [
    "history = model.fit(X_tr, np.array(y_tr), batch_size=32, epochs=10, validation_split=0.1, verbose=1)"
   ]
  },
  {
   "cell_type": "code",
   "execution_count": 19,
   "metadata": {},
   "outputs": [
    {
     "data": {
      "image/png": "[encoded data removed]",
      "text/plain": [
       "<Figure size 864x864 with 1 Axes>"
      ]
     },
     "metadata": {
      "needs_background": "light"
     },
     "output_type": "display_data"
    }
   ],
   "source": [
    "import matplotlib.pyplot as plt\n",
    "hist = pd.DataFrame(history.history)\n",
    "plt.figure(figsize=(12,12))\n",
    "plt.plot(hist[\"acc\"],label=\"accuracy\")\n",
    "plt.plot(hist[\"val_acc\"],label=\"validation_acc\")\n",
    "plt.show()"
   ]
  },
  {
   "cell_type": "code",
   "execution_count": 54,
   "metadata": {},
   "outputs": [
    {
     "name": "stdout",
     "output_type": "stream",
     "text": [
      "Word            (True ): Pred\n",
      "2015           : Date\n",
      "SAP            : Skills\n",
      "FICO           : Skills\n",
      "SAP            : Skills\n",
      "FICO           : Skills\n",
      "2017           : Date\n",
      "2018           : Date\n",
      "https://www.indeed.com/r/Jitendra-Babu/bc3ea69a183395ed?isid=rex-download&ikw=download-top&co=IN: O\n",
      "ENDPAD         : O\n",
      "ENDPAD         : O\n",
      "ENDPAD         : O\n",
      "ENDPAD         : O\n",
      "ENDPAD         : O\n",
      "ENDPAD         : O\n",
      "ENDPAD         : O\n",
      "ENDPAD         : O\n",
      "ENDPAD         : O\n",
      "ENDPAD         : O\n",
      "ENDPAD         : O\n",
      "ENDPAD         : O\n",
      "ENDPAD         : O\n",
      "ENDPAD         : O\n",
      "ENDPAD         : O\n",
      "ENDPAD         : O\n",
      "ENDPAD         : O\n",
      "ENDPAD         : O\n",
      "ENDPAD         : O\n",
      "ENDPAD         : O\n",
      "ENDPAD         : O\n",
      "ENDPAD         : O\n",
      "ENDPAD         : O\n",
      "ENDPAD         : O\n",
      "ENDPAD         : O\n",
      "ENDPAD         : O\n",
      "ENDPAD         : O\n",
      "ENDPAD         : O\n",
      "ENDPAD         : O\n",
      "ENDPAD         : O\n",
      "ENDPAD         : O\n",
      "ENDPAD         : O\n",
      "ENDPAD         : O\n",
      "ENDPAD         : O\n",
      "ENDPAD         : O\n",
      "ENDPAD         : O\n",
      "ENDPAD         : O\n",
      "ENDPAD         : O\n",
      "ENDPAD         : O\n",
      "ENDPAD         : O\n",
      "ENDPAD         : O\n",
      "ENDPAD         : O\n"
     ]
    }
   ],
   "source": [
    "i = 58\n",
    "p = model.predict(np.array([X_te[i]]))\n",
    "p = np.argmax(p, axis=-1)\n",
    "print(\"{:15} ({:5}): {}\".format(\"Word\", \"True\", \"Pred\"))\n",
    "for w, pred in zip(X_te[i], p[0]):\n",
    "    print(\"{:15}: {}\".format(words[w], tags[pred]))"
   ]
  },
  {
   "cell_type": "code",
   "execution_count": 55,
   "metadata": {},
   "outputs": [
    {
     "name": "stdout",
     "output_type": "stream",
     "text": [
      "1086/1086 [==============================] - 1s 1ms/step\n",
      "                     precision    recall  f1-score   support\n",
      "\n",
      "       College Name       0.42      0.55      0.48       269\n",
      "Companies worked at       0.72      0.19      0.31       284\n",
      "               Date       0.91      0.90      0.90       412\n",
      "             Degree       0.54      0.52      0.53       269\n",
      "        Designation       0.44      0.51      0.47       377\n",
      "      Email Address       0.00      0.00      0.00        79\n",
      "    Graduation Year       0.00      0.00      0.00         6\n",
      "           Location       0.00      0.00      0.00       126\n",
      "               Name       0.00      0.00      0.00       130\n",
      "                  O       0.99      1.00      0.99     50657\n",
      "             Skills       0.85      0.92      0.89      1673\n",
      "Years of Experience       0.00      0.00      0.00        18\n",
      "\n",
      "           accuracy                           0.97     54300\n",
      "          macro avg       0.41      0.38      0.38     54300\n",
      "       weighted avg       0.97      0.97      0.97     54300\n",
      "\n"
     ]
    }
   ],
   "source": [
    "pred_cat = model.predict(X_te,verbose=1)\n",
    "pred = np.argmax(pred_cat, axis=-1)\n",
    "y_te_true = np.argmax(y_te, -1)\n",
    "\n",
    "# Vocabulary Key:tag_index -> Value:Label/Tag\n",
    "idx2tag = {i: w for w, i in tag2idx.items()}\n",
    "\n",
    "from sklearn_crfsuite.metrics import flat_classification_report\n",
    "\n",
    "# Convert the index to tag\n",
    "pred_tag = [[idx2tag[i] for i in row] for row in pred]\n",
    "y_te_true_tag = [[idx2tag[i] for i in row] for row in y_te_true] \n",
    "\n",
    "report = flat_classification_report(y_pred=pred_tag, y_true=y_te_true_tag)\n",
    "print(report)\n"
   ]
  }
 ],
 "metadata": {
  "kernelspec": {
   "display_name": "Python 3",
   "language": "python",
   "name": "python3"
  },
  "language_info": {
   "codemirror_mode": {
    "name": "ipython",
    "version": 3
   },
   "file_extension": ".py",
   "mimetype": "text/x-python",
   "name": "python",
   "nbconvert_exporter": "python",
   "pygments_lexer": "ipython3",
   "version": "3.7.5"
  }
 },
 "nbformat": 4,
 "nbformat_minor": 2
}
