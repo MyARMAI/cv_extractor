{
 "cells": [
  {
   "cell_type": "code",
   "execution_count": 33,
   "metadata": {},
   "outputs": [
    {
     "data": {
      "text/html": [
       "<div>\n",
       "<style scoped>\n",
       "    .dataframe tbody tr th:only-of-type {\n",
       "        vertical-align: middle;\n",
       "    }\n",
       "\n",
       "    .dataframe tbody tr th {\n",
       "        vertical-align: top;\n",
       "    }\n",
       "\n",
       "    .dataframe thead th {\n",
       "        text-align: right;\n",
       "    }\n",
       "</style>\n",
       "<table border=\"1\" class=\"dataframe\">\n",
       "  <thead>\n",
       "    <tr style=\"text-align: right;\">\n",
       "      <th></th>\n",
       "      <th>Sentence #</th>\n",
       "      <th>Word</th>\n",
       "      <th>Tag</th>\n",
       "    </tr>\n",
       "  </thead>\n",
       "  <tbody>\n",
       "    <tr>\n",
       "      <th>0</th>\n",
       "      <td>0</td>\n",
       "      <td>Govardhana</td>\n",
       "      <td>Name</td>\n",
       "    </tr>\n",
       "    <tr>\n",
       "      <th>1</th>\n",
       "      <td>0</td>\n",
       "      <td>K</td>\n",
       "      <td>Name</td>\n",
       "    </tr>\n",
       "    <tr>\n",
       "      <th>2</th>\n",
       "      <td>0</td>\n",
       "      <td>Senior</td>\n",
       "      <td>Profil</td>\n",
       "    </tr>\n",
       "    <tr>\n",
       "      <th>3</th>\n",
       "      <td>0</td>\n",
       "      <td>Software</td>\n",
       "      <td>Profil</td>\n",
       "    </tr>\n",
       "    <tr>\n",
       "      <th>4</th>\n",
       "      <td>0</td>\n",
       "      <td>Engineer</td>\n",
       "      <td>Profil</td>\n",
       "    </tr>\n",
       "    <tr>\n",
       "      <th>...</th>\n",
       "      <td>...</td>\n",
       "      <td>...</td>\n",
       "      <td>...</td>\n",
       "    </tr>\n",
       "    <tr>\n",
       "      <th>720759</th>\n",
       "      <td>28831</td>\n",
       "      <td>2013</td>\n",
       "      <td>Date</td>\n",
       "    </tr>\n",
       "    <tr>\n",
       "      <th>720760</th>\n",
       "      <td>28831</td>\n",
       "      <td>2013</td>\n",
       "      <td>Date</td>\n",
       "    </tr>\n",
       "    <tr>\n",
       "      <th>720761</th>\n",
       "      <td>28831</td>\n",
       "      <td>2010</td>\n",
       "      <td>Date</td>\n",
       "    </tr>\n",
       "    <tr>\n",
       "      <th>720762</th>\n",
       "      <td>28831</td>\n",
       "      <td>2015</td>\n",
       "      <td>Date</td>\n",
       "    </tr>\n",
       "    <tr>\n",
       "      <th>720763</th>\n",
       "      <td>28831</td>\n",
       "      <td>2013</td>\n",
       "      <td>Date</td>\n",
       "    </tr>\n",
       "  </tbody>\n",
       "</table>\n",
       "<p>720764 rows × 3 columns</p>\n",
       "</div>"
      ],
      "text/plain": [
       "        Sentence #        Word     Tag\n",
       "0                0  Govardhana    Name\n",
       "1                0           K    Name\n",
       "2                0      Senior  Profil\n",
       "3                0    Software  Profil\n",
       "4                0    Engineer  Profil\n",
       "...            ...         ...     ...\n",
       "720759       28831        2013    Date\n",
       "720760       28831        2013    Date\n",
       "720761       28831        2010    Date\n",
       "720762       28831        2015    Date\n",
       "720763       28831        2013    Date\n",
       "\n",
       "[720764 rows x 3 columns]"
      ]
     },
     "execution_count": 33,
     "metadata": {},
     "output_type": "execute_result"
    }
   ],
   "source": [
    "import pandas as pd\n",
    "import numpy as np\n",
    "import re\n",
    "\n",
    "import matplotlib as mpl\n",
    "import matplotlib.pyplot as plt\n",
    "%matplotlib inline\n",
    "mpl.rcParams['figure.figsize'] = (12, 10)\n",
    "\n",
    "colors = plt.rcParams['axes.prop_cycle'].by_key()['color']\n",
    "\n",
    "from sklearn_crfsuite.metrics import flat_classification_report\n",
    "from sklearn.metrics import f1_score\n",
    "\n",
    "pd.set_option('display.max_rows', 500)\n",
    "pd.set_option('display.max_columns', 500)\n",
    "pd.set_option('display.width', 1000)\n",
    "pd.set_option('display.max_colwidth', None)\n",
    "\n",
    "\n",
    "filepath = u\"./data/resume_sentence_dataset_balanced.csv\"\n",
    "\n",
    "data = pd.read_csv(filepath)\n",
    "data = data.dropna()\n",
    "data"
   ]
  },
  {
   "cell_type": "code",
   "execution_count": 2,
   "metadata": {},
   "outputs": [],
   "source": [
    "#change date tag to Date instead of 0\n",
    "#data.loc[data.index[data.Word.str.contains(\"[0-9]{4}$\")],'Tag'] = \"Date\""
   ]
  },
  {
   "cell_type": "code",
   "execution_count": 117,
   "metadata": {},
   "outputs": [
    {
     "data": {
      "text/plain": [
       "Email Address          65524\n",
       "O                      65524\n",
       "Profil                 65524\n",
       "Date                   65524\n",
       "Companies worked at    65524\n",
       "Location               65524\n",
       "Degree                 65524\n",
       "Duration               65524\n",
       "College Name           65524\n",
       "Skills                 65524\n",
       "Name                   65524\n",
       "Name: Tag, dtype: int64"
      ]
     },
     "execution_count": 117,
     "metadata": {},
     "output_type": "execute_result"
    }
   ],
   "source": [
    "data[\"Tag\"].value_counts()"
   ]
  },
  {
   "cell_type": "code",
   "execution_count": 4,
   "metadata": {
    "scrolled": true
   },
   "outputs": [
    {
     "data": {
      "text/plain": [
       "Email Address          65524\n",
       "O                      65524\n",
       "Profil                 65524\n",
       "Date                   65524\n",
       "Companies worked at    65524\n",
       "Location               65524\n",
       "Degree                 65524\n",
       "Duration               65524\n",
       "College Name           65524\n",
       "Skills                 65524\n",
       "Name                   65524\n",
       "Name: Tag, dtype: int64"
      ]
     },
     "execution_count": 4,
     "metadata": {},
     "output_type": "execute_result"
    }
   ],
   "source": [
    "## remove random O-Tag\n",
    "#import random\n",
    "import math\n",
    "\n",
    "index = data.index[data['Tag'] == \"O\"]\n",
    "O_tagSize = math.ceil((len(index)*0.9))\n",
    "\n",
    "drop_indices = np.random.choice(index, O_tagSize, replace=False)\n",
    "#data = data.drop(drop_indices)\n",
    "\n",
    "data[\"Tag\"].value_counts()"
   ]
  },
  {
   "cell_type": "code",
   "execution_count": 2,
   "metadata": {},
   "outputs": [
    {
     "data": {
      "text/plain": [
       "14730"
      ]
     },
     "execution_count": 2,
     "metadata": {},
     "output_type": "execute_result"
    }
   ],
   "source": [
    "words = list(set(data[\"Word\"].values))\n",
    "words.append(\"ENDPAD\")\n",
    "n_words = len(words); n_words"
   ]
  },
  {
   "cell_type": "code",
   "execution_count": 3,
   "metadata": {},
   "outputs": [
    {
     "data": {
      "text/plain": [
       "11"
      ]
     },
     "execution_count": 3,
     "metadata": {},
     "output_type": "execute_result"
    }
   ],
   "source": [
    "tags = list(set(data[\"Tag\"].values))\n",
    "n_tags = len(tags); n_tags"
   ]
  },
  {
   "cell_type": "code",
   "execution_count": 4,
   "metadata": {},
   "outputs": [],
   "source": [
    "class SentenceGetter(object):\n",
    "    \n",
    "    def __init__(self, data):\n",
    "        self.n_sent = 1\n",
    "        self.data = data\n",
    "        self.empty = False\n",
    "        agg_func = lambda s: [(w,t) for w, t in zip(s[\"Word\"].values.tolist(),s[\"Tag\"].values.tolist())]\n",
    "        self.grouped = self.data.groupby(\"Sentence #\").apply(agg_func)\n",
    "        self.sentences = [s for s in self.grouped]\n",
    "    \n",
    "    def get_next(self):\n",
    "        try:\n",
    "            s = self.grouped[self.n_sent]\n",
    "            print(s)\n",
    "            self.n_sent += 1\n",
    "            return s\n",
    "        except:\n",
    "            return None\n",
    "        \n",
    "getter = SentenceGetter(data)"
   ]
  },
  {
   "cell_type": "code",
   "execution_count": 5,
   "metadata": {},
   "outputs": [],
   "source": [
    "sentences = getter.sentences"
   ]
  },
  {
   "cell_type": "code",
   "execution_count": 6,
   "metadata": {},
   "outputs": [],
   "source": [
    "#pad word to a length of 50 (why ? Keras need to have same length for each input in the neural net)\n",
    "max_len = 50\n",
    "word2idx = {w: i for i, w in enumerate(words)}\n",
    "tag2idx = {t: i for i, t in enumerate(tags)}"
   ]
  },
  {
   "cell_type": "code",
   "execution_count": 7,
   "metadata": {},
   "outputs": [],
   "source": [
    "from tensorflow.keras.preprocessing.sequence import pad_sequences\n",
    "\n",
    "X = [[word2idx[w[0]] for w in s] for s in sentences]\n",
    "y = [[tag2idx[w[1]] for w in s] for s in sentences]\n",
    "\n",
    "\n",
    "X = pad_sequences(maxlen=max_len, sequences=X, padding=\"post\",value=0)\n",
    "y = pad_sequences(maxlen=max_len, sequences=y, padding=\"post\",value=0)"
   ]
  },
  {
   "cell_type": "code",
   "execution_count": 8,
   "metadata": {},
   "outputs": [],
   "source": [
    "from tensorflow import keras\n",
    "# change label to categorical\n",
    "from tensorflow.keras.utils import to_categorical\n",
    "y = [to_categorical(i, num_classes=n_tags) for i in y]\n",
    "\n",
    "#X = X.reshape(X.shape[0],X.shape[1],1)\n",
    "#y = y.reshape(y.shape[0],y.shape[1],1)\n",
    "#X.shape,y.shape"
   ]
  },
  {
   "cell_type": "code",
   "execution_count": 9,
   "metadata": {},
   "outputs": [
    {
     "data": {
      "text/plain": [
       "25947"
      ]
     },
     "execution_count": 9,
     "metadata": {},
     "output_type": "execute_result"
    }
   ],
   "source": [
    "# split dataset into train (input & label) test (input & label)\n",
    "from sklearn.model_selection import train_test_split\n",
    "\n",
    "X_tr, X_te, y_tr, y_te = train_test_split(X, y, test_size=0.1)\n",
    "len(y_tr)"
   ]
  },
  {
   "cell_type": "code",
   "execution_count": 10,
   "metadata": {},
   "outputs": [
    {
     "name": "stdout",
     "output_type": "stream",
     "text": [
      "Model: \"sequential\"\n",
      "_________________________________________________________________\n",
      "Layer (type)                 Output Shape              Param #   \n",
      "=================================================================\n",
      "embedding (Embedding)        (None, 50, 50)            736500    \n",
      "_________________________________________________________________\n",
      "dropout (Dropout)            (None, 50, 50)            0         \n",
      "_________________________________________________________________\n",
      "bidirectional (Bidirectional (None, 50, 128)           58880     \n",
      "_________________________________________________________________\n",
      "time_distributed (TimeDistri (None, 50, 11)            1419      \n",
      "=================================================================\n",
      "Total params: 796,799\n",
      "Trainable params: 796,799\n",
      "Non-trainable params: 0\n",
      "_________________________________________________________________\n"
     ]
    }
   ],
   "source": [
    "from tensorflow.keras.models import Model,Sequential\n",
    "from tensorflow.keras.layers import LSTM, Embedding, Dense, TimeDistributed, Dropout, Bidirectional\n",
    "\n",
    "model = Sequential()\n",
    "model.add(Embedding(input_dim=n_words, output_dim=50, input_shape=(max_len,), input_length=max_len,mask_zero=True))# 50-dim embedding\n",
    "model.add(Dropout(0.5))\n",
    "model.add(Bidirectional(LSTM(units=64, return_sequences=True, recurrent_dropout=0.5)))  # variational biLSTM\n",
    "model.add(TimeDistributed(Dense(n_tags, activation=\"softmax\")))  # softmax output layer\n",
    "model.summary()"
   ]
  },
  {
   "cell_type": "code",
   "execution_count": 11,
   "metadata": {},
   "outputs": [],
   "source": [
    "%load_ext tensorboard\n",
    "import tensorflow as tf\n",
    "import datetime\n",
    "\n",
    "!del /Q logs \n",
    "\n",
    "log_dir = \"logs\\\\fit\\\\\" + datetime.datetime.now().strftime(\"%Y%m%d-%H%M%S\")\n",
    "tensorboard_callback = tf.keras.callbacks.TensorBoard(log_dir=log_dir, histogram_freq=1)\n",
    "\n",
    "model.compile(optimizer=\"rmsprop\", loss=\"categorical_crossentropy\", metrics=[\"accuracy\"])"
   ]
  },
  {
   "cell_type": "code",
   "execution_count": 13,
   "metadata": {
    "scrolled": false
   },
   "outputs": [
    {
     "name": "stdout",
     "output_type": "stream",
     "text": [
      "Train on 18162 samples, validate on 7785 samples\n",
      "Epoch 1/5\n",
      "18162/18162 [==============================] - 39s 2ms/sample - loss: 0.7407 - accuracy: 0.5621 - val_loss: 0.3581 - val_accuracy: 0.7897\n",
      "Epoch 2/5\n",
      "18162/18162 [==============================] - 33s 2ms/sample - loss: 0.2968 - accuracy: 0.8205 - val_loss: 0.1550 - val_accuracy: 0.9471\n",
      "Epoch 3/5\n",
      "18162/18162 [==============================] - 39s 2ms/sample - loss: 0.1361 - accuracy: 0.9290 - val_loss: 0.0709 - val_accuracy: 0.9699\n",
      "Epoch 4/5\n",
      "18162/18162 [==============================] - 38s 2ms/sample - loss: 0.0649 - accuracy: 0.9694 - val_loss: 0.0392 - val_accuracy: 0.9817\n",
      "Epoch 5/5\n",
      "18162/18162 [==============================] - 31s 2ms/sample - loss: 0.0352 - accuracy: 0.9837 - val_loss: 0.0295 - val_accuracy: 0.9844\n"
     ]
    }
   ],
   "source": [
    "\n",
    "history = model.fit(X_tr, np.array(y_tr), batch_size=256, epochs=5, validation_split=0.3, callbacks=[tensorboard_callback], verbose=1,shuffle=True)"
   ]
  },
  {
   "cell_type": "code",
   "execution_count": 70,
   "metadata": {},
   "outputs": [
    {
     "data": {
      "image/png": "[encoded data removed]",
      "text/plain": [
       "<Figure size 576x576 with 1 Axes>"
      ]
     },
     "metadata": {
      "needs_background": "light"
     },
     "output_type": "display_data"
    }
   ],
   "source": [
    "import matplotlib.pyplot as plt\n",
    "hist = pd.DataFrame(history.history)\n",
    "plt.figure(figsize = (8, 8))\n",
    "plt.plot(hist[\"accuracy\"],label=\"accuracy\")\n",
    "plt.plot(hist[\"val_accuracy\"],label=\"validation_acc\")\n",
    "plt.show()"
   ]
  },
  {
   "cell_type": "code",
   "execution_count": 14,
   "metadata": {},
   "outputs": [
    {
     "name": "stdout",
     "output_type": "stream",
     "text": [
      "2884/2884 [==============================] - 2s 792us/sample\n",
      "F1-score: 28.2%\n",
      "                     precision    recall  f1-score   support\n",
      "\n",
      "      Email Address       0.08      0.98      0.16      6825\n",
      "             Skills       0.94      0.98      0.96      6595\n",
      "             Profil       0.00      0.00      0.00      2926\n",
      "               Name       0.93      0.92      0.92       276\n",
      "             Degree       0.93      0.90      0.92       283\n",
      "Companies worked at       0.96      0.86      0.91       283\n",
      "               Date       0.99      0.93      0.96       285\n",
      "           Location       1.00      0.91      0.95       302\n",
      "           Duration       0.97      0.98      0.98       260\n",
      "       College Name       0.97      0.89      0.93       295\n",
      "\n",
      "          micro avg       0.17      0.82      0.28     18330\n",
      "          macro avg       0.48      0.82      0.51     18330\n",
      "\n"
     ]
    }
   ],
   "source": [
    "from sklearn_crfsuite import scorers\n",
    "from sklearn_crfsuite import metrics\n",
    "from seqeval.metrics import precision_score, recall_score, f1_score, classification_report\n",
    "\n",
    "idx2tag = {i: w for w, i in tag2idx.items()}\n",
    "\n",
    "def pred2label(pred):\n",
    "    out = []\n",
    "    for pred_i in pred:\n",
    "        out_i = []\n",
    "        for p in pred_i:\n",
    "            p_i = np.argmax(p)\n",
    "            out_i.append(idx2tag[p_i].replace(\"PAD\", \"O\"))\n",
    "        out.append(out_i)\n",
    "    return out\n",
    "\n",
    "\n",
    "y_pred = model.predict(X_te,verbose=1)\n",
    "\n",
    "pred_labels = pred2label(y_pred)\n",
    "test_labels = pred2label(y_te)\n",
    "\n",
    "print(\"F1-score: {:.1%}\".format(f1_score(test_labels, pred_labels)))\n",
    " \n",
    "print(classification_report(test_labels, pred_labels))"
   ]
  },
  {
   "cell_type": "code",
   "execution_count": 32,
   "metadata": {},
   "outputs": [
    {
     "name": "stdout",
     "output_type": "stream",
     "text": [
      "Word            (True ): Pred\n",
      "2.Targeting    : Profil\n",
      "Technical      : Profil\n",
      "Software       : Profil\n",
      "Manager        : Profil\n",
      "Sec.           : Profil\n",
      "Project        : Profil\n",
      "in             : Profil\n",
      "scoping        : Profil\n",
      "Test           : Profil\n",
      "Software       : Profil\n",
      "complaints.    : Profil\n",
      "SAP            : Profil\n",
      "Engineer       : Profil\n",
      "Delivery       : Profil\n",
      "sessions.      : Profil\n",
      "Consultant     : Profil\n",
      "Operator       : Profil\n",
      "mission        : Profil\n",
      "competencies.  : Profil\n",
      "Consultant     : Profil\n",
      "Technical      : Profil\n",
      "Protected      : Profil\n",
      "Engineer       : Profil\n",
      "Test           : Profil\n",
      "Connection     : Profil\n",
      "out.           : O\n",
      "out.           : O\n",
      "out.           : O\n",
      "out.           : O\n",
      "out.           : O\n",
      "out.           : O\n",
      "out.           : O\n",
      "out.           : O\n",
      "out.           : O\n",
      "out.           : O\n",
      "out.           : O\n",
      "out.           : O\n",
      "out.           : O\n",
      "out.           : O\n",
      "out.           : O\n",
      "out.           : O\n",
      "out.           : O\n",
      "out.           : O\n",
      "out.           : O\n",
      "out.           : O\n",
      "out.           : O\n",
      "out.           : O\n",
      "out.           : O\n",
      "out.           : O\n",
      "out.           : O\n"
     ]
    }
   ],
   "source": [
    "i = 654\n",
    "p = model.predict(np.array([X_te[i]]))\n",
    "p = np.argmax(p, axis=-1)\n",
    "print(\"{:15} ({:5}): {}\".format(\"Word\", \"True\", \"Pred\"))\n",
    "for w, pred in zip(X_te[i], p[0]):\n",
    "    print(\"{:15}: {}\".format(words[w], tags[pred]))"
   ]
  },
  {
   "cell_type": "code",
   "execution_count": 17,
   "metadata": {},
   "outputs": [
    {
     "name": "stdout",
     "output_type": "stream",
     "text": [
      "[1.00204681 0.99528193 1.00247267 1.00204681 1.00417973 0.99907589\n",
      " 1.00162131 0.99612254 0.99235094 0.99907589 1.00589261]\n"
     ]
    }
   ],
   "source": [
    "from sklearn.utils import class_weight\n",
    "y_ints = [y.argmax() for y in y_tr]\n",
    "value = class_weight.compute_class_weight('balanced',\n",
    "                                                 np.unique(y_ints),\n",
    "                                                 y_ints)\n",
    "print(value)\n",
    "model.compile(optimizer=\"rmsprop\", loss=\"categorical_crossentropy\", metrics=[\"accuracy\"])"
   ]
  },
  {
   "cell_type": "code",
   "execution_count": 18,
   "metadata": {},
   "outputs": [
    {
     "name": "stdout",
     "output_type": "stream",
     "text": [
      "Train on 23352 samples, validate on 2595 samples\n",
      "Epoch 1/10\n",
      "23352/23352 [==============================] - 47s 2ms/sample - loss: 0.0258 - accuracy: 0.9870 - val_loss: 0.0267 - val_accuracy: 0.9861\n",
      "Epoch 2/10\n",
      "23352/23352 [==============================] - 38s 2ms/sample - loss: 0.0192 - accuracy: 0.9900 - val_loss: 0.0251 - val_accuracy: 0.9867\n",
      "Epoch 3/10\n",
      "23352/23352 [==============================] - 37s 2ms/sample - loss: 0.0165 - accuracy: 0.9912 - val_loss: 0.0232 - val_accuracy: 0.9877\n",
      "Epoch 4/10\n",
      "23352/23352 [==============================] - 38s 2ms/sample - loss: 0.0146 - accuracy: 0.9918 - val_loss: 0.0222 - val_accuracy: 0.9877\n",
      "Epoch 5/10\n",
      "23352/23352 [==============================] - 38s 2ms/sample - loss: 0.0129 - accuracy: 0.9924 - val_loss: 0.0218 - val_accuracy: 0.9880\n",
      "Epoch 6/10\n",
      "23352/23352 [==============================] - 38s 2ms/sample - loss: 0.0118 - accuracy: 0.9931 - val_loss: 0.0216 - val_accuracy: 0.9883\n",
      "Epoch 7/10\n",
      "23352/23352 [==============================] - 38s 2ms/sample - loss: 0.0108 - accuracy: 0.9936 - val_loss: 0.0227 - val_accuracy: 0.9876\n",
      "Epoch 8/10\n",
      "23352/23352 [==============================] - 38s 2ms/sample - loss: 0.0102 - accuracy: 0.9939 - val_loss: 0.0207 - val_accuracy: 0.9885\n",
      "Epoch 9/10\n",
      "23352/23352 [==============================] - 43s 2ms/sample - loss: 0.0095 - accuracy: 0.9941 - val_loss: 0.0220 - val_accuracy: 0.9881\n",
      "Epoch 10/10\n",
      "23352/23352 [==============================] - 46s 2ms/sample - loss: 0.0088 - accuracy: 0.9944 - val_loss: 0.0216 - val_accuracy: 0.9882\n"
     ]
    }
   ],
   "source": [
    "history = model.fit(X_tr, np.array(y_tr), batch_size=256, epochs=10, shuffle=True,validation_split=0.1, verbose=1,class_weight=value)"
   ]
  },
  {
   "cell_type": "code",
   "execution_count": 19,
   "metadata": {},
   "outputs": [
    {
     "name": "stdout",
     "output_type": "stream",
     "text": [
      "2884/2884 [==============================] - 2s 786us/sample\n",
      "F1-score: 88.4%\n",
      "                     precision    recall  f1-score   support\n",
      "\n",
      "      Email Address       1.00      0.98      0.99      6825\n",
      "             Skills       0.96      0.99      0.97      6595\n",
      "             Profil       0.04      0.00      0.01      2926\n",
      "               Name       0.88      0.94      0.91       276\n",
      "             Degree       0.90      0.93      0.91       283\n",
      "Companies worked at       0.89      0.90      0.90       283\n",
      "               Date       0.97      0.93      0.95       285\n",
      "           Location       0.99      0.98      0.98       302\n",
      "           Duration       0.98      0.98      0.98       260\n",
      "       College Name       0.92      0.91      0.91       295\n",
      "\n",
      "          micro avg       0.95      0.82      0.88     18330\n",
      "          macro avg       0.82      0.82      0.82     18330\n",
      "\n"
     ]
    }
   ],
   "source": [
    "from sklearn_crfsuite import scorers\n",
    "from sklearn_crfsuite import metrics\n",
    "from seqeval.metrics import precision_score, recall_score, f1_score, classification_report\n",
    "\n",
    "idx2tag = {i: w for w, i in tag2idx.items()}\n",
    "\n",
    "def pred2label(pred):\n",
    "    out = []\n",
    "    for pred_i in pred:\n",
    "        out_i = []\n",
    "        for p in pred_i:\n",
    "            p_i = np.argmax(p)\n",
    "            out_i.append(idx2tag[p_i].replace(\"PAD\", \"O\"))\n",
    "        out.append(out_i)\n",
    "    return out\n",
    "\n",
    "\n",
    "y_pred = model.predict(X_te,verbose=1)\n",
    "\n",
    "pred_labels = pred2label(y_pred)\n",
    "test_labels = pred2label(y_te)\n",
    "\n",
    "print(\"F1-score: {:.1%}\".format(f1_score(test_labels, pred_labels)))\n",
    " \n",
    "print(classification_report(test_labels, pred_labels))"
   ]
  },
  {
   "cell_type": "code",
   "execution_count": 20,
   "metadata": {},
   "outputs": [
    {
     "name": "stdout",
     "output_type": "stream",
     "text": [
      "Word           ||Prediction\n",
      "==============================\n",
      "Developer      : Profil\n",
      "in             : O    \n",
      "HTML5          : O    \n",
      ",              : O    \n",
      "JavaScript     : O    \n",
      "and            : O    \n",
      "CSS3           : O    \n",
      "(Examen 70-480): O    \n",
      "Oracle         : Companies worked at\n",
      ".              : O    \n",
      "Developer      : Profil\n",
      "Java           : O    \n",
      "Programmer     : O    \n",
      "2012           : O    \n",
      "to             : O    \n",
      "2013           : Date \n"
     ]
    }
   ],
   "source": [
    "test_sentence = [\"Developer\" ,\"in\", \"HTML5\", \",\", \"JavaScript\", \"and\", \"CSS3\", \"(Examen 70-480)\"\n",
    "                ,\"Oracle\", \".\",\"Developer\" ,\"Java\", \"Programmer\",\"2012\",\"to\",\"2013\"]\n",
    "\n",
    "x_test_sent = pad_sequences(sequences=[[word2idx.get(w, 0) for w in test_sentence]],\n",
    "                            padding=\"post\", value=0, maxlen=max_len)\n",
    "p = model.predict(np.array([x_test_sent[0]]))\n",
    "\n",
    "p = np.argmax(p, axis=-1)\n",
    "print(\"{:15}||{}\".format(\"Word\", \"Prediction\"))\n",
    "print(30 * \"=\")\n",
    "for w, pred in zip(test_sentence, p[0]):\n",
    "    print(\"{:15}: {:5}\".format(w, tags[pred]))\n",
    "\n"
   ]
  },
  {
   "cell_type": "code",
   "execution_count": 22,
   "metadata": {},
   "outputs": [],
   "source": [
    "##F1 - Score : 88.4%\n",
    "model.save(\"saved_model/lstm_ner_model.h5\") "
   ]
  }
 ],
 "metadata": {
  "kernelspec": {
   "display_name": "Python 3",
   "language": "python",
   "name": "python3"
  },
  "language_info": {
   "codemirror_mode": {
    "name": "ipython",
    "version": 3
   },
   "file_extension": ".py",
   "mimetype": "text/x-python",
   "name": "python",
   "nbconvert_exporter": "python",
   "pygments_lexer": "ipython3",
   "version": "3.7.7"
  }
 },
 "nbformat": 4,
 "nbformat_minor": 2
}
