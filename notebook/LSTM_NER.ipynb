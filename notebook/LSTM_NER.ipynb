{
 "cells": [
  {
   "cell_type": "code",
   "execution_count": 11,
   "metadata": {},
   "outputs": [
    {
     "data": {
      "text/html": [
       "<div>\n",
       "<style scoped>\n",
       "    .dataframe tbody tr th:only-of-type {\n",
       "        vertical-align: middle;\n",
       "    }\n",
       "\n",
       "    .dataframe tbody tr th {\n",
       "        vertical-align: top;\n",
       "    }\n",
       "\n",
       "    .dataframe thead th {\n",
       "        text-align: right;\n",
       "    }\n",
       "</style>\n",
       "<table border=\"1\" class=\"dataframe\">\n",
       "  <thead>\n",
       "    <tr style=\"text-align: right;\">\n",
       "      <th></th>\n",
       "      <th>Sentence #</th>\n",
       "      <th>Word</th>\n",
       "      <th>Tag</th>\n",
       "    </tr>\n",
       "  </thead>\n",
       "  <tbody>\n",
       "    <tr>\n",
       "      <th>0</th>\n",
       "      <td>0</td>\n",
       "      <td>Govardhana</td>\n",
       "      <td>Name</td>\n",
       "    </tr>\n",
       "    <tr>\n",
       "      <th>1</th>\n",
       "      <td>0</td>\n",
       "      <td>K</td>\n",
       "      <td>Name</td>\n",
       "    </tr>\n",
       "    <tr>\n",
       "      <th>2</th>\n",
       "      <td>0</td>\n",
       "      <td>Senior</td>\n",
       "      <td>Profil</td>\n",
       "    </tr>\n",
       "    <tr>\n",
       "      <th>3</th>\n",
       "      <td>0</td>\n",
       "      <td>Software</td>\n",
       "      <td>Profil</td>\n",
       "    </tr>\n",
       "    <tr>\n",
       "      <th>4</th>\n",
       "      <td>0</td>\n",
       "      <td>Engineer</td>\n",
       "      <td>Profil</td>\n",
       "    </tr>\n",
       "    <tr>\n",
       "      <th>...</th>\n",
       "      <td>...</td>\n",
       "      <td>...</td>\n",
       "      <td>...</td>\n",
       "    </tr>\n",
       "    <tr>\n",
       "      <th>720759</th>\n",
       "      <td>28831</td>\n",
       "      <td>2013</td>\n",
       "      <td>Date</td>\n",
       "    </tr>\n",
       "    <tr>\n",
       "      <th>720760</th>\n",
       "      <td>28831</td>\n",
       "      <td>2013</td>\n",
       "      <td>Date</td>\n",
       "    </tr>\n",
       "    <tr>\n",
       "      <th>720761</th>\n",
       "      <td>28831</td>\n",
       "      <td>2010</td>\n",
       "      <td>Date</td>\n",
       "    </tr>\n",
       "    <tr>\n",
       "      <th>720762</th>\n",
       "      <td>28831</td>\n",
       "      <td>2015</td>\n",
       "      <td>Date</td>\n",
       "    </tr>\n",
       "    <tr>\n",
       "      <th>720763</th>\n",
       "      <td>28831</td>\n",
       "      <td>2013</td>\n",
       "      <td>Date</td>\n",
       "    </tr>\n",
       "  </tbody>\n",
       "</table>\n",
       "<p>720764 rows × 3 columns</p>\n",
       "</div>"
      ],
      "text/plain": [
       "        Sentence #        Word     Tag\n",
       "0                0  Govardhana    Name\n",
       "1                0           K    Name\n",
       "2                0      Senior  Profil\n",
       "3                0    Software  Profil\n",
       "4                0    Engineer  Profil\n",
       "...            ...         ...     ...\n",
       "720759       28831        2013    Date\n",
       "720760       28831        2013    Date\n",
       "720761       28831        2010    Date\n",
       "720762       28831        2015    Date\n",
       "720763       28831        2013    Date\n",
       "\n",
       "[720764 rows x 3 columns]"
      ]
     },
     "execution_count": 11,
     "metadata": {},
     "output_type": "execute_result"
    }
   ],
   "source": [
    "import pandas as pd\n",
    "import numpy as np\n",
    "import re\n",
    "import math\n",
    "import matplotlib as mpl\n",
    "import matplotlib.pyplot as plt\n",
    "%matplotlib inline\n",
    "mpl.rcParams['figure.figsize'] = (12, 10)\n",
    "\n",
    "colors = plt.rcParams['axes.prop_cycle'].by_key()['color']\n",
    "\n",
    "from sklearn_crfsuite.metrics import flat_classification_report\n",
    "from sklearn.metrics import f1_score\n",
    "\n",
    "pd.set_option('display.max_rows', 500)\n",
    "pd.set_option('display.max_columns', 500)\n",
    "pd.set_option('display.width', 1000)\n",
    "pd.set_option('display.max_colwidth', None)\n",
    "\n",
    "\n",
    "filepath = u\"../data/resume_sentence_dataset_balanced.csv\"\n",
    "\n",
    "data = pd.read_csv(filepath)\n",
    "data = data.dropna()\n",
    "data = data[[\"Sentence #\",\"Word\",\"Tag\"]]\n",
    "data\n"
   ]
  },
  {
   "cell_type": "code",
   "execution_count": 2,
   "metadata": {},
   "outputs": [],
   "source": [
    "#change date tag to Date instead of 0\n",
    "#data.loc[data.index[data.Word.str.contains(\"[0-9]{4}$\")],'Tag'] = \"Date\""
   ]
  },
  {
   "cell_type": "code",
   "execution_count": 12,
   "metadata": {},
   "outputs": [
    {
     "data": {
      "text/plain": [
       "Email Address          65524\n",
       "Duration               65524\n",
       "College Name           65524\n",
       "Name                   65524\n",
       "Location               65524\n",
       "Profil                 65524\n",
       "Companies worked at    65524\n",
       "O                      65524\n",
       "Date                   65524\n",
       "Skills                 65524\n",
       "Degree                 65524\n",
       "Name: Tag, dtype: int64"
      ]
     },
     "execution_count": 12,
     "metadata": {},
     "output_type": "execute_result"
    }
   ],
   "source": [
    "data[\"Tag\"].value_counts()"
   ]
  },
  {
   "cell_type": "code",
   "execution_count": 4,
   "metadata": {
    "scrolled": true
   },
   "outputs": [
    {
     "data": {
      "text/plain": [
       "Email Address          65524\n",
       "Duration               65524\n",
       "College Name           65524\n",
       "Name                   65524\n",
       "Location               65524\n",
       "Profil                 65524\n",
       "Companies worked at    65524\n",
       "Date                   65524\n",
       "Skills                 65524\n",
       "Degree                 65524\n",
       "O                      19657\n",
       "Name: Tag, dtype: int64"
      ]
     },
     "execution_count": 4,
     "metadata": {},
     "output_type": "execute_result"
    }
   ],
   "source": [
    "## remove random O-Tag\n",
    "#import random\n",
    "import math\n",
    "\n",
    "index = data.index[data['Tag'] == \"O\"]\n",
    "O_tagSize = math.ceil((len(index)*0.7))\n",
    "\n",
    "drop_indices = np.random.choice(index, O_tagSize, replace=False)\n",
    "data = data.drop(drop_indices)\n",
    "\n",
    "data[\"Tag\"].value_counts()"
   ]
  },
  {
   "cell_type": "code",
   "execution_count": 13,
   "metadata": {},
   "outputs": [
    {
     "data": {
      "text/plain": [
       "14730"
      ]
     },
     "execution_count": 13,
     "metadata": {},
     "output_type": "execute_result"
    }
   ],
   "source": [
    "words = list(set(data[\"Word\"].values))\n",
    "words.append(\"ENDPAD\")\n",
    "n_words = len(words); n_words"
   ]
  },
  {
   "cell_type": "code",
   "execution_count": 14,
   "metadata": {},
   "outputs": [
    {
     "name": "stdout",
     "output_type": "stream",
     "text": [
      "['Degree', 'Date', 'College Name', 'Profil', 'Companies worked at', 'Skills', 'Location', 'Name', 'Duration', 'O', 'Email Address']\n"
     ]
    }
   ],
   "source": [
    "tags = list(set(data[\"Tag\"].values))\n",
    "n_tags = len(tags); n_tags\n",
    "print(tags)"
   ]
  },
  {
   "cell_type": "code",
   "execution_count": 15,
   "metadata": {},
   "outputs": [],
   "source": [
    "class SentenceGetter(object):\n",
    "    \n",
    "    def __init__(self, data):\n",
    "        self.n_sent = 1\n",
    "        self.data = data\n",
    "        self.empty = False\n",
    "        agg_func = lambda s: [(w,t) for w, t in zip(s[\"Word\"].values.tolist(),s[\"Tag\"].values.tolist())]\n",
    "        self.grouped = self.data.groupby(\"Sentence #\").apply(agg_func)\n",
    "        self.sentences = [s for s in self.grouped]\n",
    "    \n",
    "    def get_next(self):\n",
    "        try:\n",
    "            s = self.grouped[self.n_sent]\n",
    "            print(s)\n",
    "            self.n_sent += 1\n",
    "            return s\n",
    "        except:\n",
    "            return None\n",
    "        \n",
    "getter = SentenceGetter(data)"
   ]
  },
  {
   "cell_type": "code",
   "execution_count": null,
   "metadata": {},
   "outputs": [],
   "source": []
  },
  {
   "cell_type": "code",
   "execution_count": 17,
   "metadata": {},
   "outputs": [
    {
     "data": {
      "text/plain": [
       "50"
      ]
     },
     "execution_count": 17,
     "metadata": {},
     "output_type": "execute_result"
    }
   ],
   "source": [
    "sentences = getter.sentences\n",
    "max_len = 50\n",
    "word2idx = {w: i for i, w in enumerate(words)}\n",
    "tag2idx = {t: i for i, t in enumerate(tags)}\n",
    "max_len"
   ]
  },
  {
   "cell_type": "code",
   "execution_count": 18,
   "metadata": {},
   "outputs": [],
   "source": [
    "from tensorflow.keras.preprocessing.sequence import pad_sequences\n",
    "sentences= getter.sentences\n",
    "X = [[word2idx[w[0]] for w in s] for s in sentences]\n",
    "y = [[tag2idx[w[1]] for w in s] for s in sentences]\n",
    "\n",
    "\n",
    "X = pad_sequences(maxlen=max_len, sequences=X, padding=\"post\",value=n_words - 1)\n",
    "y = pad_sequences(maxlen=max_len, sequences=y, padding=\"post\",value=tag2idx[\"O\"])"
   ]
  },
  {
   "cell_type": "code",
   "execution_count": 19,
   "metadata": {},
   "outputs": [],
   "source": [
    "# change label to categorical\n",
    "from tensorflow.keras.utils import to_categorical\n",
    "y = [to_categorical(i, num_classes=n_tags) for i in y]\n",
    "\n",
    "#X = X.reshape(X.shape[0],X.shape[1],1)\n",
    "#y = y.reshape(y.shape[0],y.shape[1],1)\n",
    "#X.shape,y.shape"
   ]
  },
  {
   "cell_type": "code",
   "execution_count": 20,
   "metadata": {},
   "outputs": [
    {
     "name": "stdout",
     "output_type": "stream",
     "text": [
      " X_tr,X_te  length - 25947 2884 \n"
     ]
    }
   ],
   "source": [
    "# split dataset into train (input & label) test (input & label)\n",
    "from sklearn.model_selection import train_test_split\n",
    "\n",
    "X_tr, X_te, y_tr, y_te = train_test_split(X, y, test_size=0.1)\n",
    "print(\" X_tr,X_te  length - {} {} \".format(len(X_tr),len(X_te)))"
   ]
  },
  {
   "cell_type": "code",
   "execution_count": 22,
   "metadata": {},
   "outputs": [
    {
     "data": {
      "text/plain": [
       "list"
      ]
     },
     "execution_count": 22,
     "metadata": {},
     "output_type": "execute_result"
    }
   ],
   "source": [
    "## try word embedding format word2vec\n",
    "import multiprocessing\n",
    "import gensim\n",
    "\n",
    "from gensim.models import Word2Vec\n",
    "import logging\n",
    "from time import time\n",
    "\n",
    "import logging\n",
    "logging.basicConfig(format='%(asctime)s : %(levelname)s : %(message)s', level=logging.INFO)\n",
    "\n",
    "sentences = [[w[0] for w in sent] for sent in sentences]\n",
    "type(sentences)"
   ]
  },
  {
   "cell_type": "code",
   "execution_count": 23,
   "metadata": {},
   "outputs": [
    {
     "name": "stderr",
     "output_type": "stream",
     "text": [
      "2020-06-02 17:36:09,127 : INFO : collecting all words and their counts\n",
      "2020-06-02 17:36:09,129 : INFO : PROGRESS: at sentence #0, processed 0 words, keeping 0 word types\n",
      "2020-06-02 17:36:09,237 : INFO : PROGRESS: at sentence #10000, processed 250000 words, keeping 14729 word types\n",
      "2020-06-02 17:36:09,309 : INFO : PROGRESS: at sentence #20000, processed 500000 words, keeping 14729 word types\n",
      "2020-06-02 17:36:09,386 : INFO : collected 14729 word types from a corpus of 720764 raw words and 28831 sentences\n",
      "2020-06-02 17:36:09,388 : INFO : Loading a fresh vocabulary\n",
      "2020-06-02 17:36:09,614 : INFO : effective_min_count=5 retains 14617 unique words (99% of original 14729, drops 112)\n",
      "2020-06-02 17:36:09,615 : INFO : effective_min_count=5 leaves 720402 word corpus (99% of original 720764, drops 362)\n",
      "2020-06-02 17:36:09,765 : INFO : deleting the raw counts dictionary of 14729 items\n",
      "2020-06-02 17:36:09,768 : INFO : sample=6e-05 downsamples 453 most-common words\n",
      "2020-06-02 17:36:09,770 : INFO : downsampling leaves estimated 427599 word corpus (59.4% of prior 720402)\n",
      "2020-06-02 17:36:09,908 : INFO : estimated required memory for 14617 words and 300 dimensions: 42389300 bytes\n",
      "2020-06-02 17:36:09,911 : INFO : resetting layer weights\n"
     ]
    },
    {
     "name": "stdout",
     "output_type": "stream",
     "text": [
      "Time to build vocab: 0.12 mins\n"
     ]
    },
    {
     "data": {
      "text/plain": [
       "28831"
      ]
     },
     "execution_count": 23,
     "metadata": {},
     "output_type": "execute_result"
    }
   ],
   "source": [
    "cores = multiprocessing.cpu_count()\n",
    "cores\n",
    "\n",
    "w2v_model = Word2Vec(min_count=5,\n",
    "                     window=4,\n",
    "                     size=300,\n",
    "                     sample=6e-5, \n",
    "                     alpha=0.03, \n",
    "                     min_alpha=0.0007, \n",
    "                     negative=20,\n",
    "                     workers=cores-1)\n",
    "\n",
    "t = time()\n",
    "\n",
    "w2v_model.build_vocab(sentences, progress_per=10000)\n",
    "\n",
    "print('Time to build vocab: {} mins'.format(round((time() - t) / 60, 2)))\n",
    "w2v_model.corpus_count"
   ]
  },
  {
   "cell_type": "code",
   "execution_count": 24,
   "metadata": {},
   "outputs": [
    {
     "name": "stderr",
     "output_type": "stream",
     "text": [
      "2020-06-02 17:36:16,609 : INFO : training model with 3 workers on 14617 vocabulary and 300 features, using sg=0 hs=0 sample=6e-05 negative=20 window=4\n",
      "2020-06-02 17:36:17,833 : INFO : EPOCH 1 - PROGRESS: at 26.36% examples, 103362 words/s, in_qsize 5, out_qsize 0\n",
      "2020-06-02 17:36:19,026 : INFO : EPOCH 1 - PROGRESS: at 47.17% examples, 85945 words/s, in_qsize 6, out_qsize 0\n",
      "2020-06-02 17:36:20,166 : INFO : EPOCH 1 - PROGRESS: at 77.69% examples, 98701 words/s, in_qsize 6, out_qsize 0\n",
      "2020-06-02 17:36:20,723 : INFO : worker thread finished; awaiting finish of 2 more threads\n",
      "2020-06-02 17:36:20,743 : INFO : worker thread finished; awaiting finish of 1 more threads\n",
      "2020-06-02 17:36:20,770 : INFO : worker thread finished; awaiting finish of 0 more threads\n",
      "2020-06-02 17:36:20,773 : INFO : EPOCH - 1 : training on 720764 raw words (427555 effective words) took 4.1s, 104140 effective words/s\n",
      "2020-06-02 17:36:21,905 : INFO : EPOCH 2 - PROGRESS: at 34.68% examples, 138439 words/s, in_qsize 4, out_qsize 1\n",
      "2020-06-02 17:36:22,906 : INFO : EPOCH 2 - PROGRESS: at 62.43% examples, 135020 words/s, in_qsize 5, out_qsize 0\n",
      "2020-06-02 17:36:23,907 : INFO : EPOCH 2 - PROGRESS: at 92.96% examples, 135770 words/s, in_qsize 5, out_qsize 0\n",
      "2020-06-02 17:36:23,969 : INFO : worker thread finished; awaiting finish of 2 more threads\n",
      "2020-06-02 17:36:23,995 : INFO : worker thread finished; awaiting finish of 1 more threads\n",
      "2020-06-02 17:36:23,998 : INFO : worker thread finished; awaiting finish of 0 more threads\n",
      "2020-06-02 17:36:24,000 : INFO : EPOCH - 2 : training on 720764 raw words (427389 effective words) took 3.1s, 135710 effective words/s\n",
      "2020-06-02 17:36:25,065 : INFO : EPOCH 3 - PROGRESS: at 30.52% examples, 126968 words/s, in_qsize 4, out_qsize 1\n",
      "2020-06-02 17:36:26,074 : INFO : EPOCH 3 - PROGRESS: at 59.66% examples, 130903 words/s, in_qsize 6, out_qsize 2\n",
      "2020-06-02 17:36:27,099 : INFO : EPOCH 3 - PROGRESS: at 92.96% examples, 134469 words/s, in_qsize 5, out_qsize 0\n",
      "2020-06-02 17:36:27,161 : INFO : worker thread finished; awaiting finish of 2 more threads\n",
      "2020-06-02 17:36:27,170 : INFO : worker thread finished; awaiting finish of 1 more threads\n",
      "2020-06-02 17:36:27,177 : INFO : worker thread finished; awaiting finish of 0 more threads\n",
      "2020-06-02 17:36:27,179 : INFO : EPOCH - 3 : training on 720764 raw words (427197 effective words) took 3.2s, 135005 effective words/s\n",
      "2020-06-02 17:36:28,221 : INFO : EPOCH 4 - PROGRESS: at 26.36% examples, 118062 words/s, in_qsize 6, out_qsize 0\n",
      "2020-06-02 17:36:29,233 : INFO : EPOCH 4 - PROGRESS: at 52.72% examples, 118796 words/s, in_qsize 6, out_qsize 0\n",
      "2020-06-02 17:36:30,315 : INFO : EPOCH 4 - PROGRESS: at 79.08% examples, 113867 words/s, in_qsize 6, out_qsize 1\n",
      "2020-06-02 17:36:30,735 : INFO : worker thread finished; awaiting finish of 2 more threads\n",
      "2020-06-02 17:36:30,739 : INFO : worker thread finished; awaiting finish of 1 more threads\n",
      "2020-06-02 17:36:30,770 : INFO : worker thread finished; awaiting finish of 0 more threads\n",
      "2020-06-02 17:36:30,774 : INFO : EPOCH - 4 : training on 720764 raw words (427286 effective words) took 3.6s, 119598 effective words/s\n",
      "2020-06-02 17:36:31,823 : INFO : EPOCH 5 - PROGRESS: at 26.36% examples, 118895 words/s, in_qsize 6, out_qsize 0\n",
      "2020-06-02 17:36:32,904 : INFO : EPOCH 5 - PROGRESS: at 52.72% examples, 115309 words/s, in_qsize 6, out_qsize 0\n",
      "2020-06-02 17:36:33,967 : INFO : EPOCH 5 - PROGRESS: at 86.02% examples, 123870 words/s, in_qsize 6, out_qsize 0\n",
      "2020-06-02 17:36:34,197 : INFO : worker thread finished; awaiting finish of 2 more threads\n",
      "2020-06-02 17:36:34,199 : INFO : worker thread finished; awaiting finish of 1 more threads\n",
      "2020-06-02 17:36:34,219 : INFO : worker thread finished; awaiting finish of 0 more threads\n",
      "2020-06-02 17:36:34,221 : INFO : EPOCH - 5 : training on 720764 raw words (427440 effective words) took 3.4s, 125375 effective words/s\n",
      "2020-06-02 17:36:35,277 : INFO : EPOCH 6 - PROGRESS: at 24.97% examples, 111455 words/s, in_qsize 6, out_qsize 0\n",
      "2020-06-02 17:36:36,317 : INFO : EPOCH 6 - PROGRESS: at 55.50% examples, 124201 words/s, in_qsize 5, out_qsize 0\n",
      "2020-06-02 17:36:37,345 : INFO : EPOCH 6 - PROGRESS: at 86.02% examples, 125838 words/s, in_qsize 5, out_qsize 0\n",
      "2020-06-02 17:36:37,535 : INFO : worker thread finished; awaiting finish of 2 more threads\n",
      "2020-06-02 17:36:37,538 : INFO : worker thread finished; awaiting finish of 1 more threads\n",
      "2020-06-02 17:36:37,551 : INFO : worker thread finished; awaiting finish of 0 more threads\n",
      "2020-06-02 17:36:37,553 : INFO : EPOCH - 6 : training on 720764 raw words (427428 effective words) took 3.3s, 128988 effective words/s\n",
      "2020-06-02 17:36:38,591 : INFO : EPOCH 7 - PROGRESS: at 33.30% examples, 139513 words/s, in_qsize 6, out_qsize 0\n",
      "2020-06-02 17:36:39,612 : INFO : EPOCH 7 - PROGRESS: at 62.43% examples, 136169 words/s, in_qsize 5, out_qsize 0\n",
      "2020-06-02 17:36:40,604 : INFO : worker thread finished; awaiting finish of 2 more threads\n",
      "2020-06-02 17:36:40,607 : INFO : worker thread finished; awaiting finish of 1 more threads\n",
      "2020-06-02 17:36:40,625 : INFO : EPOCH 7 - PROGRESS: at 100.00% examples, 140116 words/s, in_qsize 0, out_qsize 1\n",
      "2020-06-02 17:36:40,627 : INFO : worker thread finished; awaiting finish of 0 more threads\n",
      "2020-06-02 17:36:40,629 : INFO : EPOCH - 7 : training on 720764 raw words (427433 effective words) took 3.1s, 139931 effective words/s\n",
      "2020-06-02 17:36:41,720 : INFO : EPOCH 8 - PROGRESS: at 30.52% examples, 130653 words/s, in_qsize 5, out_qsize 0\n",
      "2020-06-02 17:36:42,755 : INFO : EPOCH 8 - PROGRESS: at 63.82% examples, 136911 words/s, in_qsize 5, out_qsize 0\n",
      "2020-06-02 17:36:43,765 : INFO : EPOCH 8 - PROGRESS: at 88.79% examples, 131224 words/s, in_qsize 5, out_qsize 0\n",
      "2020-06-02 17:36:43,879 : INFO : worker thread finished; awaiting finish of 2 more threads\n",
      "2020-06-02 17:36:43,918 : INFO : worker thread finished; awaiting finish of 1 more threads\n",
      "2020-06-02 17:36:43,942 : INFO : worker thread finished; awaiting finish of 0 more threads\n",
      "2020-06-02 17:36:43,945 : INFO : EPOCH - 8 : training on 720764 raw words (427409 effective words) took 3.2s, 131647 effective words/s\n",
      "2020-06-02 17:36:45,008 : INFO : EPOCH 9 - PROGRESS: at 24.97% examples, 111344 words/s, in_qsize 6, out_qsize 0\n",
      "2020-06-02 17:36:46,113 : INFO : EPOCH 9 - PROGRESS: at 51.33% examples, 108133 words/s, in_qsize 6, out_qsize 0\n",
      "2020-06-02 17:36:47,159 : INFO : EPOCH 9 - PROGRESS: at 81.86% examples, 116010 words/s, in_qsize 6, out_qsize 0\n",
      "2020-06-02 17:36:47,540 : INFO : worker thread finished; awaiting finish of 2 more threads\n",
      "2020-06-02 17:36:47,546 : INFO : worker thread finished; awaiting finish of 1 more threads\n",
      "2020-06-02 17:36:47,560 : INFO : worker thread finished; awaiting finish of 0 more threads\n",
      "2020-06-02 17:36:47,561 : INFO : EPOCH - 9 : training on 720764 raw words (427675 effective words) took 3.6s, 118952 effective words/s\n",
      "2020-06-02 17:36:48,702 : INFO : EPOCH 10 - PROGRESS: at 26.36% examples, 113224 words/s, in_qsize 5, out_qsize 0\n",
      "2020-06-02 17:36:49,752 : INFO : EPOCH 10 - PROGRESS: at 59.66% examples, 127700 words/s, in_qsize 5, out_qsize 0\n",
      "2020-06-02 17:36:50,771 : INFO : EPOCH 10 - PROGRESS: at 83.24% examples, 121201 words/s, in_qsize 5, out_qsize 0\n",
      "2020-06-02 17:36:51,122 : INFO : worker thread finished; awaiting finish of 2 more threads\n",
      "2020-06-02 17:36:51,142 : INFO : worker thread finished; awaiting finish of 1 more threads\n",
      "2020-06-02 17:36:51,164 : INFO : worker thread finished; awaiting finish of 0 more threads\n",
      "2020-06-02 17:36:51,168 : INFO : EPOCH - 10 : training on 720764 raw words (427776 effective words) took 3.5s, 121203 effective words/s\n",
      "2020-06-02 17:36:52,271 : INFO : EPOCH 11 - PROGRESS: at 30.52% examples, 126230 words/s, in_qsize 6, out_qsize 0\n",
      "2020-06-02 17:36:53,283 : INFO : EPOCH 11 - PROGRESS: at 58.27% examples, 128515 words/s, in_qsize 6, out_qsize 0\n",
      "2020-06-02 17:36:54,308 : INFO : EPOCH 11 - PROGRESS: at 94.34% examples, 134943 words/s, in_qsize 4, out_qsize 1\n",
      "2020-06-02 17:36:54,349 : INFO : worker thread finished; awaiting finish of 2 more threads\n",
      "2020-06-02 17:36:54,365 : INFO : worker thread finished; awaiting finish of 1 more threads\n",
      "2020-06-02 17:36:54,369 : INFO : worker thread finished; awaiting finish of 0 more threads\n"
     ]
    },
    {
     "name": "stderr",
     "output_type": "stream",
     "text": [
      "2020-06-02 17:36:54,372 : INFO : EPOCH - 11 : training on 720764 raw words (427737 effective words) took 3.2s, 135396 effective words/s\n",
      "2020-06-02 17:36:55,510 : INFO : EPOCH 12 - PROGRESS: at 30.52% examples, 127874 words/s, in_qsize 6, out_qsize 0\n",
      "2020-06-02 17:36:56,541 : INFO : EPOCH 12 - PROGRESS: at 65.21% examples, 137890 words/s, in_qsize 6, out_qsize 0\n",
      "2020-06-02 17:36:57,550 : INFO : EPOCH 12 - PROGRESS: at 91.57% examples, 132671 words/s, in_qsize 5, out_qsize 0\n",
      "2020-06-02 17:36:57,625 : INFO : worker thread finished; awaiting finish of 2 more threads\n",
      "2020-06-02 17:36:57,670 : INFO : worker thread finished; awaiting finish of 1 more threads\n",
      "2020-06-02 17:36:57,673 : INFO : worker thread finished; awaiting finish of 0 more threads\n",
      "2020-06-02 17:36:57,674 : INFO : EPOCH - 12 : training on 720764 raw words (427894 effective words) took 3.2s, 133251 effective words/s\n",
      "2020-06-02 17:36:58,709 : INFO : EPOCH 13 - PROGRESS: at 36.07% examples, 147309 words/s, in_qsize 6, out_qsize 0\n",
      "2020-06-02 17:36:59,726 : INFO : EPOCH 13 - PROGRESS: at 62.43% examples, 136193 words/s, in_qsize 6, out_qsize 0\n",
      "2020-06-02 17:37:00,750 : INFO : EPOCH 13 - PROGRESS: at 88.79% examples, 131497 words/s, in_qsize 5, out_qsize 0\n",
      "2020-06-02 17:37:00,918 : INFO : worker thread finished; awaiting finish of 2 more threads\n",
      "2020-06-02 17:37:00,932 : INFO : worker thread finished; awaiting finish of 1 more threads\n",
      "2020-06-02 17:37:00,958 : INFO : worker thread finished; awaiting finish of 0 more threads\n",
      "2020-06-02 17:37:00,961 : INFO : EPOCH - 13 : training on 720764 raw words (427378 effective words) took 3.3s, 130598 effective words/s\n",
      "2020-06-02 17:37:02,010 : INFO : EPOCH 14 - PROGRESS: at 20.81% examples, 100900 words/s, in_qsize 5, out_qsize 0\n",
      "2020-06-02 17:37:03,041 : INFO : EPOCH 14 - PROGRESS: at 48.56% examples, 104121 words/s, in_qsize 6, out_qsize 0\n",
      "2020-06-02 17:37:04,086 : INFO : EPOCH 14 - PROGRESS: at 72.14% examples, 100388 words/s, in_qsize 6, out_qsize 0\n",
      "2020-06-02 17:37:05,037 : INFO : worker thread finished; awaiting finish of 2 more threads\n",
      "2020-06-02 17:37:05,055 : INFO : worker thread finished; awaiting finish of 1 more threads\n",
      "2020-06-02 17:37:05,075 : INFO : worker thread finished; awaiting finish of 0 more threads\n",
      "2020-06-02 17:37:05,078 : INFO : EPOCH - 14 : training on 720764 raw words (427202 effective words) took 4.1s, 104860 effective words/s\n",
      "2020-06-02 17:37:06,120 : INFO : EPOCH 15 - PROGRESS: at 30.52% examples, 133041 words/s, in_qsize 6, out_qsize 0\n",
      "2020-06-02 17:37:07,194 : INFO : EPOCH 15 - PROGRESS: at 55.50% examples, 122770 words/s, in_qsize 6, out_qsize 1\n",
      "2020-06-02 17:37:08,220 : INFO : EPOCH 15 - PROGRESS: at 86.02% examples, 125939 words/s, in_qsize 6, out_qsize 0\n",
      "2020-06-02 17:37:08,377 : INFO : worker thread finished; awaiting finish of 2 more threads\n",
      "2020-06-02 17:37:08,386 : INFO : worker thread finished; awaiting finish of 1 more threads\n",
      "2020-06-02 17:37:08,412 : INFO : worker thread finished; awaiting finish of 0 more threads\n",
      "2020-06-02 17:37:08,413 : INFO : EPOCH - 15 : training on 720764 raw words (427678 effective words) took 3.3s, 129652 effective words/s\n",
      "2020-06-02 17:37:09,434 : INFO : EPOCH 16 - PROGRESS: at 29.14% examples, 128657 words/s, in_qsize 6, out_qsize 0\n",
      "2020-06-02 17:37:10,443 : INFO : EPOCH 16 - PROGRESS: at 61.05% examples, 135883 words/s, in_qsize 5, out_qsize 0\n",
      "2020-06-02 17:37:11,473 : INFO : EPOCH 16 - PROGRESS: at 90.18% examples, 133045 words/s, in_qsize 6, out_qsize 0\n",
      "2020-06-02 17:37:11,595 : INFO : worker thread finished; awaiting finish of 2 more threads\n",
      "2020-06-02 17:37:11,598 : INFO : worker thread finished; awaiting finish of 1 more threads\n",
      "2020-06-02 17:37:11,608 : INFO : worker thread finished; awaiting finish of 0 more threads\n",
      "2020-06-02 17:37:11,610 : INFO : EPOCH - 16 : training on 720764 raw words (427503 effective words) took 3.2s, 134420 effective words/s\n",
      "2020-06-02 17:37:12,680 : INFO : EPOCH 17 - PROGRESS: at 34.68% examples, 141099 words/s, in_qsize 6, out_qsize 0\n",
      "2020-06-02 17:37:13,696 : INFO : EPOCH 17 - PROGRESS: at 59.66% examples, 131590 words/s, in_qsize 5, out_qsize 0\n",
      "2020-06-02 17:37:14,704 : INFO : EPOCH 17 - PROGRESS: at 83.24% examples, 124068 words/s, in_qsize 6, out_qsize 0\n",
      "2020-06-02 17:37:14,995 : INFO : worker thread finished; awaiting finish of 2 more threads\n",
      "2020-06-02 17:37:15,028 : INFO : worker thread finished; awaiting finish of 1 more threads\n",
      "2020-06-02 17:37:15,042 : INFO : worker thread finished; awaiting finish of 0 more threads\n",
      "2020-06-02 17:37:15,044 : INFO : EPOCH - 17 : training on 720764 raw words (427742 effective words) took 3.4s, 125835 effective words/s\n",
      "2020-06-02 17:37:16,063 : INFO : EPOCH 18 - PROGRESS: at 26.36% examples, 119556 words/s, in_qsize 6, out_qsize 0\n",
      "2020-06-02 17:37:17,139 : INFO : EPOCH 18 - PROGRESS: at 52.72% examples, 116110 words/s, in_qsize 4, out_qsize 1\n",
      "2020-06-02 17:37:18,189 : INFO : EPOCH 18 - PROGRESS: at 81.86% examples, 118220 words/s, in_qsize 5, out_qsize 0\n",
      "2020-06-02 17:37:18,644 : INFO : worker thread finished; awaiting finish of 2 more threads\n",
      "2020-06-02 17:37:18,658 : INFO : worker thread finished; awaiting finish of 1 more threads\n",
      "2020-06-02 17:37:18,662 : INFO : worker thread finished; awaiting finish of 0 more threads\n",
      "2020-06-02 17:37:18,666 : INFO : EPOCH - 18 : training on 720764 raw words (427400 effective words) took 3.6s, 118580 effective words/s\n",
      "2020-06-02 17:37:19,809 : INFO : EPOCH 19 - PROGRESS: at 26.36% examples, 116226 words/s, in_qsize 6, out_qsize 0\n",
      "2020-06-02 17:37:20,864 : INFO : EPOCH 19 - PROGRESS: at 51.33% examples, 110772 words/s, in_qsize 5, out_qsize 0\n",
      "2020-06-02 17:37:21,889 : INFO : EPOCH 19 - PROGRESS: at 79.08% examples, 113820 words/s, in_qsize 5, out_qsize 0\n",
      "2020-06-02 17:37:22,293 : INFO : worker thread finished; awaiting finish of 2 more threads\n",
      "2020-06-02 17:37:22,312 : INFO : worker thread finished; awaiting finish of 1 more threads\n",
      "2020-06-02 17:37:22,332 : INFO : worker thread finished; awaiting finish of 0 more threads\n",
      "2020-06-02 17:37:22,333 : INFO : EPOCH - 19 : training on 720764 raw words (427583 effective words) took 3.6s, 120033 effective words/s\n",
      "2020-06-02 17:37:23,361 : INFO : EPOCH 20 - PROGRESS: at 26.36% examples, 118843 words/s, in_qsize 5, out_qsize 0\n",
      "2020-06-02 17:37:24,410 : INFO : EPOCH 20 - PROGRESS: at 52.72% examples, 117098 words/s, in_qsize 5, out_qsize 0\n",
      "2020-06-02 17:37:25,465 : INFO : EPOCH 20 - PROGRESS: at 83.24% examples, 121853 words/s, in_qsize 5, out_qsize 0\n",
      "2020-06-02 17:37:25,741 : INFO : worker thread finished; awaiting finish of 2 more threads\n",
      "2020-06-02 17:37:25,754 : INFO : worker thread finished; awaiting finish of 1 more threads\n",
      "2020-06-02 17:37:25,790 : INFO : worker thread finished; awaiting finish of 0 more threads\n",
      "2020-06-02 17:37:25,792 : INFO : EPOCH - 20 : training on 720764 raw words (427861 effective words) took 3.4s, 124171 effective words/s\n",
      "2020-06-02 17:37:26,839 : INFO : EPOCH 21 - PROGRESS: at 30.52% examples, 129759 words/s, in_qsize 5, out_qsize 0\n",
      "2020-06-02 17:37:27,887 : INFO : EPOCH 21 - PROGRESS: at 59.66% examples, 129875 words/s, in_qsize 5, out_qsize 0\n",
      "2020-06-02 17:37:28,908 : INFO : EPOCH 21 - PROGRESS: at 92.96% examples, 133941 words/s, in_qsize 5, out_qsize 0\n",
      "2020-06-02 17:37:28,963 : INFO : worker thread finished; awaiting finish of 2 more threads\n",
      "2020-06-02 17:37:28,978 : INFO : worker thread finished; awaiting finish of 1 more threads\n",
      "2020-06-02 17:37:28,984 : INFO : worker thread finished; awaiting finish of 0 more threads\n",
      "2020-06-02 17:37:28,985 : INFO : EPOCH - 21 : training on 720764 raw words (427559 effective words) took 3.2s, 134638 effective words/s\n",
      "2020-06-02 17:37:30,052 : INFO : EPOCH 22 - PROGRESS: at 27.75% examples, 121557 words/s, in_qsize 5, out_qsize 0\n",
      "2020-06-02 17:37:31,063 : INFO : EPOCH 22 - PROGRESS: at 51.33% examples, 113789 words/s, in_qsize 5, out_qsize 0\n",
      "2020-06-02 17:37:32,073 : INFO : EPOCH 22 - PROGRESS: at 81.86% examples, 121466 words/s, in_qsize 6, out_qsize 0\n",
      "2020-06-02 17:37:32,453 : INFO : worker thread finished; awaiting finish of 2 more threads\n",
      "2020-06-02 17:37:32,488 : INFO : worker thread finished; awaiting finish of 1 more threads\n",
      "2020-06-02 17:37:32,497 : INFO : worker thread finished; awaiting finish of 0 more threads\n"
     ]
    },
    {
     "name": "stderr",
     "output_type": "stream",
     "text": [
      "2020-06-02 17:37:32,499 : INFO : EPOCH - 22 : training on 720764 raw words (427921 effective words) took 3.5s, 123158 effective words/s\n",
      "2020-06-02 17:37:33,559 : INFO : EPOCH 23 - PROGRESS: at 26.36% examples, 117404 words/s, in_qsize 6, out_qsize 0\n",
      "2020-06-02 17:37:34,584 : INFO : EPOCH 23 - PROGRESS: at 54.11% examples, 122541 words/s, in_qsize 6, out_qsize 0\n",
      "2020-06-02 17:37:35,597 : INFO : EPOCH 23 - PROGRESS: at 80.47% examples, 118930 words/s, in_qsize 6, out_qsize 0\n",
      "2020-06-02 17:37:36,032 : INFO : worker thread finished; awaiting finish of 2 more threads\n",
      "2020-06-02 17:37:36,043 : INFO : worker thread finished; awaiting finish of 1 more threads\n",
      "2020-06-02 17:37:36,075 : INFO : worker thread finished; awaiting finish of 0 more threads\n",
      "2020-06-02 17:37:36,077 : INFO : EPOCH - 23 : training on 720764 raw words (427573 effective words) took 3.5s, 120666 effective words/s\n",
      "2020-06-02 17:37:37,113 : INFO : EPOCH 24 - PROGRESS: at 26.36% examples, 118890 words/s, in_qsize 5, out_qsize 0\n",
      "2020-06-02 17:37:38,137 : INFO : EPOCH 24 - PROGRESS: at 54.11% examples, 123335 words/s, in_qsize 5, out_qsize 0\n",
      "2020-06-02 17:37:39,251 : INFO : EPOCH 24 - PROGRESS: at 86.02% examples, 124109 words/s, in_qsize 6, out_qsize 0\n",
      "2020-06-02 17:37:39,439 : INFO : worker thread finished; awaiting finish of 2 more threads\n",
      "2020-06-02 17:37:39,482 : INFO : worker thread finished; awaiting finish of 1 more threads\n",
      "2020-06-02 17:37:39,485 : INFO : worker thread finished; awaiting finish of 0 more threads\n",
      "2020-06-02 17:37:39,487 : INFO : EPOCH - 24 : training on 720764 raw words (427784 effective words) took 3.4s, 126303 effective words/s\n",
      "2020-06-02 17:37:40,512 : INFO : EPOCH 25 - PROGRESS: at 27.75% examples, 124443 words/s, in_qsize 6, out_qsize 0\n",
      "2020-06-02 17:37:41,557 : INFO : EPOCH 25 - PROGRESS: at 59.66% examples, 131791 words/s, in_qsize 6, out_qsize 0\n",
      "2020-06-02 17:37:42,584 : INFO : EPOCH 25 - PROGRESS: at 88.79% examples, 130400 words/s, in_qsize 5, out_qsize 0\n",
      "2020-06-02 17:37:42,667 : INFO : worker thread finished; awaiting finish of 2 more threads\n",
      "2020-06-02 17:37:42,702 : INFO : worker thread finished; awaiting finish of 1 more threads\n",
      "2020-06-02 17:37:42,703 : INFO : worker thread finished; awaiting finish of 0 more threads\n",
      "2020-06-02 17:37:42,704 : INFO : EPOCH - 25 : training on 720764 raw words (427739 effective words) took 3.2s, 133796 effective words/s\n",
      "2020-06-02 17:37:43,733 : INFO : EPOCH 26 - PROGRESS: at 33.30% examples, 141604 words/s, in_qsize 5, out_qsize 0\n",
      "2020-06-02 17:37:44,746 : INFO : EPOCH 26 - PROGRESS: at 56.88% examples, 128557 words/s, in_qsize 6, out_qsize 0\n",
      "2020-06-02 17:37:45,769 : INFO : EPOCH 26 - PROGRESS: at 90.18% examples, 133254 words/s, in_qsize 5, out_qsize 0\n",
      "2020-06-02 17:37:45,880 : INFO : worker thread finished; awaiting finish of 2 more threads\n",
      "2020-06-02 17:37:45,908 : INFO : worker thread finished; awaiting finish of 1 more threads\n",
      "2020-06-02 17:37:45,934 : INFO : worker thread finished; awaiting finish of 0 more threads\n",
      "2020-06-02 17:37:45,936 : INFO : EPOCH - 26 : training on 720764 raw words (427547 effective words) took 3.2s, 133399 effective words/s\n",
      "2020-06-02 17:37:47,002 : INFO : EPOCH 27 - PROGRESS: at 30.52% examples, 130654 words/s, in_qsize 5, out_qsize 0\n",
      "2020-06-02 17:37:48,085 : INFO : EPOCH 27 - PROGRESS: at 63.82% examples, 133563 words/s, in_qsize 6, out_qsize 0\n",
      "2020-06-02 17:37:49,103 : INFO : EPOCH 27 - PROGRESS: at 88.79% examples, 128786 words/s, in_qsize 5, out_qsize 0\n",
      "2020-06-02 17:37:49,255 : INFO : worker thread finished; awaiting finish of 2 more threads\n",
      "2020-06-02 17:37:49,277 : INFO : worker thread finished; awaiting finish of 1 more threads\n",
      "2020-06-02 17:37:49,289 : INFO : worker thread finished; awaiting finish of 0 more threads\n",
      "2020-06-02 17:37:49,291 : INFO : EPOCH - 27 : training on 720764 raw words (427220 effective words) took 3.3s, 129055 effective words/s\n",
      "2020-06-02 17:37:50,361 : INFO : EPOCH 28 - PROGRESS: at 26.36% examples, 114962 words/s, in_qsize 6, out_qsize 0\n",
      "2020-06-02 17:37:51,379 : INFO : EPOCH 28 - PROGRESS: at 51.33% examples, 112163 words/s, in_qsize 6, out_qsize 0\n",
      "2020-06-02 17:37:52,388 : INFO : EPOCH 28 - PROGRESS: at 80.47% examples, 118470 words/s, in_qsize 5, out_qsize 0\n",
      "2020-06-02 17:37:52,800 : INFO : worker thread finished; awaiting finish of 2 more threads\n",
      "2020-06-02 17:37:52,840 : INFO : worker thread finished; awaiting finish of 1 more threads\n",
      "2020-06-02 17:37:52,849 : INFO : worker thread finished; awaiting finish of 0 more threads\n",
      "2020-06-02 17:37:52,851 : INFO : EPOCH - 28 : training on 720764 raw words (427492 effective words) took 3.5s, 120791 effective words/s\n",
      "2020-06-02 17:37:53,915 : INFO : EPOCH 29 - PROGRESS: at 27.75% examples, 123998 words/s, in_qsize 5, out_qsize 0\n",
      "2020-06-02 17:37:54,930 : INFO : EPOCH 29 - PROGRESS: at 58.27% examples, 131368 words/s, in_qsize 6, out_qsize 0\n",
      "2020-06-02 17:37:55,948 : INFO : EPOCH 29 - PROGRESS: at 83.24% examples, 124780 words/s, in_qsize 5, out_qsize 0\n",
      "2020-06-02 17:37:56,245 : INFO : worker thread finished; awaiting finish of 2 more threads\n",
      "2020-06-02 17:37:56,269 : INFO : worker thread finished; awaiting finish of 1 more threads\n",
      "2020-06-02 17:37:56,277 : INFO : worker thread finished; awaiting finish of 0 more threads\n",
      "2020-06-02 17:37:56,279 : INFO : EPOCH - 29 : training on 720764 raw words (428036 effective words) took 3.4s, 126857 effective words/s\n",
      "2020-06-02 17:37:57,304 : INFO : EPOCH 30 - PROGRESS: at 31.91% examples, 135966 words/s, in_qsize 6, out_qsize 1\n",
      "2020-06-02 17:37:58,359 : INFO : EPOCH 30 - PROGRESS: at 58.27% examples, 128633 words/s, in_qsize 5, out_qsize 0\n",
      "2020-06-02 17:37:59,387 : INFO : EPOCH 30 - PROGRESS: at 94.34% examples, 134914 words/s, in_qsize 5, out_qsize 0\n",
      "2020-06-02 17:37:59,409 : INFO : worker thread finished; awaiting finish of 2 more threads\n",
      "2020-06-02 17:37:59,441 : INFO : worker thread finished; awaiting finish of 1 more threads\n",
      "2020-06-02 17:37:59,448 : INFO : worker thread finished; awaiting finish of 0 more threads\n",
      "2020-06-02 17:37:59,450 : INFO : EPOCH - 30 : training on 720764 raw words (427149 effective words) took 3.2s, 135369 effective words/s\n",
      "2020-06-02 17:37:59,451 : INFO : training on a 21622920 raw words (12826586 effective words) took 102.8s, 124723 effective words/s\n"
     ]
    },
    {
     "name": "stdout",
     "output_type": "stream",
     "text": [
      "Time to train the model: 1.71 mins\n"
     ]
    }
   ],
   "source": [
    "t = time()\n",
    "\n",
    "w2v_model.train(sentences, total_examples=w2v_model.corpus_count, epochs=30, report_delay=1)\n",
    "\n",
    "print('Time to train the model: {} mins'.format(round((time() - t) / 60, 2)))"
   ]
  },
  {
   "cell_type": "code",
   "execution_count": null,
   "metadata": {},
   "outputs": [],
   "source": []
  },
  {
   "cell_type": "code",
   "execution_count": 25,
   "metadata": {},
   "outputs": [
    {
     "name": "stdout",
     "output_type": "stream",
     "text": [
      "14617\n"
     ]
    }
   ],
   "source": [
    "import gensim\n",
    "word_vectors  = w2v_model.wv\n",
    "\n",
    "MAX_NB_WORDS = len(word_vectors.vocab)\n",
    "WV_DIM = 50\n",
    "\n",
    "nb_words = min(MAX_NB_WORDS, len(word_vectors.vocab))\n",
    "\n",
    "# we initialize the matrix with random numbers\n",
    "wv_matrix = (np.random.rand(n_words, WV_DIM) - 0.5) / 5.0\n",
    "for word, i in word2idx.items():\n",
    "    if i >= MAX_NB_WORDS:\n",
    "        continue\n",
    "    try:\n",
    "        embedding_vector = word_vectors[word]\n",
    "        # words not found in embedding index will be all-zeros.\n",
    "        wv_matrix[i] = embedding_vector\n",
    "    except:\n",
    "        pass\n",
    "print(MAX_NB_WORDS)"
   ]
  },
  {
   "cell_type": "code",
   "execution_count": 26,
   "metadata": {},
   "outputs": [
    {
     "name": "stdout",
     "output_type": "stream",
     "text": [
      "WARNING:tensorflow:From C:\\Users\\Cheikh\\Anaconda3\\envs\\tensorflow\\lib\\site-packages\\tensorflow_core\\python\\compat\\v2_compat.py:68: disable_resource_variables (from tensorflow.python.ops.variable_scope) is deprecated and will be removed in a future version.\n",
      "Instructions for updating:\n",
      "non-resource variables are not supported in the long term\n"
     ]
    },
    {
     "name": "stderr",
     "output_type": "stream",
     "text": [
      "Using TensorFlow backend.\n",
      "2020-06-02 17:42:16,824 : WARNING : From C:\\Users\\Cheikh\\Anaconda3\\envs\\tensorflow\\lib\\site-packages\\tensorflow_core\\python\\compat\\v2_compat.py:68: disable_resource_variables (from tensorflow.python.ops.variable_scope) is deprecated and will be removed in a future version.\n",
      "Instructions for updating:\n",
      "non-resource variables are not supported in the long term\n"
     ]
    }
   ],
   "source": [
    "from keras.layers import Embedding\n",
    "import tensorflow as tf\n",
    "tf.compat.v1.disable_v2_behavior()\n",
    "\n",
    "test_sentence = [\"html\"]\n",
    "#model =  tf.keras.models.load_model(\"./saved_model/lstm_ner_model_F1_37_3.h5\")\n",
    "embedding_layer = Embedding(n_words,\n",
    "                     WV_DIM,\n",
    "                     mask_zero=True,\n",
    "                     weights=[wv_matrix],\n",
    "                     input_length=max_len,\n",
    "                     trainable=True)"
   ]
  },
  {
   "cell_type": "code",
   "execution_count": 27,
   "metadata": {},
   "outputs": [
    {
     "name": "stdout",
     "output_type": "stream",
     "text": [
      "WARNING:tensorflow:From C:\\Users\\Cheikh\\Anaconda3\\envs\\tensorflow\\lib\\site-packages\\tensorflow_core\\python\\ops\\resource_variable_ops.py:1630: calling BaseResourceVariable.__init__ (from tensorflow.python.ops.resource_variable_ops) with constraint is deprecated and will be removed in a future version.\n",
      "Instructions for updating:\n",
      "If using Keras pass *_constraint arguments to layers.\n"
     ]
    },
    {
     "name": "stderr",
     "output_type": "stream",
     "text": [
      "2020-06-02 17:42:21,471 : WARNING : From C:\\Users\\Cheikh\\Anaconda3\\envs\\tensorflow\\lib\\site-packages\\tensorflow_core\\python\\ops\\resource_variable_ops.py:1630: calling BaseResourceVariable.__init__ (from tensorflow.python.ops.resource_variable_ops) with constraint is deprecated and will be removed in a future version.\n",
      "Instructions for updating:\n",
      "If using Keras pass *_constraint arguments to layers.\n"
     ]
    },
    {
     "name": "stdout",
     "output_type": "stream",
     "text": [
      "WARNING:tensorflow:From C:\\Users\\Cheikh\\Anaconda3\\envs\\tensorflow\\lib\\site-packages\\tensorflow_core\\python\\keras\\backend.py:3994: where (from tensorflow.python.ops.array_ops) is deprecated and will be removed in a future version.\n",
      "Instructions for updating:\n",
      "Use tf.where in 2.0, which has the same broadcast rule as np.where\n"
     ]
    },
    {
     "name": "stderr",
     "output_type": "stream",
     "text": [
      "2020-06-02 17:42:22,314 : WARNING : From C:\\Users\\Cheikh\\Anaconda3\\envs\\tensorflow\\lib\\site-packages\\tensorflow_core\\python\\keras\\backend.py:3994: where (from tensorflow.python.ops.array_ops) is deprecated and will be removed in a future version.\n",
      "Instructions for updating:\n",
      "Use tf.where in 2.0, which has the same broadcast rule as np.where\n"
     ]
    },
    {
     "name": "stdout",
     "output_type": "stream",
     "text": [
      "Model: \"model_1\"\n",
      "_________________________________________________________________\n",
      "Layer (type)                 Output Shape              Param #   \n",
      "=================================================================\n",
      "input_1 (InputLayer)         (None, 50)                0         \n",
      "_________________________________________________________________\n",
      "embedding_1 (Embedding)      (None, 50, 50)            736500    \n",
      "_________________________________________________________________\n",
      "spatial_dropout1d_1 (Spatial (None, 50, 50)            0         \n",
      "_________________________________________________________________\n",
      "bidirectional_1 (Bidirection (None, 50, 200)           120800    \n",
      "_________________________________________________________________\n",
      "time_distributed_1 (TimeDist (None, 50, 11)            2211      \n",
      "=================================================================\n",
      "Total params: 859,511\n",
      "Trainable params: 859,511\n",
      "Non-trainable params: 0\n",
      "_________________________________________________________________\n"
     ]
    }
   ],
   "source": [
    "from keras.models import Model, Input\n",
    "from keras.layers import LSTM, Embedding, Dense, TimeDistributed, Dropout, Bidirectional,SpatialDropout1D\n",
    "from keras.layers.normalization import BatchNormalization\n",
    "\n",
    "input = Input(shape=(max_len,))\n",
    "#model = Embedding(input_dim=n_words + 1, output_dim=50,input_length=max_len, mask_zero=True)(input)\n",
    "model = embedding_layer(input)\n",
    "model = SpatialDropout1D(0.2)(model)\n",
    "model = Bidirectional(LSTM(units=100, return_sequences=True,recurrent_dropout=0.1))(model)  # variational biLSTM\n",
    "out = TimeDistributed(Dense(n_tags, activation=\"softmax\"))(model)  # softmax output layer\n",
    "\n",
    "model = Model(input, out)\n",
    "model.summary()\n"
   ]
  },
  {
   "cell_type": "code",
   "execution_count": 28,
   "metadata": {},
   "outputs": [],
   "source": [
    "model.compile(optimizer=\"rmsprop\", loss=\"categorical_crossentropy\", metrics=[\"accuracy\"])"
   ]
  },
  {
   "cell_type": "code",
   "execution_count": 29,
   "metadata": {
    "scrolled": false
   },
   "outputs": [
    {
     "name": "stdout",
     "output_type": "stream",
     "text": [
      "WARNING:tensorflow:From C:\\Users\\Cheikh\\Anaconda3\\envs\\tensorflow\\lib\\site-packages\\keras\\backend\\tensorflow_backend.py:422: The name tf.global_variables is deprecated. Please use tf.compat.v1.global_variables instead.\n",
      "\n"
     ]
    },
    {
     "name": "stderr",
     "output_type": "stream",
     "text": [
      "2020-06-02 17:42:43,622 : WARNING : From C:\\Users\\Cheikh\\Anaconda3\\envs\\tensorflow\\lib\\site-packages\\keras\\backend\\tensorflow_backend.py:422: The name tf.global_variables is deprecated. Please use tf.compat.v1.global_variables instead.\n",
      "\n"
     ]
    },
    {
     "name": "stdout",
     "output_type": "stream",
     "text": [
      "Train on 18162 samples, validate on 7785 samples\n",
      "Epoch 1/5\n",
      "18162/18162 [==============================] - 56s 3ms/step - loss: 1.1518 - accuracy: 0.6709 - val_loss: 0.6673 - val_accuracy: 0.8210\n",
      "Epoch 2/5\n",
      "18162/18162 [==============================] - 54s 3ms/step - loss: 0.3882 - accuracy: 0.8933 - val_loss: 0.1544 - val_accuracy: 0.9618\n",
      "Epoch 3/5\n",
      "18162/18162 [==============================] - 55s 3ms/step - loss: 0.1020 - accuracy: 0.9772 - val_loss: 0.0512 - val_accuracy: 0.9894\n",
      "Epoch 4/5\n",
      "18162/18162 [==============================] - 61s 3ms/step - loss: 0.0422 - accuracy: 0.9908 - val_loss: 0.0342 - val_accuracy: 0.9914\n",
      "Epoch 5/5\n",
      "18162/18162 [==============================] - 58s 3ms/step - loss: 0.0261 - accuracy: 0.9937 - val_loss: 0.0267 - val_accuracy: 0.9930\n"
     ]
    }
   ],
   "source": [
    "history = model.fit(X_tr, np.array(y_tr), batch_size=256, epochs=5, validation_split=0.3, verbose=1,shuffle=True)"
   ]
  },
  {
   "cell_type": "code",
   "execution_count": 30,
   "metadata": {},
   "outputs": [
    {
     "data": {
      "image/png": "[encoded data removed]",
      "text/plain": [
       "<Figure size 864x720 with 4 Axes>"
      ]
     },
     "metadata": {
      "needs_background": "light"
     },
     "output_type": "display_data"
    }
   ],
   "source": [
    "def plot_metrics(history):\n",
    "    metrics =  ['accuracy', 'val_accuracy', 'loss', 'val_loss']\n",
    "    for n, metric in enumerate(metrics):\n",
    "        name = metric.replace(\"_\",\" \").capitalize()\n",
    "        plt.subplot(2,2,n+1)\n",
    "        plt.plot(history.epoch,  history.history[metric], color=colors[0], label='Train')\n",
    "        plt.plot(history.epoch, history.history[metric],\n",
    "             color=colors[0], linestyle=\"--\", label='Val')\n",
    "        plt.xlabel('Epoch')\n",
    "        plt.ylabel(name)\n",
    "        if metric == 'loss':\n",
    "              plt.ylim([0, plt.ylim()[1]])\n",
    "        elif metric == 'auc':\n",
    "              plt.ylim([0.8,1])\n",
    "        else:\n",
    "              plt.ylim([0,1])\n",
    "\n",
    "    plt.legend()\n",
    "plot_metrics(history)"
   ]
  },
  {
   "cell_type": "code",
   "execution_count": 31,
   "metadata": {},
   "outputs": [
    {
     "name": "stdout",
     "output_type": "stream",
     "text": [
      "2884/2884 [==============================] - 3s 1ms/step\n",
      "F1-score: 96.7%\n",
      "                     precision    recall  f1-score   support\n",
      "\n",
      "             Skills       0.96      0.98      0.97      6170\n",
      "               Date       1.00      0.95      0.98       291\n",
      "               Name       0.87      0.89      0.88       281\n",
      "      Email Address       0.97      0.99      0.98      6677\n",
      "             Degree       0.89      0.91      0.90       282\n",
      "       College Name       0.92      0.91      0.91       299\n",
      "Companies worked at       0.97      0.86      0.91       290\n",
      "             Profil       0.91      0.84      0.87       304\n",
      "           Duration       0.99      0.97      0.98       258\n",
      "           Location       1.00      0.87      0.93       308\n",
      "\n",
      "          micro avg       0.96      0.97      0.97     15160\n",
      "          macro avg       0.96      0.97      0.97     15160\n",
      "\n"
     ]
    }
   ],
   "source": [
    "from sklearn_crfsuite import scorers\n",
    "from sklearn_crfsuite import metrics\n",
    "from seqeval.metrics import precision_score, recall_score, f1_score, classification_report\n",
    "\n",
    "idx2tag = {i: w for w, i in tag2idx.items()}\n",
    "\n",
    "def pred2label(pred):\n",
    "    out = []\n",
    "    for pred_i in pred:\n",
    "        out_i = []\n",
    "        for p in pred_i:\n",
    "            p_i = np.argmax(p)\n",
    "            out_i.append(idx2tag[p_i].replace(\"PAD\", \"O\"))\n",
    "        out.append(out_i)\n",
    "    return out\n",
    "\n",
    "\n",
    "y_pred = model.predict(X_te,verbose=1)\n",
    "\n",
    "pred_labels = pred2label(y_pred)\n",
    "test_labels = pred2label(y_te)\n",
    "\n",
    "print(\"F1-score: {:.1%}\".format(f1_score(test_labels, pred_labels)))\n",
    " \n",
    "print(classification_report(test_labels, pred_labels))"
   ]
  },
  {
   "cell_type": "code",
   "execution_count": null,
   "metadata": {},
   "outputs": [],
   "source": []
  },
  {
   "cell_type": "code",
   "execution_count": 32,
   "metadata": {},
   "outputs": [
    {
     "name": "stdout",
     "output_type": "stream",
     "text": [
      "Word            (True ): Pred\n",
      "innovative     : O\n",
      "applications   : O\n",
      "using          : O\n",
      "evolving       : O\n",
      "technologies   : O\n",
      "and            : O\n",
      "an             : O\n",
      "exposure       : O\n",
      "to             : O\n",
      "learn          : O\n",
      "new            : O\n",
      "exciting       : O\n",
      "Skills.        : O\n",
      "WORK           : O\n",
      "EXPERIENCE     : O\n",
      "System         : Profil\n",
      "Administrator  : Profil\n",
      "Server         : O\n",
      "Microsoft      : Profil\n",
      "Nehru          : O\n",
      "Memorial       : O\n",
      "College        : College Name\n",
      "Puthanampatti  : O\n",
      "-              : O\n",
      "2013           : O\n",
      "ENDPAD         : O\n",
      "ENDPAD         : O\n",
      "ENDPAD         : O\n",
      "ENDPAD         : O\n",
      "ENDPAD         : O\n",
      "ENDPAD         : O\n",
      "ENDPAD         : O\n",
      "ENDPAD         : O\n",
      "ENDPAD         : O\n",
      "ENDPAD         : O\n",
      "ENDPAD         : O\n",
      "ENDPAD         : O\n",
      "ENDPAD         : O\n",
      "ENDPAD         : O\n",
      "ENDPAD         : O\n",
      "ENDPAD         : O\n",
      "ENDPAD         : O\n",
      "ENDPAD         : O\n",
      "ENDPAD         : O\n",
      "ENDPAD         : O\n",
      "ENDPAD         : O\n",
      "ENDPAD         : O\n",
      "ENDPAD         : O\n",
      "ENDPAD         : O\n",
      "ENDPAD         : O\n"
     ]
    }
   ],
   "source": [
    "i = 5\n",
    "p = model.predict(np.array([X_te[i]]))\n",
    "p = np.argmax(p, axis=-1)\n",
    "print(\"{:15} ({:5}): {}\".format(\"Word\", \"True\", \"Pred\"))\n",
    "for w, pred in zip(X_te[i], p[0]):\n",
    "    print(\"{:15}: {}\".format(words[w], tags[pred]))"
   ]
  },
  {
   "cell_type": "code",
   "execution_count": 33,
   "metadata": {},
   "outputs": [
    {
     "name": "stdout",
     "output_type": "stream",
     "text": [
      "[1.0007714  1.00718112 1.00332547 0.99949923 0.9931866  0.99235094\n",
      " 1.0046074  1.00247267 0.99444274 1.00119617 1.00119617]\n"
     ]
    }
   ],
   "source": [
    "from sklearn.utils import class_weight\n",
    "y_ints = [y.argmax() for y in y_tr]\n",
    "value = class_weight.compute_class_weight('balanced',\n",
    "                                                 np.unique(y_ints),\n",
    "                                                 y_ints)\n",
    "print(value)\n",
    "model.compile(optimizer=\"rmsprop\", loss=\"categorical_crossentropy\", metrics=[\"accuracy\"])"
   ]
  },
  {
   "cell_type": "code",
   "execution_count": 34,
   "metadata": {},
   "outputs": [
    {
     "name": "stdout",
     "output_type": "stream",
     "text": [
      "Train on 18162 samples, validate on 7785 samples\n",
      "Epoch 1/5\n",
      "18162/18162 [==============================] - 61s 3ms/step - loss: 0.0194 - accuracy: 0.9948 - val_loss: 0.0242 - val_accuracy: 0.9935\n",
      "Epoch 2/5\n",
      "18162/18162 [==============================] - 57s 3ms/step - loss: 0.0146 - accuracy: 0.9958 - val_loss: 0.0227 - val_accuracy: 0.9937\n",
      "Epoch 3/5\n",
      "18162/18162 [==============================] - 49s 3ms/step - loss: 0.0125 - accuracy: 0.9963 - val_loss: 0.0210 - val_accuracy: 0.9943\n",
      "Epoch 4/5\n",
      "18162/18162 [==============================] - 49s 3ms/step - loss: 0.0108 - accuracy: 0.9968 - val_loss: 0.0218 - val_accuracy: 0.9943\n",
      "Epoch 5/5\n",
      "18162/18162 [==============================] - 49s 3ms/step - loss: 0.0097 - accuracy: 0.9969 - val_loss: 0.0208 - val_accuracy: 0.9945\n"
     ]
    }
   ],
   "source": [
    "history = model.fit(X_tr, np.array(y_tr), batch_size=128,epochs=5, shuffle=True,validation_split=0.3, verbose=1,class_weight=value)"
   ]
  },
  {
   "cell_type": "code",
   "execution_count": 35,
   "metadata": {},
   "outputs": [
    {
     "name": "stdout",
     "output_type": "stream",
     "text": [
      "2884/2884 [==============================] - 3s 1ms/step\n",
      "F1-score: 97.4%\n",
      "                     precision    recall  f1-score   support\n",
      "\n",
      "             Skills       0.98      0.98      0.98      6170\n",
      "               Date       1.00      0.96      0.98       291\n",
      "               Name       0.86      0.92      0.89       281\n",
      "      Email Address       0.98      0.98      0.98      6677\n",
      "             Degree       0.93      0.92      0.92       282\n",
      "       College Name       0.93      0.91      0.92       299\n",
      "Companies worked at       0.97      0.89      0.92       290\n",
      "             Profil       0.90      0.86      0.88       304\n",
      "           Duration       1.00      0.97      0.99       258\n",
      "           Location       0.98      0.93      0.95       308\n",
      "\n",
      "          micro avg       0.98      0.97      0.97     15160\n",
      "          macro avg       0.98      0.97      0.97     15160\n",
      "\n"
     ]
    }
   ],
   "source": [
    "from sklearn_crfsuite import scorers\n",
    "from sklearn_crfsuite import metrics\n",
    "from seqeval.metrics import precision_score, recall_score, f1_score, classification_report\n",
    "\n",
    "idx2tag = {i: w for w, i in tag2idx.items()}\n",
    "\n",
    "def pred2label(pred):\n",
    "    out = []\n",
    "    for pred_i in pred:\n",
    "        out_i = []\n",
    "        for p in pred_i:\n",
    "            p_i = np.argmax(p)\n",
    "            out_i.append(idx2tag[p_i].replace(\"PAD\", \"O\"))\n",
    "        out.append(out_i)\n",
    "    return out\n",
    "\n",
    "\n",
    "y_pred = model.predict(X_te,verbose=1)\n",
    "\n",
    "pred_labels = pred2label(y_pred)\n",
    "test_labels = pred2label(y_te)\n",
    "\n",
    "print(\"F1-score: {:.1%}\".format(f1_score(test_labels, pred_labels)))\n",
    " \n",
    "print(classification_report(test_labels, pred_labels))"
   ]
  },
  {
   "cell_type": "code",
   "execution_count": 36,
   "metadata": {},
   "outputs": [],
   "source": [
    "t1 =[\"Amadou\",\"NDIAYE\",\"23\",\"years\",\"old\",\"Research\",\"and\",\"Development\",\"Engineer\",\"Training\",\"2016\",\"2019\",\"Diploma\",\"of\",\"Design\",\"Engineer\",\"in\",\"Telecommunications\",\"and\",\"Networks\",\"DIC\",\"Ecole\",\"Supérieure\",\"Polytechnique\",\"de\",\"Dakar\",\"ESP\",\"2014\",\"2016\"]\n",
    "t2 = [\"University\",\n",
    "\"Diploma\",\n",
    "\"of\",\n",
    "\"Technology\",\n",
    "\"in\",\n",
    "\"Telecommunications\",\n",
    "\"and\",\n",
    "\"Networks\",\n",
    "\"DUT\",\n",
    "\"Ecole\",\n",
    "\"Supérieure\",\n",
    "\"Polytechnique\",\n",
    "\"de\",\n",
    "\"Dakar\",\n",
    "\"ESP\",\n",
    "\"2013\",\n",
    "\"2014\",\n",
    "\"Baccalaureate\",\n",
    "\"Series\",\n",
    "\"S1\",\n",
    "\"Sangalcam\",\n",
    "\"High\",\n",
    "\"School\"]\n",
    "t3 =[\n",
    "\"Languages\",\n",
    "\"English\",\n",
    "\"Professional\",\n",
    "\"French\",\n",
    "\"Fluent\",\n",
    "\"Wolof\",\n",
    "\"Fluent\",\n",
    "\"Pular\",\n",
    "\"native\",\n",
    "\"Technical\",\n",
    "\"skills\",\n",
    "\"BIG\",\n",
    "\"DATA\",\n",
    "\"Hadoop\",\n",
    "\"2\",\n",
    "\"Sqoop\",\n",
    "\"2\",\n",
    "\"Storm\",\n",
    "\"2\",\n",
    "\"Avro\",\n",
    "\"1\",\n",
    "\"5\",\n",
    "\"Nifi\",\n",
    "\"1\",\n",
    "\"5\",\n",
    "\"Ambari\",\n",
    "\"1\",\n",
    "\"5\",\n",
    "\"AWS\"]\n",
    "t4 = [\n",
    "\"BIG\",     \n",
    "\"DATA\",    \n",
    "\"platform\",\n",
    "\"for\",     \n",
    "\"Atos\",    \n",
    "\"Senegal\", \n",
    "\"Mission\", \n",
    "\"s\",\n",
    "\"and\",     \n",
    "\"Implementation\", \n",
    "\"of\",      \n",
    "\"Ambari\",  \n",
    "\"in\",      \n",
    "\"a\",\n",
    "\"6\",\n",
    "\"node\",    \n",
    "\"cluster\", \n",
    "\"achievements\",   \n",
    "\"Installation\",   \n",
    "\"of\",      \n",
    "\"Hortonworks\",    \n",
    "\"Data\",    \n",
    "\"Platform\",\n",
    "\"and\",     \n",
    "\"various\", \n",
    "\"services\",\n",
    "\"HDFS\",    \n",
    "\"YARN\",    \n",
    "\"HIVE\",    \n",
    "\"SPARK\",   \n",
    "\"SQOOP\",   \n",
    "\"on\",      \n",
    "\"the\",     \n",
    "\"cluster\", \n",
    "\"Cluster\", \n",
    "\"administration\", \n",
    "\"user\",    \n",
    "\"management\"     \n",
    "\"file\",    \n",
    "\"and\",     \n",
    "\"service\", \n",
    "\"access\",  \n",
    "\"management\",     \n",
    "\"Environment\",    \n",
    "\"Centos\",  \n",
    "\"7\",\n",
    "\"Hortonworks\"    \n",
    "    \n",
    "]"
   ]
  },
  {
   "cell_type": "code",
   "execution_count": 37,
   "metadata": {
    "scrolled": true
   },
   "outputs": [
    {
     "name": "stdout",
     "output_type": "stream",
     "text": [
      "WARNING:tensorflow:From C:\\Users\\Cheikh\\Anaconda3\\envs\\tensorflow\\lib\\site-packages\\tensorflow_core\\python\\keras\\initializers.py:119: calling RandomUniform.__init__ (from tensorflow.python.ops.init_ops) with dtype is deprecated and will be removed in a future version.\n",
      "Instructions for updating:\n",
      "Call initializer instance with the dtype argument instead of passing it to the constructor\n"
     ]
    },
    {
     "name": "stderr",
     "output_type": "stream",
     "text": [
      "2020-06-02 17:52:21,673 : WARNING : From C:\\Users\\Cheikh\\Anaconda3\\envs\\tensorflow\\lib\\site-packages\\tensorflow_core\\python\\keras\\initializers.py:119: calling RandomUniform.__init__ (from tensorflow.python.ops.init_ops) with dtype is deprecated and will be removed in a future version.\n",
      "Instructions for updating:\n",
      "Call initializer instance with the dtype argument instead of passing it to the constructor\n"
     ]
    },
    {
     "name": "stdout",
     "output_type": "stream",
     "text": [
      "WARNING:tensorflow:From C:\\Users\\Cheikh\\Anaconda3\\envs\\tensorflow\\lib\\site-packages\\tensorflow_core\\python\\ops\\init_ops.py:97: calling VarianceScaling.__init__ (from tensorflow.python.ops.init_ops) with dtype is deprecated and will be removed in a future version.\n",
      "Instructions for updating:\n",
      "Call initializer instance with the dtype argument instead of passing it to the constructor\n"
     ]
    },
    {
     "name": "stderr",
     "output_type": "stream",
     "text": [
      "2020-06-02 17:52:21,686 : WARNING : From C:\\Users\\Cheikh\\Anaconda3\\envs\\tensorflow\\lib\\site-packages\\tensorflow_core\\python\\ops\\init_ops.py:97: calling VarianceScaling.__init__ (from tensorflow.python.ops.init_ops) with dtype is deprecated and will be removed in a future version.\n",
      "Instructions for updating:\n",
      "Call initializer instance with the dtype argument instead of passing it to the constructor\n"
     ]
    },
    {
     "name": "stdout",
     "output_type": "stream",
     "text": [
      "WARNING:tensorflow:From C:\\Users\\Cheikh\\Anaconda3\\envs\\tensorflow\\lib\\site-packages\\tensorflow_core\\python\\ops\\init_ops.py:97: calling Orthogonal.__init__ (from tensorflow.python.ops.init_ops) with dtype is deprecated and will be removed in a future version.\n",
      "Instructions for updating:\n",
      "Call initializer instance with the dtype argument instead of passing it to the constructor\n"
     ]
    },
    {
     "name": "stderr",
     "output_type": "stream",
     "text": [
      "2020-06-02 17:52:21,686 : WARNING : From C:\\Users\\Cheikh\\Anaconda3\\envs\\tensorflow\\lib\\site-packages\\tensorflow_core\\python\\ops\\init_ops.py:97: calling Orthogonal.__init__ (from tensorflow.python.ops.init_ops) with dtype is deprecated and will be removed in a future version.\n",
      "Instructions for updating:\n",
      "Call initializer instance with the dtype argument instead of passing it to the constructor\n"
     ]
    },
    {
     "name": "stdout",
     "output_type": "stream",
     "text": [
      "WARNING:tensorflow:From C:\\Users\\Cheikh\\Anaconda3\\envs\\tensorflow\\lib\\site-packages\\tensorflow_core\\python\\ops\\init_ops.py:97: calling Zeros.__init__ (from tensorflow.python.ops.init_ops) with dtype is deprecated and will be removed in a future version.\n",
      "Instructions for updating:\n",
      "Call initializer instance with the dtype argument instead of passing it to the constructor\n"
     ]
    },
    {
     "name": "stderr",
     "output_type": "stream",
     "text": [
      "2020-06-02 17:52:21,686 : WARNING : From C:\\Users\\Cheikh\\Anaconda3\\envs\\tensorflow\\lib\\site-packages\\tensorflow_core\\python\\ops\\init_ops.py:97: calling Zeros.__init__ (from tensorflow.python.ops.init_ops) with dtype is deprecated and will be removed in a future version.\n",
      "Instructions for updating:\n",
      "Call initializer instance with the dtype argument instead of passing it to the constructor\n"
     ]
    }
   ],
   "source": [
    "import keras\n",
    "import tensorflow as tf\n",
    "import numpy as np\n",
    "model2 =  tf.keras.models.load_model(\"../models/saved_model/lstm_ner_model_F1_37_3.h5\")"
   ]
  },
  {
   "cell_type": "code",
   "execution_count": 38,
   "metadata": {},
   "outputs": [
    {
     "name": "stdout",
     "output_type": "stream",
     "text": [
      "50\n",
      "Word           ||Prediction\n",
      "==============================\n",
      "Languages      : Skills\n",
      "English        : Skills\n",
      "Professional   : Skills\n",
      "French         : Skills\n",
      "Fluent         : Skills\n",
      "Wolof          : Skills\n",
      "Fluent         : Skills\n",
      "Pular          : Skills\n",
      "native         : Skills\n",
      "Technical      : Skills\n",
      "skills         : Skills\n",
      "BIG            : Skills\n",
      "DATA           : Skills\n",
      "Hadoop         : Skills\n",
      "2              : Skills\n",
      "Sqoop          : Skills\n",
      "2              : Skills\n",
      "Storm          : Skills\n",
      "2              : Skills\n",
      "Avro           : Skills\n",
      "1              : Skills\n",
      "5              : Skills\n",
      "Nifi           : Skills\n",
      "1              : Skills\n",
      "5              : Skills\n",
      "Ambari         : Skills\n",
      "1              : Skills\n",
      "5              : Skills\n",
      "AWS            : Skills\n"
     ]
    }
   ],
   "source": [
    "\n",
    "test_sentence = t3\n",
    "print(max_len)\n",
    "x_test_sent = pad_sequences(sequences=[[word2idx.get(w, 0) for w in test_sentence]],\n",
    "                            padding=\"post\", value=0, maxlen=max_len)\n",
    "\n",
    "p = model.predict(np.array([x_test_sent[0]]))\n",
    "\n",
    "p = np.argmax(p, axis=-1)\n",
    "print(\"{:15}||{}\".format(\"Word\", \"Prediction\"))\n",
    "print(30 * \"=\")\n",
    "for w, pred in zip(test_sentence, p[0]):\n",
    "    print(\"{:15}: {:5}\".format(w, tags[pred]))\n",
    "sequences=[[word2idx.get(w, 0) for w in test_sentence]]"
   ]
  },
  {
   "cell_type": "code",
   "execution_count": 40,
   "metadata": {},
   "outputs": [
    {
     "name": "stdout",
     "output_type": "stream",
     "text": [
      "Amadou         : O    \n",
      "NDIAYE         : O    \n",
      "23             : O    \n",
      "years          : O    \n",
      "old            : O    \n",
      "Research       : O    \n",
      "and            : O    \n",
      "Development    : O    \n",
      "Engineer       : O    \n",
      "Training       : O    \n",
      "2016           : O    \n",
      "2019           : O    \n",
      "Diploma        : O    \n",
      "of             : O    \n",
      "Design         : O    \n",
      "Engineer       : O    \n",
      "in             : O    \n",
      "Telecommunications: O    \n",
      "and            : O    \n",
      "Networks       : O    \n",
      "DIC            : O    \n",
      "Ecole          : O    \n",
      "Supérieure     : O    \n",
      "Polytechnique  : O    \n",
      "de             : O    \n",
      "Dakar          : O    \n",
      "ESP            : O    \n",
      "2014           : O    \n",
      "2016           : O    \n",
      "University     : College Name\n",
      "Diploma        : Degree\n",
      "of             : College Name\n",
      "Technology     : College Name\n",
      "in             : College Name\n",
      "Telecommunications: College Name\n",
      "and            : College Name\n",
      "Networks       : College Name\n",
      "DUT            : College Name\n",
      "Ecole          : College Name\n",
      "Supérieure     : College Name\n",
      "Polytechnique  : College Name\n",
      "de             : College Name\n",
      "Dakar          : College Name\n",
      "ESP            : College Name\n",
      "2013           : Date \n",
      "2014           : Date \n",
      "Baccalaureate  : Date \n",
      "Series         : O    \n",
      "S1             : O    \n",
      "Sangalcam      : O    \n",
      "High           : College Name\n",
      "School         : College Name\n",
      "Languages      : Skills\n",
      "English        : Skills\n",
      "Professional   : Skills\n",
      "French         : Skills\n",
      "Fluent         : Skills\n",
      "Wolof          : Skills\n",
      "Fluent         : Skills\n",
      "Pular          : Skills\n",
      "native         : Skills\n",
      "Technical      : Skills\n",
      "skills         : Skills\n",
      "BIG            : Skills\n",
      "DATA           : Skills\n",
      "Hadoop         : Skills\n",
      "2              : Skills\n",
      "Sqoop          : Skills\n",
      "2              : Skills\n",
      "Storm          : Skills\n",
      "2              : Skills\n",
      "Avro           : Skills\n",
      "1              : Skills\n",
      "5              : Skills\n",
      "Nifi           : Skills\n",
      "1              : Skills\n",
      "5              : Skills\n",
      "Ambari         : Skills\n",
      "1              : Skills\n",
      "5              : Skills\n",
      "AWS            : Skills\n"
     ]
    }
   ],
   "source": [
    "\n",
    "sequences = [t1,t2,t3]\n",
    "pred_dict = {}\n",
    "for seq in sequences:\n",
    "        pred_sentence = pad_sequences(sequences=[[word2idx.get(w, 0) for w in seq]],\n",
    "                                      padding=\"post\", value=0, maxlen=max_len)\n",
    "        p = model.predict(np.array([pred_sentence[0]]))\n",
    "        p = np.argmax(p, axis=-1)\n",
    "        for w, pred in zip(seq, p[0]):\n",
    "            pred_dict[w] = tags[pred]\n",
    "            print(\"{:15}: {:5}\".format(w, tags[pred]))"
   ]
  },
  {
   "cell_type": "code",
   "execution_count": null,
   "metadata": {},
   "outputs": [],
   "source": [
    "import gensim\n",
    "phraser = gensim.models.Phrases.load(r\"../models/saved_model/phraser\")\n",
    "s = [w.lower() for w in t1]\n",
    "sent = [u'data', u'science', u'of', u'new', u'york', u'was', u'there',u'software',u'engineer',\"big\",\"data\",u\"computer\",\"science\",\"machine\",\"learning\"]\n",
    "print(phraser[s])"
   ]
  },
  {
   "cell_type": "code",
   "execution_count": null,
   "metadata": {},
   "outputs": [],
   "source": []
  }
 ],
 "metadata": {
  "kernelspec": {
   "display_name": "Python 3.7.7 64-bit ('tensorflow': conda)",
   "language": "python",
   "name": "python37764bittensorflowcondaf22e5cf915384b5dbf50c82ba92b1291"
  },
  "language_info": {
   "codemirror_mode": {
    "name": "ipython",
    "version": 3
   },
   "file_extension": ".py",
   "mimetype": "text/x-python",
   "name": "python",
   "nbconvert_exporter": "python",
   "pygments_lexer": "ipython3",
   "version": "3.7.7"
  }
 },
 "nbformat": 4,
 "nbformat_minor": 2
}
