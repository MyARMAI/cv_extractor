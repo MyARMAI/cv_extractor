{
 "cells": [
  {
   "cell_type": "code",
   "execution_count": 8,
   "metadata": {},
   "outputs": [
    {
     "name": "stdout",
     "output_type": "stream",
     "text": [
      "The tensorboard extension is already loaded. To reload it, use:\n",
      "  %reload_ext tensorboard\n"
     ]
    },
    {
     "data": {
      "text/html": [
       "<div>\n",
       "<style scoped>\n",
       "    .dataframe tbody tr th:only-of-type {\n",
       "        vertical-align: middle;\n",
       "    }\n",
       "\n",
       "    .dataframe tbody tr th {\n",
       "        vertical-align: top;\n",
       "    }\n",
       "\n",
       "    .dataframe thead th {\n",
       "        text-align: right;\n",
       "    }\n",
       "</style>\n",
       "<table border=\"1\" class=\"dataframe\">\n",
       "  <thead>\n",
       "    <tr style=\"text-align: right;\">\n",
       "      <th></th>\n",
       "      <th>Sentence #</th>\n",
       "      <th>Word</th>\n",
       "      <th>Tag</th>\n",
       "    </tr>\n",
       "  </thead>\n",
       "  <tbody>\n",
       "    <tr>\n",
       "      <th>0</th>\n",
       "      <td>0</td>\n",
       "      <td>Govardhana</td>\n",
       "      <td>Name</td>\n",
       "    </tr>\n",
       "    <tr>\n",
       "      <th>1</th>\n",
       "      <td>0</td>\n",
       "      <td>K</td>\n",
       "      <td>Name</td>\n",
       "    </tr>\n",
       "    <tr>\n",
       "      <th>2</th>\n",
       "      <td>0</td>\n",
       "      <td>Senior</td>\n",
       "      <td>Profil</td>\n",
       "    </tr>\n",
       "    <tr>\n",
       "      <th>3</th>\n",
       "      <td>0</td>\n",
       "      <td>Software</td>\n",
       "      <td>Profil</td>\n",
       "    </tr>\n",
       "    <tr>\n",
       "      <th>4</th>\n",
       "      <td>0</td>\n",
       "      <td>Engineer</td>\n",
       "      <td>Profil</td>\n",
       "    </tr>\n",
       "    <tr>\n",
       "      <th>...</th>\n",
       "      <td>...</td>\n",
       "      <td>...</td>\n",
       "      <td>...</td>\n",
       "    </tr>\n",
       "    <tr>\n",
       "      <th>75425</th>\n",
       "      <td>3018</td>\n",
       "      <td>Arc</td>\n",
       "      <td>O</td>\n",
       "    </tr>\n",
       "    <tr>\n",
       "      <th>75426</th>\n",
       "      <td>3018</td>\n",
       "      <td>sight,</td>\n",
       "      <td>O</td>\n",
       "    </tr>\n",
       "    <tr>\n",
       "      <th>75427</th>\n",
       "      <td>3018</td>\n",
       "      <td>HP</td>\n",
       "      <td>O</td>\n",
       "    </tr>\n",
       "    <tr>\n",
       "      <th>75428</th>\n",
       "      <td>3018</td>\n",
       "      <td>Service</td>\n",
       "      <td>O</td>\n",
       "    </tr>\n",
       "    <tr>\n",
       "      <th>75429</th>\n",
       "      <td>3018</td>\n",
       "      <td>manager.</td>\n",
       "      <td>O</td>\n",
       "    </tr>\n",
       "  </tbody>\n",
       "</table>\n",
       "<p>75430 rows × 3 columns</p>\n",
       "</div>"
      ],
      "text/plain": [
       "       Sentence #        Word     Tag\n",
       "0               0  Govardhana    Name\n",
       "1               0           K    Name\n",
       "2               0      Senior  Profil\n",
       "3               0    Software  Profil\n",
       "4               0    Engineer  Profil\n",
       "...           ...         ...     ...\n",
       "75425        3018         Arc       O\n",
       "75426        3018      sight,       O\n",
       "75427        3018          HP       O\n",
       "75428        3018     Service       O\n",
       "75429        3018    manager.       O\n",
       "\n",
       "[75430 rows x 3 columns]"
      ]
     },
     "execution_count": 8,
     "metadata": {},
     "output_type": "execute_result"
    }
   ],
   "source": [
    "import pandas as pd\n",
    "import numpy as np\n",
    "import re\n",
    "\n",
    "from sklearn_crfsuite.metrics import flat_classification_report\n",
    "from sklearn.metrics import f1_score\n",
    "\n",
    "import matplotlib as mpl\n",
    "import matplotlib.pyplot as plt\n",
    "\n",
    "from datetime import datetime\n",
    "\n",
    "%load_ext tensorboard\n",
    "\n",
    "\n",
    "\n",
    "%matplotlib inline\n",
    "mpl.rcParams['figure.figsize'] = (12, 10)\n",
    "\n",
    "colors = plt.rcParams['axes.prop_cycle'].by_key()['color']\n",
    "\n",
    "\n",
    "pd.set_option('display.max_rows', 500)\n",
    "pd.set_option('display.max_columns', 500)\n",
    "pd.set_option('display.width', 1000)\n",
    "pd.set_option('display.max_colwidth', None)\n",
    "\n",
    "filepath = u\"./data/resume_sentence_dataset.csv\"\n",
    "\n",
    "data = pd.read_csv(filepath)\n",
    "\n",
    "data"
   ]
  },
  {
   "cell_type": "code",
   "execution_count": 18,
   "metadata": {},
   "outputs": [
    {
     "data": {
      "text/plain": [
       "Location               65524\n",
       "Profil                 65524\n",
       "Email Address          65524\n",
       "Degree                 65524\n",
       "Name                   65524\n",
       "Duration               65524\n",
       "O                      65524\n",
       "College Name           65524\n",
       "Companies worked at    65524\n",
       "Date                   65524\n",
       "Skills                 65524\n",
       "Name: Tag, dtype: int64"
      ]
     },
     "execution_count": 18,
     "metadata": {},
     "output_type": "execute_result"
    }
   ],
   "source": [
    "import math\n",
    "\n",
    "index = data.index[data['Tag'] == \"O\"]\n",
    "O_tagSize = math.ceil((len(index)*0.6))\n",
    "\n",
    "drop_indices = np.random.choice(index, O_tagSize, replace=False)\n",
    "#data = data.drop(drop_indices)\n",
    "\n",
    "data[\"Tag\"].value_counts()"
   ]
  },
  {
   "cell_type": "code",
   "execution_count": 19,
   "metadata": {},
   "outputs": [
    {
     "data": {
      "image/png": "[encoded data removed]",
      "text/plain": [
       "<Figure size 864x720 with 1 Axes>"
      ]
     },
     "metadata": {
      "needs_background": "light"
     },
     "output_type": "display_data"
    }
   ],
   "source": [
    "X = data[\"Word\"]\n",
    "y = data[\"Tag\"]\n",
    "\n",
    "\n",
    "from collections import Counter\n",
    "occ = Counter(data[\"Tag\"])\n",
    "\n",
    "plt.xticks(rotation=\"vertical\")\n",
    "plt.bar(occ.keys(), occ.values())\n",
    "plt.show()"
   ]
  },
  {
   "cell_type": "code",
   "execution_count": 5,
   "metadata": {},
   "outputs": [
    {
     "data": {
      "text/plain": [
       "11"
      ]
     },
     "execution_count": 5,
     "metadata": {},
     "output_type": "execute_result"
    }
   ],
   "source": [
    "max_len = 50\n",
    "tags = list(set(data[\"Tag\"].values))\n",
    "n_tags = len(tags); n_tags"
   ]
  },
  {
   "cell_type": "code",
   "execution_count": 6,
   "metadata": {},
   "outputs": [
    {
     "data": {
      "text/plain": [
       "14728"
      ]
     },
     "execution_count": 6,
     "metadata": {},
     "output_type": "execute_result"
    }
   ],
   "source": [
    "words = list(set(data[\"Word\"].values))\n",
    "words.append(\"ENDPAD\")\n",
    "len(data[\"Word\"])\n",
    "n_words = len(words); n_words\n"
   ]
  },
  {
   "cell_type": "code",
   "execution_count": 7,
   "metadata": {},
   "outputs": [],
   "source": [
    "class SentenceGetter(object):\n",
    "    \n",
    "    def __init__(self, data):\n",
    "        self.n_sent = 1\n",
    "        self.data = data\n",
    "        self.empty = False\n",
    "        agg_func = lambda s: [(w,t) for w, t in zip(s[\"Word\"].values.tolist(),s[\"Tag\"].values.tolist())]\n",
    "        self.grouped = self.data.groupby(\"Sentence #\").apply(agg_func)\n",
    "        self.sentences = [s for s in self.grouped]\n",
    "    \n",
    "    def get_next(self):\n",
    "        try:\n",
    "            s = self.grouped[self.n_sent]\n",
    "            print(s)\n",
    "            self.n_sent += 1\n",
    "            return s\n",
    "        except:\n",
    "            return None\n",
    "        \n",
    "getter = SentenceGetter(data)"
   ]
  },
  {
   "cell_type": "code",
   "execution_count": 8,
   "metadata": {},
   "outputs": [],
   "source": [
    "sentences = getter.sentences"
   ]
  },
  {
   "cell_type": "code",
   "execution_count": 24,
   "metadata": {},
   "outputs": [],
   "source": [
    "#pad word to a length of 50 (why ? Keras need to have same length for each input in the neural net)\n",
    "max_len = 50\n",
    "word2idx = {w: i for i, w in enumerate(words)}\n",
    "tag2idx = {t: i for i, t in enumerate(tags)}"
   ]
  },
  {
   "cell_type": "code",
   "execution_count": 25,
   "metadata": {},
   "outputs": [],
   "source": [
    "from keras.preprocessing.sequence import pad_sequences\n",
    "\n",
    "X = [[word2idx[w[0]] for w in s] for s in sentences]\n",
    "y = [[tag2idx[w[1]] for w in s] for s in sentences]\n",
    "\n",
    "\n",
    "idx2word = {i: w for w, i in word2idx.items()}\n",
    "\n",
    "idx2tag = {i: w for w, i in tag2idx.items()}\n",
    "\n",
    "\n",
    "X = pad_sequences(maxlen=max_len, sequences=X, padding=\"post\", value=n_words - 1)\n",
    "y = pad_sequences(maxlen=max_len, sequences=y, padding=\"post\", value=0)"
   ]
  },
  {
   "cell_type": "code",
   "execution_count": 26,
   "metadata": {},
   "outputs": [],
   "source": [
    "# change label to categorical\n",
    "from keras.utils import to_categorical\n",
    "y = [to_categorical(i, num_classes=n_tags) for i in y]"
   ]
  },
  {
   "cell_type": "code",
   "execution_count": 27,
   "metadata": {},
   "outputs": [
    {
     "name": "stdout",
     "output_type": "stream",
     "text": [
      "20181 8650 20181 8650\n"
     ]
    }
   ],
   "source": [
    "\n",
    "# split dataset into train (input & label) test (input & label)\n",
    "from sklearn.model_selection import train_test_split\n",
    "\n",
    "X_tr, X_te, y_tr, y_te = train_test_split(X, y, test_size=0.3)\n",
    "print(len(X_tr), len(X_te), len(y_tr), len(y_te))\n"
   ]
  },
  {
   "cell_type": "code",
   "execution_count": null,
   "metadata": {},
   "outputs": [],
   "source": []
  },
  {
   "cell_type": "code",
   "execution_count": 28,
   "metadata": {},
   "outputs": [],
   "source": [
    "import keras\n",
    "from keras_contrib.layers import CRF\n",
    "from keras_contrib import metrics,losses\n",
    "\n",
    "\n",
    "logdir = \"logs/scalars/\" + datetime.now().strftime(\"%Y%m%d-%H%M%S\")\n",
    "tensorboard_callback = keras.callbacks.TensorBoard(log_dir=logdir)"
   ]
  },
  {
   "cell_type": "code",
   "execution_count": 29,
   "metadata": {
    "scrolled": true
   },
   "outputs": [
    {
     "data": {
      "text/plain": [
       "2414"
      ]
     },
     "execution_count": 29,
     "metadata": {},
     "output_type": "execute_result"
    }
   ],
   "source": [
    "import gensim\n",
    "word_vectors  = gensim.models.Word2Vec.load(\"saved_model/word2vecEmbedding\").wv\n",
    "\n",
    "MAX_NB_WORDS = len(word_vectors.vocab)\n",
    "WV_DIM = 50\n",
    "\n",
    "nb_words = min(MAX_NB_WORDS, len(word_vectors.vocab))\n",
    "\n",
    "# we initialize the matrix with random numbers\n",
    "wv_matrix = (np.random.rand(n_words, WV_DIM) - 0.5) / 5.0\n",
    "for word, i in word2idx.items():\n",
    "    if i >= MAX_NB_WORDS:\n",
    "        continue\n",
    "    try:\n",
    "        embedding_vector = word_vectors[word]\n",
    "        # words not found in embedding index will be all-zeros.\n",
    "        wv_matrix[i] = embedding_vector\n",
    "    except:\n",
    "        pass\n",
    "len(word_vectors.vocab)"
   ]
  },
  {
   "cell_type": "code",
   "execution_count": null,
   "metadata": {},
   "outputs": [],
   "source": []
  },
  {
   "cell_type": "code",
   "execution_count": 30,
   "metadata": {},
   "outputs": [
    {
     "name": "stdout",
     "output_type": "stream",
     "text": [
      "Model: \"model_2\"\n",
      "_________________________________________________________________\n",
      "Layer (type)                 Output Shape              Param #   \n",
      "=================================================================\n",
      "input_2 (InputLayer)         (None, 50)                0         \n",
      "_________________________________________________________________\n",
      "embedding_2 (Embedding)      (None, 50, 50)            736500    \n",
      "_________________________________________________________________\n",
      "spatial_dropout1d_2 (Spatial (None, 50, 50)            0         \n",
      "_________________________________________________________________\n",
      "bidirectional_2 (Bidirection (None, 50, 200)           120800    \n",
      "_________________________________________________________________\n",
      "crf_2 (CRF)                  (None, 50, 11)            2354      \n",
      "=================================================================\n",
      "Total params: 859,654\n",
      "Trainable params: 859,654\n",
      "Non-trainable params: 0\n",
      "_________________________________________________________________\n"
     ]
    }
   ],
   "source": [
    "from keras.models import Model, Input\n",
    "from keras.layers import LSTM, Embedding, Dense, TimeDistributed, Dropout, Bidirectional,SpatialDropout1D\n",
    "from keras.layers.normalization import BatchNormalization\n",
    "\n",
    "\n",
    "embedding_layer = Embedding(n_words,\n",
    "                     WV_DIM,\n",
    "                     mask_zero=False,\n",
    "                     weights=[wv_matrix],\n",
    "                     input_length=50,\n",
    "                     trainable=False)\n",
    "\n",
    "input = Input(shape=(max_len,))\n",
    "model = embedding_layer(input)\n",
    "model = SpatialDropout1D(0.2)(model)\n",
    "model = Bidirectional(LSTM(units=100, return_sequences=True, recurrent_dropout=0.2))(model)  # variational biLSTM\n",
    "out = TimeDistributed(Dense(n_tags, activation=\"softmax\"))(model)  # softmax output layer\n",
    "\n",
    "crf = CRF(n_tags)\n",
    "out = crf(model)\n",
    "\n",
    "model = Model(input, out)\n",
    "model.summary()\n"
   ]
  },
  {
   "cell_type": "code",
   "execution_count": 31,
   "metadata": {
    "scrolled": true
   },
   "outputs": [],
   "source": [
    "model.compile(optimizer=\"rmsprop\", loss=losses.crf_loss, metrics=[metrics.crf_accuracy])"
   ]
  },
  {
   "cell_type": "code",
   "execution_count": 41,
   "metadata": {
    "scrolled": false
   },
   "outputs": [
    {
     "name": "stdout",
     "output_type": "stream",
     "text": [
      "Train on 14126 samples, validate on 6055 samples\n",
      "Epoch 1/5\n",
      "14126/14126 [==============================] - 61s 4ms/step - loss: 0.0175 - crf_accuracy: 0.9958 - val_loss: 0.0154 - val_crf_accuracy: 0.9954\n",
      "Epoch 2/5\n",
      "14126/14126 [==============================] - 65s 5ms/step - loss: 0.0133 - crf_accuracy: 0.9964 - val_loss: 0.0127 - val_crf_accuracy: 0.9964\n",
      "Epoch 3/5\n",
      "14126/14126 [==============================] - 66s 5ms/step - loss: 0.0107 - crf_accuracy: 0.9971 - val_loss: 0.0103 - val_crf_accuracy: 0.9968\n",
      "Epoch 4/5\n",
      "14126/14126 [==============================] - 65s 5ms/step - loss: 0.0086 - crf_accuracy: 0.9974 - val_loss: 0.0086 - val_crf_accuracy: 0.9971\n",
      "Epoch 5/5\n",
      "14126/14126 [==============================] - 67s 5ms/step - loss: 0.0067 - crf_accuracy: 0.9977 - val_loss: 0.0071 - val_crf_accuracy: 0.9971\n"
     ]
    }
   ],
   "source": [
    "history = model.fit(X_tr, np.array(y_tr), batch_size=256, epochs=5, validation_split=0.3, verbose=1,shuffle=True,class_weight=value)"
   ]
  },
  {
   "cell_type": "code",
   "execution_count": 34,
   "metadata": {},
   "outputs": [
    {
     "data": {
      "image/png": "[encoded data removed]",
      "text/plain": [
       "<Figure size 864x720 with 4 Axes>"
      ]
     },
     "metadata": {
      "needs_background": "light"
     },
     "output_type": "display_data"
    }
   ],
   "source": [
    "def plot_metrics(history):\n",
    "    metrics =  ['val_loss', 'val_crf_accuracy', 'loss', 'crf_accuracy']\n",
    "    for n, metric in enumerate(metrics):\n",
    "        name = metric.replace(\"_\",\" \").capitalize()\n",
    "        plt.subplot(2,2,n+1)\n",
    "        plt.plot(history.epoch,  history.history[metric], color=colors[0], label='Train')\n",
    "        plt.plot(history.epoch, history.history[metric],\n",
    "             color=colors[0], linestyle=\"--\", label='Val')\n",
    "        plt.xlabel('Epoch')\n",
    "        plt.ylabel(name)\n",
    "        if metric == 'loss':\n",
    "              plt.ylim([0, plt.ylim()[1]])\n",
    "        elif metric == 'auc':\n",
    "              plt.ylim([0.8,1])\n",
    "        else:\n",
    "              plt.ylim([0,1])\n",
    "\n",
    "    plt.legend()\n",
    "plot_metrics(history)"
   ]
  },
  {
   "cell_type": "code",
   "execution_count": 42,
   "metadata": {},
   "outputs": [
    {
     "name": "stdout",
     "output_type": "stream",
     "text": [
      "8650/8650 [==============================] - 19s 2ms/step\n",
      "F1-score: 99.0%\n",
      "                     precision    recall  f1-score   support\n",
      "\n",
      "             Profil       0.95      0.92      0.93       895\n",
      "           Duration       1.00      1.00      1.00      8665\n",
      "           Location       0.98      0.97      0.98       912\n",
      "      Email Address       1.00      1.00      1.00     19885\n",
      "               Name       0.99      0.98      0.98       818\n",
      "             Skills       0.98      1.00      0.99     20196\n",
      "             Degree       0.96      0.95      0.95       847\n",
      "               Date       0.98      0.94      0.96       810\n",
      "Companies worked at       0.96      0.91      0.93       916\n",
      "       College Name       0.95      0.93      0.94       842\n",
      "\n",
      "          micro avg       0.99      0.99      0.99     54786\n",
      "          macro avg       0.99      0.99      0.99     54786\n",
      "\n"
     ]
    }
   ],
   "source": [
    "from seqeval.metrics import precision_score, recall_score, f1_score, classification_report\n",
    "\n",
    "idx2tag = {i: w for w, i in tag2idx.items()}\n",
    "\n",
    "def pred2label(pred):\n",
    "    out = []\n",
    "    for pred_i in pred:\n",
    "        out_i = []\n",
    "        for p in pred_i:\n",
    "            p_i = np.argmax(p)\n",
    "            out_i.append(idx2tag[p_i])\n",
    "        out.append(out_i)\n",
    "    return out\n",
    "\n",
    "\n",
    "y_pred = model.predict(X_te,verbose=1)\n",
    "\n",
    "pred_labels = pred2label(y_pred)\n",
    "test_labels = pred2label(y_te)\n",
    "\n",
    "print(\"F1-score: {:.1%}\".format(f1_score(test_labels, pred_labels)))\n",
    " \n",
    "print(classification_report(test_labels, pred_labels))"
   ]
  },
  {
   "cell_type": "code",
   "execution_count": 36,
   "metadata": {},
   "outputs": [
    {
     "name": "stdout",
     "output_type": "stream",
     "text": [
      "Word           ||Prediction\n",
      "==============================\n",
      "Developer      : O    \n",
      "in             : O    \n",
      "HTML5          : O    \n",
      ",              : O    \n",
      "JavaScript     : O    \n",
      "and            : O    \n",
      "CSS3           : O    \n",
      "(Examen 70-480): O    \n",
      "Oracle         : O    \n",
      ".              : O    \n",
      "Developer      : O    \n",
      "Java           : O    \n",
      "Programmer     : O    \n",
      "2012           : O    \n",
      "to             : O    \n",
      "2013           : O    \n"
     ]
    }
   ],
   "source": [
    "\n",
    "##overfitted model no good\n",
    "\n",
    "test_sentence = [\"Developer\" ,\"in\", \"HTML5\", \",\", \"JavaScript\", \"and\", \"CSS3\", \"(Examen 70-480)\"\n",
    "                ,\"Oracle\", \".\",\"Developer\" ,\"Java\", \"Programmer\",\"2012\",\"to\",\"2013\"]\n",
    "\n",
    "x_test_sent = pad_sequences(sequences=[[word2idx.get(w, 0) for w in test_sentence]],\n",
    "                            padding=\"post\", value=0, maxlen=max_len)\n",
    "p = model.predict(np.array([x_test_sent[0]]))\n",
    "\n",
    "p = np.argmax(p, axis=-1)\n",
    "print(\"{:15}||{}\".format(\"Word\", \"Prediction\"))\n",
    "print(30 * \"=\")\n",
    "for w, pred in zip(test_sentence, p[0]):\n",
    "    print(\"{:15}: {:5}\".format(w, tags[pred]))\n",
    "    \n",
    "    \n"
   ]
  },
  {
   "cell_type": "code",
   "execution_count": 37,
   "metadata": {},
   "outputs": [
    {
     "name": "stdout",
     "output_type": "stream",
     "text": [
      "[0.98477529 0.9927686  1.0036304  1.00253353 1.00915092 1.02608298\n",
      " 0.98371923 0.99008978 1.00472966 1.00253353 1.00143906]\n"
     ]
    }
   ],
   "source": [
    "## compute weight for regularization\n",
    "from sklearn.utils import class_weight\n",
    "\n",
    "y_ints = [y.argmax() for y in y_tr]\n",
    "value = class_weight.compute_class_weight('balanced',np.unique(y_ints),y_ints)\n",
    "\n",
    "print(value)"
   ]
  },
  {
   "cell_type": "code",
   "execution_count": 38,
   "metadata": {},
   "outputs": [
    {
     "name": "stdout",
     "output_type": "stream",
     "text": [
      "Model: \"model_3\"\n",
      "_________________________________________________________________\n",
      "Layer (type)                 Output Shape              Param #   \n",
      "=================================================================\n",
      "input_3 (InputLayer)         (None, 50)                0         \n",
      "_________________________________________________________________\n",
      "embedding_2 (Embedding)      (None, 50, 50)            736500    \n",
      "_________________________________________________________________\n",
      "bidirectional_3 (Bidirection (None, 50, 128)           58880     \n",
      "_________________________________________________________________\n",
      "crf_3 (CRF)                  (None, 50, 11)            1562      \n",
      "=================================================================\n",
      "Total params: 796,942\n",
      "Trainable params: 796,942\n",
      "Non-trainable params: 0\n",
      "_________________________________________________________________\n"
     ]
    },
    {
     "name": "stderr",
     "output_type": "stream",
     "text": [
      "C:\\Users\\Cheikh\\Anaconda3\\envs\\tensorflow\\lib\\site-packages\\keras_contrib\\layers\\crf.py:346: UserWarning: CRF.loss_function is deprecated and it might be removed in the future. Please use losses.crf_loss instead.\n",
      "  warnings.warn('CRF.loss_function is deprecated '\n",
      "C:\\Users\\Cheikh\\Anaconda3\\envs\\tensorflow\\lib\\site-packages\\keras_contrib\\layers\\crf.py:353: UserWarning: CRF.accuracy is deprecated and it might be removed in the future. Please use metrics.crf_accuracy\n",
      "  warnings.warn('CRF.accuracy is deprecated and it '\n",
      "C:\\Users\\Cheikh\\Anaconda3\\envs\\tensorflow\\lib\\site-packages\\tensorflow_core\\python\\framework\\indexed_slices.py:433: UserWarning: Converting sparse IndexedSlices to a dense Tensor of unknown shape. This may consume a large amount of memory.\n",
      "  \"Converting sparse IndexedSlices to a dense Tensor of unknown shape. \"\n"
     ]
    },
    {
     "name": "stdout",
     "output_type": "stream",
     "text": [
      "Train on 18162 samples, validate on 2019 samples\n",
      "Epoch 1/5\n",
      "18162/18162 [==============================] - 37s 2ms/step - loss: 0.7538 - crf_viterbi_accuracy: 0.8077 - val_loss: 0.1606 - val_crf_viterbi_accuracy: 0.9752\n",
      "Epoch 2/5\n",
      "18162/18162 [==============================] - 37s 2ms/step - loss: 0.0719 - crf_viterbi_accuracy: 0.9905 - val_loss: 0.0374 - val_crf_viterbi_accuracy: 0.9923\n",
      "Epoch 3/5\n",
      "18162/18162 [==============================] - 40s 2ms/step - loss: 0.0239 - crf_viterbi_accuracy: 0.9948 - val_loss: 0.0212 - val_crf_viterbi_accuracy: 0.9939\n",
      "Epoch 4/5\n",
      "15104/18162 [=======================>......] - ETA: 6s - loss: 0.0130 - crf_viterbi_accuracy: 0.9958"
     ]
    },
    {
     "ename": "KeyboardInterrupt",
     "evalue": "",
     "output_type": "error",
     "traceback": [
      "\u001b[1;31m---------------------------------------------------------------------------\u001b[0m",
      "\u001b[1;31mKeyboardInterrupt\u001b[0m                         Traceback (most recent call last)",
      "\u001b[1;32m<ipython-input-38-1046d2f25904>\u001b[0m in \u001b[0;36m<module>\u001b[1;34m\u001b[0m\n\u001b[0;32m     15\u001b[0m \u001b[1;33m\u001b[0m\u001b[0m\n\u001b[0;32m     16\u001b[0m \u001b[0mmodel2\u001b[0m\u001b[1;33m.\u001b[0m\u001b[0mcompile\u001b[0m\u001b[1;33m(\u001b[0m\u001b[0moptimizer\u001b[0m\u001b[1;33m=\u001b[0m\u001b[1;34m\"rmsprop\"\u001b[0m\u001b[1;33m,\u001b[0m \u001b[0mloss\u001b[0m\u001b[1;33m=\u001b[0m\u001b[0mcrf\u001b[0m\u001b[1;33m.\u001b[0m\u001b[0mloss_function\u001b[0m\u001b[1;33m,\u001b[0m \u001b[0mmetrics\u001b[0m\u001b[1;33m=\u001b[0m\u001b[1;33m[\u001b[0m\u001b[0mcrf\u001b[0m\u001b[1;33m.\u001b[0m\u001b[0maccuracy\u001b[0m\u001b[1;33m]\u001b[0m\u001b[1;33m)\u001b[0m\u001b[1;33m\u001b[0m\u001b[1;33m\u001b[0m\u001b[0m\n\u001b[1;32m---> 17\u001b[1;33m \u001b[0mhistory\u001b[0m \u001b[1;33m=\u001b[0m \u001b[0mmodel2\u001b[0m\u001b[1;33m.\u001b[0m\u001b[0mfit\u001b[0m\u001b[1;33m(\u001b[0m\u001b[0mX_tr\u001b[0m\u001b[1;33m,\u001b[0m \u001b[0mnp\u001b[0m\u001b[1;33m.\u001b[0m\u001b[0marray\u001b[0m\u001b[1;33m(\u001b[0m\u001b[0my_tr\u001b[0m\u001b[1;33m)\u001b[0m\u001b[1;33m,\u001b[0m \u001b[0mbatch_size\u001b[0m\u001b[1;33m=\u001b[0m\u001b[1;36m256\u001b[0m\u001b[1;33m,\u001b[0m \u001b[0mepochs\u001b[0m\u001b[1;33m=\u001b[0m\u001b[1;36m5\u001b[0m\u001b[1;33m,\u001b[0m \u001b[0mvalidation_split\u001b[0m\u001b[1;33m=\u001b[0m\u001b[1;36m0.1\u001b[0m\u001b[1;33m,\u001b[0m \u001b[0mverbose\u001b[0m\u001b[1;33m=\u001b[0m\u001b[1;36m1\u001b[0m\u001b[1;33m,\u001b[0m\u001b[0mshuffle\u001b[0m\u001b[1;33m=\u001b[0m\u001b[1;32mTrue\u001b[0m\u001b[1;33m,\u001b[0m\u001b[0mclass_weight\u001b[0m\u001b[1;33m=\u001b[0m\u001b[0mvalue\u001b[0m\u001b[1;33m)\u001b[0m\u001b[1;33m\u001b[0m\u001b[1;33m\u001b[0m\u001b[0m\n\u001b[0m",
      "\u001b[1;32m~\\Anaconda3\\envs\\tensorflow\\lib\\site-packages\\keras\\engine\\training.py\u001b[0m in \u001b[0;36mfit\u001b[1;34m(self, x, y, batch_size, epochs, verbose, callbacks, validation_split, validation_data, shuffle, class_weight, sample_weight, initial_epoch, steps_per_epoch, validation_steps, validation_freq, max_queue_size, workers, use_multiprocessing, **kwargs)\u001b[0m\n\u001b[0;32m   1237\u001b[0m                                         \u001b[0msteps_per_epoch\u001b[0m\u001b[1;33m=\u001b[0m\u001b[0msteps_per_epoch\u001b[0m\u001b[1;33m,\u001b[0m\u001b[1;33m\u001b[0m\u001b[1;33m\u001b[0m\u001b[0m\n\u001b[0;32m   1238\u001b[0m                                         \u001b[0mvalidation_steps\u001b[0m\u001b[1;33m=\u001b[0m\u001b[0mvalidation_steps\u001b[0m\u001b[1;33m,\u001b[0m\u001b[1;33m\u001b[0m\u001b[1;33m\u001b[0m\u001b[0m\n\u001b[1;32m-> 1239\u001b[1;33m                                         validation_freq=validation_freq)\n\u001b[0m\u001b[0;32m   1240\u001b[0m \u001b[1;33m\u001b[0m\u001b[0m\n\u001b[0;32m   1241\u001b[0m     def evaluate(self,\n",
      "\u001b[1;32m~\\Anaconda3\\envs\\tensorflow\\lib\\site-packages\\keras\\engine\\training_arrays.py\u001b[0m in \u001b[0;36mfit_loop\u001b[1;34m(model, fit_function, fit_inputs, out_labels, batch_size, epochs, verbose, callbacks, val_function, val_inputs, shuffle, initial_epoch, steps_per_epoch, validation_steps, validation_freq)\u001b[0m\n\u001b[0;32m    194\u001b[0m                     \u001b[0mins_batch\u001b[0m\u001b[1;33m[\u001b[0m\u001b[0mi\u001b[0m\u001b[1;33m]\u001b[0m \u001b[1;33m=\u001b[0m \u001b[0mins_batch\u001b[0m\u001b[1;33m[\u001b[0m\u001b[0mi\u001b[0m\u001b[1;33m]\u001b[0m\u001b[1;33m.\u001b[0m\u001b[0mtoarray\u001b[0m\u001b[1;33m(\u001b[0m\u001b[1;33m)\u001b[0m\u001b[1;33m\u001b[0m\u001b[1;33m\u001b[0m\u001b[0m\n\u001b[0;32m    195\u001b[0m \u001b[1;33m\u001b[0m\u001b[0m\n\u001b[1;32m--> 196\u001b[1;33m                 \u001b[0mouts\u001b[0m \u001b[1;33m=\u001b[0m \u001b[0mfit_function\u001b[0m\u001b[1;33m(\u001b[0m\u001b[0mins_batch\u001b[0m\u001b[1;33m)\u001b[0m\u001b[1;33m\u001b[0m\u001b[1;33m\u001b[0m\u001b[0m\n\u001b[0m\u001b[0;32m    197\u001b[0m                 \u001b[0mouts\u001b[0m \u001b[1;33m=\u001b[0m \u001b[0mto_list\u001b[0m\u001b[1;33m(\u001b[0m\u001b[0mouts\u001b[0m\u001b[1;33m)\u001b[0m\u001b[1;33m\u001b[0m\u001b[1;33m\u001b[0m\u001b[0m\n\u001b[0;32m    198\u001b[0m                 \u001b[1;32mfor\u001b[0m \u001b[0ml\u001b[0m\u001b[1;33m,\u001b[0m \u001b[0mo\u001b[0m \u001b[1;32min\u001b[0m \u001b[0mzip\u001b[0m\u001b[1;33m(\u001b[0m\u001b[0mout_labels\u001b[0m\u001b[1;33m,\u001b[0m \u001b[0mouts\u001b[0m\u001b[1;33m)\u001b[0m\u001b[1;33m:\u001b[0m\u001b[1;33m\u001b[0m\u001b[1;33m\u001b[0m\u001b[0m\n",
      "\u001b[1;32m~\\Anaconda3\\envs\\tensorflow\\lib\\site-packages\\tensorflow_core\\python\\keras\\backend.py\u001b[0m in \u001b[0;36m__call__\u001b[1;34m(self, inputs)\u001b[0m\n\u001b[0;32m   3725\u001b[0m         \u001b[0mvalue\u001b[0m \u001b[1;33m=\u001b[0m \u001b[0mmath_ops\u001b[0m\u001b[1;33m.\u001b[0m\u001b[0mcast\u001b[0m\u001b[1;33m(\u001b[0m\u001b[0mvalue\u001b[0m\u001b[1;33m,\u001b[0m \u001b[0mtensor\u001b[0m\u001b[1;33m.\u001b[0m\u001b[0mdtype\u001b[0m\u001b[1;33m)\u001b[0m\u001b[1;33m\u001b[0m\u001b[1;33m\u001b[0m\u001b[0m\n\u001b[0;32m   3726\u001b[0m       \u001b[0mconverted_inputs\u001b[0m\u001b[1;33m.\u001b[0m\u001b[0mappend\u001b[0m\u001b[1;33m(\u001b[0m\u001b[0mvalue\u001b[0m\u001b[1;33m)\u001b[0m\u001b[1;33m\u001b[0m\u001b[1;33m\u001b[0m\u001b[0m\n\u001b[1;32m-> 3727\u001b[1;33m     \u001b[0moutputs\u001b[0m \u001b[1;33m=\u001b[0m \u001b[0mself\u001b[0m\u001b[1;33m.\u001b[0m\u001b[0m_graph_fn\u001b[0m\u001b[1;33m(\u001b[0m\u001b[1;33m*\u001b[0m\u001b[0mconverted_inputs\u001b[0m\u001b[1;33m)\u001b[0m\u001b[1;33m\u001b[0m\u001b[1;33m\u001b[0m\u001b[0m\n\u001b[0m\u001b[0;32m   3728\u001b[0m \u001b[1;33m\u001b[0m\u001b[0m\n\u001b[0;32m   3729\u001b[0m     \u001b[1;31m# EagerTensor.numpy() will often make a copy to ensure memory safety.\u001b[0m\u001b[1;33m\u001b[0m\u001b[1;33m\u001b[0m\u001b[1;33m\u001b[0m\u001b[0m\n",
      "\u001b[1;32m~\\Anaconda3\\envs\\tensorflow\\lib\\site-packages\\tensorflow_core\\python\\eager\\function.py\u001b[0m in \u001b[0;36m__call__\u001b[1;34m(self, *args, **kwargs)\u001b[0m\n\u001b[0;32m   1549\u001b[0m       \u001b[0mTypeError\u001b[0m\u001b[1;33m:\u001b[0m \u001b[0mFor\u001b[0m \u001b[0minvalid\u001b[0m \u001b[0mpositional\u001b[0m\u001b[1;33m/\u001b[0m\u001b[0mkeyword\u001b[0m \u001b[0margument\u001b[0m \u001b[0mcombinations\u001b[0m\u001b[1;33m.\u001b[0m\u001b[1;33m\u001b[0m\u001b[1;33m\u001b[0m\u001b[0m\n\u001b[0;32m   1550\u001b[0m     \"\"\"\n\u001b[1;32m-> 1551\u001b[1;33m     \u001b[1;32mreturn\u001b[0m \u001b[0mself\u001b[0m\u001b[1;33m.\u001b[0m\u001b[0m_call_impl\u001b[0m\u001b[1;33m(\u001b[0m\u001b[0margs\u001b[0m\u001b[1;33m,\u001b[0m \u001b[0mkwargs\u001b[0m\u001b[1;33m)\u001b[0m\u001b[1;33m\u001b[0m\u001b[1;33m\u001b[0m\u001b[0m\n\u001b[0m\u001b[0;32m   1552\u001b[0m \u001b[1;33m\u001b[0m\u001b[0m\n\u001b[0;32m   1553\u001b[0m   \u001b[1;32mdef\u001b[0m \u001b[0m_call_impl\u001b[0m\u001b[1;33m(\u001b[0m\u001b[0mself\u001b[0m\u001b[1;33m,\u001b[0m \u001b[0margs\u001b[0m\u001b[1;33m,\u001b[0m \u001b[0mkwargs\u001b[0m\u001b[1;33m,\u001b[0m \u001b[0mcancellation_manager\u001b[0m\u001b[1;33m=\u001b[0m\u001b[1;32mNone\u001b[0m\u001b[1;33m)\u001b[0m\u001b[1;33m:\u001b[0m\u001b[1;33m\u001b[0m\u001b[1;33m\u001b[0m\u001b[0m\n",
      "\u001b[1;32m~\\Anaconda3\\envs\\tensorflow\\lib\\site-packages\\tensorflow_core\\python\\eager\\function.py\u001b[0m in \u001b[0;36m_call_impl\u001b[1;34m(self, args, kwargs, cancellation_manager)\u001b[0m\n\u001b[0;32m   1589\u001b[0m       raise TypeError(\"Keyword arguments {} unknown. Expected {}.\".format(\n\u001b[0;32m   1590\u001b[0m           list(kwargs.keys()), list(self._arg_keywords)))\n\u001b[1;32m-> 1591\u001b[1;33m     \u001b[1;32mreturn\u001b[0m \u001b[0mself\u001b[0m\u001b[1;33m.\u001b[0m\u001b[0m_call_flat\u001b[0m\u001b[1;33m(\u001b[0m\u001b[0margs\u001b[0m\u001b[1;33m,\u001b[0m \u001b[0mself\u001b[0m\u001b[1;33m.\u001b[0m\u001b[0mcaptured_inputs\u001b[0m\u001b[1;33m,\u001b[0m \u001b[0mcancellation_manager\u001b[0m\u001b[1;33m)\u001b[0m\u001b[1;33m\u001b[0m\u001b[1;33m\u001b[0m\u001b[0m\n\u001b[0m\u001b[0;32m   1592\u001b[0m \u001b[1;33m\u001b[0m\u001b[0m\n\u001b[0;32m   1593\u001b[0m   \u001b[1;32mdef\u001b[0m \u001b[0m_filtered_call\u001b[0m\u001b[1;33m(\u001b[0m\u001b[0mself\u001b[0m\u001b[1;33m,\u001b[0m \u001b[0margs\u001b[0m\u001b[1;33m,\u001b[0m \u001b[0mkwargs\u001b[0m\u001b[1;33m)\u001b[0m\u001b[1;33m:\u001b[0m\u001b[1;33m\u001b[0m\u001b[1;33m\u001b[0m\u001b[0m\n",
      "\u001b[1;32m~\\Anaconda3\\envs\\tensorflow\\lib\\site-packages\\tensorflow_core\\python\\eager\\function.py\u001b[0m in \u001b[0;36m_call_flat\u001b[1;34m(self, args, captured_inputs, cancellation_manager)\u001b[0m\n\u001b[0;32m   1690\u001b[0m       \u001b[1;31m# No tape is watching; skip to running the function.\u001b[0m\u001b[1;33m\u001b[0m\u001b[1;33m\u001b[0m\u001b[1;33m\u001b[0m\u001b[0m\n\u001b[0;32m   1691\u001b[0m       return self._build_call_outputs(self._inference_function.call(\n\u001b[1;32m-> 1692\u001b[1;33m           ctx, args, cancellation_manager=cancellation_manager))\n\u001b[0m\u001b[0;32m   1693\u001b[0m     forward_backward = self._select_forward_and_backward_functions(\n\u001b[0;32m   1694\u001b[0m         \u001b[0margs\u001b[0m\u001b[1;33m,\u001b[0m\u001b[1;33m\u001b[0m\u001b[1;33m\u001b[0m\u001b[0m\n",
      "\u001b[1;32m~\\Anaconda3\\envs\\tensorflow\\lib\\site-packages\\tensorflow_core\\python\\eager\\function.py\u001b[0m in \u001b[0;36mcall\u001b[1;34m(self, ctx, args, cancellation_manager)\u001b[0m\n\u001b[0;32m    543\u001b[0m               \u001b[0minputs\u001b[0m\u001b[1;33m=\u001b[0m\u001b[0margs\u001b[0m\u001b[1;33m,\u001b[0m\u001b[1;33m\u001b[0m\u001b[1;33m\u001b[0m\u001b[0m\n\u001b[0;32m    544\u001b[0m               \u001b[0mattrs\u001b[0m\u001b[1;33m=\u001b[0m\u001b[1;33m(\u001b[0m\u001b[1;34m\"executor_type\"\u001b[0m\u001b[1;33m,\u001b[0m \u001b[0mexecutor_type\u001b[0m\u001b[1;33m,\u001b[0m \u001b[1;34m\"config_proto\"\u001b[0m\u001b[1;33m,\u001b[0m \u001b[0mconfig\u001b[0m\u001b[1;33m)\u001b[0m\u001b[1;33m,\u001b[0m\u001b[1;33m\u001b[0m\u001b[1;33m\u001b[0m\u001b[0m\n\u001b[1;32m--> 545\u001b[1;33m               ctx=ctx)\n\u001b[0m\u001b[0;32m    546\u001b[0m         \u001b[1;32melse\u001b[0m\u001b[1;33m:\u001b[0m\u001b[1;33m\u001b[0m\u001b[1;33m\u001b[0m\u001b[0m\n\u001b[0;32m    547\u001b[0m           outputs = execute.execute_with_cancellation(\n",
      "\u001b[1;32m~\\Anaconda3\\envs\\tensorflow\\lib\\site-packages\\tensorflow_core\\python\\eager\\execute.py\u001b[0m in \u001b[0;36mquick_execute\u001b[1;34m(op_name, num_outputs, inputs, attrs, ctx, name)\u001b[0m\n\u001b[0;32m     59\u001b[0m     tensors = pywrap_tensorflow.TFE_Py_Execute(ctx._handle, device_name,\n\u001b[0;32m     60\u001b[0m                                                \u001b[0mop_name\u001b[0m\u001b[1;33m,\u001b[0m \u001b[0minputs\u001b[0m\u001b[1;33m,\u001b[0m \u001b[0mattrs\u001b[0m\u001b[1;33m,\u001b[0m\u001b[1;33m\u001b[0m\u001b[1;33m\u001b[0m\u001b[0m\n\u001b[1;32m---> 61\u001b[1;33m                                                num_outputs)\n\u001b[0m\u001b[0;32m     62\u001b[0m   \u001b[1;32mexcept\u001b[0m \u001b[0mcore\u001b[0m\u001b[1;33m.\u001b[0m\u001b[0m_NotOkStatusException\u001b[0m \u001b[1;32mas\u001b[0m \u001b[0me\u001b[0m\u001b[1;33m:\u001b[0m\u001b[1;33m\u001b[0m\u001b[1;33m\u001b[0m\u001b[0m\n\u001b[0;32m     63\u001b[0m     \u001b[1;32mif\u001b[0m \u001b[0mname\u001b[0m \u001b[1;32mis\u001b[0m \u001b[1;32mnot\u001b[0m \u001b[1;32mNone\u001b[0m\u001b[1;33m:\u001b[0m\u001b[1;33m\u001b[0m\u001b[1;33m\u001b[0m\u001b[0m\n",
      "\u001b[1;31mKeyboardInterrupt\u001b[0m: "
     ]
    }
   ],
   "source": [
    "from keras.models import Model, Input\n",
    "from keras.layers import LSTM, Embedding, Dense, TimeDistributed, Dropout, Bidirectional\n",
    "\n",
    "\n",
    "\n",
    "input = Input(shape=(max_len,))\n",
    "model2 = embedding_layer(input)\n",
    "model2 = Bidirectional(LSTM(units=64, return_sequences=True))(model2)  # variational biLSTM\n",
    "out = TimeDistributed(Dense(n_tags, activation=\"softmax\"))(model2)  # softmax output layer\n",
    "crf = CRF(n_tags)\n",
    "out = crf(model2)\n",
    "\n",
    "model2 = Model(input, out)\n",
    "model2.summary()\n",
    "\n",
    "model2.compile(optimizer=\"rmsprop\", loss=crf.loss_function, metrics=[crf.accuracy])\n",
    "history = model2.fit(X_tr, np.array(y_tr), batch_size=256, epochs=5, validation_split=0.1, verbose=1,shuffle=True,class_weight=value)"
   ]
  },
  {
   "cell_type": "code",
   "execution_count": null,
   "metadata": {},
   "outputs": [],
   "source": [
    "from sklearn_crfsuite import scorers\n",
    "from sklearn_crfsuite import metrics\n",
    "from seqeval.metrics import precision_score, recall_score, f1_score, classification_report\n",
    "\n",
    "idx2tag = {i: w for w, i in tag2idx.items()}\n",
    "\n",
    "def pred2label(pred):\n",
    "    out = []\n",
    "    for pred_i in pred:\n",
    "        out_i = []\n",
    "        for p in pred_i:\n",
    "            p_i = np.argmax(p)\n",
    "            out_i.append(idx2tag[p_i].replace(\"PAD\", \"O\"))\n",
    "        out.append(out_i)\n",
    "    return out\n",
    "\n",
    "\n",
    "y_pred = model.predict(X_te,verbose=1)\n",
    "\n",
    "pred_labels = pred2label(y_pred)\n",
    "test_labels = pred2label(y_te)\n",
    "\n",
    "print(\"F1-score: {:.1%}\".format(f1_score(test_labels, pred_labels)))\n",
    " \n",
    "print(classification_report(test_labels, pred_labels))"
   ]
  },
  {
   "cell_type": "code",
   "execution_count": null,
   "metadata": {},
   "outputs": [],
   "source": [
    "test_sentence = [\"Data\",\"engineer\" ,\".\", \"HTML5\", \"with\", \"JavaScript\", \"and\", \"CSS3\"\n",
    "                ,\"Oracle\",\"from\",\"2012\",\"to\",\"2013\"]\n",
    "\n",
    "x_test_sent = pad_sequences(sequences=[[word2idx.get(w, 0) for w in test_sentence]],\n",
    "                            padding=\"post\", value=0, maxlen=max_len)\n",
    "p = model2.predict(np.array([x_test_sent[0]]))\n",
    "\n",
    "p = np.argmax(p, axis=-1)\n",
    "print(\"{:15}||{}\".format(\"Word\", \"Prediction\"))\n",
    "print(30 * \"=\")\n",
    "for w, pred in zip(test_sentence, p[0]):\n",
    "    print(\"{:15}: {:5}\".format(w, tags[pred]))"
   ]
  },
  {
   "cell_type": "code",
   "execution_count": 9,
   "metadata": {},
   "outputs": [
    {
     "name": "stdout",
     "output_type": "stream",
     "text": [
      "3018\n"
     ]
    }
   ],
   "source": [
    "## try word embedding format word2vec\n",
    "import multiprocessing\n",
    "import gensim\n",
    "\n",
    "from gensim.models import Word2Vec\n",
    "import logging\n",
    "from time import time\n",
    "\n",
    "import logging\n",
    "logging.basicConfig(format='%(asctime)s : %(levelname)s : %(message)s', level=logging.INFO)\n",
    "\n",
    "sentences = data.groupby(\"Sentence #\").apply(lambda x : [w for w in x[\"Word\"]])\n",
    "type(sentences)\n",
    "sentences = sentences.tolist()\n",
    "print(len(sentences))"
   ]
  },
  {
   "cell_type": "code",
   "execution_count": 3,
   "metadata": {},
   "outputs": [
    {
     "data": {
      "text/plain": [
       "4"
      ]
     },
     "execution_count": 3,
     "metadata": {},
     "output_type": "execute_result"
    }
   ],
   "source": [
    "cores = multiprocessing.cpu_count()\n",
    "cores"
   ]
  },
  {
   "cell_type": "code",
   "execution_count": 12,
   "metadata": {},
   "outputs": [
    {
     "name": "stderr",
     "output_type": "stream",
     "text": [
      "2020-05-20 23:03:03,534 : INFO : collecting all words and their counts\n",
      "2020-05-20 23:03:03,536 : INFO : PROGRESS: at sentence #0, processed 0 words, keeping 0 word types\n",
      "2020-05-20 23:03:03,553 : INFO : collected 14729 word types from a corpus of 75430 raw words and 3018 sentences\n",
      "2020-05-20 23:03:03,555 : INFO : Loading a fresh vocabulary\n",
      "2020-05-20 23:03:03,567 : INFO : effective_min_count=5 retains 2279 unique words (15% of original 14729, drops 12450)\n",
      "2020-05-20 23:03:03,570 : INFO : effective_min_count=5 leaves 56626 word corpus (75% of original 75430, drops 18804)\n",
      "2020-05-20 23:03:03,585 : INFO : deleting the raw counts dictionary of 14729 items\n",
      "2020-05-20 23:03:03,586 : INFO : sample=6e-05 downsamples 1204 most-common words\n",
      "2020-05-20 23:03:03,587 : INFO : downsampling leaves estimated 22261 word corpus (39.3% of prior 56626)\n",
      "2020-05-20 23:03:03,596 : INFO : estimated required memory for 2279 words and 300 dimensions: 6609100 bytes\n",
      "2020-05-20 23:03:03,598 : INFO : resetting layer weights\n"
     ]
    },
    {
     "name": "stdout",
     "output_type": "stream",
     "text": [
      "Time to build vocab: 0.01 mins\n"
     ]
    },
    {
     "data": {
      "text/plain": [
       "3018"
      ]
     },
     "execution_count": 12,
     "metadata": {},
     "output_type": "execute_result"
    }
   ],
   "source": [
    "w2v_model = Word2Vec(min_count=5,\n",
    "                     window=2,\n",
    "                     size=300,\n",
    "                     sample=6e-5, \n",
    "                     alpha=0.03, \n",
    "                     min_alpha=0.0007, \n",
    "                     negative=20,\n",
    "                     workers=cores-1)\n",
    "\n",
    "t = time()\n",
    "\n",
    "w2v_model.build_vocab(sentences, progress_per=10000)\n",
    "\n",
    "print('Time to build vocab: {} mins'.format(round((time() - t) / 60, 2)))\n",
    "w2v_model.corpus_count"
   ]
  },
  {
   "cell_type": "code",
   "execution_count": 13,
   "metadata": {},
   "outputs": [
    {
     "name": "stderr",
     "output_type": "stream",
     "text": [
      "2020-05-20 23:03:08,370 : INFO : training model with 3 workers on 2279 vocabulary and 300 features, using sg=0 hs=0 sample=6e-05 negative=20 window=2\n",
      "2020-05-20 23:03:08,458 : INFO : worker thread finished; awaiting finish of 2 more threads\n",
      "2020-05-20 23:03:08,468 : INFO : worker thread finished; awaiting finish of 1 more threads\n",
      "2020-05-20 23:03:08,480 : INFO : worker thread finished; awaiting finish of 0 more threads\n",
      "2020-05-20 23:03:08,482 : INFO : EPOCH - 1 : training on 75430 raw words (22157 effective words) took 0.1s, 214983 effective words/s\n",
      "2020-05-20 23:03:08,558 : INFO : worker thread finished; awaiting finish of 2 more threads\n",
      "2020-05-20 23:03:08,570 : INFO : worker thread finished; awaiting finish of 1 more threads\n",
      "2020-05-20 23:03:08,583 : INFO : worker thread finished; awaiting finish of 0 more threads\n",
      "2020-05-20 23:03:08,584 : INFO : EPOCH - 2 : training on 75430 raw words (22252 effective words) took 0.1s, 234604 effective words/s\n",
      "2020-05-20 23:03:08,658 : INFO : worker thread finished; awaiting finish of 2 more threads\n",
      "2020-05-20 23:03:08,666 : INFO : worker thread finished; awaiting finish of 1 more threads\n",
      "2020-05-20 23:03:08,678 : INFO : worker thread finished; awaiting finish of 0 more threads\n",
      "2020-05-20 23:03:08,681 : INFO : EPOCH - 3 : training on 75430 raw words (22326 effective words) took 0.1s, 256627 effective words/s\n",
      "2020-05-20 23:03:08,757 : INFO : worker thread finished; awaiting finish of 2 more threads\n",
      "2020-05-20 23:03:08,766 : INFO : worker thread finished; awaiting finish of 1 more threads\n",
      "2020-05-20 23:03:08,770 : INFO : worker thread finished; awaiting finish of 0 more threads\n",
      "2020-05-20 23:03:08,771 : INFO : EPOCH - 4 : training on 75430 raw words (22111 effective words) took 0.1s, 265525 effective words/s\n",
      "2020-05-20 23:03:08,844 : INFO : worker thread finished; awaiting finish of 2 more threads\n",
      "2020-05-20 23:03:08,853 : INFO : worker thread finished; awaiting finish of 1 more threads\n",
      "2020-05-20 23:03:08,855 : INFO : worker thread finished; awaiting finish of 0 more threads\n",
      "2020-05-20 23:03:08,856 : INFO : EPOCH - 5 : training on 75430 raw words (22207 effective words) took 0.1s, 301501 effective words/s\n",
      "2020-05-20 23:03:08,939 : INFO : worker thread finished; awaiting finish of 2 more threads\n",
      "2020-05-20 23:03:08,953 : INFO : worker thread finished; awaiting finish of 1 more threads\n",
      "2020-05-20 23:03:08,969 : INFO : worker thread finished; awaiting finish of 0 more threads\n",
      "2020-05-20 23:03:08,971 : INFO : EPOCH - 6 : training on 75430 raw words (22123 effective words) took 0.1s, 218924 effective words/s\n",
      "2020-05-20 23:03:09,067 : INFO : worker thread finished; awaiting finish of 2 more threads\n",
      "2020-05-20 23:03:09,081 : INFO : worker thread finished; awaiting finish of 1 more threads\n",
      "2020-05-20 23:03:09,095 : INFO : worker thread finished; awaiting finish of 0 more threads\n",
      "2020-05-20 23:03:09,099 : INFO : EPOCH - 7 : training on 75430 raw words (22104 effective words) took 0.1s, 191683 effective words/s\n",
      "2020-05-20 23:03:09,191 : INFO : worker thread finished; awaiting finish of 2 more threads\n",
      "2020-05-20 23:03:09,201 : INFO : worker thread finished; awaiting finish of 1 more threads\n",
      "2020-05-20 23:03:09,213 : INFO : worker thread finished; awaiting finish of 0 more threads\n",
      "2020-05-20 23:03:09,216 : INFO : EPOCH - 8 : training on 75430 raw words (22373 effective words) took 0.1s, 213229 effective words/s\n",
      "2020-05-20 23:03:09,311 : INFO : worker thread finished; awaiting finish of 2 more threads\n",
      "2020-05-20 23:03:09,323 : INFO : worker thread finished; awaiting finish of 1 more threads\n",
      "2020-05-20 23:03:09,332 : INFO : worker thread finished; awaiting finish of 0 more threads\n",
      "2020-05-20 23:03:09,333 : INFO : EPOCH - 9 : training on 75430 raw words (22304 effective words) took 0.1s, 216354 effective words/s\n",
      "2020-05-20 23:03:09,416 : INFO : worker thread finished; awaiting finish of 2 more threads\n",
      "2020-05-20 23:03:09,436 : INFO : worker thread finished; awaiting finish of 1 more threads\n",
      "2020-05-20 23:03:09,461 : INFO : worker thread finished; awaiting finish of 0 more threads\n",
      "2020-05-20 23:03:09,467 : INFO : EPOCH - 10 : training on 75430 raw words (22178 effective words) took 0.1s, 173119 effective words/s\n",
      "2020-05-20 23:03:09,599 : INFO : worker thread finished; awaiting finish of 2 more threads\n",
      "2020-05-20 23:03:09,603 : INFO : worker thread finished; awaiting finish of 1 more threads\n",
      "2020-05-20 23:03:09,622 : INFO : worker thread finished; awaiting finish of 0 more threads\n",
      "2020-05-20 23:03:09,624 : INFO : EPOCH - 11 : training on 75430 raw words (22247 effective words) took 0.1s, 149464 effective words/s\n",
      "2020-05-20 23:03:09,747 : INFO : worker thread finished; awaiting finish of 2 more threads\n",
      "2020-05-20 23:03:09,759 : INFO : worker thread finished; awaiting finish of 1 more threads\n",
      "2020-05-20 23:03:09,776 : INFO : worker thread finished; awaiting finish of 0 more threads\n",
      "2020-05-20 23:03:09,777 : INFO : EPOCH - 12 : training on 75430 raw words (22412 effective words) took 0.1s, 157960 effective words/s\n",
      "2020-05-20 23:03:09,873 : INFO : worker thread finished; awaiting finish of 2 more threads\n",
      "2020-05-20 23:03:09,891 : INFO : worker thread finished; awaiting finish of 1 more threads\n",
      "2020-05-20 23:03:09,917 : INFO : worker thread finished; awaiting finish of 0 more threads\n",
      "2020-05-20 23:03:09,919 : INFO : EPOCH - 13 : training on 75430 raw words (22272 effective words) took 0.1s, 180405 effective words/s\n",
      "2020-05-20 23:03:10,029 : INFO : worker thread finished; awaiting finish of 2 more threads\n",
      "2020-05-20 23:03:10,039 : INFO : worker thread finished; awaiting finish of 1 more threads\n",
      "2020-05-20 23:03:10,055 : INFO : worker thread finished; awaiting finish of 0 more threads\n",
      "2020-05-20 23:03:10,059 : INFO : EPOCH - 14 : training on 75430 raw words (22124 effective words) took 0.1s, 184576 effective words/s\n",
      "2020-05-20 23:03:10,173 : INFO : worker thread finished; awaiting finish of 2 more threads\n",
      "2020-05-20 23:03:10,182 : INFO : worker thread finished; awaiting finish of 1 more threads\n",
      "2020-05-20 23:03:10,192 : INFO : worker thread finished; awaiting finish of 0 more threads\n",
      "2020-05-20 23:03:10,194 : INFO : EPOCH - 15 : training on 75430 raw words (22450 effective words) took 0.1s, 186299 effective words/s\n",
      "2020-05-20 23:03:10,300 : INFO : worker thread finished; awaiting finish of 2 more threads\n",
      "2020-05-20 23:03:10,312 : INFO : worker thread finished; awaiting finish of 1 more threads\n",
      "2020-05-20 23:03:10,322 : INFO : worker thread finished; awaiting finish of 0 more threads\n",
      "2020-05-20 23:03:10,324 : INFO : EPOCH - 16 : training on 75430 raw words (22149 effective words) took 0.1s, 195583 effective words/s\n",
      "2020-05-20 23:03:10,466 : INFO : worker thread finished; awaiting finish of 2 more threads\n",
      "2020-05-20 23:03:10,471 : INFO : worker thread finished; awaiting finish of 1 more threads\n",
      "2020-05-20 23:03:10,486 : INFO : worker thread finished; awaiting finish of 0 more threads\n",
      "2020-05-20 23:03:10,488 : INFO : EPOCH - 17 : training on 75430 raw words (22309 effective words) took 0.1s, 154072 effective words/s\n",
      "2020-05-20 23:03:10,637 : INFO : worker thread finished; awaiting finish of 2 more threads\n",
      "2020-05-20 23:03:10,642 : INFO : worker thread finished; awaiting finish of 1 more threads\n",
      "2020-05-20 23:03:10,657 : INFO : worker thread finished; awaiting finish of 0 more threads\n",
      "2020-05-20 23:03:10,659 : INFO : EPOCH - 18 : training on 75430 raw words (22219 effective words) took 0.1s, 181844 effective words/s\n",
      "2020-05-20 23:03:10,766 : INFO : worker thread finished; awaiting finish of 2 more threads\n",
      "2020-05-20 23:03:10,778 : INFO : worker thread finished; awaiting finish of 1 more threads\n",
      "2020-05-20 23:03:10,789 : INFO : worker thread finished; awaiting finish of 0 more threads\n",
      "2020-05-20 23:03:10,791 : INFO : EPOCH - 19 : training on 75430 raw words (22170 effective words) took 0.1s, 190740 effective words/s\n",
      "2020-05-20 23:03:10,911 : INFO : worker thread finished; awaiting finish of 2 more threads\n",
      "2020-05-20 23:03:10,933 : INFO : worker thread finished; awaiting finish of 1 more threads\n",
      "2020-05-20 23:03:10,944 : INFO : worker thread finished; awaiting finish of 0 more threads\n",
      "2020-05-20 23:03:10,947 : INFO : EPOCH - 20 : training on 75430 raw words (22321 effective words) took 0.1s, 160917 effective words/s\n"
     ]
    },
    {
     "name": "stderr",
     "output_type": "stream",
     "text": [
      "2020-05-20 23:03:11,089 : INFO : worker thread finished; awaiting finish of 2 more threads\n",
      "2020-05-20 23:03:11,105 : INFO : worker thread finished; awaiting finish of 1 more threads\n",
      "2020-05-20 23:03:11,127 : INFO : worker thread finished; awaiting finish of 0 more threads\n",
      "2020-05-20 23:03:11,131 : INFO : EPOCH - 21 : training on 75430 raw words (22150 effective words) took 0.2s, 129711 effective words/s\n",
      "2020-05-20 23:03:11,227 : INFO : worker thread finished; awaiting finish of 2 more threads\n",
      "2020-05-20 23:03:11,241 : INFO : worker thread finished; awaiting finish of 1 more threads\n",
      "2020-05-20 23:03:11,254 : INFO : worker thread finished; awaiting finish of 0 more threads\n",
      "2020-05-20 23:03:11,256 : INFO : EPOCH - 22 : training on 75430 raw words (22338 effective words) took 0.1s, 189978 effective words/s\n",
      "2020-05-20 23:03:11,352 : INFO : worker thread finished; awaiting finish of 2 more threads\n",
      "2020-05-20 23:03:11,366 : INFO : worker thread finished; awaiting finish of 1 more threads\n",
      "2020-05-20 23:03:11,380 : INFO : worker thread finished; awaiting finish of 0 more threads\n",
      "2020-05-20 23:03:11,381 : INFO : EPOCH - 23 : training on 75430 raw words (22354 effective words) took 0.1s, 205663 effective words/s\n",
      "2020-05-20 23:03:11,465 : INFO : worker thread finished; awaiting finish of 2 more threads\n",
      "2020-05-20 23:03:11,479 : INFO : worker thread finished; awaiting finish of 1 more threads\n",
      "2020-05-20 23:03:11,490 : INFO : worker thread finished; awaiting finish of 0 more threads\n",
      "2020-05-20 23:03:11,492 : INFO : EPOCH - 24 : training on 75430 raw words (22420 effective words) took 0.1s, 223080 effective words/s\n",
      "2020-05-20 23:03:11,581 : INFO : worker thread finished; awaiting finish of 2 more threads\n",
      "2020-05-20 23:03:11,597 : INFO : worker thread finished; awaiting finish of 1 more threads\n",
      "2020-05-20 23:03:11,608 : INFO : worker thread finished; awaiting finish of 0 more threads\n",
      "2020-05-20 23:03:11,610 : INFO : EPOCH - 25 : training on 75430 raw words (22296 effective words) took 0.1s, 206526 effective words/s\n",
      "2020-05-20 23:03:11,699 : INFO : worker thread finished; awaiting finish of 2 more threads\n",
      "2020-05-20 23:03:11,709 : INFO : worker thread finished; awaiting finish of 1 more threads\n",
      "2020-05-20 23:03:11,723 : INFO : worker thread finished; awaiting finish of 0 more threads\n",
      "2020-05-20 23:03:11,726 : INFO : EPOCH - 26 : training on 75430 raw words (22315 effective words) took 0.1s, 208794 effective words/s\n",
      "2020-05-20 23:03:11,815 : INFO : worker thread finished; awaiting finish of 2 more threads\n",
      "2020-05-20 23:03:11,829 : INFO : worker thread finished; awaiting finish of 1 more threads\n",
      "2020-05-20 23:03:11,842 : INFO : worker thread finished; awaiting finish of 0 more threads\n",
      "2020-05-20 23:03:11,845 : INFO : EPOCH - 27 : training on 75430 raw words (22295 effective words) took 0.1s, 209179 effective words/s\n",
      "2020-05-20 23:03:11,938 : INFO : worker thread finished; awaiting finish of 2 more threads\n",
      "2020-05-20 23:03:11,959 : INFO : worker thread finished; awaiting finish of 1 more threads\n",
      "2020-05-20 23:03:11,979 : INFO : worker thread finished; awaiting finish of 0 more threads\n",
      "2020-05-20 23:03:11,981 : INFO : EPOCH - 28 : training on 75430 raw words (22464 effective words) took 0.1s, 184218 effective words/s\n",
      "2020-05-20 23:03:12,072 : INFO : worker thread finished; awaiting finish of 2 more threads\n",
      "2020-05-20 23:03:12,086 : INFO : worker thread finished; awaiting finish of 1 more threads\n",
      "2020-05-20 23:03:12,101 : INFO : worker thread finished; awaiting finish of 0 more threads\n",
      "2020-05-20 23:03:12,102 : INFO : EPOCH - 29 : training on 75430 raw words (22368 effective words) took 0.1s, 206861 effective words/s\n",
      "2020-05-20 23:03:12,191 : INFO : worker thread finished; awaiting finish of 2 more threads\n",
      "2020-05-20 23:03:12,206 : INFO : worker thread finished; awaiting finish of 1 more threads\n",
      "2020-05-20 23:03:12,216 : INFO : worker thread finished; awaiting finish of 0 more threads\n",
      "2020-05-20 23:03:12,218 : INFO : EPOCH - 30 : training on 75430 raw words (22406 effective words) took 0.1s, 219514 effective words/s\n",
      "2020-05-20 23:03:12,219 : INFO : training on a 2262900 raw words (668214 effective words) took 3.8s, 173679 effective words/s\n"
     ]
    },
    {
     "name": "stdout",
     "output_type": "stream",
     "text": [
      "Time to train the model: 0.06 mins\n"
     ]
    }
   ],
   "source": [
    "t = time()\n",
    "\n",
    "w2v_model.train(sentences, total_examples=w2v_model.corpus_count, epochs=30, report_delay=1)\n",
    "\n",
    "print('Time to train the model: {} mins'.format(round((time() - t) / 60, 2)))"
   ]
  },
  {
   "cell_type": "code",
   "execution_count": 14,
   "metadata": {},
   "outputs": [
    {
     "name": "stderr",
     "output_type": "stream",
     "text": [
      "2020-05-20 23:03:17,079 : INFO : saving Word2Vec object under saved_model/word2vecEmbedding, separately None\n",
      "2020-05-20 23:03:17,081 : INFO : not storing attribute vectors_norm\n",
      "2020-05-20 23:03:17,082 : INFO : not storing attribute cum_table\n",
      "2020-05-20 23:03:17,156 : INFO : saved saved_model/word2vecEmbedding\n"
     ]
    },
    {
     "name": "stdout",
     "output_type": "stream",
     "text": [
      "Number of word vectors: 2279\n"
     ]
    }
   ],
   "source": [
    "w2v_model.save(\"saved_model/word2vecEmbedding\")\n",
    "word_vectors = w2v_model.wv\n",
    "print(\"Number of word vectors: {}\".format(len(word_vectors.vocab)))"
   ]
  },
  {
   "cell_type": "code",
   "execution_count": null,
   "metadata": {},
   "outputs": [],
   "source": []
  }
 ],
 "metadata": {
  "kernelspec": {
   "display_name": "Python 3",
   "language": "python",
   "name": "python3"
  },
  "language_info": {
   "codemirror_mode": {
    "name": "ipython",
    "version": 3
   },
   "file_extension": ".py",
   "mimetype": "text/x-python",
   "name": "python",
   "nbconvert_exporter": "python",
   "pygments_lexer": "ipython3",
   "version": "3.7.7"
  }
 },
 "nbformat": 4,
 "nbformat_minor": 2
}
