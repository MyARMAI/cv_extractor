{
 "cells": [
  {
   "cell_type": "code",
   "execution_count": 20,
   "metadata": {},
   "outputs": [
    {
     "name": "stdout",
     "output_type": "stream",
     "text": [
      "[['the', 'mayor', 'of', 'new', 'york', 'was', 'there'], ['machine', 'learning', 'can', 'be', 'useful', 'sometimes'], ['new', 'york', 'mayor', 'was', 'present'], ['machine', 'learning', 'is', 'boring']]\n",
      "['the', 'mayor', 'of', 'new_york', 'was', 'there', 'machine_learning']\n"
     ]
    }
   ],
   "source": [
    "\n",
    "from gensim.models import Phrases\n",
    "import pandas as pd\n",
    "import numpy as np\n",
    "import re\n",
    "\n",
    "\n",
    "from gensim.models import Phrases\n",
    "\n",
    "documents = [\"the mayor of new york was there\", \"machine learning can be useful sometimes\",\"new york mayor was present\",\"machine learning is boring\"]\n",
    "\n",
    "sentence_stream = [doc.split(\" \") for doc in documents]\n",
    "print(sentence_stream)\n",
    "bigram = Phrases(sentence_stream, min_count=1, threshold=2)\n",
    "sent = [u'the', u'mayor', u'of', u'new', u'york', u'was', u'there',u'machine',u'learning']\n",
    "print(bigram[sent])"
   ]
  },
  {
   "cell_type": "code",
   "execution_count": 26,
   "metadata": {},
   "outputs": [],
   "source": [
    "class SentenceGetter(object):\n",
    "    \n",
    "    def __init__(self, data):\n",
    "        self.n_sent = 1\n",
    "        self.data = data\n",
    "        self.empty = False\n",
    "        agg_func = lambda s: [w.lower()  for w, t in zip(s[\"Word\"].values.tolist(),s[\"Tag\"].values.tolist())]\n",
    "        self.grouped = self.data.groupby(\"Sentence #\").apply(agg_func)\n",
    "        self.sentences = [s for s in self.grouped]\n",
    "    \n",
    "    def get_next(self):\n",
    "        try:\n",
    "            s = self.grouped[self.n_sent]\n",
    "            print(s)\n",
    "            self.n_sent += 1\n",
    "            return s\n",
    "        except:\n",
    "            return None\n",
    "        "
   ]
  },
  {
   "cell_type": "code",
   "execution_count": 121,
   "metadata": {},
   "outputs": [],
   "source": [
    "def buildSentences(text):\n",
    "    sent = []\n",
    "    tmp = []\n",
    "    while \".\" in text:\n",
    "        dot_index = text.index(\".\")\n",
    "        sent.append(text[0:dot_index])\n",
    "        text = text[dot_index+1:]\n",
    "    for d in sent:\n",
    "        _t = [s for s in d.split(\" \") if len(s)!=0]\n",
    "        tmp.append(_t)\n",
    "    sent= tmp\n",
    "    return sent\n",
    "        \n",
    "res = buildSentences(\"bonjour mon nom est cgw. je viens de dakar.\")\n",
    "##print(res)"
   ]
  },
  {
   "cell_type": "code",
   "execution_count": 215,
   "metadata": {},
   "outputs": [],
   "source": [
    "import string\n",
    "import re\n",
    "\n",
    "\n",
    "def dropSpace(s,replace=\"\"):\n",
    "    return re.sub(r'[\\t\\r\\n]',replace,s)\n",
    "\n",
    "printable = set(string.printable)\n",
    "\n",
    "\n",
    "skills = pd.read_csv(\"../data/UpdatedResumeDataSet.csv\")\n",
    "resume = skills[\"Resume\"]\n",
    "sentences_dataset  = []\n",
    "\n",
    "for r in resume:\n",
    "    r = ''.join(filter(lambda x: x in printable, r))\n",
    "    r = dropSpace(r)\n",
    "    r = r.lower()\n",
    "    sentences_dataset.append(buildSentences(r))\n"
   ]
  },
  {
   "cell_type": "code",
   "execution_count": 221,
   "metadata": {},
   "outputs": [
    {
     "name": "stdout",
     "output_type": "stream",
     "text": [
      "['data_science', 'of', 'new_york', 'was', 'there', 'software', 'engineer', 'big_data', 'computer_science', 'machine_learning']\n"
     ]
    }
   ],
   "source": [
    "tmp = []\n",
    "for sentences in sentences_dataset:\n",
    "    for s in sentences:\n",
    "        tmp.append(s)\n",
    "\n",
    "bigram = Phrases(tmp, min_count=5, threshold=2)\n",
    "sent = [u'data', u'science', u'of', u'new', u'york', u'was', u'there',u'software',u'engineer',\"big\",\"data\",u\"computer\",\"science\",\"machine\",\"learning\"]\n",
    "print(bigram[sent])\n"
   ]
  },
  {
   "cell_type": "code",
   "execution_count": 209,
   "metadata": {},
   "outputs": [],
   "source": [
    "bigram.save(u\"../models/saved_model/phraser\")"
   ]
  },
  {
   "cell_type": "code",
   "execution_count": null,
   "metadata": {},
   "outputs": [],
   "source": []
  },
  {
   "cell_type": "code",
   "execution_count": 15,
   "metadata": {},
   "outputs": [
    {
     "data": {
      "text/html": [
       "<div>\n",
       "<style scoped>\n",
       "    .dataframe tbody tr th:only-of-type {\n",
       "        vertical-align: middle;\n",
       "    }\n",
       "\n",
       "    .dataframe tbody tr th {\n",
       "        vertical-align: top;\n",
       "    }\n",
       "\n",
       "    .dataframe thead th {\n",
       "        text-align: right;\n",
       "    }\n",
       "</style>\n",
       "<table border=\"1\" class=\"dataframe\">\n",
       "  <thead>\n",
       "    <tr style=\"text-align: right;\">\n",
       "      <th></th>\n",
       "      <th>Sentence #</th>\n",
       "      <th>Word</th>\n",
       "      <th>Tag</th>\n",
       "    </tr>\n",
       "  </thead>\n",
       "  <tbody>\n",
       "    <tr>\n",
       "      <th>0</th>\n",
       "      <td>0</td>\n",
       "      <td>Govardhana</td>\n",
       "      <td>Name</td>\n",
       "    </tr>\n",
       "    <tr>\n",
       "      <th>1</th>\n",
       "      <td>0</td>\n",
       "      <td>K</td>\n",
       "      <td>Name</td>\n",
       "    </tr>\n",
       "    <tr>\n",
       "      <th>2</th>\n",
       "      <td>0</td>\n",
       "      <td>Senior</td>\n",
       "      <td>Profil</td>\n",
       "    </tr>\n",
       "    <tr>\n",
       "      <th>3</th>\n",
       "      <td>0</td>\n",
       "      <td>Software</td>\n",
       "      <td>Profil</td>\n",
       "    </tr>\n",
       "    <tr>\n",
       "      <th>4</th>\n",
       "      <td>0</td>\n",
       "      <td>Engineer</td>\n",
       "      <td>Profil</td>\n",
       "    </tr>\n",
       "    <tr>\n",
       "      <th>...</th>\n",
       "      <td>...</td>\n",
       "      <td>...</td>\n",
       "      <td>...</td>\n",
       "    </tr>\n",
       "    <tr>\n",
       "      <th>75425</th>\n",
       "      <td>3018</td>\n",
       "      <td>Arc</td>\n",
       "      <td>O</td>\n",
       "    </tr>\n",
       "    <tr>\n",
       "      <th>75426</th>\n",
       "      <td>3018</td>\n",
       "      <td>sight,</td>\n",
       "      <td>O</td>\n",
       "    </tr>\n",
       "    <tr>\n",
       "      <th>75427</th>\n",
       "      <td>3018</td>\n",
       "      <td>HP</td>\n",
       "      <td>O</td>\n",
       "    </tr>\n",
       "    <tr>\n",
       "      <th>75428</th>\n",
       "      <td>3018</td>\n",
       "      <td>Service</td>\n",
       "      <td>O</td>\n",
       "    </tr>\n",
       "    <tr>\n",
       "      <th>75429</th>\n",
       "      <td>3018</td>\n",
       "      <td>manager.</td>\n",
       "      <td>O</td>\n",
       "    </tr>\n",
       "  </tbody>\n",
       "</table>\n",
       "<p>75430 rows × 3 columns</p>\n",
       "</div>"
      ],
      "text/plain": [
       "       Sentence #        Word     Tag\n",
       "0               0  Govardhana    Name\n",
       "1               0           K    Name\n",
       "2               0      Senior  Profil\n",
       "3               0    Software  Profil\n",
       "4               0    Engineer  Profil\n",
       "...           ...         ...     ...\n",
       "75425        3018         Arc       O\n",
       "75426        3018      sight,       O\n",
       "75427        3018          HP       O\n",
       "75428        3018     Service       O\n",
       "75429        3018    manager.       O\n",
       "\n",
       "[75430 rows x 3 columns]"
      ]
     },
     "execution_count": 15,
     "metadata": {},
     "output_type": "execute_result"
    }
   ],
   "source": [
    "import pandas as pd\n",
    "filepath = u\"../data/resume_sentence_dataset.csv\"\n",
    "\n",
    "data = pd.read_csv(filepath)\n",
    "\n",
    "data"
   ]
  },
  {
   "cell_type": "code",
   "execution_count": 16,
   "metadata": {},
   "outputs": [
    {
     "name": "stdout",
     "output_type": "stream",
     "text": [
      "3018\n"
     ]
    }
   ],
   "source": [
    "## try word embedding format word2vec\n",
    "import multiprocessing\n",
    "import gensim\n",
    "\n",
    "from gensim.models import Word2Vec\n",
    "import logging\n",
    "from time import time\n",
    "\n",
    "import logging\n",
    "logging.basicConfig(format='%(asctime)s : %(levelname)s : %(message)s', level=logging.INFO)\n",
    "\n",
    "sentences = data.groupby(\"Sentence #\").apply(lambda x : [w for w in x[\"Word\"]])\n",
    "type(sentences)\n",
    "sentences = sentences.tolist()\n",
    "print(len(sentences))"
   ]
  },
  {
   "cell_type": "code",
   "execution_count": 27,
   "metadata": {},
   "outputs": [
    {
     "data": {
      "text/plain": [
       "4"
      ]
     },
     "execution_count": 27,
     "metadata": {},
     "output_type": "execute_result"
    }
   ],
   "source": [
    "cores = multiprocessing.cpu_count()\n",
    "cores\n"
   ]
  },
  {
   "cell_type": "code",
   "execution_count": 18,
   "metadata": {},
   "outputs": [
    {
     "name": "stderr",
     "output_type": "stream",
     "text": [
      "2020-05-30 14:15:43,429 : INFO : collecting all words and their counts\n",
      "2020-05-30 14:15:43,430 : INFO : PROGRESS: at sentence #0, processed 0 words, keeping 0 word types\n",
      "2020-05-30 14:15:43,463 : INFO : collected 14729 word types from a corpus of 75430 raw words and 3018 sentences\n",
      "2020-05-30 14:15:43,464 : INFO : Loading a fresh vocabulary\n",
      "2020-05-30 14:15:43,479 : INFO : effective_min_count=5 retains 2279 unique words (15% of original 14729, drops 12450)\n",
      "2020-05-30 14:15:43,481 : INFO : effective_min_count=5 leaves 56626 word corpus (75% of original 75430, drops 18804)\n",
      "2020-05-30 14:15:43,498 : INFO : deleting the raw counts dictionary of 14729 items\n",
      "2020-05-30 14:15:43,500 : INFO : sample=6e-05 downsamples 1204 most-common words\n",
      "2020-05-30 14:15:43,502 : INFO : downsampling leaves estimated 22261 word corpus (39.3% of prior 56626)\n",
      "2020-05-30 14:15:43,513 : INFO : estimated required memory for 2279 words and 300 dimensions: 6609100 bytes\n",
      "2020-05-30 14:15:43,514 : INFO : resetting layer weights\n"
     ]
    },
    {
     "name": "stdout",
     "output_type": "stream",
     "text": [
      "Time to build vocab: 0.01 mins\n"
     ]
    },
    {
     "data": {
      "text/plain": [
       "3018"
      ]
     },
     "execution_count": 18,
     "metadata": {},
     "output_type": "execute_result"
    }
   ],
   "source": [
    "w2v_model = Word2Vec(min_count=5,\n",
    "                     window=4,\n",
    "                     size=300,\n",
    "                     sample=6e-5, \n",
    "                     alpha=0.03, \n",
    "                     min_alpha=0.0007, \n",
    "                     negative=20,\n",
    "                     workers=cores-1)\n",
    "\n",
    "t = time()\n",
    "\n",
    "w2v_model.build_vocab(sentences, progress_per=10000)\n",
    "\n",
    "print('Time to build vocab: {} mins'.format(round((time() - t) / 60, 2)))\n",
    "w2v_model.corpus_count"
   ]
  },
  {
   "cell_type": "code",
   "execution_count": 19,
   "metadata": {},
   "outputs": [
    {
     "name": "stderr",
     "output_type": "stream",
     "text": [
      "2020-05-30 14:15:48,376 : INFO : training model with 3 workers on 2279 vocabulary and 300 features, using sg=0 hs=0 sample=6e-05 negative=20 window=4\n",
      "2020-05-30 14:15:48,486 : INFO : worker thread finished; awaiting finish of 2 more threads\n",
      "2020-05-30 14:15:48,500 : INFO : worker thread finished; awaiting finish of 1 more threads\n",
      "2020-05-30 14:15:48,507 : INFO : worker thread finished; awaiting finish of 0 more threads\n",
      "2020-05-30 14:15:48,513 : INFO : EPOCH - 1 : training on 75430 raw words (22241 effective words) took 0.1s, 179164 effective words/s\n",
      "2020-05-30 14:15:48,604 : INFO : worker thread finished; awaiting finish of 2 more threads\n",
      "2020-05-30 14:15:48,610 : INFO : worker thread finished; awaiting finish of 1 more threads\n",
      "2020-05-30 14:15:48,617 : INFO : worker thread finished; awaiting finish of 0 more threads\n",
      "2020-05-30 14:15:48,619 : INFO : EPOCH - 2 : training on 75430 raw words (22217 effective words) took 0.1s, 231016 effective words/s\n",
      "2020-05-30 14:15:48,707 : INFO : worker thread finished; awaiting finish of 2 more threads\n",
      "2020-05-30 14:15:48,724 : INFO : worker thread finished; awaiting finish of 1 more threads\n",
      "2020-05-30 14:15:48,740 : INFO : worker thread finished; awaiting finish of 0 more threads\n",
      "2020-05-30 14:15:48,741 : INFO : EPOCH - 3 : training on 75430 raw words (22360 effective words) took 0.1s, 201734 effective words/s\n",
      "2020-05-30 14:15:48,826 : INFO : worker thread finished; awaiting finish of 2 more threads\n",
      "2020-05-30 14:15:48,840 : INFO : worker thread finished; awaiting finish of 1 more threads\n",
      "2020-05-30 14:15:48,850 : INFO : worker thread finished; awaiting finish of 0 more threads\n",
      "2020-05-30 14:15:48,855 : INFO : EPOCH - 4 : training on 75430 raw words (22244 effective words) took 0.1s, 214389 effective words/s\n",
      "2020-05-30 14:15:48,947 : INFO : worker thread finished; awaiting finish of 2 more threads\n",
      "2020-05-30 14:15:48,963 : INFO : worker thread finished; awaiting finish of 1 more threads\n",
      "2020-05-30 14:15:48,969 : INFO : worker thread finished; awaiting finish of 0 more threads\n",
      "2020-05-30 14:15:48,971 : INFO : EPOCH - 5 : training on 75430 raw words (22376 effective words) took 0.1s, 219409 effective words/s\n",
      "2020-05-30 14:15:49,058 : INFO : worker thread finished; awaiting finish of 2 more threads\n",
      "2020-05-30 14:15:49,065 : INFO : worker thread finished; awaiting finish of 1 more threads\n",
      "2020-05-30 14:15:49,078 : INFO : worker thread finished; awaiting finish of 0 more threads\n",
      "2020-05-30 14:15:49,083 : INFO : EPOCH - 6 : training on 75430 raw words (22212 effective words) took 0.1s, 209667 effective words/s\n",
      "2020-05-30 14:15:49,183 : INFO : worker thread finished; awaiting finish of 2 more threads\n",
      "2020-05-30 14:15:49,196 : INFO : worker thread finished; awaiting finish of 1 more threads\n",
      "2020-05-30 14:15:49,229 : INFO : worker thread finished; awaiting finish of 0 more threads\n",
      "2020-05-30 14:15:49,231 : INFO : EPOCH - 7 : training on 75430 raw words (22216 effective words) took 0.1s, 160559 effective words/s\n",
      "2020-05-30 14:15:49,375 : INFO : worker thread finished; awaiting finish of 2 more threads\n",
      "2020-05-30 14:15:49,385 : INFO : worker thread finished; awaiting finish of 1 more threads\n",
      "2020-05-30 14:15:49,411 : INFO : worker thread finished; awaiting finish of 0 more threads\n",
      "2020-05-30 14:15:49,426 : INFO : EPOCH - 8 : training on 75430 raw words (22239 effective words) took 0.2s, 122263 effective words/s\n",
      "2020-05-30 14:15:49,576 : INFO : worker thread finished; awaiting finish of 2 more threads\n",
      "2020-05-30 14:15:49,593 : INFO : worker thread finished; awaiting finish of 1 more threads\n",
      "2020-05-30 14:15:49,614 : INFO : worker thread finished; awaiting finish of 0 more threads\n",
      "2020-05-30 14:15:49,618 : INFO : EPOCH - 9 : training on 75430 raw words (22227 effective words) took 0.2s, 131868 effective words/s\n",
      "2020-05-30 14:15:49,771 : INFO : worker thread finished; awaiting finish of 2 more threads\n",
      "2020-05-30 14:15:49,803 : INFO : worker thread finished; awaiting finish of 1 more threads\n",
      "2020-05-30 14:15:49,828 : INFO : worker thread finished; awaiting finish of 0 more threads\n",
      "2020-05-30 14:15:49,829 : INFO : EPOCH - 10 : training on 75430 raw words (22438 effective words) took 0.2s, 115484 effective words/s\n",
      "2020-05-30 14:15:49,962 : INFO : worker thread finished; awaiting finish of 2 more threads\n",
      "2020-05-30 14:15:49,986 : INFO : worker thread finished; awaiting finish of 1 more threads\n",
      "2020-05-30 14:15:50,003 : INFO : worker thread finished; awaiting finish of 0 more threads\n",
      "2020-05-30 14:15:50,007 : INFO : EPOCH - 11 : training on 75430 raw words (22195 effective words) took 0.2s, 141482 effective words/s\n",
      "2020-05-30 14:15:50,124 : INFO : worker thread finished; awaiting finish of 2 more threads\n",
      "2020-05-30 14:15:50,141 : INFO : worker thread finished; awaiting finish of 1 more threads\n",
      "2020-05-30 14:15:50,155 : INFO : worker thread finished; awaiting finish of 0 more threads\n",
      "2020-05-30 14:15:50,159 : INFO : EPOCH - 12 : training on 75430 raw words (22188 effective words) took 0.1s, 155944 effective words/s\n",
      "2020-05-30 14:15:50,268 : INFO : worker thread finished; awaiting finish of 2 more threads\n",
      "2020-05-30 14:15:50,281 : INFO : worker thread finished; awaiting finish of 1 more threads\n",
      "2020-05-30 14:15:50,291 : INFO : worker thread finished; awaiting finish of 0 more threads\n",
      "2020-05-30 14:15:50,295 : INFO : EPOCH - 13 : training on 75430 raw words (22267 effective words) took 0.1s, 175451 effective words/s\n",
      "2020-05-30 14:15:50,434 : INFO : worker thread finished; awaiting finish of 2 more threads\n",
      "2020-05-30 14:15:50,455 : INFO : worker thread finished; awaiting finish of 1 more threads\n",
      "2020-05-30 14:15:50,487 : INFO : worker thread finished; awaiting finish of 0 more threads\n",
      "2020-05-30 14:15:50,489 : INFO : EPOCH - 14 : training on 75430 raw words (22194 effective words) took 0.2s, 119111 effective words/s\n",
      "2020-05-30 14:15:50,603 : INFO : worker thread finished; awaiting finish of 2 more threads\n",
      "2020-05-30 14:15:50,616 : INFO : worker thread finished; awaiting finish of 1 more threads\n",
      "2020-05-30 14:15:50,637 : INFO : worker thread finished; awaiting finish of 0 more threads\n",
      "2020-05-30 14:15:50,638 : INFO : EPOCH - 15 : training on 75430 raw words (22440 effective words) took 0.1s, 157637 effective words/s\n",
      "2020-05-30 14:15:50,735 : INFO : worker thread finished; awaiting finish of 2 more threads\n",
      "2020-05-30 14:15:50,748 : INFO : worker thread finished; awaiting finish of 1 more threads\n",
      "2020-05-30 14:15:50,750 : INFO : worker thread finished; awaiting finish of 0 more threads\n",
      "2020-05-30 14:15:50,751 : INFO : EPOCH - 16 : training on 75430 raw words (22153 effective words) took 0.1s, 216694 effective words/s\n",
      "2020-05-30 14:15:50,849 : INFO : worker thread finished; awaiting finish of 2 more threads\n",
      "2020-05-30 14:15:50,865 : INFO : worker thread finished; awaiting finish of 1 more threads\n",
      "2020-05-30 14:15:50,877 : INFO : worker thread finished; awaiting finish of 0 more threads\n",
      "2020-05-30 14:15:50,879 : INFO : EPOCH - 17 : training on 75430 raw words (22213 effective words) took 0.1s, 188941 effective words/s\n",
      "2020-05-30 14:15:50,971 : INFO : worker thread finished; awaiting finish of 2 more threads\n",
      "2020-05-30 14:15:50,988 : INFO : worker thread finished; awaiting finish of 1 more threads\n",
      "2020-05-30 14:15:50,999 : INFO : worker thread finished; awaiting finish of 0 more threads\n",
      "2020-05-30 14:15:51,000 : INFO : EPOCH - 18 : training on 75430 raw words (22329 effective words) took 0.1s, 198218 effective words/s\n",
      "2020-05-30 14:15:51,100 : INFO : worker thread finished; awaiting finish of 2 more threads\n",
      "2020-05-30 14:15:51,108 : INFO : worker thread finished; awaiting finish of 1 more threads\n",
      "2020-05-30 14:15:51,121 : INFO : worker thread finished; awaiting finish of 0 more threads\n",
      "2020-05-30 14:15:51,124 : INFO : EPOCH - 19 : training on 75430 raw words (22389 effective words) took 0.1s, 197705 effective words/s\n",
      "2020-05-30 14:15:51,222 : INFO : worker thread finished; awaiting finish of 2 more threads\n",
      "2020-05-30 14:15:51,234 : INFO : worker thread finished; awaiting finish of 1 more threads\n",
      "2020-05-30 14:15:51,245 : INFO : worker thread finished; awaiting finish of 0 more threads\n",
      "2020-05-30 14:15:51,246 : INFO : EPOCH - 20 : training on 75430 raw words (22198 effective words) took 0.1s, 197172 effective words/s\n"
     ]
    },
    {
     "name": "stderr",
     "output_type": "stream",
     "text": [
      "2020-05-30 14:15:51,377 : INFO : worker thread finished; awaiting finish of 2 more threads\n",
      "2020-05-30 14:15:51,404 : INFO : worker thread finished; awaiting finish of 1 more threads\n",
      "2020-05-30 14:15:51,427 : INFO : worker thread finished; awaiting finish of 0 more threads\n",
      "2020-05-30 14:15:51,429 : INFO : EPOCH - 21 : training on 75430 raw words (22307 effective words) took 0.2s, 129838 effective words/s\n",
      "2020-05-30 14:15:51,527 : INFO : worker thread finished; awaiting finish of 2 more threads\n",
      "2020-05-30 14:15:51,543 : INFO : worker thread finished; awaiting finish of 1 more threads\n",
      "2020-05-30 14:15:51,555 : INFO : worker thread finished; awaiting finish of 0 more threads\n",
      "2020-05-30 14:15:51,557 : INFO : EPOCH - 22 : training on 75430 raw words (22230 effective words) took 0.1s, 199984 effective words/s\n",
      "2020-05-30 14:15:51,644 : INFO : worker thread finished; awaiting finish of 2 more threads\n",
      "2020-05-30 14:15:51,659 : INFO : worker thread finished; awaiting finish of 1 more threads\n",
      "2020-05-30 14:15:51,674 : INFO : worker thread finished; awaiting finish of 0 more threads\n",
      "2020-05-30 14:15:51,675 : INFO : EPOCH - 23 : training on 75430 raw words (22216 effective words) took 0.1s, 199586 effective words/s\n",
      "2020-05-30 14:15:51,769 : INFO : worker thread finished; awaiting finish of 2 more threads\n",
      "2020-05-30 14:15:51,784 : INFO : worker thread finished; awaiting finish of 1 more threads\n",
      "2020-05-30 14:15:51,793 : INFO : worker thread finished; awaiting finish of 0 more threads\n",
      "2020-05-30 14:15:51,795 : INFO : EPOCH - 24 : training on 75430 raw words (22519 effective words) took 0.1s, 204354 effective words/s\n",
      "2020-05-30 14:15:51,888 : INFO : worker thread finished; awaiting finish of 2 more threads\n",
      "2020-05-30 14:15:51,901 : INFO : worker thread finished; awaiting finish of 1 more threads\n",
      "2020-05-30 14:15:51,913 : INFO : worker thread finished; awaiting finish of 0 more threads\n",
      "2020-05-30 14:15:51,915 : INFO : EPOCH - 25 : training on 75430 raw words (22209 effective words) took 0.1s, 202574 effective words/s\n",
      "2020-05-30 14:15:52,000 : INFO : worker thread finished; awaiting finish of 2 more threads\n",
      "2020-05-30 14:15:52,014 : INFO : worker thread finished; awaiting finish of 1 more threads\n",
      "2020-05-30 14:15:52,021 : INFO : worker thread finished; awaiting finish of 0 more threads\n",
      "2020-05-30 14:15:52,022 : INFO : EPOCH - 26 : training on 75430 raw words (22157 effective words) took 0.1s, 223317 effective words/s\n",
      "2020-05-30 14:15:52,112 : INFO : worker thread finished; awaiting finish of 2 more threads\n",
      "2020-05-30 14:15:52,124 : INFO : worker thread finished; awaiting finish of 1 more threads\n",
      "2020-05-30 14:15:52,133 : INFO : worker thread finished; awaiting finish of 0 more threads\n",
      "2020-05-30 14:15:52,135 : INFO : EPOCH - 27 : training on 75430 raw words (22339 effective words) took 0.1s, 217161 effective words/s\n",
      "2020-05-30 14:15:52,225 : INFO : worker thread finished; awaiting finish of 2 more threads\n",
      "2020-05-30 14:15:52,243 : INFO : worker thread finished; awaiting finish of 1 more threads\n",
      "2020-05-30 14:15:52,255 : INFO : worker thread finished; awaiting finish of 0 more threads\n",
      "2020-05-30 14:15:52,257 : INFO : EPOCH - 28 : training on 75430 raw words (22196 effective words) took 0.1s, 196821 effective words/s\n",
      "2020-05-30 14:15:52,353 : INFO : worker thread finished; awaiting finish of 2 more threads\n",
      "2020-05-30 14:15:52,360 : INFO : worker thread finished; awaiting finish of 1 more threads\n",
      "2020-05-30 14:15:52,372 : INFO : worker thread finished; awaiting finish of 0 more threads\n",
      "2020-05-30 14:15:52,372 : INFO : EPOCH - 29 : training on 75430 raw words (22294 effective words) took 0.1s, 208655 effective words/s\n",
      "2020-05-30 14:15:52,464 : INFO : worker thread finished; awaiting finish of 2 more threads\n",
      "2020-05-30 14:15:52,475 : INFO : worker thread finished; awaiting finish of 1 more threads\n",
      "2020-05-30 14:15:52,483 : INFO : worker thread finished; awaiting finish of 0 more threads\n",
      "2020-05-30 14:15:52,487 : INFO : EPOCH - 30 : training on 75430 raw words (22151 effective words) took 0.1s, 205798 effective words/s\n",
      "2020-05-30 14:15:52,489 : INFO : training on a 2262900 raw words (667954 effective words) took 4.1s, 162421 effective words/s\n"
     ]
    },
    {
     "name": "stdout",
     "output_type": "stream",
     "text": [
      "Time to train the model: 0.07 mins\n"
     ]
    }
   ],
   "source": [
    "t = time()\n",
    "\n",
    "w2v_model.train(sentences, total_examples=w2v_model.corpus_count, epochs=30, report_delay=1)\n",
    "\n",
    "print('Time to train the model: {} mins'.format(round((time() - t) / 60, 2)))"
   ]
  },
  {
   "cell_type": "code",
   "execution_count": 28,
   "metadata": {},
   "outputs": [],
   "source": [
    "import gensim\n",
    "phraser = gensim.models.Phrases.load(\"../models/saved_model/phraser\")\n",
    "phraser"
   ]
  },
  {
   "cell_type": "code",
   "execution_count": null,
   "metadata": {},
   "outputs": [],
   "source": [
    "w2v_model.save(\"saved_model/word2vecEmbedding\")\n",
    "word_vectors = w2v_model.wv\n",
    "print(\"Number of word vectors: {}\".format(len(word_vectors.vocab)))"
   ]
  }
 ],
 "metadata": {
  "kernelspec": {
   "display_name": "Python 3",
   "language": "python",
   "name": "python3"
  },
  "language_info": {
   "codemirror_mode": {
    "name": "ipython",
    "version": 3
   },
   "file_extension": ".py",
   "mimetype": "text/x-python",
   "name": "python",
   "nbconvert_exporter": "python",
   "pygments_lexer": "ipython3",
   "version": "3.7.7"
  }
 },
 "nbformat": 4,
 "nbformat_minor": 2
}
