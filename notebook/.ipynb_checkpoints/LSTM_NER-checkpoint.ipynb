{
 "cells": [
  {
   "cell_type": "code",
   "execution_count": 260,
   "metadata": {},
   "outputs": [
    {
     "data": {
      "text/html": [
       "<div>\n",
       "<style scoped>\n",
       "    .dataframe tbody tr th:only-of-type {\n",
       "        vertical-align: middle;\n",
       "    }\n",
       "\n",
       "    .dataframe tbody tr th {\n",
       "        vertical-align: top;\n",
       "    }\n",
       "\n",
       "    .dataframe thead th {\n",
       "        text-align: right;\n",
       "    }\n",
       "</style>\n",
       "<table border=\"1\" class=\"dataframe\">\n",
       "  <thead>\n",
       "    <tr style=\"text-align: right;\">\n",
       "      <th></th>\n",
       "      <th>Sentence_#</th>\n",
       "      <th>Word</th>\n",
       "      <th>Tag</th>\n",
       "    </tr>\n",
       "  </thead>\n",
       "  <tbody>\n",
       "    <tr>\n",
       "      <th>0</th>\n",
       "      <td>0</td>\n",
       "      <td>Govardhana</td>\n",
       "      <td>NAME</td>\n",
       "    </tr>\n",
       "    <tr>\n",
       "      <th>1</th>\n",
       "      <td>0</td>\n",
       "      <td>K</td>\n",
       "      <td>NAME</td>\n",
       "    </tr>\n",
       "    <tr>\n",
       "      <th>2</th>\n",
       "      <td>0</td>\n",
       "      <td>Senior</td>\n",
       "      <td>PROFIL</td>\n",
       "    </tr>\n",
       "    <tr>\n",
       "      <th>3</th>\n",
       "      <td>0</td>\n",
       "      <td>Software</td>\n",
       "      <td>PROFIL</td>\n",
       "    </tr>\n",
       "    <tr>\n",
       "      <th>4</th>\n",
       "      <td>0</td>\n",
       "      <td>Engineer</td>\n",
       "      <td>PROFIL</td>\n",
       "    </tr>\n",
       "    <tr>\n",
       "      <th>...</th>\n",
       "      <td>...</td>\n",
       "      <td>...</td>\n",
       "      <td>...</td>\n",
       "    </tr>\n",
       "    <tr>\n",
       "      <th>78268</th>\n",
       "      <td>4083</td>\n",
       "      <td>tuning</td>\n",
       "      <td>O</td>\n",
       "    </tr>\n",
       "    <tr>\n",
       "      <th>78269</th>\n",
       "      <td>4083</td>\n",
       "      <td>and</td>\n",
       "      <td>O</td>\n",
       "    </tr>\n",
       "    <tr>\n",
       "      <th>78270</th>\n",
       "      <td>4083</td>\n",
       "      <td>escalating</td>\n",
       "      <td>O</td>\n",
       "    </tr>\n",
       "    <tr>\n",
       "      <th>78271</th>\n",
       "      <td>4083</td>\n",
       "      <td>Security</td>\n",
       "      <td>O</td>\n",
       "    </tr>\n",
       "    <tr>\n",
       "      <th>78272</th>\n",
       "      <td>4083</td>\n",
       "      <td>events.</td>\n",
       "      <td>O</td>\n",
       "    </tr>\n",
       "  </tbody>\n",
       "</table>\n",
       "<p>78217 rows × 3 columns</p>\n",
       "</div>"
      ],
      "text/plain": [
       "       Sentence_#        Word     Tag\n",
       "0               0  Govardhana    NAME\n",
       "1               0           K    NAME\n",
       "2               0      Senior  PROFIL\n",
       "3               0    Software  PROFIL\n",
       "4               0    Engineer  PROFIL\n",
       "...           ...         ...     ...\n",
       "78268        4083      tuning       O\n",
       "78269        4083         and       O\n",
       "78270        4083  escalating       O\n",
       "78271        4083    Security       O\n",
       "78272        4083     events.       O\n",
       "\n",
       "[78217 rows x 3 columns]"
      ]
     },
     "execution_count": 260,
     "metadata": {},
     "output_type": "execute_result"
    }
   ],
   "source": [
    "import pandas as pd\n",
    "import numpy as np\n",
    "import re\n",
    "import math\n",
    "import matplotlib as mpl\n",
    "import matplotlib.pyplot as plt\n",
    "%matplotlib inline\n",
    "mpl.rcParams['figure.figsize'] = (12, 10)\n",
    "\n",
    "colors = plt.rcParams['axes.prop_cycle'].by_key()['color']\n",
    "\n",
    "from sklearn_crfsuite.metrics import flat_classification_report\n",
    "from sklearn.metrics import f1_score\n",
    "\n",
    "pd.set_option('display.max_rows', 500)\n",
    "pd.set_option('display.max_columns', 500)\n",
    "pd.set_option('display.width', 1000)\n",
    "pd.set_option('display.max_colwidth', None)\n",
    "\n",
    "\n",
    "filepath = u\"../data/cleaned_resume.csv\"\n",
    "\n",
    "data = pd.read_csv(filepath)\n",
    "data = data.dropna()\n",
    "data = data[[\"Sentence_#\",\"Word\",\"Tag\"]]\n",
    "data\n"
   ]
  },
  {
   "cell_type": "code",
   "execution_count": null,
   "metadata": {},
   "outputs": [],
   "source": [
    "#change date tag to Date instead of 0\n",
    "#data.loc[data.index[data.Word.str.contains(\"[0-9]{4}$\")],'Tag'] = \"Date\""
   ]
  },
  {
   "cell_type": "code",
   "execution_count": 261,
   "metadata": {},
   "outputs": [
    {
     "data": {
      "text/plain": [
       "O                      68693\n",
       "SKILLS                  3887\n",
       "DATE                     970\n",
       "PROFIL                   914\n",
       "YEARS_OF_EXPERIENCE      759\n",
       "COMPANIES_WORKED_AT      742\n",
       "COLLEGE_NAME             737\n",
       "DEGREE                   709\n",
       "LOCATION                 318\n",
       "NAME                     291\n",
       "EMAIL_ADDRESS            197\n",
       "Name: Tag, dtype: int64"
      ]
     },
     "execution_count": 261,
     "metadata": {},
     "output_type": "execute_result"
    }
   ],
   "source": [
    "data[\"Tag\"].value_counts()"
   ]
  },
  {
   "cell_type": "code",
   "execution_count": 263,
   "metadata": {
    "scrolled": true
   },
   "outputs": [
    {
     "data": {
      "text/plain": [
       "O                      10303\n",
       "SKILLS                  3887\n",
       "DATE                     970\n",
       "PROFIL                   914\n",
       "YEARS_OF_EXPERIENCE      759\n",
       "COMPANIES_WORKED_AT      742\n",
       "COLLEGE_NAME             737\n",
       "DEGREE                   709\n",
       "LOCATION                 318\n",
       "NAME                     291\n",
       "EMAIL_ADDRESS            197\n",
       "Name: Tag, dtype: int64"
      ]
     },
     "execution_count": 263,
     "metadata": {},
     "output_type": "execute_result"
    }
   ],
   "source": [
    "## remove random O-Tag\n",
    "#import random\n",
    "import math\n",
    "\n",
    "index = data.index[data['Tag'] == \"O\"]\n",
    "O_tagSize = math.ceil((len(index)*0.7))\n",
    "\n",
    "drop_indices = np.random.choice(index, O_tagSize, replace=False)\n",
    "data = data.drop(drop_indices)\n",
    "\n",
    "data[\"Tag\"].value_counts()"
   ]
  },
  {
   "cell_type": "code",
   "execution_count": 264,
   "metadata": {},
   "outputs": [
    {
     "data": {
      "text/plain": [
       "6255"
      ]
     },
     "execution_count": 264,
     "metadata": {},
     "output_type": "execute_result"
    }
   ],
   "source": [
    "words = list(set(data[\"Word\"].values))\n",
    "words.append(\"ENDPAD\")\n",
    "n_words = len(words); n_words"
   ]
  },
  {
   "cell_type": "code",
   "execution_count": 265,
   "metadata": {},
   "outputs": [
    {
     "name": "stdout",
     "output_type": "stream",
     "text": [
      "['SKILLS', 'DATE', 'YEARS_OF_EXPERIENCE', 'PROFIL', 'EMAIL_ADDRESS', 'DEGREE', 'LOCATION', 'O', 'COLLEGE_NAME', 'COMPANIES_WORKED_AT', 'NAME']\n"
     ]
    }
   ],
   "source": [
    "tags = list(set(data[\"Tag\"].values))\n",
    "n_tags = len(tags); n_tags\n",
    "print(tags)"
   ]
  },
  {
   "cell_type": "code",
   "execution_count": 267,
   "metadata": {},
   "outputs": [],
   "source": [
    "class SentenceGetter(object):\n",
    "    \n",
    "    def __init__(self, data):\n",
    "        self.n_sent = 1\n",
    "        self.data = data\n",
    "        self.empty = False\n",
    "        agg_func = lambda s: [(w,t) for w, t in zip(s[\"Word\"].values.tolist(),s[\"Tag\"].values.tolist())]\n",
    "        self.grouped = self.data.groupby(\"Sentence_#\").apply(agg_func)\n",
    "        self.sentences = [s for s in self.grouped]\n",
    "    \n",
    "    def get_next(self):\n",
    "        try:\n",
    "            s = self.grouped[self.n_sent]\n",
    "            print(s)\n",
    "            self.n_sent += 1\n",
    "            return s\n",
    "        except:\n",
    "            return None\n",
    "        \n",
    "getter = SentenceGetter(data)"
   ]
  },
  {
   "cell_type": "code",
   "execution_count": 268,
   "metadata": {},
   "outputs": [
    {
     "name": "stdout",
     "output_type": "stream",
     "text": [
      "Length of sentences before O class removal 3559\n",
      "Length of sentences after O class removal 3559\n"
     ]
    }
   ],
   "source": [
    "sentences = getter.sentences\n",
    "print(\"Length of sentences before O class removal {}\".format(len(sentences)))\n",
    "candidate_sentence= []\n",
    "## remove the sentence containing only O tag\n",
    "for sentence in sentences :\n",
    "    o_nb=0\n",
    "    for word in sentence:\n",
    "        o_nb+= 1 if word[1]==\"O\" else 0\n",
    "    if(o_nb<=math.floor(len(sentence))):\n",
    "        #print(len(sentence),o_nb)\n",
    "        candidate_sentence.append(sentence)\n",
    "print(\"Length of sentences after O class removal {}\".format(len(candidate_sentence)))"
   ]
  },
  {
   "cell_type": "code",
   "execution_count": 269,
   "metadata": {},
   "outputs": [
    {
     "data": {
      "text/plain": [
       "75"
      ]
     },
     "execution_count": 269,
     "metadata": {},
     "output_type": "execute_result"
    }
   ],
   "source": [
    "max_len = max([len(x) for x in candidate_sentence])\n",
    "word2idx = {w: i for i, w in enumerate(words)}\n",
    "tag2idx = {t: i for i, t in enumerate(tags)}\n",
    "max_len"
   ]
  },
  {
   "cell_type": "code",
   "execution_count": 270,
   "metadata": {},
   "outputs": [],
   "source": [
    "from tensorflow.keras.preprocessing.sequence import pad_sequences\n",
    "sentences= candidate_sentence\n",
    "X = [[word2idx[w[0]] for w in s] for s in sentences]\n",
    "y = [[tag2idx[w[1]] for w in s] for s in sentences]\n",
    "\n",
    "\n",
    "X = pad_sequences(maxlen=max_len, sequences=X, padding=\"post\",value=n_words - 1)\n",
    "y = pad_sequences(maxlen=max_len, sequences=y, padding=\"post\",value=tag2idx[\"O\"])"
   ]
  },
  {
   "cell_type": "code",
   "execution_count": 271,
   "metadata": {},
   "outputs": [],
   "source": [
    "# change label to categorical\n",
    "from tensorflow.keras.utils import to_categorical\n",
    "y = [to_categorical(i, num_classes=n_tags) for i in y]\n",
    "\n",
    "#X = X.reshape(X.shape[0],X.shape[1],1)\n",
    "#y = y.reshape(y.shape[0],y.shape[1],1)\n",
    "#X.shape,y.shape"
   ]
  },
  {
   "cell_type": "code",
   "execution_count": 272,
   "metadata": {},
   "outputs": [
    {
     "name": "stdout",
     "output_type": "stream",
     "text": [
      " X_tr,X_te  length - 3203 356 \n"
     ]
    }
   ],
   "source": [
    "# split dataset into train (input & label) test (input & label)\n",
    "from sklearn.model_selection import train_test_split\n",
    "\n",
    "X_tr, X_te, y_tr, y_te = train_test_split(X, y, test_size=0.1)\n",
    "print(\" X_tr,X_te  length - {} {} \".format(len(X_tr),len(X_te)))"
   ]
  },
  {
   "cell_type": "code",
   "execution_count": 273,
   "metadata": {},
   "outputs": [
    {
     "data": {
      "text/plain": [
       "list"
      ]
     },
     "execution_count": 273,
     "metadata": {},
     "output_type": "execute_result"
    }
   ],
   "source": [
    "## try word embedding format word2vec\n",
    "import multiprocessing\n",
    "import gensim\n",
    "\n",
    "from gensim.models import Word2Vec\n",
    "import logging\n",
    "from time import time\n",
    "\n",
    "import logging\n",
    "logging.basicConfig(format='%(asctime)s : %(levelname)s : %(message)s', level=logging.INFO)\n",
    "\n",
    "sentences = [[w[0] for w in sent] for sent in candidate_sentence]\n",
    "type(sentences)"
   ]
  },
  {
   "cell_type": "code",
   "execution_count": 274,
   "metadata": {},
   "outputs": [
    {
     "name": "stderr",
     "output_type": "stream",
     "text": [
      "2020-05-30 19:07:30,627 : INFO : collecting all words and their counts\n",
      "2020-05-30 19:07:30,629 : INFO : PROGRESS: at sentence #0, processed 0 words, keeping 0 word types\n",
      "2020-05-30 19:07:30,643 : INFO : collected 6254 word types from a corpus of 19827 raw words and 3559 sentences\n",
      "2020-05-30 19:07:30,645 : INFO : Loading a fresh vocabulary\n",
      "2020-05-30 19:07:30,655 : INFO : effective_min_count=5 retains 604 unique words (9% of original 6254, drops 5650)\n",
      "2020-05-30 19:07:30,657 : INFO : effective_min_count=5 leaves 11995 word corpus (60% of original 19827, drops 7832)\n",
      "2020-05-30 19:07:30,667 : INFO : deleting the raw counts dictionary of 6254 items\n",
      "2020-05-30 19:07:30,669 : INFO : sample=6e-05 downsamples 604 most-common words\n",
      "2020-05-30 19:07:30,671 : INFO : downsampling leaves estimated 2359 word corpus (19.7% of prior 11995)\n",
      "2020-05-30 19:07:30,676 : INFO : estimated required memory for 604 words and 300 dimensions: 1751600 bytes\n",
      "2020-05-30 19:07:30,677 : INFO : resetting layer weights\n"
     ]
    },
    {
     "name": "stdout",
     "output_type": "stream",
     "text": [
      "Time to build vocab: 0.0 mins\n"
     ]
    },
    {
     "data": {
      "text/plain": [
       "3559"
      ]
     },
     "execution_count": 274,
     "metadata": {},
     "output_type": "execute_result"
    }
   ],
   "source": [
    "cores = multiprocessing.cpu_count()\n",
    "cores\n",
    "\n",
    "w2v_model = Word2Vec(min_count=5,\n",
    "                     window=4,\n",
    "                     size=300,\n",
    "                     sample=6e-5, \n",
    "                     alpha=0.03, \n",
    "                     min_alpha=0.0007, \n",
    "                     negative=20,\n",
    "                     workers=cores-1)\n",
    "\n",
    "t = time()\n",
    "\n",
    "w2v_model.build_vocab(sentences, progress_per=10000)\n",
    "\n",
    "print('Time to build vocab: {} mins'.format(round((time() - t) / 60, 2)))\n",
    "w2v_model.corpus_count"
   ]
  },
  {
   "cell_type": "code",
   "execution_count": 275,
   "metadata": {},
   "outputs": [
    {
     "name": "stderr",
     "output_type": "stream",
     "text": [
      "2020-05-30 19:07:33,159 : INFO : training model with 3 workers on 604 vocabulary and 300 features, using sg=0 hs=0 sample=6e-05 negative=20 window=4\n",
      "2020-05-30 19:07:33,175 : INFO : worker thread finished; awaiting finish of 2 more threads\n",
      "2020-05-30 19:07:33,185 : INFO : worker thread finished; awaiting finish of 1 more threads\n",
      "2020-05-30 19:07:33,188 : INFO : worker thread finished; awaiting finish of 0 more threads\n",
      "2020-05-30 19:07:33,190 : INFO : EPOCH - 1 : training on 19827 raw words (2282 effective words) took 0.0s, 107869 effective words/s\n",
      "2020-05-30 19:07:33,207 : INFO : worker thread finished; awaiting finish of 2 more threads\n",
      "2020-05-30 19:07:33,221 : INFO : worker thread finished; awaiting finish of 1 more threads\n",
      "2020-05-30 19:07:33,225 : INFO : worker thread finished; awaiting finish of 0 more threads\n",
      "2020-05-30 19:07:33,226 : INFO : EPOCH - 2 : training on 19827 raw words (2350 effective words) took 0.0s, 101593 effective words/s\n",
      "2020-05-30 19:07:33,239 : INFO : worker thread finished; awaiting finish of 2 more threads\n",
      "2020-05-30 19:07:33,255 : INFO : worker thread finished; awaiting finish of 1 more threads\n",
      "2020-05-30 19:07:33,257 : INFO : worker thread finished; awaiting finish of 0 more threads\n",
      "2020-05-30 19:07:33,259 : INFO : EPOCH - 3 : training on 19827 raw words (2340 effective words) took 0.0s, 97518 effective words/s\n",
      "2020-05-30 19:07:33,276 : INFO : worker thread finished; awaiting finish of 2 more threads\n",
      "2020-05-30 19:07:33,285 : INFO : worker thread finished; awaiting finish of 1 more threads\n",
      "2020-05-30 19:07:33,289 : INFO : worker thread finished; awaiting finish of 0 more threads\n",
      "2020-05-30 19:07:33,290 : INFO : EPOCH - 4 : training on 19827 raw words (2302 effective words) took 0.0s, 118608 effective words/s\n",
      "2020-05-30 19:07:33,305 : INFO : worker thread finished; awaiting finish of 2 more threads\n",
      "2020-05-30 19:07:33,321 : INFO : worker thread finished; awaiting finish of 1 more threads\n",
      "2020-05-30 19:07:33,326 : INFO : worker thread finished; awaiting finish of 0 more threads\n",
      "2020-05-30 19:07:33,327 : INFO : EPOCH - 5 : training on 19827 raw words (2404 effective words) took 0.0s, 97221 effective words/s\n",
      "2020-05-30 19:07:33,349 : INFO : worker thread finished; awaiting finish of 2 more threads\n",
      "2020-05-30 19:07:33,356 : INFO : worker thread finished; awaiting finish of 1 more threads\n",
      "2020-05-30 19:07:33,360 : INFO : worker thread finished; awaiting finish of 0 more threads\n",
      "2020-05-30 19:07:33,361 : INFO : EPOCH - 6 : training on 19827 raw words (2284 effective words) took 0.0s, 101523 effective words/s\n",
      "2020-05-30 19:07:33,382 : INFO : worker thread finished; awaiting finish of 2 more threads\n",
      "2020-05-30 19:07:33,391 : INFO : worker thread finished; awaiting finish of 1 more threads\n",
      "2020-05-30 19:07:33,396 : INFO : worker thread finished; awaiting finish of 0 more threads\n",
      "2020-05-30 19:07:33,400 : INFO : EPOCH - 7 : training on 19827 raw words (2345 effective words) took 0.0s, 81157 effective words/s\n",
      "2020-05-30 19:07:33,410 : INFO : worker thread finished; awaiting finish of 2 more threads\n",
      "2020-05-30 19:07:33,427 : INFO : worker thread finished; awaiting finish of 1 more threads\n",
      "2020-05-30 19:07:33,432 : INFO : worker thread finished; awaiting finish of 0 more threads\n",
      "2020-05-30 19:07:33,435 : INFO : EPOCH - 8 : training on 19827 raw words (2332 effective words) took 0.0s, 84987 effective words/s\n",
      "2020-05-30 19:07:33,450 : INFO : worker thread finished; awaiting finish of 2 more threads\n",
      "2020-05-30 19:07:33,461 : INFO : worker thread finished; awaiting finish of 1 more threads\n",
      "2020-05-30 19:07:33,470 : INFO : worker thread finished; awaiting finish of 0 more threads\n",
      "2020-05-30 19:07:33,473 : INFO : EPOCH - 9 : training on 19827 raw words (2319 effective words) took 0.0s, 76388 effective words/s\n",
      "2020-05-30 19:07:33,486 : INFO : worker thread finished; awaiting finish of 2 more threads\n",
      "2020-05-30 19:07:33,501 : INFO : worker thread finished; awaiting finish of 1 more threads\n",
      "2020-05-30 19:07:33,506 : INFO : worker thread finished; awaiting finish of 0 more threads\n",
      "2020-05-30 19:07:33,508 : INFO : EPOCH - 10 : training on 19827 raw words (2341 effective words) took 0.0s, 85900 effective words/s\n",
      "2020-05-30 19:07:33,524 : INFO : worker thread finished; awaiting finish of 2 more threads\n",
      "2020-05-30 19:07:33,534 : INFO : worker thread finished; awaiting finish of 1 more threads\n",
      "2020-05-30 19:07:33,540 : INFO : worker thread finished; awaiting finish of 0 more threads\n",
      "2020-05-30 19:07:33,542 : INFO : EPOCH - 11 : training on 19827 raw words (2330 effective words) took 0.0s, 103447 effective words/s\n",
      "2020-05-30 19:07:33,569 : INFO : worker thread finished; awaiting finish of 2 more threads\n",
      "2020-05-30 19:07:33,573 : INFO : worker thread finished; awaiting finish of 1 more threads\n",
      "2020-05-30 19:07:33,578 : INFO : worker thread finished; awaiting finish of 0 more threads\n",
      "2020-05-30 19:07:33,580 : INFO : EPOCH - 12 : training on 19827 raw words (2364 effective words) took 0.0s, 228461 effective words/s\n",
      "2020-05-30 19:07:33,602 : INFO : worker thread finished; awaiting finish of 2 more threads\n",
      "2020-05-30 19:07:33,608 : INFO : worker thread finished; awaiting finish of 1 more threads\n",
      "2020-05-30 19:07:33,611 : INFO : worker thread finished; awaiting finish of 0 more threads\n",
      "2020-05-30 19:07:33,613 : INFO : EPOCH - 13 : training on 19827 raw words (2347 effective words) took 0.0s, 121046 effective words/s\n",
      "2020-05-30 19:07:33,629 : INFO : worker thread finished; awaiting finish of 2 more threads\n",
      "2020-05-30 19:07:33,641 : INFO : worker thread finished; awaiting finish of 1 more threads\n",
      "2020-05-30 19:07:33,646 : INFO : worker thread finished; awaiting finish of 0 more threads\n",
      "2020-05-30 19:07:33,650 : INFO : EPOCH - 14 : training on 19827 raw words (2350 effective words) took 0.0s, 83921 effective words/s\n",
      "2020-05-30 19:07:33,663 : INFO : worker thread finished; awaiting finish of 2 more threads\n",
      "2020-05-30 19:07:33,676 : INFO : worker thread finished; awaiting finish of 1 more threads\n",
      "2020-05-30 19:07:33,683 : INFO : worker thread finished; awaiting finish of 0 more threads\n",
      "2020-05-30 19:07:33,685 : INFO : EPOCH - 15 : training on 19827 raw words (2352 effective words) took 0.0s, 91226 effective words/s\n",
      "2020-05-30 19:07:33,696 : INFO : worker thread finished; awaiting finish of 2 more threads\n",
      "2020-05-30 19:07:33,710 : INFO : worker thread finished; awaiting finish of 1 more threads\n",
      "2020-05-30 19:07:33,718 : INFO : worker thread finished; awaiting finish of 0 more threads\n",
      "2020-05-30 19:07:33,719 : INFO : EPOCH - 16 : training on 19827 raw words (2307 effective words) took 0.0s, 88893 effective words/s\n",
      "2020-05-30 19:07:33,737 : INFO : worker thread finished; awaiting finish of 2 more threads\n",
      "2020-05-30 19:07:33,745 : INFO : worker thread finished; awaiting finish of 1 more threads\n",
      "2020-05-30 19:07:33,750 : INFO : worker thread finished; awaiting finish of 0 more threads\n",
      "2020-05-30 19:07:33,754 : INFO : EPOCH - 17 : training on 19827 raw words (2299 effective words) took 0.0s, 104858 effective words/s\n",
      "2020-05-30 19:07:33,773 : INFO : worker thread finished; awaiting finish of 2 more threads\n",
      "2020-05-30 19:07:33,780 : INFO : worker thread finished; awaiting finish of 1 more threads\n",
      "2020-05-30 19:07:33,787 : INFO : worker thread finished; awaiting finish of 0 more threads\n",
      "2020-05-30 19:07:33,789 : INFO : EPOCH - 18 : training on 19827 raw words (2373 effective words) took 0.0s, 123421 effective words/s\n",
      "2020-05-30 19:07:33,804 : INFO : worker thread finished; awaiting finish of 2 more threads\n",
      "2020-05-30 19:07:33,816 : INFO : worker thread finished; awaiting finish of 1 more threads\n",
      "2020-05-30 19:07:33,819 : INFO : worker thread finished; awaiting finish of 0 more threads\n",
      "2020-05-30 19:07:33,821 : INFO : EPOCH - 19 : training on 19827 raw words (2415 effective words) took 0.0s, 97263 effective words/s\n",
      "2020-05-30 19:07:33,846 : INFO : worker thread finished; awaiting finish of 2 more threads\n",
      "2020-05-30 19:07:33,853 : INFO : worker thread finished; awaiting finish of 1 more threads\n",
      "2020-05-30 19:07:33,855 : INFO : worker thread finished; awaiting finish of 0 more threads\n",
      "2020-05-30 19:07:33,856 : INFO : EPOCH - 20 : training on 19827 raw words (2436 effective words) took 0.0s, 114764 effective words/s\n"
     ]
    },
    {
     "name": "stderr",
     "output_type": "stream",
     "text": [
      "2020-05-30 19:07:33,870 : INFO : worker thread finished; awaiting finish of 2 more threads\n",
      "2020-05-30 19:07:33,889 : INFO : worker thread finished; awaiting finish of 1 more threads\n",
      "2020-05-30 19:07:33,893 : INFO : worker thread finished; awaiting finish of 0 more threads\n",
      "2020-05-30 19:07:33,895 : INFO : EPOCH - 21 : training on 19827 raw words (2397 effective words) took 0.0s, 82429 effective words/s\n",
      "2020-05-30 19:07:33,918 : INFO : worker thread finished; awaiting finish of 2 more threads\n",
      "2020-05-30 19:07:33,925 : INFO : worker thread finished; awaiting finish of 1 more threads\n",
      "2020-05-30 19:07:33,928 : INFO : worker thread finished; awaiting finish of 0 more threads\n",
      "2020-05-30 19:07:33,930 : INFO : EPOCH - 22 : training on 19827 raw words (2247 effective words) took 0.0s, 102606 effective words/s\n",
      "2020-05-30 19:07:33,943 : INFO : worker thread finished; awaiting finish of 2 more threads\n",
      "2020-05-30 19:07:33,972 : INFO : worker thread finished; awaiting finish of 1 more threads\n",
      "2020-05-30 19:07:33,974 : INFO : worker thread finished; awaiting finish of 0 more threads\n",
      "2020-05-30 19:07:33,975 : INFO : EPOCH - 23 : training on 19827 raw words (2381 effective words) took 0.0s, 68310 effective words/s\n",
      "2020-05-30 19:07:33,991 : INFO : worker thread finished; awaiting finish of 2 more threads\n",
      "2020-05-30 19:07:34,003 : INFO : worker thread finished; awaiting finish of 1 more threads\n",
      "2020-05-30 19:07:34,009 : INFO : worker thread finished; awaiting finish of 0 more threads\n",
      "2020-05-30 19:07:34,011 : INFO : EPOCH - 24 : training on 19827 raw words (2390 effective words) took 0.0s, 90252 effective words/s\n",
      "2020-05-30 19:07:34,024 : INFO : worker thread finished; awaiting finish of 2 more threads\n",
      "2020-05-30 19:07:34,045 : INFO : worker thread finished; awaiting finish of 1 more threads\n",
      "2020-05-30 19:07:34,055 : INFO : worker thread finished; awaiting finish of 0 more threads\n",
      "2020-05-30 19:07:34,058 : INFO : EPOCH - 25 : training on 19827 raw words (2447 effective words) took 0.0s, 64310 effective words/s\n",
      "2020-05-30 19:07:34,112 : INFO : worker thread finished; awaiting finish of 2 more threads\n",
      "2020-05-30 19:07:34,125 : INFO : worker thread finished; awaiting finish of 1 more threads\n",
      "2020-05-30 19:07:34,137 : INFO : worker thread finished; awaiting finish of 0 more threads\n",
      "2020-05-30 19:07:34,141 : INFO : EPOCH - 26 : training on 19827 raw words (2257 effective words) took 0.1s, 38868 effective words/s\n",
      "2020-05-30 19:07:34,172 : INFO : worker thread finished; awaiting finish of 2 more threads\n",
      "2020-05-30 19:07:34,178 : INFO : worker thread finished; awaiting finish of 1 more threads\n",
      "2020-05-30 19:07:34,188 : INFO : worker thread finished; awaiting finish of 0 more threads\n",
      "2020-05-30 19:07:34,189 : INFO : EPOCH - 27 : training on 19827 raw words (2367 effective words) took 0.0s, 135548 effective words/s\n",
      "2020-05-30 19:07:34,226 : INFO : worker thread finished; awaiting finish of 2 more threads\n",
      "2020-05-30 19:07:34,236 : INFO : worker thread finished; awaiting finish of 1 more threads\n",
      "2020-05-30 19:07:34,243 : INFO : worker thread finished; awaiting finish of 0 more threads\n",
      "2020-05-30 19:07:34,245 : INFO : EPOCH - 28 : training on 19827 raw words (2306 effective words) took 0.0s, 51551 effective words/s\n",
      "2020-05-30 19:07:34,269 : INFO : worker thread finished; awaiting finish of 2 more threads\n",
      "2020-05-30 19:07:34,275 : INFO : worker thread finished; awaiting finish of 1 more threads\n",
      "2020-05-30 19:07:34,283 : INFO : worker thread finished; awaiting finish of 0 more threads\n",
      "2020-05-30 19:07:34,287 : INFO : EPOCH - 29 : training on 19827 raw words (2331 effective words) took 0.0s, 116481 effective words/s\n",
      "2020-05-30 19:07:34,310 : INFO : worker thread finished; awaiting finish of 2 more threads\n",
      "2020-05-30 19:07:34,322 : INFO : worker thread finished; awaiting finish of 1 more threads\n",
      "2020-05-30 19:07:34,325 : INFO : worker thread finished; awaiting finish of 0 more threads\n",
      "2020-05-30 19:07:34,327 : INFO : EPOCH - 30 : training on 19827 raw words (2331 effective words) took 0.0s, 92133 effective words/s\n",
      "2020-05-30 19:07:34,328 : INFO : training on a 594810 raw words (70326 effective words) took 1.2s, 60297 effective words/s\n"
     ]
    },
    {
     "name": "stdout",
     "output_type": "stream",
     "text": [
      "Time to train the model: 0.02 mins\n"
     ]
    }
   ],
   "source": [
    "t = time()\n",
    "\n",
    "w2v_model.train(sentences, total_examples=w2v_model.corpus_count, epochs=30, report_delay=1)\n",
    "\n",
    "print('Time to train the model: {} mins'.format(round((time() - t) / 60, 2)))"
   ]
  },
  {
   "cell_type": "code",
   "execution_count": null,
   "metadata": {},
   "outputs": [],
   "source": []
  },
  {
   "cell_type": "code",
   "execution_count": 276,
   "metadata": {},
   "outputs": [
    {
     "name": "stdout",
     "output_type": "stream",
     "text": [
      "604\n"
     ]
    }
   ],
   "source": [
    "import gensim\n",
    "word_vectors  = w2v_model.wv\n",
    "\n",
    "MAX_NB_WORDS = len(word_vectors.vocab)\n",
    "WV_DIM = 50\n",
    "\n",
    "nb_words = min(MAX_NB_WORDS, len(word_vectors.vocab))\n",
    "\n",
    "# we initialize the matrix with random numbers\n",
    "wv_matrix = (np.random.rand(n_words, WV_DIM) - 0.5) / 5.0\n",
    "for word, i in word2idx.items():\n",
    "    if i >= MAX_NB_WORDS:\n",
    "        continue\n",
    "    try:\n",
    "        embedding_vector = word_vectors[word]\n",
    "        # words not found in embedding index will be all-zeros.\n",
    "        wv_matrix[i] = embedding_vector\n",
    "    except:\n",
    "        pass\n",
    "print(MAX_NB_WORDS)"
   ]
  },
  {
   "cell_type": "code",
   "execution_count": 277,
   "metadata": {},
   "outputs": [],
   "source": [
    "from keras.layers import Embedding\n",
    "import tensorflow as tf\n",
    "tf.compat.v1.disable_v2_behavior()\n",
    "\n",
    "test_sentence = [\"html\"]\n",
    "#model =  tf.keras.models.load_model(\"./saved_model/lstm_ner_model_F1_37_3.h5\")\n",
    "embedding_layer = Embedding(n_words,\n",
    "                     WV_DIM,\n",
    "                     mask_zero=True,\n",
    "                     weights=[wv_matrix],\n",
    "                     input_length=max_len,\n",
    "                     trainable=False)"
   ]
  },
  {
   "cell_type": "code",
   "execution_count": 279,
   "metadata": {},
   "outputs": [
    {
     "name": "stdout",
     "output_type": "stream",
     "text": [
      "Model: \"model_19\"\n",
      "_________________________________________________________________\n",
      "Layer (type)                 Output Shape              Param #   \n",
      "=================================================================\n",
      "input_21 (InputLayer)        (None, 75)                0         \n",
      "_________________________________________________________________\n",
      "embedding_17 (Embedding)     (None, 75, 50)            312750    \n",
      "_________________________________________________________________\n",
      "spatial_dropout1d_19 (Spatia (None, 75, 50)            0         \n",
      "_________________________________________________________________\n",
      "bidirectional_19 (Bidirectio (None, 75, 200)           120800    \n",
      "_________________________________________________________________\n",
      "time_distributed_19 (TimeDis (None, 75, 11)            2211      \n",
      "=================================================================\n",
      "Total params: 435,761\n",
      "Trainable params: 123,011\n",
      "Non-trainable params: 312,750\n",
      "_________________________________________________________________\n"
     ]
    }
   ],
   "source": [
    "from keras.models import Model, Input\n",
    "from keras.layers import LSTM, Embedding, Dense, TimeDistributed, Dropout, Bidirectional,SpatialDropout1D\n",
    "from keras.layers.normalization import BatchNormalization\n",
    "\n",
    "input = Input(shape=(max_len,))\n",
    "#model = Embedding(input_dim=n_words + 1, output_dim=50,input_length=max_len, mask_zero=True)(input)\n",
    "model = embedding_layer(input)\n",
    "model = SpatialDropout1D(0.2)(model)\n",
    "model = Bidirectional(LSTM(units=100, return_sequences=True,recurrent_dropout=0.1))(model)  # variational biLSTM\n",
    "out = TimeDistributed(Dense(n_tags, activation=\"softmax\"))(model)  # softmax output layer\n",
    "\n",
    "model = Model(input, out)\n",
    "model.summary()\n"
   ]
  },
  {
   "cell_type": "code",
   "execution_count": 280,
   "metadata": {},
   "outputs": [],
   "source": [
    "model.compile(optimizer=\"rmsprop\", loss=\"categorical_crossentropy\", metrics=[\"accuracy\"])"
   ]
  },
  {
   "cell_type": "code",
   "execution_count": 281,
   "metadata": {
    "scrolled": false
   },
   "outputs": [
    {
     "name": "stdout",
     "output_type": "stream",
     "text": [
      "Train on 2242 samples, validate on 961 samples\n",
      "Epoch 1/10\n",
      "2242/2242 [==============================] - 18s 8ms/step - loss: 0.8981 - accuracy: 0.8512 - val_loss: 0.1462 - val_accuracy: 0.9697\n",
      "Epoch 2/10\n",
      "2242/2242 [==============================] - 16s 7ms/step - loss: 0.1637 - accuracy: 0.9614 - val_loss: 0.1290 - val_accuracy: 0.9697\n",
      "Epoch 3/10\n",
      "2242/2242 [==============================] - 17s 7ms/step - loss: 0.1535 - accuracy: 0.9614 - val_loss: 0.1213 - val_accuracy: 0.9697\n",
      "Epoch 4/10\n",
      "2242/2242 [==============================] - 17s 8ms/step - loss: 0.1498 - accuracy: 0.9614 - val_loss: 0.1246 - val_accuracy: 0.9697\n",
      "Epoch 5/10\n",
      "2242/2242 [==============================] - 17s 7ms/step - loss: 0.1366 - accuracy: 0.9615 - val_loss: 0.1109 - val_accuracy: 0.9699\n",
      "Epoch 6/10\n",
      "2242/2242 [==============================] - 17s 8ms/step - loss: 0.1358 - accuracy: 0.9619 - val_loss: 0.1080 - val_accuracy: 0.9706\n",
      "Epoch 7/10\n",
      "2242/2242 [==============================] - 17s 8ms/step - loss: 0.1249 - accuracy: 0.9638 - val_loss: 0.1179 - val_accuracy: 0.9726\n",
      "Epoch 8/10\n",
      "2242/2242 [==============================] - 17s 8ms/step - loss: 0.1212 - accuracy: 0.9672 - val_loss: 0.1055 - val_accuracy: 0.9723\n",
      "Epoch 9/10\n",
      "2242/2242 [==============================] - 17s 8ms/step - loss: 0.1174 - accuracy: 0.9680 - val_loss: 0.0997 - val_accuracy: 0.9726\n",
      "Epoch 10/10\n",
      "2242/2242 [==============================] - 18s 8ms/step - loss: 0.1140 - accuracy: 0.9677 - val_loss: 0.0979 - val_accuracy: 0.9725\n"
     ]
    }
   ],
   "source": [
    "history = model.fit(X_tr, np.array(y_tr), batch_size=256, epochs=10, validation_split=0.3, verbose=1,shuffle=True)"
   ]
  },
  {
   "cell_type": "code",
   "execution_count": 282,
   "metadata": {},
   "outputs": [
    {
     "data": {
      "image/png": "[encoded data removed]",
      "text/plain": [
       "<Figure size 864x720 with 4 Axes>"
      ]
     },
     "metadata": {
      "needs_background": "light"
     },
     "output_type": "display_data"
    }
   ],
   "source": [
    "def plot_metrics(history):\n",
    "    metrics =  ['accuracy', 'val_accuracy', 'loss', 'val_loss']\n",
    "    for n, metric in enumerate(metrics):\n",
    "        name = metric.replace(\"_\",\" \").capitalize()\n",
    "        plt.subplot(2,2,n+1)\n",
    "        plt.plot(history.epoch,  history.history[metric], color=colors[0], label='Train')\n",
    "        plt.plot(history.epoch, history.history[metric],\n",
    "             color=colors[0], linestyle=\"--\", label='Val')\n",
    "        plt.xlabel('Epoch')\n",
    "        plt.ylabel(name)\n",
    "        if metric == 'loss':\n",
    "              plt.ylim([0, plt.ylim()[1]])\n",
    "        elif metric == 'auc':\n",
    "              plt.ylim([0.8,1])\n",
    "        else:\n",
    "              plt.ylim([0,1])\n",
    "\n",
    "    plt.legend()\n",
    "plot_metrics(history)"
   ]
  },
  {
   "cell_type": "code",
   "execution_count": 283,
   "metadata": {},
   "outputs": [
    {
     "name": "stdout",
     "output_type": "stream",
     "text": [
      "356/356 [==============================] - 3s 7ms/step\n",
      "F1-score: 39.7%\n",
      "                     precision    recall  f1-score   support\n",
      "\n",
      "       COLLEGE_NAME       0.00      0.00      0.00        17\n",
      "             SKILLS       0.46      0.55      0.50       406\n",
      "               DATE       0.00      0.00      0.00        75\n",
      "COMPANIES_WORKED_AT       0.00      0.00      0.00        32\n",
      "YEARS_OF_EXPERIENCE       0.00      0.00      0.00        40\n",
      "             PROFIL       0.00      0.00      0.00        20\n",
      "             DEGREE       0.00      0.00      0.00        19\n",
      "           LOCATION       0.00      0.00      0.00        17\n",
      "               NAME       0.00      0.00      0.00         7\n",
      "      EMAIL_ADDRESS       0.00      0.00      0.00        11\n",
      "\n",
      "          micro avg       0.46      0.35      0.40       644\n",
      "          macro avg       0.29      0.35      0.32       644\n",
      "\n"
     ]
    }
   ],
   "source": [
    "from sklearn_crfsuite import scorers\n",
    "from sklearn_crfsuite import metrics\n",
    "from seqeval.metrics import precision_score, recall_score, f1_score, classification_report\n",
    "\n",
    "idx2tag = {i: w for w, i in tag2idx.items()}\n",
    "\n",
    "def pred2label(pred):\n",
    "    out = []\n",
    "    for pred_i in pred:\n",
    "        out_i = []\n",
    "        for p in pred_i:\n",
    "            p_i = np.argmax(p)\n",
    "            out_i.append(idx2tag[p_i].replace(\"PAD\", \"O\"))\n",
    "        out.append(out_i)\n",
    "    return out\n",
    "\n",
    "\n",
    "y_pred = model.predict(X_te,verbose=1)\n",
    "\n",
    "pred_labels = pred2label(y_pred)\n",
    "test_labels = pred2label(y_te)\n",
    "\n",
    "print(\"F1-score: {:.1%}\".format(f1_score(test_labels, pred_labels)))\n",
    " \n",
    "print(classification_report(test_labels, pred_labels))"
   ]
  },
  {
   "cell_type": "code",
   "execution_count": null,
   "metadata": {},
   "outputs": [],
   "source": []
  },
  {
   "cell_type": "code",
   "execution_count": 285,
   "metadata": {},
   "outputs": [
    {
     "name": "stdout",
     "output_type": "stream",
     "text": [
      "Word            (True ): Pred\n",
      "Configuration  : O\n",
      "ENDPAD         : O\n",
      "ENDPAD         : O\n",
      "ENDPAD         : O\n",
      "ENDPAD         : O\n",
      "ENDPAD         : O\n",
      "ENDPAD         : O\n",
      "ENDPAD         : O\n",
      "ENDPAD         : O\n",
      "ENDPAD         : O\n",
      "ENDPAD         : O\n",
      "ENDPAD         : O\n",
      "ENDPAD         : O\n",
      "ENDPAD         : O\n",
      "ENDPAD         : O\n",
      "ENDPAD         : O\n",
      "ENDPAD         : O\n",
      "ENDPAD         : O\n",
      "ENDPAD         : O\n",
      "ENDPAD         : O\n",
      "ENDPAD         : O\n",
      "ENDPAD         : O\n",
      "ENDPAD         : O\n",
      "ENDPAD         : O\n",
      "ENDPAD         : O\n",
      "ENDPAD         : O\n",
      "ENDPAD         : O\n",
      "ENDPAD         : O\n",
      "ENDPAD         : O\n",
      "ENDPAD         : O\n",
      "ENDPAD         : O\n",
      "ENDPAD         : O\n",
      "ENDPAD         : O\n",
      "ENDPAD         : O\n",
      "ENDPAD         : O\n",
      "ENDPAD         : O\n",
      "ENDPAD         : O\n",
      "ENDPAD         : O\n",
      "ENDPAD         : O\n",
      "ENDPAD         : O\n",
      "ENDPAD         : O\n",
      "ENDPAD         : O\n",
      "ENDPAD         : O\n",
      "ENDPAD         : O\n",
      "ENDPAD         : O\n",
      "ENDPAD         : O\n",
      "ENDPAD         : O\n",
      "ENDPAD         : O\n",
      "ENDPAD         : O\n",
      "ENDPAD         : O\n",
      "ENDPAD         : O\n",
      "ENDPAD         : O\n",
      "ENDPAD         : O\n",
      "ENDPAD         : O\n",
      "ENDPAD         : O\n",
      "ENDPAD         : O\n",
      "ENDPAD         : O\n",
      "ENDPAD         : O\n",
      "ENDPAD         : O\n",
      "ENDPAD         : O\n",
      "ENDPAD         : O\n",
      "ENDPAD         : O\n",
      "ENDPAD         : O\n",
      "ENDPAD         : O\n",
      "ENDPAD         : O\n",
      "ENDPAD         : O\n",
      "ENDPAD         : O\n",
      "ENDPAD         : O\n",
      "ENDPAD         : O\n",
      "ENDPAD         : O\n",
      "ENDPAD         : O\n",
      "ENDPAD         : O\n",
      "ENDPAD         : O\n",
      "ENDPAD         : O\n",
      "ENDPAD         : O\n"
     ]
    }
   ],
   "source": [
    "i = 59\n",
    "p = model.predict(np.array([X_te[i]]))\n",
    "p = np.argmax(p, axis=-1)\n",
    "print(\"{:15} ({:5}): {}\".format(\"Word\", \"True\", \"Pred\"))\n",
    "for w, pred in zip(X_te[i], p[0]):\n",
    "    print(\"{:15}: {}\".format(words[w], tags[pred]))"
   ]
  },
  {
   "cell_type": "code",
   "execution_count": 288,
   "metadata": {},
   "outputs": [
    {
     "name": "stdout",
     "output_type": "stream",
     "text": [
      "[ 1.78639152  5.82363636  6.06628788  3.16501976  8.56417112  5.02037618\n",
      " 13.86580087  0.1112655  13.86580087  5.39225589  6.47070707]\n"
     ]
    }
   ],
   "source": [
    "from sklearn.utils import class_weight\n",
    "y_ints = [y.argmax() for y in y_tr]\n",
    "value = class_weight.compute_class_weight('balanced',\n",
    "                                                 np.unique(y_ints),\n",
    "                                                 y_ints)\n",
    "print(value)\n",
    "model.compile(optimizer=\"rmsprop\", loss=\"categorical_crossentropy\", metrics=[\"accuracy\"])"
   ]
  },
  {
   "cell_type": "code",
   "execution_count": 289,
   "metadata": {},
   "outputs": [
    {
     "name": "stdout",
     "output_type": "stream",
     "text": [
      "Train on 2242 samples, validate on 961 samples\n",
      "Epoch 1/5\n",
      "2242/2242 [==============================] - 18s 8ms/step - loss: 0.1170 - accuracy: 0.9660 - val_loss: 0.0972 - val_accuracy: 0.9721\n",
      "Epoch 2/5\n",
      "2242/2242 [==============================] - 16s 7ms/step - loss: 0.1087 - accuracy: 0.9684 - val_loss: 0.0958 - val_accuracy: 0.9726\n",
      "Epoch 3/5\n",
      "2242/2242 [==============================] - 17s 8ms/step - loss: 0.1074 - accuracy: 0.9688 - val_loss: 0.0938 - val_accuracy: 0.9727\n",
      "Epoch 4/5\n",
      "2242/2242 [==============================] - 21s 9ms/step - loss: 0.1059 - accuracy: 0.9686 - val_loss: 0.0973 - val_accuracy: 0.9716\n",
      "Epoch 5/5\n",
      "2242/2242 [==============================] - 21s 9ms/step - loss: 0.1046 - accuracy: 0.9688 - val_loss: 0.0921 - val_accuracy: 0.9730\n"
     ]
    }
   ],
   "source": [
    "history = model.fit(X_tr, np.array(y_tr), batch_size=128,epochs=5, shuffle=True,validation_split=0.3, verbose=1,class_weight=value)"
   ]
  },
  {
   "cell_type": "code",
   "execution_count": 290,
   "metadata": {},
   "outputs": [
    {
     "name": "stdout",
     "output_type": "stream",
     "text": [
      "356/356 [==============================] - 3s 8ms/step\n",
      "F1-score: 42.2%\n",
      "                     precision    recall  f1-score   support\n",
      "\n",
      "       COLLEGE_NAME       0.00      0.00      0.00        17\n",
      "             SKILLS       0.51      0.58      0.54       406\n",
      "               DATE       0.00      0.00      0.00        75\n",
      "COMPANIES_WORKED_AT       0.00      0.00      0.00        32\n",
      "YEARS_OF_EXPERIENCE       0.00      0.00      0.00        40\n",
      "             PROFIL       0.00      0.00      0.00        20\n",
      "             DEGREE       0.00      0.00      0.00        19\n",
      "           LOCATION       0.00      0.00      0.00        17\n",
      "               NAME       0.00      0.00      0.00         7\n",
      "      EMAIL_ADDRESS       0.00      0.00      0.00        11\n",
      "\n",
      "          micro avg       0.50      0.36      0.42       644\n",
      "          macro avg       0.32      0.36      0.34       644\n",
      "\n"
     ]
    }
   ],
   "source": [
    "from sklearn_crfsuite import scorers\n",
    "from sklearn_crfsuite import metrics\n",
    "from seqeval.metrics import precision_score, recall_score, f1_score, classification_report\n",
    "\n",
    "idx2tag = {i: w for w, i in tag2idx.items()}\n",
    "\n",
    "def pred2label(pred):\n",
    "    out = []\n",
    "    for pred_i in pred:\n",
    "        out_i = []\n",
    "        for p in pred_i:\n",
    "            p_i = np.argmax(p)\n",
    "            out_i.append(idx2tag[p_i].replace(\"PAD\", \"O\"))\n",
    "        out.append(out_i)\n",
    "    return out\n",
    "\n",
    "\n",
    "y_pred = model.predict(X_te,verbose=1)\n",
    "\n",
    "pred_labels = pred2label(y_pred)\n",
    "test_labels = pred2label(y_te)\n",
    "\n",
    "print(\"F1-score: {:.1%}\".format(f1_score(test_labels, pred_labels)))\n",
    " \n",
    "print(classification_report(test_labels, pred_labels))"
   ]
  },
  {
   "cell_type": "code",
   "execution_count": 299,
   "metadata": {},
   "outputs": [
    {
     "data": {
      "text/plain": [
       "['Skills',\n",
       " 'Email Address',\n",
       " 'Name',\n",
       " 'Degree',\n",
       " 'Companies worked at',\n",
       " 'Duration',\n",
       " 'O',\n",
       " 'Profil',\n",
       " 'College Name',\n",
       " 'Location',\n",
       " 'Date']"
      ]
     },
     "execution_count": 299,
     "metadata": {},
     "output_type": "execute_result"
    }
   ],
   "source": [
    "t1 =[\"Amadou\",\"NDIAYE\",\"23\",\"years\",\"old\",\"Research\",\"and\",\"Development\",\"Engineer\",\"Training\",\"2016\",\"2019\",\"Diploma\",\"of\",\"Design\",\"Engineer\",\"in\",\"Telecommunications\",\"and\",\"Networks\",\"DIC\",\"Ecole\",\"Supérieure\",\"Polytechnique\",\"de\",\"Dakar\",\"ESP\",\"2014\",\"2016\"]\n",
    "t2 = [\"University\",\n",
    "\"Diploma\",\n",
    "\"of\",\n",
    "\"Technology\",\n",
    "\"in\",\n",
    "\"Telecommunications\",\n",
    "\"and\",\n",
    "\"Networks\",\n",
    "\"DUT\",\n",
    "\"Ecole\",\n",
    "\"Supérieure\",\n",
    "\"Polytechnique\",\n",
    "\"de\",\n",
    "\"Dakar\",\n",
    "\"ESP\",\n",
    "\"2013\",\n",
    "\"2014\",\n",
    "\"Baccalaureate\",\n",
    "\"Series\",\n",
    "\"S1\",\n",
    "\"Sangalcam\",\n",
    "\"High\",\n",
    "\"School\"]\n",
    "t3 =[\n",
    "\"Languages\",\n",
    "\"English\",\n",
    "\"Professional\",\n",
    "\"French\",\n",
    "\"Fluent\",\n",
    "\"Wolof\",\n",
    "\"Fluent\",\n",
    "\"Pular\",\n",
    "\"native\",\n",
    "\"Technical\",\n",
    "\"skills\",\n",
    "\"BIG\",\n",
    "\"DATA\",\n",
    "\"Hadoop\",\n",
    "\"2\",\n",
    "\"Sqoop\",\n",
    "\"2\",\n",
    "\"Storm\",\n",
    "\"2\",\n",
    "\"Avro\",\n",
    "\"1\",\n",
    "\"5\",\n",
    "\"Nifi\",\n",
    "\"1\",\n",
    "\"5\",\n",
    "\"Ambari\",\n",
    "\"1\",\n",
    "\"5\",\n",
    "\"AWS\"]\n",
    "t4 = [\n",
    "\"BIG\",     \n",
    "\"DATA\",    \n",
    "\"platform\",\n",
    "\"for\",     \n",
    "\"Atos\",    \n",
    "\"Senegal\", \n",
    "\"Mission\", \n",
    "\"s\",\n",
    "\"and\",     \n",
    "\"Implementation\", \n",
    "\"of\",      \n",
    "\"Ambari\",  \n",
    "\"in\",      \n",
    "\"a\",\n",
    "\"6\",\n",
    "\"node\",    \n",
    "\"cluster\", \n",
    "\"achievements\",   \n",
    "\"Installation\",   \n",
    "\"of\",      \n",
    "\"Hortonworks\",    \n",
    "\"Data\",    \n",
    "\"Platform\",\n",
    "\"and\",     \n",
    "\"various\", \n",
    "\"services\",\n",
    "\"HDFS\",    \n",
    "\"YARN\",    \n",
    "\"HIVE\",    \n",
    "\"SPARK\",   \n",
    "\"SQOOP\",   \n",
    "\"on\",      \n",
    "\"the\",     \n",
    "\"cluster\", \n",
    "\"Cluster\", \n",
    "\"administration\", \n",
    "\"user\",    \n",
    "\"management\"     \n",
    "\"file\",    \n",
    "\"and\",     \n",
    "\"service\", \n",
    "\"access\",  \n",
    "\"management\",     \n",
    "\"Environment\",    \n",
    "\"Centos\",  \n",
    "\"7\",\n",
    "\"Hortonworks\"    \n",
    "    \n",
    "]\n",
    "import json\n",
    "from tensorflow.keras.preprocessing.sequence import pad_sequences\n",
    "word2idx = {}\n",
    "max_len = 50\n",
    "\n",
    "\n",
    "with open(\"../app/word2idx.json\", \"r\", encoding=\"utf-8\") as f:\n",
    "    word2idx = json.load(f)\n",
    "\n",
    "with open(\"../app/tag2idx.json\", \"r\", encoding=\"utf-8\") as f:\n",
    "    tag2idx = json.load(f)\n",
    "tags = tag2idx.keys()\n",
    "\n",
    "tags = list(tag2idx.keys())\n",
    "tags"
   ]
  },
  {
   "cell_type": "code",
   "execution_count": 293,
   "metadata": {
    "scrolled": true
   },
   "outputs": [
    {
     "name": "stdout",
     "output_type": "stream",
     "text": [
      "WARNING:tensorflow:From C:\\Users\\Cheikh\\Anaconda3\\envs\\tensorflow\\lib\\site-packages\\tensorflow_core\\python\\keras\\initializers.py:119: calling RandomUniform.__init__ (from tensorflow.python.ops.init_ops) with dtype is deprecated and will be removed in a future version.\n",
      "Instructions for updating:\n",
      "Call initializer instance with the dtype argument instead of passing it to the constructor\n"
     ]
    },
    {
     "name": "stderr",
     "output_type": "stream",
     "text": [
      "2020-05-30 19:17:07,471 : WARNING : From C:\\Users\\Cheikh\\Anaconda3\\envs\\tensorflow\\lib\\site-packages\\tensorflow_core\\python\\keras\\initializers.py:119: calling RandomUniform.__init__ (from tensorflow.python.ops.init_ops) with dtype is deprecated and will be removed in a future version.\n",
      "Instructions for updating:\n",
      "Call initializer instance with the dtype argument instead of passing it to the constructor\n"
     ]
    },
    {
     "name": "stdout",
     "output_type": "stream",
     "text": [
      "WARNING:tensorflow:From C:\\Users\\Cheikh\\Anaconda3\\envs\\tensorflow\\lib\\site-packages\\tensorflow_core\\python\\ops\\init_ops.py:97: calling VarianceScaling.__init__ (from tensorflow.python.ops.init_ops) with dtype is deprecated and will be removed in a future version.\n",
      "Instructions for updating:\n",
      "Call initializer instance with the dtype argument instead of passing it to the constructor\n"
     ]
    },
    {
     "name": "stderr",
     "output_type": "stream",
     "text": [
      "2020-05-30 19:17:07,483 : WARNING : From C:\\Users\\Cheikh\\Anaconda3\\envs\\tensorflow\\lib\\site-packages\\tensorflow_core\\python\\ops\\init_ops.py:97: calling VarianceScaling.__init__ (from tensorflow.python.ops.init_ops) with dtype is deprecated and will be removed in a future version.\n",
      "Instructions for updating:\n",
      "Call initializer instance with the dtype argument instead of passing it to the constructor\n"
     ]
    },
    {
     "name": "stdout",
     "output_type": "stream",
     "text": [
      "WARNING:tensorflow:From C:\\Users\\Cheikh\\Anaconda3\\envs\\tensorflow\\lib\\site-packages\\tensorflow_core\\python\\ops\\init_ops.py:97: calling Orthogonal.__init__ (from tensorflow.python.ops.init_ops) with dtype is deprecated and will be removed in a future version.\n",
      "Instructions for updating:\n",
      "Call initializer instance with the dtype argument instead of passing it to the constructor\n"
     ]
    },
    {
     "name": "stderr",
     "output_type": "stream",
     "text": [
      "2020-05-30 19:17:07,486 : WARNING : From C:\\Users\\Cheikh\\Anaconda3\\envs\\tensorflow\\lib\\site-packages\\tensorflow_core\\python\\ops\\init_ops.py:97: calling Orthogonal.__init__ (from tensorflow.python.ops.init_ops) with dtype is deprecated and will be removed in a future version.\n",
      "Instructions for updating:\n",
      "Call initializer instance with the dtype argument instead of passing it to the constructor\n"
     ]
    },
    {
     "name": "stdout",
     "output_type": "stream",
     "text": [
      "WARNING:tensorflow:From C:\\Users\\Cheikh\\Anaconda3\\envs\\tensorflow\\lib\\site-packages\\tensorflow_core\\python\\ops\\init_ops.py:97: calling Zeros.__init__ (from tensorflow.python.ops.init_ops) with dtype is deprecated and will be removed in a future version.\n",
      "Instructions for updating:\n",
      "Call initializer instance with the dtype argument instead of passing it to the constructor\n"
     ]
    },
    {
     "name": "stderr",
     "output_type": "stream",
     "text": [
      "2020-05-30 19:17:07,489 : WARNING : From C:\\Users\\Cheikh\\Anaconda3\\envs\\tensorflow\\lib\\site-packages\\tensorflow_core\\python\\ops\\init_ops.py:97: calling Zeros.__init__ (from tensorflow.python.ops.init_ops) with dtype is deprecated and will be removed in a future version.\n",
      "Instructions for updating:\n",
      "Call initializer instance with the dtype argument instead of passing it to the constructor\n"
     ]
    }
   ],
   "source": [
    "import keras\n",
    "import tensorflow as tf\n",
    "import numpy as np\n",
    "model2 =  tf.keras.models.load_model(\"../models/saved_model/lstm_ner_model_F1_37_3.h5\")"
   ]
  },
  {
   "cell_type": "code",
   "execution_count": 296,
   "metadata": {},
   "outputs": [
    {
     "name": "stdout",
     "output_type": "stream",
     "text": [
      "50\n",
      "Word           ||Prediction\n",
      "==============================\n",
      "Languages      : O    \n",
      "English        : Skills\n",
      "Professional   : O    \n",
      "French         : O    \n",
      "Fluent         : O    \n",
      "Wolof          : O    \n",
      "Fluent         : O    \n",
      "Pular          : O    \n",
      "native         : O    \n",
      "Technical      : Skills\n",
      "skills         : O    \n",
      "BIG            : O    \n",
      "DATA           : Skills\n",
      "Hadoop         : Skills\n",
      "2              : Skills\n",
      "Sqoop          : O    \n",
      "2              : Skills\n",
      "Storm          : O    \n",
      "2              : Skills\n",
      "Avro           : O    \n",
      "1              : Duration\n",
      "5              : Duration\n",
      "Nifi           : O    \n",
      "1              : Duration\n",
      "5              : Duration\n",
      "Ambari         : O    \n",
      "1              : Duration\n",
      "5              : Duration\n",
      "AWS            : Skills\n"
     ]
    }
   ],
   "source": [
    "\n",
    "test_sentence = t3\n",
    "print(max_len)\n",
    "x_test_sent = pad_sequences(sequences=[[word2idx.get(w, 0) for w in test_sentence]],\n",
    "                            padding=\"post\", value=0, maxlen=50)\n",
    "\n",
    "p = model2.predict(np.array([x_test_sent[0]]))\n",
    "\n",
    "p = np.argmax(p, axis=-1)\n",
    "print(\"{:15}||{}\".format(\"Word\", \"Prediction\"))\n",
    "print(30 * \"=\")\n",
    "for w, pred in zip(test_sentence, p[0]):\n",
    "    print(\"{:15}: {:5}\".format(w, tags[pred]))\n",
    "sequences=[[word2idx.get(w, 0) for w in test_sentence]]"
   ]
  },
  {
   "cell_type": "code",
   "execution_count": 300,
   "metadata": {},
   "outputs": [
    {
     "name": "stdout",
     "output_type": "stream",
     "text": [
      "Amadou         : O    \n",
      "NDIAYE         : O    \n",
      "23             : O    \n",
      "years          : O    \n",
      "old            : O    \n",
      "Research       : O    \n",
      "and            : O    \n",
      "Development    : O    \n",
      "Engineer       : O    \n",
      "Training       : O    \n",
      "2016           : O    \n",
      "2019           : O    \n",
      "Diploma        : Degree\n",
      "of             : O    \n",
      "Design         : O    \n",
      "Engineer       : Profil\n",
      "in             : O    \n",
      "Telecommunications: O    \n",
      "and            : O    \n",
      "Networks       : O    \n",
      "DIC            : O    \n",
      "Ecole          : O    \n",
      "Supérieure     : O    \n",
      "Polytechnique  : O    \n",
      "de             : O    \n",
      "Dakar          : O    \n",
      "ESP            : O    \n",
      "2014           : Date \n",
      "2016           : Date \n",
      "University     : College Name\n",
      "Diploma        : Degree\n",
      "of             : Degree\n",
      "Technology     : Degree\n",
      "in             : Degree\n",
      "Telecommunications: O    \n",
      "and            : O    \n",
      "Networks       : O    \n",
      "DUT            : O    \n",
      "Ecole          : O    \n",
      "Supérieure     : O    \n",
      "Polytechnique  : O    \n",
      "de             : O    \n",
      "Dakar          : O    \n",
      "ESP            : O    \n",
      "2013           : Date \n",
      "2014           : Date \n",
      "Baccalaureate  : O    \n",
      "Series         : O    \n",
      "S1             : O    \n",
      "Sangalcam      : O    \n",
      "High           : College Name\n",
      "School         : College Name\n",
      "Languages      : O    \n",
      "English        : Skills\n",
      "Professional   : O    \n",
      "French         : O    \n",
      "Fluent         : O    \n",
      "Wolof          : O    \n",
      "Fluent         : O    \n",
      "Pular          : O    \n",
      "native         : O    \n",
      "Technical      : Skills\n",
      "skills         : O    \n",
      "BIG            : O    \n",
      "DATA           : Skills\n",
      "Hadoop         : Skills\n",
      "2              : Skills\n",
      "Sqoop          : O    \n",
      "2              : Skills\n",
      "Storm          : O    \n",
      "2              : Skills\n",
      "Avro           : O    \n",
      "1              : Duration\n",
      "5              : Duration\n",
      "Nifi           : O    \n",
      "1              : Duration\n",
      "5              : Duration\n",
      "Ambari         : O    \n",
      "1              : Duration\n",
      "5              : Duration\n",
      "AWS            : Skills\n"
     ]
    }
   ],
   "source": [
    "\n",
    "sequences = [t1,t2,t3]\n",
    "pred_dict = {}\n",
    "for seq in sequences:\n",
    "        pred_sentence = pad_sequences(sequences=[[word2idx.get(w, 0) for w in seq]],\n",
    "                                      padding=\"post\", value=0, maxlen=50)\n",
    "        p = model2.predict(np.array([pred_sentence[0]]))\n",
    "        p = np.argmax(p, axis=-1)\n",
    "        for w, pred in zip(seq, p[0]):\n",
    "            pred_dict[w] = tags[pred]\n",
    "            print(\"{:15}: {:5}\".format(w, tags[pred]))"
   ]
  },
  {
   "cell_type": "code",
   "execution_count": 309,
   "metadata": {},
   "outputs": [
    {
     "name": "stderr",
     "output_type": "stream",
     "text": [
      "2020-05-30 19:36:13,172 : INFO : loading Phrases object from ../models/saved_model/phraser\n",
      "2020-05-30 19:36:13,300 : INFO : loaded ../models/saved_model/phraser\n"
     ]
    },
    {
     "name": "stdout",
     "output_type": "stream",
     "text": [
      "['amadou', 'ndiaye', '23', 'years', 'old', 'research', 'and', 'development', 'engineer', 'training', '2016', '2019', 'diploma', 'of', 'design_engineer', 'in', 'telecommunications', 'and', 'networks', 'dic', 'ecole', 'supérieure', 'polytechnique', 'de', 'dakar', 'esp', '2014', '2016']\n"
     ]
    }
   ],
   "source": [
    "import gensim\n",
    "phraser = gensim.models.Phrases.load(r\"../models/saved_model/phraser\")\n",
    "s = [w.lower() for w in t1]\n",
    "sent = [u'data', u'science', u'of', u'new', u'york', u'was', u'there',u'software',u'engineer',\"big\",\"data\",u\"computer\",\"science\",\"machine\",\"learning\"]\n",
    "print(phraser[s])"
   ]
  },
  {
   "cell_type": "code",
   "execution_count": null,
   "metadata": {},
   "outputs": [],
   "source": []
  }
 ],
 "metadata": {
  "kernelspec": {
   "display_name": "Python 3.7.7 64-bit ('tensorflow': conda)",
   "language": "python",
   "name": "python37764bittensorflowcondaf22e5cf915384b5dbf50c82ba92b1291"
  },
  "language_info": {
   "codemirror_mode": {
    "name": "ipython",
    "version": 3
   },
   "file_extension": ".py",
   "mimetype": "text/x-python",
   "name": "python",
   "nbconvert_exporter": "python",
   "pygments_lexer": "ipython3",
   "version": "3.7.7"
  }
 },
 "nbformat": 4,
 "nbformat_minor": 2
}
