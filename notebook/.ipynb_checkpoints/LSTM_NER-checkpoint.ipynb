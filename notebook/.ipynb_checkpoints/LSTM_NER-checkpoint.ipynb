{
 "cells": [
  {
   "cell_type": "code",
   "execution_count": 2,
   "metadata": {},
   "outputs": [
    {
     "data": {
      "text/html": [
       "<div>\n",
       "<style scoped>\n",
       "    .dataframe tbody tr th:only-of-type {\n",
       "        vertical-align: middle;\n",
       "    }\n",
       "\n",
       "    .dataframe tbody tr th {\n",
       "        vertical-align: top;\n",
       "    }\n",
       "\n",
       "    .dataframe thead th {\n",
       "        text-align: right;\n",
       "    }\n",
       "</style>\n",
       "<table border=\"1\" class=\"dataframe\">\n",
       "  <thead>\n",
       "    <tr style=\"text-align: right;\">\n",
       "      <th></th>\n",
       "      <th>Sentence #</th>\n",
       "      <th>Word</th>\n",
       "      <th>Tag</th>\n",
       "    </tr>\n",
       "  </thead>\n",
       "  <tbody>\n",
       "    <tr>\n",
       "      <th>0</th>\n",
       "      <td>0</td>\n",
       "      <td>Govardhana</td>\n",
       "      <td>Name</td>\n",
       "    </tr>\n",
       "    <tr>\n",
       "      <th>1</th>\n",
       "      <td>0</td>\n",
       "      <td>K</td>\n",
       "      <td>Name</td>\n",
       "    </tr>\n",
       "    <tr>\n",
       "      <th>2</th>\n",
       "      <td>0</td>\n",
       "      <td>Senior</td>\n",
       "      <td>Profil</td>\n",
       "    </tr>\n",
       "    <tr>\n",
       "      <th>3</th>\n",
       "      <td>0</td>\n",
       "      <td>Software</td>\n",
       "      <td>Profil</td>\n",
       "    </tr>\n",
       "    <tr>\n",
       "      <th>4</th>\n",
       "      <td>0</td>\n",
       "      <td>Engineer</td>\n",
       "      <td>Profil</td>\n",
       "    </tr>\n",
       "    <tr>\n",
       "      <th>...</th>\n",
       "      <td>...</td>\n",
       "      <td>...</td>\n",
       "      <td>...</td>\n",
       "    </tr>\n",
       "    <tr>\n",
       "      <th>720759</th>\n",
       "      <td>28831</td>\n",
       "      <td>indeed.com/r/Santosh-Ganta/4270d63f03e71ee8</td>\n",
       "      <td>Email Address</td>\n",
       "    </tr>\n",
       "    <tr>\n",
       "      <th>720760</th>\n",
       "      <td>28831</td>\n",
       "      <td>Kanagala/04b36892f9d2e2eb</td>\n",
       "      <td>Email Address</td>\n",
       "    </tr>\n",
       "    <tr>\n",
       "      <th>720761</th>\n",
       "      <td>28831</td>\n",
       "      <td>Das/152269fb5b986c26</td>\n",
       "      <td>Email Address</td>\n",
       "    </tr>\n",
       "    <tr>\n",
       "      <th>720762</th>\n",
       "      <td>28831</td>\n",
       "      <td>indeed.com/r/Shreyanshu-</td>\n",
       "      <td>Email Address</td>\n",
       "    </tr>\n",
       "    <tr>\n",
       "      <th>720763</th>\n",
       "      <td>28831</td>\n",
       "      <td>indeed.com/r/Vinay-Singhal/c15261079a9b5ae7</td>\n",
       "      <td>Email Address</td>\n",
       "    </tr>\n",
       "  </tbody>\n",
       "</table>\n",
       "<p>720764 rows × 3 columns</p>\n",
       "</div>"
      ],
      "text/plain": [
       "        Sentence #                                         Word            Tag\n",
       "0                0                                   Govardhana           Name\n",
       "1                0                                            K           Name\n",
       "2                0                                       Senior         Profil\n",
       "3                0                                     Software         Profil\n",
       "4                0                                     Engineer         Profil\n",
       "...            ...                                          ...            ...\n",
       "720759       28831  indeed.com/r/Santosh-Ganta/4270d63f03e71ee8  Email Address\n",
       "720760       28831                    Kanagala/04b36892f9d2e2eb  Email Address\n",
       "720761       28831                         Das/152269fb5b986c26  Email Address\n",
       "720762       28831                     indeed.com/r/Shreyanshu-  Email Address\n",
       "720763       28831  indeed.com/r/Vinay-Singhal/c15261079a9b5ae7  Email Address\n",
       "\n",
       "[720764 rows x 3 columns]"
      ]
     },
     "execution_count": 2,
     "metadata": {},
     "output_type": "execute_result"
    }
   ],
   "source": [
    "import pandas as pd\n",
    "import numpy as np\n",
    "import re\n",
    "\n",
    "import matplotlib as mpl\n",
    "import matplotlib.pyplot as plt\n",
    "%matplotlib inline\n",
    "mpl.rcParams['figure.figsize'] = (12, 10)\n",
    "\n",
    "colors = plt.rcParams['axes.prop_cycle'].by_key()['color']\n",
    "\n",
    "from sklearn_crfsuite.metrics import flat_classification_report\n",
    "from sklearn.metrics import f1_score\n",
    "\n",
    "pd.set_option('display.max_rows', 500)\n",
    "pd.set_option('display.max_columns', 500)\n",
    "pd.set_option('display.width', 1000)\n",
    "pd.set_option('display.max_colwidth', None)\n",
    "\n",
    "\n",
    "filepath = u\"../data/resume_sentence_dataset_balanced2.csv\"\n",
    "\n",
    "data = pd.read_csv(filepath)\n",
    "data = data.dropna()\n",
    "data\n",
    "\n"
   ]
  },
  {
   "cell_type": "code",
   "execution_count": null,
   "metadata": {},
   "outputs": [],
   "source": [
    "#change date tag to Date instead of 0\n",
    "#data.loc[data.index[data.Word.str.contains(\"[0-9]{4}$\")],'Tag'] = \"Date\""
   ]
  },
  {
   "cell_type": "code",
   "execution_count": 2,
   "metadata": {},
   "outputs": [
    {
     "data": {
      "text/plain": [
       "Skills                 70668\n",
       "Location               65524\n",
       "Degree                 65524\n",
       "Date                   65524\n",
       "Profil                 65524\n",
       "Email Address          65524\n",
       "Name                   65524\n",
       "College Name           65524\n",
       "Duration               65524\n",
       "O                      65416\n",
       "Companies worked at    60488\n",
       "Name: Tag, dtype: int64"
      ]
     },
     "execution_count": 2,
     "metadata": {},
     "output_type": "execute_result"
    }
   ],
   "source": [
    "data[\"Tag\"].value_counts()"
   ]
  },
  {
   "cell_type": "code",
   "execution_count": 3,
   "metadata": {
    "scrolled": true
   },
   "outputs": [
    {
     "data": {
      "text/plain": [
       "Skills                 70668\n",
       "Location               65524\n",
       "Degree                 65524\n",
       "Date                   65524\n",
       "Profil                 65524\n",
       "Email Address          65524\n",
       "Name                   65524\n",
       "College Name           65524\n",
       "Duration               65524\n",
       "O                      65416\n",
       "Companies worked at    60488\n",
       "Name: Tag, dtype: int64"
      ]
     },
     "execution_count": 3,
     "metadata": {},
     "output_type": "execute_result"
    }
   ],
   "source": [
    "## remove random O-Tag\n",
    "#import random\n",
    "import math\n",
    "\n",
    "index = data.index[data['Tag'] == \"O\"]\n",
    "O_tagSize = math.ceil((len(index)*0.9))\n",
    "\n",
    "drop_indices = np.random.choice(index, O_tagSize, replace=False)\n",
    "#data = data.drop(drop_indices)\n",
    "\n",
    "data[\"Tag\"].value_counts()"
   ]
  },
  {
   "cell_type": "code",
   "execution_count": 3,
   "metadata": {},
   "outputs": [
    {
     "data": {
      "text/plain": [
       "14728"
      ]
     },
     "execution_count": 3,
     "metadata": {},
     "output_type": "execute_result"
    }
   ],
   "source": [
    "words = list(set(data[\"Word\"].values))\n",
    "words.append(\"ENDPAD\")\n",
    "n_words = len(words); n_words"
   ]
  },
  {
   "cell_type": "code",
   "execution_count": 4,
   "metadata": {},
   "outputs": [
    {
     "name": "stdout",
     "output_type": "stream",
     "text": [
      "['Date', 'Email Address', 'Location', 'College Name', 'Degree', 'O', 'Companies worked at', 'Name', 'Profil', 'Duration', 'Skills']\n"
     ]
    }
   ],
   "source": [
    "tags = list(set(data[\"Tag\"].values))\n",
    "n_tags = len(tags); n_tags\n",
    "print(tags)"
   ]
  },
  {
   "cell_type": "code",
   "execution_count": 5,
   "metadata": {},
   "outputs": [],
   "source": [
    "class SentenceGetter(object):\n",
    "    \n",
    "    def __init__(self, data):\n",
    "        self.n_sent = 1\n",
    "        self.data = data\n",
    "        self.empty = False\n",
    "        agg_func = lambda s: [(w,t) for w, t in zip(s[\"Word\"].values.tolist(),s[\"Tag\"].values.tolist())]\n",
    "        self.grouped = self.data.groupby(\"Sentence #\").apply(agg_func)\n",
    "        self.sentences = [s for s in self.grouped]\n",
    "    \n",
    "    def get_next(self):\n",
    "        try:\n",
    "            s = self.grouped[self.n_sent]\n",
    "            print(s)\n",
    "            self.n_sent += 1\n",
    "            return s\n",
    "        except:\n",
    "            return None\n",
    "        \n",
    "getter = SentenceGetter(data)"
   ]
  },
  {
   "cell_type": "code",
   "execution_count": 6,
   "metadata": {},
   "outputs": [],
   "source": [
    "sentences = getter.sentences"
   ]
  },
  {
   "cell_type": "code",
   "execution_count": 7,
   "metadata": {},
   "outputs": [],
   "source": [
    "\n",
    "#pad word to a length of 50 (why ? Keras need to have same length for each input in the neural net)\n",
    "max_len = 50\n",
    "word2idx = {w: i for i, w in enumerate(words)}\n",
    "tag2idx = {t: i for i, t in enumerate(tags)}"
   ]
  },
  {
   "cell_type": "code",
   "execution_count": 8,
   "metadata": {},
   "outputs": [],
   "source": [
    "from tensorflow.keras.preprocessing.sequence import pad_sequences\n",
    "\n",
    "X = [[word2idx[w[0]] for w in s] for s in sentences]\n",
    "y = [[tag2idx[w[1]] for w in s] for s in sentences]\n",
    "\n",
    "\n",
    "X = pad_sequences(maxlen=max_len, sequences=X, padding=\"post\",value=n_words - 1)\n",
    "y = pad_sequences(maxlen=max_len, sequences=y, padding=\"post\",value=tag2idx[\"O\"])"
   ]
  },
  {
   "cell_type": "code",
   "execution_count": 38,
   "metadata": {},
   "outputs": [],
   "source": [
    "# change label to categorical\n",
    "from tensorflow.keras.utils import to_categorical\n",
    "y = [to_categorical(i, num_classes=n_tags) for i in y]\n",
    "\n",
    "#X = X.reshape(X.shape[0],X.shape[1],1)\n",
    "#y = y.reshape(y.shape[0],y.shape[1],1)\n",
    "#X.shape,y.shape"
   ]
  },
  {
   "cell_type": "code",
   "execution_count": 39,
   "metadata": {},
   "outputs": [],
   "source": [
    "# split dataset into train (input & label) test (input & label)\n",
    "from sklearn.model_selection import train_test_split\n",
    "\n",
    "X_tr, X_te, y_tr, y_te = train_test_split(X, y, test_size=0.1)\n"
   ]
  },
  {
   "cell_type": "code",
   "execution_count": 21,
   "metadata": {},
   "outputs": [
    {
     "name": "stdout",
     "output_type": "stream",
     "text": [
      "2279\n"
     ]
    }
   ],
   "source": [
    "import gensim\n",
    "word_vectors  = gensim.models.Word2Vec.load(\"saved_model/word2vecEmbedding\").wv\n",
    "\n",
    "MAX_NB_WORDS = len(word_vectors.vocab)\n",
    "WV_DIM = 50\n",
    "\n",
    "nb_words = min(MAX_NB_WORDS, len(word_vectors.vocab))\n",
    "\n",
    "# we initialize the matrix with random numbers\n",
    "wv_matrix = (np.random.rand(n_words, WV_DIM) - 0.5) / 5.0\n",
    "for word, i in word2idx.items():\n",
    "    if i >= MAX_NB_WORDS:\n",
    "        continue\n",
    "    try:\n",
    "        embedding_vector = word_vectors[word]\n",
    "        # words not found in embedding index will be all-zeros.\n",
    "        wv_matrix[i] = embedding_vector\n",
    "    except:\n",
    "        pass\n",
    "print(MAX_NB_WORDS)"
   ]
  },
  {
   "cell_type": "code",
   "execution_count": 22,
   "metadata": {},
   "outputs": [],
   "source": [
    "import tensorflow as tf\n",
    "tf.compat.v1.disable_v2_behavior()\n",
    "\n",
    "test_sentence = [\"html\"]\n",
    "#model =  tf.keras.models.load_model(\"./saved_model/lstm_ner_model_F1_37_3.h5\")\n",
    "embedding_layer = Embedding(n_words,\n",
    "                     WV_DIM,\n",
    "                     mask_zero=False,\n",
    "                     weights=[wv_matrix],\n",
    "                     input_length=50,\n",
    "                     trainable=False)"
   ]
  },
  {
   "cell_type": "code",
   "execution_count": 37,
   "metadata": {},
   "outputs": [
    {
     "name": "stdout",
     "output_type": "stream",
     "text": [
      "Model: \"model_3\"\n",
      "_________________________________________________________________\n",
      "Layer (type)                 Output Shape              Param #   \n",
      "=================================================================\n",
      "input_3 (InputLayer)         (None, 50)                0         \n",
      "_________________________________________________________________\n",
      "embedding_2 (Embedding)      (None, 50, 50)            736400    \n",
      "_________________________________________________________________\n",
      "spatial_dropout1d_3 (Spatial (None, 50, 50)            0         \n",
      "_________________________________________________________________\n",
      "bidirectional_3 (Bidirection (None, 50, 200)           120800    \n",
      "_________________________________________________________________\n",
      "time_distributed_3 (TimeDist (None, 50, 11)            2211      \n",
      "=================================================================\n",
      "Total params: 859,411\n",
      "Trainable params: 123,011\n",
      "Non-trainable params: 736,400\n",
      "_________________________________________________________________\n"
     ]
    }
   ],
   "source": [
    "from keras.models import Model, Input\n",
    "from keras.layers import LSTM, Embedding, Dense, TimeDistributed, Dropout, Bidirectional,SpatialDropout1D\n",
    "from keras.layers.normalization import BatchNormalization\n",
    "\n",
    "input = Input(shape=(max_len,))\n",
    "#model = Embedding(input_dim=n_words + 1, output_dim=50,input_length=max_len, mask_zero=True)(input)\n",
    "model = embedding_layer(input)\n",
    "model = SpatialDropout1D(0.2)(model)\n",
    "model = Bidirectional(LSTM(units=100, return_sequences=True,recurrent_dropout=0.1))(model)  # variational biLSTM\n",
    "out = TimeDistributed(Dense(n_tags, activation=\"softmax\"))(model)  # softmax output layer\n",
    "\n",
    "model = Model(input, out)\n",
    "model.summary()\n"
   ]
  },
  {
   "cell_type": "code",
   "execution_count": 24,
   "metadata": {},
   "outputs": [],
   "source": [
    "model.compile(optimizer=\"rmsprop\", loss=\"categorical_crossentropy\", metrics=[\"accuracy\"])"
   ]
  },
  {
   "cell_type": "code",
   "execution_count": 25,
   "metadata": {
    "scrolled": false
   },
   "outputs": [
    {
     "name": "stdout",
     "output_type": "stream",
     "text": [
      "WARNING:tensorflow:From C:\\Users\\Cheikh\\Anaconda3\\envs\\tensorflow\\lib\\site-packages\\keras\\backend\\tensorflow_backend.py:422: The name tf.global_variables is deprecated. Please use tf.compat.v1.global_variables instead.\n",
      "\n",
      "Train on 15568 samples, validate on 10379 samples\n",
      "Epoch 1/5\n",
      "15568/15568 [==============================] - 25s 2ms/step - loss: 1.3113 - accuracy: 0.5762 - val_loss: 1.1694 - val_accuracy: 0.6543\n",
      "Epoch 2/5\n",
      "15568/15568 [==============================] - 25s 2ms/step - loss: 1.0428 - accuracy: 0.6929 - val_loss: 0.8396 - val_accuracy: 0.7393\n",
      "Epoch 3/5\n",
      "15568/15568 [==============================] - 25s 2ms/step - loss: 0.7615 - accuracy: 0.7620 - val_loss: 0.6168 - val_accuracy: 0.7936\n",
      "Epoch 4/5\n",
      "15568/15568 [==============================] - 26s 2ms/step - loss: 0.5867 - accuracy: 0.8114 - val_loss: 0.4820 - val_accuracy: 0.8615\n",
      "Epoch 5/5\n",
      "15568/15568 [==============================] - 26s 2ms/step - loss: 0.4758 - accuracy: 0.8483 - val_loss: 0.3826 - val_accuracy: 0.8879\n"
     ]
    }
   ],
   "source": [
    "history = model.fit(X_tr, np.array(y_tr), batch_size=256, epochs=5, validation_split=0.4, verbose=1,shuffle=True)"
   ]
  },
  {
   "cell_type": "code",
   "execution_count": 26,
   "metadata": {},
   "outputs": [
    {
     "data": {
      "image/png": "[encoded data removed]",
      "text/plain": [
       "<Figure size 864x720 with 4 Axes>"
      ]
     },
     "metadata": {
      "needs_background": "light"
     },
     "output_type": "display_data"
    }
   ],
   "source": [
    "def plot_metrics(history):\n",
    "    metrics =  ['accuracy', 'val_accuracy', 'loss', 'val_loss']\n",
    "    for n, metric in enumerate(metrics):\n",
    "        name = metric.replace(\"_\",\" \").capitalize()\n",
    "        plt.subplot(2,2,n+1)\n",
    "        plt.plot(history.epoch,  history.history[metric], color=colors[0], label='Train')\n",
    "        plt.plot(history.epoch, history.history[metric],\n",
    "             color=colors[0], linestyle=\"--\", label='Val')\n",
    "        plt.xlabel('Epoch')\n",
    "        plt.ylabel(name)\n",
    "        if metric == 'loss':\n",
    "              plt.ylim([0, plt.ylim()[1]])\n",
    "        elif metric == 'auc':\n",
    "              plt.ylim([0.8,1])\n",
    "        else:\n",
    "              plt.ylim([0,1])\n",
    "\n",
    "    plt.legend()\n",
    "plot_metrics(history)"
   ]
  },
  {
   "cell_type": "code",
   "execution_count": 27,
   "metadata": {},
   "outputs": [
    {
     "name": "stdout",
     "output_type": "stream",
     "text": [
      "2884/2884 [==============================] - 4s 1ms/step\n",
      "F1-score: 78.3%\n",
      "                     precision    recall  f1-score   support\n",
      "\n",
      "               Name       0.59      0.62      0.61      3057\n",
      "             Skills       0.90      0.90      0.90      7015\n",
      "               Date       0.67      0.63      0.65       284\n",
      "      Email Address       0.91      0.97      0.94      5641\n",
      "Companies worked at       0.14      0.53      0.22       275\n",
      "           Location       0.50      0.54      0.52       280\n",
      "           Duration       0.25      0.36      0.29       274\n",
      "             Profil       0.14      0.45      0.22       244\n",
      "       College Name       0.88      0.81      0.84       303\n",
      "             Degree       0.11      0.19      0.14       294\n",
      "\n",
      "          micro avg       0.74      0.83      0.78     17667\n",
      "          macro avg       0.79      0.83      0.81     17667\n",
      "\n"
     ]
    }
   ],
   "source": [
    "from sklearn_crfsuite import scorers\n",
    "from sklearn_crfsuite import metrics\n",
    "from seqeval.metrics import precision_score, recall_score, f1_score, classification_report\n",
    "\n",
    "idx2tag = {i: w for w, i in tag2idx.items()}\n",
    "\n",
    "def pred2label(pred):\n",
    "    out = []\n",
    "    for pred_i in pred:\n",
    "        out_i = []\n",
    "        for p in pred_i:\n",
    "            p_i = np.argmax(p)\n",
    "            out_i.append(idx2tag[p_i].replace(\"PAD\", \"O\"))\n",
    "        out.append(out_i)\n",
    "    return out\n",
    "\n",
    "\n",
    "y_pred = model.predict(X_te,verbose=1)\n",
    "\n",
    "pred_labels = pred2label(y_pred)\n",
    "test_labels = pred2label(y_te)\n",
    "\n",
    "print(\"F1-score: {:.1%}\".format(f1_score(test_labels, pred_labels)))\n",
    " \n",
    "print(classification_report(test_labels, pred_labels))"
   ]
  },
  {
   "cell_type": "code",
   "execution_count": 42,
   "metadata": {},
   "outputs": [
    {
     "data": {
      "text/plain": [
       "array([ 7113,  6009,  2107,  6103,  5531,  2122,  4311,  8017,  8101,\n",
       "        5497,  6151,   433,  5004,  2107, 11306,  7200,  3089,  7614,\n",
       "        2107, 12828,  2531, 10899,  4218,   864,  9012, 14727, 14727,\n",
       "       14727, 14727, 14727, 14727, 14727, 14727, 14727, 14727, 14727,\n",
       "       14727, 14727, 14727, 14727, 14727, 14727, 14727, 14727, 14727,\n",
       "       14727, 14727, 14727, 14727, 14727])"
      ]
     },
     "execution_count": 42,
     "metadata": {},
     "output_type": "execute_result"
    }
   ],
   "source": [
    "X_te[0]"
   ]
  },
  {
   "cell_type": "code",
   "execution_count": 32,
   "metadata": {},
   "outputs": [
    {
     "name": "stdout",
     "output_type": "stream",
     "text": [
      "Word            (True ): Pred\n",
      "software       : Skills\n",
      "Test           : Skills\n",
      "Suite          : Skills\n",
      "Administrator  : Skills\n",
      "Team           : Skills\n",
      "Operations     : Skills\n",
      "Senior         : Skills\n",
      "Intern         : Skills\n",
      "Associate      : Skills\n",
      "Admin          : Skills\n",
      "Senior         : Skills\n",
      "SDET           : Skills\n",
      "Incident       : Skills\n",
      "Escalation     : Skills\n",
      "Software       : Skills\n",
      "Executive      : Skills\n",
      "Engineer       : Skills\n",
      "SD             : Skills\n",
      "Executive      : Skills\n",
      "Operations     : Skills\n",
      "Engineer       : Skills\n",
      "Oceanic        : Skills\n",
      "Engineer       : Skills\n",
      "Infosys        : Skills\n",
      "Executive      : Skills\n",
      "ENDPAD         : Name\n",
      "ENDPAD         : Name\n",
      "ENDPAD         : Name\n",
      "ENDPAD         : Name\n",
      "ENDPAD         : Name\n",
      "ENDPAD         : Name\n",
      "ENDPAD         : Name\n",
      "ENDPAD         : Name\n",
      "ENDPAD         : Name\n",
      "ENDPAD         : Name\n",
      "ENDPAD         : Name\n",
      "ENDPAD         : Name\n",
      "ENDPAD         : Name\n",
      "ENDPAD         : Name\n",
      "ENDPAD         : Name\n",
      "ENDPAD         : Name\n",
      "ENDPAD         : Name\n",
      "ENDPAD         : Name\n",
      "ENDPAD         : Name\n",
      "ENDPAD         : Name\n",
      "ENDPAD         : Name\n",
      "ENDPAD         : Name\n",
      "ENDPAD         : Name\n",
      "ENDPAD         : Name\n",
      "ENDPAD         : Name\n"
     ]
    }
   ],
   "source": [
    "i = 345\n",
    "p = model.predict(np.array([X_te[i]]))\n",
    "p = np.argmax(p, axis=-1)\n",
    "print(\"{:15} ({:5}): {}\".format(\"Word\", \"True\", \"Pred\"))\n",
    "for w, pred in zip(X_te[i], p[0]):\n",
    "    print(\"{:15}: {}\".format(words[w], tags[pred]))"
   ]
  },
  {
   "cell_type": "code",
   "execution_count": 38,
   "metadata": {},
   "outputs": [
    {
     "name": "stdout",
     "output_type": "stream",
     "text": [
      "[1.00847293 1.07659433 1.00375242 1.00718112 1.00119617 0.99444274\n",
      " 0.92321651 0.984071   1.00503544 1.00632175 1.00204681]\n"
     ]
    }
   ],
   "source": [
    "from sklearn.utils import class_weight\n",
    "y_ints = [y.argmax() for y in y_tr]\n",
    "value = class_weight.compute_class_weight('balanced',\n",
    "                                                 np.unique(y_ints),\n",
    "                                                 y_ints)\n",
    "print(value)\n",
    "model.compile(optimizer=\"rmsprop\", loss=\"categorical_crossentropy\", metrics=[\"accuracy\"])"
   ]
  },
  {
   "cell_type": "code",
   "execution_count": 39,
   "metadata": {},
   "outputs": [
    {
     "name": "stdout",
     "output_type": "stream",
     "text": [
      "Train on 18162 samples, validate on 7785 samples\n",
      "Epoch 1/5\n",
      "18162/18162 [==============================] - 47s 3ms/step - loss: 1.2958 - accuracy: 0.5952 - val_loss: 1.1310 - val_accuracy: 0.6355\n",
      "Epoch 2/5\n",
      "18162/18162 [==============================] - 51s 3ms/step - loss: 0.9667 - accuracy: 0.7119 - val_loss: 0.7007 - val_accuracy: 0.7777\n",
      "Epoch 3/5\n",
      "18162/18162 [==============================] - 64s 3ms/step - loss: 0.6631 - accuracy: 0.7882 - val_loss: 0.5342 - val_accuracy: 0.8262\n",
      "Epoch 4/5\n",
      "18162/18162 [==============================] - 66s 4ms/step - loss: 0.5124 - accuracy: 0.8360 - val_loss: 0.3907 - val_accuracy: 0.8825\n",
      "Epoch 5/5\n",
      "18162/18162 [==============================] - 52s 3ms/step - loss: 0.4124 - accuracy: 0.8701 - val_loss: 0.3127 - val_accuracy: 0.9125\n"
     ]
    }
   ],
   "source": [
    "history = model.fit(X_tr, np.array(y_tr), batch_size=256,epochs=5, shuffle=True,validation_split=0.3, verbose=1,class_weight=value)"
   ]
  },
  {
   "cell_type": "code",
   "execution_count": 40,
   "metadata": {},
   "outputs": [
    {
     "name": "stdout",
     "output_type": "stream",
     "text": [
      "2884/2884 [==============================] - 4s 1ms/step\n",
      "F1-score: 79.6%\n",
      "                     precision    recall  f1-score   support\n",
      "\n",
      "               Name       0.57      0.64      0.61      3057\n",
      "             Skills       0.88      0.94      0.91      7015\n",
      "               Date       0.78      0.74      0.76       284\n",
      "      Email Address       0.91      0.97      0.94      5641\n",
      "Companies worked at       0.18      0.45      0.26       275\n",
      "           Location       0.29      0.32      0.30       280\n",
      "           Duration       0.22      0.48      0.30       274\n",
      "             Profil       0.17      0.41      0.24       244\n",
      "       College Name       0.80      0.72      0.76       303\n",
      "             Degree       0.37      0.45      0.41       294\n",
      "\n",
      "          micro avg       0.75      0.85      0.80     17667\n",
      "          macro avg       0.78      0.85      0.81     17667\n",
      "\n"
     ]
    }
   ],
   "source": [
    "from sklearn_crfsuite import scorers\n",
    "from sklearn_crfsuite import metrics\n",
    "from seqeval.metrics import precision_score, recall_score, f1_score, classification_report\n",
    "\n",
    "idx2tag = {i: w for w, i in tag2idx.items()}\n",
    "\n",
    "def pred2label(pred):\n",
    "    out = []\n",
    "    for pred_i in pred:\n",
    "        out_i = []\n",
    "        for p in pred_i:\n",
    "            p_i = np.argmax(p)\n",
    "            out_i.append(idx2tag[p_i].replace(\"PAD\", \"O\"))\n",
    "        out.append(out_i)\n",
    "    return out\n",
    "\n",
    "\n",
    "y_pred = model.predict(X_te,verbose=1)\n",
    "\n",
    "pred_labels = pred2label(y_pred)\n",
    "test_labels = pred2label(y_te)\n",
    "\n",
    "print(\"F1-score: {:.1%}\".format(f1_score(test_labels, pred_labels)))\n",
    " \n",
    "print(classification_report(test_labels, pred_labels))"
   ]
  },
  {
   "cell_type": "code",
   "execution_count": 11,
   "metadata": {},
   "outputs": [
    {
     "data": {
      "text/plain": [
       "['Skills',\n",
       " 'Email Address',\n",
       " 'Name',\n",
       " 'Degree',\n",
       " 'Companies worked at',\n",
       " 'Duration',\n",
       " 'O',\n",
       " 'Profil',\n",
       " 'College Name',\n",
       " 'Location',\n",
       " 'Date']"
      ]
     },
     "execution_count": 11,
     "metadata": {},
     "output_type": "execute_result"
    }
   ],
   "source": [
    "t1 =[\"Amadou\",\"NDIAYE\",\"23\",\"years\",\"old\",\"Research\",\"and\",\"Development\",\"Engineer\",\"Training\",\"2016\",\"2019\",\"Diploma\",\"of\",\"Design\",\"Engineer\",\"in\",\"Telecommunications\",\"and\",\"Networks\",\"DIC\",\"Ecole\",\"Supérieure\",\"Polytechnique\",\"de\",\"Dakar\",\"ESP\",\"2014\",\"2016\"]\n",
    "t2 = [\"University\",\n",
    "\"Diploma\",\n",
    "\"of\",\n",
    "\"Technology\",\n",
    "\"in\",\n",
    "\"Telecommunications\",\n",
    "\"and\",\n",
    "\"Networks\",\n",
    "\"DUT\",\n",
    "\"Ecole\",\n",
    "\"Supérieure\",\n",
    "\"Polytechnique\",\n",
    "\"de\",\n",
    "\"Dakar\",\n",
    "\"ESP\",\n",
    "\"2013\",\n",
    "\"2014\",\n",
    "\"Baccalaureate\",\n",
    "\"Series\",\n",
    "\"S1\",\n",
    "\"Sangalcam\",\n",
    "\"High\",\n",
    "\"School\"]\n",
    "t3 =[\n",
    "\"Languages\",\n",
    "\"English\",\n",
    "\"Professional\",\n",
    "\"French\",\n",
    "\"Fluent\",\n",
    "\"Wolof\",\n",
    "\"Fluent\",\n",
    "\"Pular\",\n",
    "\"native\",\n",
    "\"Technical\",\n",
    "\"skills\",\n",
    "\"BIG\",\n",
    "\"DATA\",\n",
    "\"Hadoop\",\n",
    "\"2\",\n",
    "\"Sqoop\",\n",
    "\"2\",\n",
    "\"Storm\",\n",
    "\"2\",\n",
    "\"Avro\",\n",
    "\"1\",\n",
    "\"5\",\n",
    "\"Nifi\",\n",
    "\"1\",\n",
    "\"5\",\n",
    "\"Ambari\",\n",
    "\"1\",\n",
    "\"5\",\n",
    "\"AWS\"]\n",
    "t4 = [\n",
    "\"BIG\",     \n",
    "\"DATA\",    \n",
    "\"platform\",\n",
    "\"for\",     \n",
    "\"Atos\",    \n",
    "\"Senegal\", \n",
    "\"Mission\", \n",
    "\"s\",\n",
    "\"and\",     \n",
    "\"Implementation\", \n",
    "\"of\",      \n",
    "\"Ambari\",  \n",
    "\"in\",      \n",
    "\"a\",\n",
    "\"6\",\n",
    "\"node\",    \n",
    "\"cluster\", \n",
    "\"achievements\",   \n",
    "\"Installation\",   \n",
    "\"of\",      \n",
    "\"Hortonworks\",    \n",
    "\"Data\",    \n",
    "\"Platform\",\n",
    "\"and\",     \n",
    "\"various\", \n",
    "\"services\",\n",
    "\"HDFS\",    \n",
    "\"YARN\",    \n",
    "\"HIVE\",    \n",
    "\"SPARK\",   \n",
    "\"SQOOP\",   \n",
    "\"on\",      \n",
    "\"the\",     \n",
    "\"cluster\", \n",
    "\"Cluster\", \n",
    "\"administration\", \n",
    "\"user\",    \n",
    "\"management\"     \n",
    "\"file\",    \n",
    "\"and\",     \n",
    "\"service\", \n",
    "\"access\",  \n",
    "\"management\",     \n",
    "\"Environment\",    \n",
    "\"Centos\",  \n",
    "\"7\",\n",
    "\"Hortonworks\"    \n",
    "    \n",
    "]\n",
    "import json\n",
    "from tensorflow.keras.preprocessing.sequence import pad_sequences\n",
    "word2idx = {}\n",
    "max_len = 50\n",
    "\n",
    "\n",
    "with open(\"../app/word2idx.json\", \"r\", encoding=\"utf-8\") as f:\n",
    "    word2idx = json.load(f)\n",
    "\n",
    "with open(\"../app/tag2idx.json\", \"r\", encoding=\"utf-8\") as f:\n",
    "    tag2idx = json.load(f)\n",
    "tags = tag2idx.keys()\n",
    "\n",
    "tags = list(tag2idx.keys())\n",
    "tags"
   ]
  },
  {
   "cell_type": "code",
   "execution_count": 16,
   "metadata": {
    "scrolled": true
   },
   "outputs": [],
   "source": [
    "import keras\n",
    "import tensorflow as tf\n",
    "import numpy as np\n",
    "model2 =  tf.keras.models.load_model(\"../models/saved_model/lstm_ner_model_F1_37_3.h5\")"
   ]
  },
  {
   "cell_type": "code",
   "execution_count": 18,
   "metadata": {},
   "outputs": [
    {
     "name": "stdout",
     "output_type": "stream",
     "text": [
      "Word           ||Prediction\n",
      "==============================\n",
      "Languages      : O    \n",
      "English        : Skills\n",
      "Professional   : O    \n",
      "French         : O    \n",
      "Fluent         : O    \n",
      "Wolof          : O    \n",
      "Fluent         : O    \n",
      "Pular          : O    \n",
      "native         : O    \n",
      "Technical      : Skills\n",
      "skills         : O    \n",
      "BIG            : O    \n",
      "DATA           : Skills\n",
      "Hadoop         : Skills\n",
      "2              : Skills\n",
      "Sqoop          : O    \n",
      "2              : Skills\n",
      "Storm          : O    \n",
      "2              : Skills\n",
      "Avro           : O    \n",
      "1              : Duration\n",
      "5              : Duration\n",
      "Nifi           : O    \n",
      "1              : Duration\n",
      "5              : Duration\n",
      "Ambari         : O    \n",
      "1              : Duration\n",
      "5              : Duration\n",
      "AWS            : Skills\n"
     ]
    }
   ],
   "source": [
    "\n",
    "test_sentence = t3\n",
    "x_test_sent = pad_sequences(sequences=[[word2idx.get(w, 0) for w in test_sentence]],\n",
    "                            padding=\"post\", value=0, maxlen=max_len)\n",
    "\n",
    "p = model2.predict(np.array([x_test_sent[0]]))\n",
    "\n",
    "p = np.argmax(p, axis=-1)\n",
    "print(\"{:15}||{}\".format(\"Word\", \"Prediction\"))\n",
    "print(30 * \"=\")\n",
    "for w, pred in zip(test_sentence, p[0]):\n",
    "    print(\"{:15}: {:5}\".format(w, tags[pred]))\n",
    "sequences=[[word2idx.get(w, 0) for w in test_sentence]]"
   ]
  },
  {
   "cell_type": "code",
   "execution_count": 21,
   "metadata": {},
   "outputs": [
    {
     "name": "stdout",
     "output_type": "stream",
     "text": [
      "Amadou         : O    \n",
      "NDIAYE         : O    \n",
      "23             : O    \n",
      "years          : O    \n",
      "old            : O    \n",
      "Research       : O    \n",
      "and            : O    \n",
      "Development    : O    \n",
      "Engineer       : O    \n",
      "Training       : O    \n",
      "2016           : O    \n",
      "2019           : O    \n",
      "Diploma        : Degree\n",
      "of             : O    \n",
      "Design         : O    \n",
      "Engineer       : Profil\n",
      "in             : O    \n",
      "Telecommunications: O    \n",
      "and            : O    \n",
      "Networks       : O    \n",
      "DIC            : O    \n",
      "Ecole          : O    \n",
      "Supérieure     : O    \n",
      "Polytechnique  : O    \n",
      "de             : O    \n",
      "Dakar          : O    \n",
      "ESP            : O    \n",
      "2014           : Date \n",
      "2016           : Date \n",
      "University     : College Name\n",
      "Diploma        : Degree\n",
      "of             : Degree\n",
      "Technology     : Degree\n",
      "in             : Degree\n",
      "Telecommunications: O    \n",
      "and            : O    \n",
      "Networks       : O    \n",
      "DUT            : O    \n",
      "Ecole          : O    \n",
      "Supérieure     : O    \n",
      "Polytechnique  : O    \n",
      "de             : O    \n",
      "Dakar          : O    \n",
      "ESP            : O    \n",
      "2013           : Date \n",
      "2014           : Date \n",
      "Baccalaureate  : O    \n",
      "Series         : O    \n",
      "S1             : O    \n",
      "Sangalcam      : O    \n",
      "High           : College Name\n",
      "School         : College Name\n",
      "Languages      : O    \n",
      "English        : Skills\n",
      "Professional   : O    \n",
      "French         : O    \n",
      "Fluent         : O    \n",
      "Wolof          : O    \n",
      "Fluent         : O    \n",
      "Pular          : O    \n",
      "native         : O    \n",
      "Technical      : Skills\n",
      "skills         : O    \n",
      "BIG            : O    \n",
      "DATA           : Skills\n",
      "Hadoop         : Skills\n",
      "2              : Skills\n",
      "Sqoop          : O    \n",
      "2              : Skills\n",
      "Storm          : O    \n",
      "2              : Skills\n",
      "Avro           : O    \n",
      "1              : Duration\n",
      "5              : Duration\n",
      "Nifi           : O    \n",
      "1              : Duration\n",
      "5              : Duration\n",
      "Ambari         : O    \n",
      "1              : Duration\n",
      "5              : Duration\n",
      "AWS            : Skills\n"
     ]
    }
   ],
   "source": [
    "\n",
    "sequences = [t1,t2,t3]\n",
    "pred_dict = {}\n",
    "for seq in sequences:\n",
    "        pred_sentence = pad_sequences(sequences=[[word2idx.get(w, 0) for w in seq]],\n",
    "                                      padding=\"post\", value=0, maxlen=max_len)\n",
    "        p = model2.predict(np.array([pred_sentence[0]]))\n",
    "        p = np.argmax(p, axis=-1)\n",
    "        for w, pred in zip(seq, p[0]):\n",
    "            pred_dict[w] = tags[pred]\n",
    "            print(\"{:15}: {:5}\".format(w, tags[pred]))"
   ]
  },
  {
   "cell_type": "code",
   "execution_count": null,
   "metadata": {},
   "outputs": [],
   "source": []
  },
  {
   "cell_type": "code",
   "execution_count": null,
   "metadata": {},
   "outputs": [],
   "source": []
  }
 ],
 "metadata": {
  "kernelspec": {
   "display_name": "Python 3.7.7 64-bit ('tensorflow': conda)",
   "language": "python",
   "name": "python37764bittensorflowcondaf22e5cf915384b5dbf50c82ba92b1291"
  },
  "language_info": {
   "codemirror_mode": {
    "name": "ipython",
    "version": 3
   },
   "file_extension": ".py",
   "mimetype": "text/x-python",
   "name": "python",
   "nbconvert_exporter": "python",
   "pygments_lexer": "ipython3",
   "version": "3.7.7"
  }
 },
 "nbformat": 4,
 "nbformat_minor": 2
}
