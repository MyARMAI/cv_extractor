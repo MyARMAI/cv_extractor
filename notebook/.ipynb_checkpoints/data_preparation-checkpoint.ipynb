{
 "cells": [
  {
   "cell_type": "markdown",
   "metadata": {},
   "source": [
    "Data preparation step\n",
    " 1 - Load the required module (nltk etc.)"
   ]
  },
  {
   "cell_type": "code",
   "execution_count": 701,
   "metadata": {},
   "outputs": [],
   "source": [
    "import nltk.data\n",
    "import matplotlib as mpl\n",
    "import matplotlib.pyplot as plt\n",
    "import string\n",
    "import re\n",
    "import pandas as pd\n",
    "import numpy as np\n",
    "import re\n",
    "import seaborn as sns\n",
    "import gensim\n",
    "\n",
    "from collections import Counter\n",
    "\n",
    "\n",
    "%matplotlib inline\n",
    "mpl.rcParams['figure.figsize'] = (14, 8)\n",
    "\n",
    "colors = plt.rcParams['axes.prop_cycle'].by_key()['color']\n",
    "\n",
    "\n",
    "pd.set_option('display.max_rows', 500)\n",
    "pd.set_option('display.max_columns', 500)\n",
    "pd.set_option('display.width', 1000)\n",
    "pd.set_option('display.max_colwidth', None)\n"
   ]
  },
  {
   "cell_type": "markdown",
   "metadata": {},
   "source": [
    "The dataset has been downloaded from (https://github.com/DataTurks-Engg/Entity-Recognition-In-Resumes-StanfordNER/blob/master/train.txt).\n",
    "We load it in an pandas dataframe and get the word column in order to create sentence from theses word using NLTK package\n",
    "Before that we drop all non printable and escape characters (\\n \\t ...) and lowercase all the words"
   ]
  },
  {
   "cell_type": "code",
   "execution_count": 702,
   "metadata": {},
   "outputs": [
    {
     "data": {
      "text/html": [
       "<div>\n",
       "<style scoped>\n",
       "    .dataframe tbody tr th:only-of-type {\n",
       "        vertical-align: middle;\n",
       "    }\n",
       "\n",
       "    .dataframe tbody tr th {\n",
       "        vertical-align: top;\n",
       "    }\n",
       "\n",
       "    .dataframe thead th {\n",
       "        text-align: right;\n",
       "    }\n",
       "</style>\n",
       "<table border=\"1\" class=\"dataframe\">\n",
       "  <thead>\n",
       "    <tr style=\"text-align: right;\">\n",
       "      <th></th>\n",
       "      <th>Word</th>\n",
       "      <th>Tag</th>\n",
       "    </tr>\n",
       "  </thead>\n",
       "  <tbody>\n",
       "    <tr>\n",
       "      <th>0</th>\n",
       "      <td>Govardhana</td>\n",
       "      <td>Name</td>\n",
       "    </tr>\n",
       "    <tr>\n",
       "      <th>1</th>\n",
       "      <td>K</td>\n",
       "      <td>Name</td>\n",
       "    </tr>\n",
       "    <tr>\n",
       "      <th>2</th>\n",
       "      <td>Senior</td>\n",
       "      <td>Profil</td>\n",
       "    </tr>\n",
       "    <tr>\n",
       "      <th>3</th>\n",
       "      <td>Software</td>\n",
       "      <td>Profil</td>\n",
       "    </tr>\n",
       "    <tr>\n",
       "      <th>4</th>\n",
       "      <td>Engineer</td>\n",
       "      <td>Profil</td>\n",
       "    </tr>\n",
       "    <tr>\n",
       "      <th>...</th>\n",
       "      <td>...</td>\n",
       "      <td>...</td>\n",
       "    </tr>\n",
       "    <tr>\n",
       "      <th>93928</th>\n",
       "      <td>tuning</td>\n",
       "      <td>O</td>\n",
       "    </tr>\n",
       "    <tr>\n",
       "      <th>93929</th>\n",
       "      <td>and</td>\n",
       "      <td>O</td>\n",
       "    </tr>\n",
       "    <tr>\n",
       "      <th>93930</th>\n",
       "      <td>escalating</td>\n",
       "      <td>O</td>\n",
       "    </tr>\n",
       "    <tr>\n",
       "      <th>93931</th>\n",
       "      <td>Security</td>\n",
       "      <td>O</td>\n",
       "    </tr>\n",
       "    <tr>\n",
       "      <th>93932</th>\n",
       "      <td>events.</td>\n",
       "      <td>O</td>\n",
       "    </tr>\n",
       "  </tbody>\n",
       "</table>\n",
       "<p>92419 rows × 2 columns</p>\n",
       "</div>"
      ],
      "text/plain": [
       "             Word     Tag\n",
       "0      Govardhana    Name\n",
       "1               K    Name\n",
       "2          Senior  Profil\n",
       "3        Software  Profil\n",
       "4        Engineer  Profil\n",
       "...           ...     ...\n",
       "93928      tuning       O\n",
       "93929         and       O\n",
       "93930  escalating       O\n",
       "93931    Security       O\n",
       "93932     events.       O\n",
       "\n",
       "[92419 rows x 2 columns]"
      ]
     },
     "execution_count": 702,
     "metadata": {},
     "output_type": "execute_result"
    }
   ],
   "source": [
    "data = pd.read_csv(\"../data/train.txt\",sep=\"\\t\")\n",
    "raw_sentence = data[\"Word\"].tolist()\n",
    "data = data.dropna()\n",
    "data"
   ]
  },
  {
   "cell_type": "code",
   "execution_count": 650,
   "metadata": {},
   "outputs": [
    {
     "data": {
      "text/plain": [
       "O                      81017\n",
       "Skills                  6073\n",
       "Profil                  1175\n",
       "College_Name             958\n",
       "Degree                   930\n",
       "Companies_worked_at      928\n",
       "Name                     395\n",
       "Location                 381\n",
       "Email_Address            287\n",
       "Graduation_Year          202\n",
       "Years_of_Experience       73\n",
       "Name: Tag, dtype: int64"
      ]
     },
     "execution_count": 650,
     "metadata": {},
     "output_type": "execute_result"
    }
   ],
   "source": [
    "data[\"Tag\"].value_counts()"
   ]
  },
  {
   "cell_type": "markdown",
   "metadata": {},
   "source": [
    "Run the cell below once"
   ]
  },
  {
   "cell_type": "code",
   "execution_count": 703,
   "metadata": {},
   "outputs": [],
   "source": [
    "#We apply some regular expression in order to drop unsignificant char\n",
    "# and incoherent tagging\n",
    "#year month --> duration | single number,year,years, JAN-DEC --> duration\n",
    "\n",
    "data[\"Word\"] = data[\"Word\"].apply(lambda x :  re.sub(r'[()]*',r'', x))\n",
    "data.loc[data.index[data.Word.str.contains(\"[yY]ears[s]?\")],\"Tag\"] = \"Years_of_Experience\"\n",
    "data = data.drop(data.index[data.Tag.str.contains(\"Graduation_Year\")])\n",
    "data.loc[data.index[data.Word.str.contains(\"^[0-9]{1}$\")],\"Tag\"] = \"Years_of_Experience\"\n",
    "data.loc[data.index[data.Word.str.contains(\"[0-9]{4}$\")],'Tag'] = \"Date\"\n",
    "data = data.drop(data.index[data.Word.str.contains(\"^[(.]$\")])\n",
    "data = data.drop(90760)\n",
    "#Some word like SAP have been taged as O\n",
    "data.loc[data.index[(data[\"Word\"]==\"SAP\") & (data[\"Tag\"]==\"O\")]] = \"Skills\"\n",
    "data[\"Tag\"].value_counts()\n",
    "#data.to_csv(\"../data/cleaned_resume.tsv\",sep=\"\\t\")\n",
    "df = data.copy()"
   ]
  },
  {
   "cell_type": "code",
   "execution_count": 704,
   "metadata": {},
   "outputs": [],
   "source": [
    "df[\"Word\"] = df[\"Word\"].apply(lambda x: re.sub(r\"[\\t\\n]\",\"\",x))\n",
    "df[\"Word\"] = df[\"Word\"].apply(lambda x: re.sub(\":$\",\"\",x))"
   ]
  },
  {
   "cell_type": "markdown",
   "metadata": {},
   "source": [
    "In order to recognize what word and tag we will remove we take the convention of adding a number in front of each word\n"
   ]
  },
  {
   "cell_type": "code",
   "execution_count": 705,
   "metadata": {},
   "outputs": [
    {
     "data": {
      "text/html": [
       "<div>\n",
       "<style scoped>\n",
       "    .dataframe tbody tr th:only-of-type {\n",
       "        vertical-align: middle;\n",
       "    }\n",
       "\n",
       "    .dataframe tbody tr th {\n",
       "        vertical-align: top;\n",
       "    }\n",
       "\n",
       "    .dataframe thead th {\n",
       "        text-align: right;\n",
       "    }\n",
       "</style>\n",
       "<table border=\"1\" class=\"dataframe\">\n",
       "  <thead>\n",
       "    <tr style=\"text-align: right;\">\n",
       "      <th></th>\n",
       "      <th>Word</th>\n",
       "      <th>Tag</th>\n",
       "      <th>index</th>\n",
       "    </tr>\n",
       "  </thead>\n",
       "  <tbody>\n",
       "    <tr>\n",
       "      <th>0</th>\n",
       "      <td>0_Govardhana</td>\n",
       "      <td>Name</td>\n",
       "      <td>0</td>\n",
       "    </tr>\n",
       "    <tr>\n",
       "      <th>1</th>\n",
       "      <td>1_K</td>\n",
       "      <td>Name</td>\n",
       "      <td>1</td>\n",
       "    </tr>\n",
       "    <tr>\n",
       "      <th>2</th>\n",
       "      <td>2_Senior</td>\n",
       "      <td>Profil</td>\n",
       "      <td>2</td>\n",
       "    </tr>\n",
       "    <tr>\n",
       "      <th>3</th>\n",
       "      <td>3_Software</td>\n",
       "      <td>Profil</td>\n",
       "      <td>3</td>\n",
       "    </tr>\n",
       "    <tr>\n",
       "      <th>4</th>\n",
       "      <td>4_Engineer</td>\n",
       "      <td>Profil</td>\n",
       "      <td>4</td>\n",
       "    </tr>\n",
       "    <tr>\n",
       "      <th>...</th>\n",
       "      <td>...</td>\n",
       "      <td>...</td>\n",
       "      <td>...</td>\n",
       "    </tr>\n",
       "    <tr>\n",
       "      <th>93928</th>\n",
       "      <td>93928_tuning</td>\n",
       "      <td>O</td>\n",
       "      <td>93928</td>\n",
       "    </tr>\n",
       "    <tr>\n",
       "      <th>93929</th>\n",
       "      <td>93929_and</td>\n",
       "      <td>O</td>\n",
       "      <td>93929</td>\n",
       "    </tr>\n",
       "    <tr>\n",
       "      <th>93930</th>\n",
       "      <td>93930_escalating</td>\n",
       "      <td>O</td>\n",
       "      <td>93930</td>\n",
       "    </tr>\n",
       "    <tr>\n",
       "      <th>93931</th>\n",
       "      <td>93931_Security</td>\n",
       "      <td>O</td>\n",
       "      <td>93931</td>\n",
       "    </tr>\n",
       "    <tr>\n",
       "      <th>93932</th>\n",
       "      <td>93932_events.</td>\n",
       "      <td>O</td>\n",
       "      <td>93932</td>\n",
       "    </tr>\n",
       "  </tbody>\n",
       "</table>\n",
       "<p>92172 rows × 3 columns</p>\n",
       "</div>"
      ],
      "text/plain": [
       "                   Word     Tag  index\n",
       "0          0_Govardhana    Name      0\n",
       "1                   1_K    Name      1\n",
       "2              2_Senior  Profil      2\n",
       "3            3_Software  Profil      3\n",
       "4            4_Engineer  Profil      4\n",
       "...                 ...     ...    ...\n",
       "93928      93928_tuning       O  93928\n",
       "93929         93929_and       O  93929\n",
       "93930  93930_escalating       O  93930\n",
       "93931    93931_Security       O  93931\n",
       "93932     93932_events.       O  93932\n",
       "\n",
       "[92172 rows x 3 columns]"
      ]
     },
     "execution_count": 705,
     "metadata": {},
     "output_type": "execute_result"
    }
   ],
   "source": [
    "row_index = [str(i) for i in df.index]\n",
    "\n",
    "df[\"index\"] = row_index\n",
    "df[\"Word\"] = df[\"index\"]+ '_'+ df[\"Word\"]\n",
    "df"
   ]
  },
  {
   "cell_type": "code",
   "execution_count": 706,
   "metadata": {},
   "outputs": [
    {
     "data": {
      "text/html": [
       "<div>\n",
       "<style scoped>\n",
       "    .dataframe tbody tr th:only-of-type {\n",
       "        vertical-align: middle;\n",
       "    }\n",
       "\n",
       "    .dataframe tbody tr th {\n",
       "        vertical-align: top;\n",
       "    }\n",
       "\n",
       "    .dataframe thead th {\n",
       "        text-align: right;\n",
       "    }\n",
       "</style>\n",
       "<table border=\"1\" class=\"dataframe\">\n",
       "  <thead>\n",
       "    <tr style=\"text-align: right;\">\n",
       "      <th></th>\n",
       "      <th>Word</th>\n",
       "      <th>Tag</th>\n",
       "    </tr>\n",
       "  </thead>\n",
       "  <tbody>\n",
       "  </tbody>\n",
       "</table>\n",
       "</div>"
      ],
      "text/plain": [
       "Empty DataFrame\n",
       "Columns: [Word, Tag]\n",
       "Index: []"
      ]
     },
     "execution_count": 706,
     "metadata": {},
     "output_type": "execute_result"
    }
   ],
   "source": [
    "data.loc[data.index[data.Word.str.contains(\"UNKNOWN\")]]"
   ]
  },
  {
   "cell_type": "markdown",
   "metadata": {},
   "source": [
    "We transform and do some pre-processing step (lowercasing ,removal of non printable character)"
   ]
  },
  {
   "cell_type": "code",
   "execution_count": 725,
   "metadata": {},
   "outputs": [],
   "source": [
    "## transform all the sentence in one string\n",
    "\n",
    "raw_sentence = df[\"Word\"].tolist()\n",
    "s=\"\"\n",
    "for w in raw_sentence:\n",
    "    s+=str(w)+\" \"\n",
    "raw_sentence  = s\n",
    "\n",
    "def dropSpace(s,replace=\"\"):\n",
    "    return re.sub(r'[\\t\\r\\n]',replace,s)\n",
    "\n",
    "printable = set(string.printable)\n",
    "\n",
    "\n",
    "#raw_sentence = ''.join(filter(lambda x: x in printable, raw_sentence))\n",
    "raw_sentence = dropSpace(raw_sentence)\n",
    "cleaned_sentence = raw_sentence"
   ]
  },
  {
   "cell_type": "code",
   "execution_count": 726,
   "metadata": {},
   "outputs": [],
   "source": [
    "def getSentenceLength(sentence):\n",
    "    if len(sentence)==1:\n",
    "        return 1\n",
    "    splitted_sentence = sentence.split(\" \")\n",
    "    lng = 0\n",
    "    for s in splitted_sentence:\n",
    "        try:\n",
    "            word = s.split(\"_\")[1]\n",
    "            lng+=len(word)\n",
    "        except:\n",
    "            lng+=len(s)\n",
    "    return lng"
   ]
  },
  {
   "cell_type": "markdown",
   "metadata": {},
   "source": [
    "We can now apply the tokenizer and plot a distributional graph in order to have an idea about the sentences length\n",
    "We use seaborn.displot function who take as input a pandas Serie or 1d-array or list.\n",
    "By plotting we can see that the dataset contain a large number of phrase containing only a dot ('.') and then make a lot of 1-length sentence. "
   ]
  },
  {
   "cell_type": "code",
   "execution_count": 728,
   "metadata": {},
   "outputs": [
    {
     "name": "stdout",
     "output_type": "stream",
     "text": [
      "Total sentence : 5036 Longest sentence length : 3786 - Shortest sentence length : 1\n"
     ]
    },
    {
     "data": {
      "image/png": "[encoded data removed]",
      "text/plain": [
       "<Figure size 1008x576 with 1 Axes>"
      ]
     },
     "metadata": {
      "needs_background": "light"
     },
     "output_type": "display_data"
    }
   ],
   "source": [
    "tokenizer = nltk.data.load('tokenizers/punkt/english.pickle')\n",
    "\n",
    "tokenized = [sent for sent in tokenizer.tokenize(cleaned_sentence)]\n",
    "\n",
    "sentences_long = [getSentenceLength(r) for r in tokenized]\n",
    "\n",
    "\n",
    "hist = Counter(sentences_long)\n",
    "\n",
    "max_sentence_length = max(sentences_long) \n",
    "min_sentence_length = min(sentences_long)\n",
    "\n",
    "\n",
    "\n",
    "print(\"Total sentence : {} Longest sentence length : {} - Shortest sentence length : {}\".format(len(tokenized),max_sentence_length,min_sentence_length))\n",
    "sample = {k: v for k, v in sorted(hist.items(), key=lambda item: item[1])}\n",
    "\n",
    "x = np.random.normal(size=100)\n",
    "sns.distplot(sentences_long);"
   ]
  },
  {
   "cell_type": "markdown",
   "metadata": {},
   "source": [
    "We define a min threshold for the sentence length of 20 and max threshold that each sentence must have. Then remove the others and plot again"
   ]
  },
  {
   "cell_type": "code",
   "execution_count": 729,
   "metadata": {},
   "outputs": [
    {
     "name": "stdout",
     "output_type": "stream",
     "text": [
      "Total sentence : 4084 Longest sentence length : 1495 - Shortest sentence length : 50\n"
     ]
    },
    {
     "data": {
      "image/png": "[encoded data removed]",
      "text/plain": [
       "<Figure size 1008x576 with 1 Axes>"
      ]
     },
     "metadata": {
      "needs_background": "light"
     },
     "output_type": "display_data"
    }
   ],
   "source": [
    "MIN_LENGTH = 50\n",
    "\n",
    "sentences = [sentence for sentence in tokenized if len(sentence) >= MIN_LENGTH and len(sentence)<=1500]\n",
    "\n",
    "sentences_long = [len(r) for r in sentences]\n",
    "\n",
    "max_sentence_length = max(sentences_long) \n",
    "min_sentence_length = min(sentences_long)\n",
    "\n",
    "print(\"Total sentence : {} Longest sentence length : {} - Shortest sentence length : {}\".format(len(sentences),max_sentence_length,min_sentence_length))\n",
    "\n",
    "hist = Counter(sentences_long)\n",
    "\n",
    "sample = {k: v for k, v in sorted(hist.items(), key=lambda item: item[1])}\n",
    "\n",
    "x = np.random.normal(size=100)\n",
    "sns.distplot(sentences_long);"
   ]
  },
  {
   "cell_type": "markdown",
   "metadata": {},
   "source": [
    "We build then sentence according to a specific format, and load a skills dataset and build a Phraser model.\n"
   ]
  },
  {
   "cell_type": "code",
   "execution_count": 730,
   "metadata": {},
   "outputs": [
    {
     "data": {
      "text/plain": [
       "'0_Govardhana 1_K 2_Senior 3_Software 4_Engineer 5_Bengaluru 6_, 7_Karnataka, 8_Karnataka 10_Email 11_me 12_on 13_Indeed 14_indeed.com/r/Govardhana-K/ 15_b2de315d95905b68 16_Total 17_IT 18_experience 19_5 20_Years 21_6 22_Months 23_Cloud 24_Lending 25_Solutions 26_INC 27_4 28_Month 29_Salesforce 30_Developer 31_Oracle 32_5 33_Years 34_2 35_Month 36_Core 37_Java 38_Developer 39_Languages 40_Core 41_Java, 42_Go 43_Lang 44_Oracle 45_PL-SQL 46_programming, 47_Sales 48_Force 49_Developer 50_with 51_APEX.'"
      ]
     },
     "execution_count": 730,
     "metadata": {},
     "output_type": "execute_result"
    }
   ],
   "source": [
    "sentences[0]"
   ]
  },
  {
   "cell_type": "markdown",
   "metadata": {},
   "source": [
    "Now for these retained sentence we pass them to the Phraser model and build bi-gram term"
   ]
  },
  {
   "cell_type": "code",
   "execution_count": 731,
   "metadata": {},
   "outputs": [],
   "source": [
    "##use for building the phraser model\n",
    "raw_sentence_stream = [doc.split(\" \") for doc in sentences]\n",
    "\n",
    "def buildSentenceStream(sent):\n",
    "    _sentences = []\n",
    "    for s in sent:\n",
    "        try:\n",
    "            _s = s.split(\"_\")[1]\n",
    "            _sentences.append(_s)\n",
    "        except:\n",
    "             pass\n",
    "    return _sentences\n",
    "\n",
    "sentence_stream = []\n",
    "for s in raw_sentence_stream:\n",
    "    sentence_stream.append(buildSentenceStream(s))\n",
    "    \n",
    "    \n",
    "skills = pd.read_csv(\"../data/UpdatedResumeDataSet.csv\")\n",
    "resume = skills[\"Resume\"]\n",
    "\n",
    "def buildSentences(text):\n",
    "    sent = []\n",
    "    tmp = []\n",
    "    while \".\" in text:\n",
    "        dot_index = text.index(\".\")\n",
    "        sent.append(text[0:dot_index])\n",
    "        text = text[dot_index+1:]\n",
    "    for d in sent:\n",
    "        _t = [s for s in d.split(\" \") if len(s)!=0]\n",
    "        tmp.append(_t)\n",
    "    sent= tmp\n",
    "    return sent\n",
    "\n",
    "\n",
    "sentences_dataset  = []\n",
    "for r in resume:\n",
    "    r = ''.join(filter(lambda x: x in printable, r))\n",
    "    r = dropSpace(r)\n",
    "    r = r.lower()\n",
    "    sentences_dataset.append(buildSentences(r))\n",
    "\n",
    "\n",
    "\n",
    "from gensim.models import Phrases\n",
    "\n",
    "tmp = []\n",
    "for sentences in sentences_dataset:\n",
    "    for s in sentences:\n",
    "        tmp.append(s)\n",
    "\n",
    "        \n",
    "        \n",
    "base = tmp+sentence_stream\n",
    "\n",
    "bigram = Phrases(base, min_count=10, threshold=2)"
   ]
  },
  {
   "cell_type": "code",
   "execution_count": 732,
   "metadata": {},
   "outputs": [
    {
     "data": {
      "text/plain": [
       "['0_Govardhana',\n",
       " '1_K',\n",
       " '2_Senior',\n",
       " '3_Software',\n",
       " '4_Engineer',\n",
       " '5_Bengaluru',\n",
       " '6_,',\n",
       " '7_Karnataka,',\n",
       " '8_Karnataka',\n",
       " '10_Email',\n",
       " '11_me',\n",
       " '12_on',\n",
       " '13_Indeed',\n",
       " '14_indeed.com/r/Govardhana-K/',\n",
       " '15_b2de315d95905b68',\n",
       " '16_Total',\n",
       " '17_IT',\n",
       " '18_experience',\n",
       " '19_5',\n",
       " '20_Years',\n",
       " '21_6',\n",
       " '22_Months',\n",
       " '23_Cloud',\n",
       " '24_Lending',\n",
       " '25_Solutions',\n",
       " '26_INC',\n",
       " '27_4',\n",
       " '28_Month',\n",
       " '29_Salesforce',\n",
       " '30_Developer',\n",
       " '31_Oracle',\n",
       " '32_5',\n",
       " '33_Years',\n",
       " '34_2',\n",
       " '35_Month',\n",
       " '36_Core',\n",
       " '37_Java',\n",
       " '38_Developer',\n",
       " '39_Languages',\n",
       " '40_Core',\n",
       " '41_Java,',\n",
       " '42_Go',\n",
       " '43_Lang',\n",
       " '44_Oracle',\n",
       " '45_PL-SQL',\n",
       " '46_programming,',\n",
       " '47_Sales',\n",
       " '48_Force',\n",
       " '49_Developer',\n",
       " '50_with',\n",
       " '51_APEX.']"
      ]
     },
     "execution_count": 732,
     "metadata": {},
     "output_type": "execute_result"
    }
   ],
   "source": [
    "raw_sentence_stream[0]"
   ]
  },
  {
   "cell_type": "markdown",
   "metadata": {},
   "source": [
    "We define functions that will allow us to build the prepared dataset file with bi-gram and save it for future training"
   ]
  },
  {
   "cell_type": "code",
   "execution_count": 742,
   "metadata": {},
   "outputs": [],
   "source": [
    "def nerSentenceBuilder(sentences):\n",
    "    index = []\n",
    "    words = []\n",
    "    tags = []\n",
    "    i = 0\n",
    "    for sentence in sentences:  \n",
    "        for w in sentence:\n",
    "            tag =  df.loc[df.index[df.Word == w]][\"Tag\"].tolist()[0] \n",
    "            index.append(i)\n",
    "            words.append(w)\n",
    "            tags.append(tag.upper())\n",
    "        i+=1\n",
    "    return [index,words,tags]\n",
    "output= []"
   ]
  },
  {
   "cell_type": "code",
   "execution_count": 743,
   "metadata": {},
   "outputs": [],
   "source": [
    "len(raw_sentence_stream)\n",
    "output.append(nerSentenceBuilder(raw_sentence_stream))\n"
   ]
  },
  {
   "cell_type": "code",
   "execution_count": 753,
   "metadata": {},
   "outputs": [],
   "source": [
    "\n",
    "df = pd.DataFrame(columns=[\"Sentence_#\",\"Word\",\"Tag\"])\n",
    "df[\"Sentence_#\"] = output[0][0]\n",
    "df[\"Word\"] = output[0][1]\n",
    "df[\"Tag\"] = output[0][2]\n",
    "df[\"Word\"] = df[\"Word\"].apply(lambda x : x.split(\"_\")[1])\n",
    "\n",
    "#df.to_csv(\"../data/cleaned_resume.csv\")\n",
    "#bigram.save(\"../models/saved_model/phraser\")"
   ]
  },
  {
   "cell_type": "code",
   "execution_count": 754,
   "metadata": {},
   "outputs": [],
   "source": [
    "import pickle\n",
    "\n",
    "with open('../data/bigram_dataset', 'wb') as fp:\n",
    "    pickle.dump(output, fp)"
   ]
  },
  {
   "cell_type": "markdown",
   "metadata": {},
   "source": [
    "Now we process the sentences in order to drop sentences with more than 50% of 'O'"
   ]
  },
  {
   "cell_type": "code",
   "execution_count": 755,
   "metadata": {},
   "outputs": [
    {
     "data": {
      "text/html": [
       "<div>\n",
       "<style scoped>\n",
       "    .dataframe tbody tr th:only-of-type {\n",
       "        vertical-align: middle;\n",
       "    }\n",
       "\n",
       "    .dataframe tbody tr th {\n",
       "        vertical-align: top;\n",
       "    }\n",
       "\n",
       "    .dataframe thead th {\n",
       "        text-align: right;\n",
       "    }\n",
       "</style>\n",
       "<table border=\"1\" class=\"dataframe\">\n",
       "  <thead>\n",
       "    <tr style=\"text-align: right;\">\n",
       "      <th></th>\n",
       "      <th>Sentence_#</th>\n",
       "      <th>Word</th>\n",
       "      <th>Tag</th>\n",
       "    </tr>\n",
       "  </thead>\n",
       "  <tbody>\n",
       "    <tr>\n",
       "      <th>0</th>\n",
       "      <td>0</td>\n",
       "      <td>Govardhana</td>\n",
       "      <td>NAME</td>\n",
       "    </tr>\n",
       "    <tr>\n",
       "      <th>1</th>\n",
       "      <td>0</td>\n",
       "      <td>K</td>\n",
       "      <td>NAME</td>\n",
       "    </tr>\n",
       "    <tr>\n",
       "      <th>2</th>\n",
       "      <td>0</td>\n",
       "      <td>Senior</td>\n",
       "      <td>PROFIL</td>\n",
       "    </tr>\n",
       "    <tr>\n",
       "      <th>3</th>\n",
       "      <td>0</td>\n",
       "      <td>Software</td>\n",
       "      <td>PROFIL</td>\n",
       "    </tr>\n",
       "    <tr>\n",
       "      <th>4</th>\n",
       "      <td>0</td>\n",
       "      <td>Engineer</td>\n",
       "      <td>PROFIL</td>\n",
       "    </tr>\n",
       "    <tr>\n",
       "      <th>...</th>\n",
       "      <td>...</td>\n",
       "      <td>...</td>\n",
       "      <td>...</td>\n",
       "    </tr>\n",
       "    <tr>\n",
       "      <th>78268</th>\n",
       "      <td>4083</td>\n",
       "      <td>tuning</td>\n",
       "      <td>O</td>\n",
       "    </tr>\n",
       "    <tr>\n",
       "      <th>78269</th>\n",
       "      <td>4083</td>\n",
       "      <td>and</td>\n",
       "      <td>O</td>\n",
       "    </tr>\n",
       "    <tr>\n",
       "      <th>78270</th>\n",
       "      <td>4083</td>\n",
       "      <td>escalating</td>\n",
       "      <td>O</td>\n",
       "    </tr>\n",
       "    <tr>\n",
       "      <th>78271</th>\n",
       "      <td>4083</td>\n",
       "      <td>Security</td>\n",
       "      <td>O</td>\n",
       "    </tr>\n",
       "    <tr>\n",
       "      <th>78272</th>\n",
       "      <td>4083</td>\n",
       "      <td>events.</td>\n",
       "      <td>O</td>\n",
       "    </tr>\n",
       "  </tbody>\n",
       "</table>\n",
       "<p>78273 rows × 3 columns</p>\n",
       "</div>"
      ],
      "text/plain": [
       "       Sentence_#        Word     Tag\n",
       "0               0  Govardhana    NAME\n",
       "1               0           K    NAME\n",
       "2               0      Senior  PROFIL\n",
       "3               0    Software  PROFIL\n",
       "4               0    Engineer  PROFIL\n",
       "...           ...         ...     ...\n",
       "78268        4083      tuning       O\n",
       "78269        4083         and       O\n",
       "78270        4083  escalating       O\n",
       "78271        4083    Security       O\n",
       "78272        4083     events.       O\n",
       "\n",
       "[78273 rows x 3 columns]"
      ]
     },
     "execution_count": 755,
     "metadata": {},
     "output_type": "execute_result"
    }
   ],
   "source": [
    "df"
   ]
  },
  {
   "cell_type": "code",
   "execution_count": 668,
   "metadata": {},
   "outputs": [
    {
     "data": {
      "text/plain": [
       "4084"
      ]
     },
     "execution_count": 668,
     "metadata": {},
     "output_type": "execute_result"
    }
   ],
   "source": [
    "len(output)"
   ]
  }
 ],
 "metadata": {
  "kernelspec": {
   "display_name": "Python 3",
   "language": "python",
   "name": "python3"
  },
  "language_info": {
   "codemirror_mode": {
    "name": "ipython",
    "version": 3
   },
   "file_extension": ".py",
   "mimetype": "text/x-python",
   "name": "python",
   "nbconvert_exporter": "python",
   "pygments_lexer": "ipython3",
   "version": "3.7.7"
  }
 },
 "nbformat": 4,
 "nbformat_minor": 4
}
