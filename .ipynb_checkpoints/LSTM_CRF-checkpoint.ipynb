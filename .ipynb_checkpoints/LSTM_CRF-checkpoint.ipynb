{
 "cells": [
  {
   "cell_type": "code",
   "execution_count": 40,
   "metadata": {},
   "outputs": [
    {
     "name": "stdout",
     "output_type": "stream",
     "text": [
      "The tensorboard extension is already loaded. To reload it, use:\n",
      "  %reload_ext tensorboard\n"
     ]
    },
    {
     "data": {
      "text/html": [
       "<div>\n",
       "<style scoped>\n",
       "    .dataframe tbody tr th:only-of-type {\n",
       "        vertical-align: middle;\n",
       "    }\n",
       "\n",
       "    .dataframe tbody tr th {\n",
       "        vertical-align: top;\n",
       "    }\n",
       "\n",
       "    .dataframe thead th {\n",
       "        text-align: right;\n",
       "    }\n",
       "</style>\n",
       "<table border=\"1\" class=\"dataframe\">\n",
       "  <thead>\n",
       "    <tr style=\"text-align: right;\">\n",
       "      <th></th>\n",
       "      <th>Sentence #</th>\n",
       "      <th>Word</th>\n",
       "      <th>Tag</th>\n",
       "    </tr>\n",
       "  </thead>\n",
       "  <tbody>\n",
       "    <tr>\n",
       "      <th>0</th>\n",
       "      <td>0</td>\n",
       "      <td>Govardhana</td>\n",
       "      <td>Name</td>\n",
       "    </tr>\n",
       "    <tr>\n",
       "      <th>1</th>\n",
       "      <td>0</td>\n",
       "      <td>K</td>\n",
       "      <td>Name</td>\n",
       "    </tr>\n",
       "    <tr>\n",
       "      <th>2</th>\n",
       "      <td>0</td>\n",
       "      <td>Senior</td>\n",
       "      <td>Profil</td>\n",
       "    </tr>\n",
       "    <tr>\n",
       "      <th>3</th>\n",
       "      <td>0</td>\n",
       "      <td>Software</td>\n",
       "      <td>Profil</td>\n",
       "    </tr>\n",
       "    <tr>\n",
       "      <th>4</th>\n",
       "      <td>0</td>\n",
       "      <td>Engineer</td>\n",
       "      <td>Profil</td>\n",
       "    </tr>\n",
       "    <tr>\n",
       "      <th>...</th>\n",
       "      <td>...</td>\n",
       "      <td>...</td>\n",
       "      <td>...</td>\n",
       "    </tr>\n",
       "    <tr>\n",
       "      <th>720759</th>\n",
       "      <td>28831</td>\n",
       "      <td>indeed.com/r/Santosh-Ganta/4270d63f03e71ee8</td>\n",
       "      <td>Email Address</td>\n",
       "    </tr>\n",
       "    <tr>\n",
       "      <th>720760</th>\n",
       "      <td>28831</td>\n",
       "      <td>Kanagala/04b36892f9d2e2eb</td>\n",
       "      <td>Email Address</td>\n",
       "    </tr>\n",
       "    <tr>\n",
       "      <th>720761</th>\n",
       "      <td>28831</td>\n",
       "      <td>Das/152269fb5b986c26</td>\n",
       "      <td>Email Address</td>\n",
       "    </tr>\n",
       "    <tr>\n",
       "      <th>720762</th>\n",
       "      <td>28831</td>\n",
       "      <td>indeed.com/r/Shreyanshu-</td>\n",
       "      <td>Email Address</td>\n",
       "    </tr>\n",
       "    <tr>\n",
       "      <th>720763</th>\n",
       "      <td>28831</td>\n",
       "      <td>indeed.com/r/Vinay-Singhal/c15261079a9b5ae7</td>\n",
       "      <td>Email Address</td>\n",
       "    </tr>\n",
       "  </tbody>\n",
       "</table>\n",
       "<p>720764 rows × 3 columns</p>\n",
       "</div>"
      ],
      "text/plain": [
       "        Sentence #                                         Word            Tag\n",
       "0                0                                   Govardhana           Name\n",
       "1                0                                            K           Name\n",
       "2                0                                       Senior         Profil\n",
       "3                0                                     Software         Profil\n",
       "4                0                                     Engineer         Profil\n",
       "...            ...                                          ...            ...\n",
       "720759       28831  indeed.com/r/Santosh-Ganta/4270d63f03e71ee8  Email Address\n",
       "720760       28831                    Kanagala/04b36892f9d2e2eb  Email Address\n",
       "720761       28831                         Das/152269fb5b986c26  Email Address\n",
       "720762       28831                     indeed.com/r/Shreyanshu-  Email Address\n",
       "720763       28831  indeed.com/r/Vinay-Singhal/c15261079a9b5ae7  Email Address\n",
       "\n",
       "[720764 rows x 3 columns]"
      ]
     },
     "execution_count": 40,
     "metadata": {},
     "output_type": "execute_result"
    }
   ],
   "source": [
    "import pandas as pd\n",
    "import numpy as np\n",
    "import re\n",
    "\n",
    "from sklearn_crfsuite.metrics import flat_classification_report\n",
    "from sklearn.metrics import f1_score\n",
    "\n",
    "import matplotlib as mpl\n",
    "import matplotlib.pyplot as plt\n",
    "\n",
    "from datetime import datetime\n",
    "\n",
    "%load_ext tensorboard\n",
    "\n",
    "\n",
    "\n",
    "%matplotlib inline\n",
    "mpl.rcParams['figure.figsize'] = (12, 10)\n",
    "\n",
    "colors = plt.rcParams['axes.prop_cycle'].by_key()['color']\n",
    "\n",
    "\n",
    "pd.set_option('display.max_rows', 500)\n",
    "pd.set_option('display.max_columns', 500)\n",
    "pd.set_option('display.width', 1000)\n",
    "pd.set_option('display.max_colwidth', None)\n",
    "\n",
    "filepath = u\"./resume_sentence_dataset_balanced2.csv\"\n",
    "\n",
    "data = pd.read_csv(filepath)\n",
    "\n",
    "data"
   ]
  },
  {
   "cell_type": "code",
   "execution_count": 41,
   "metadata": {},
   "outputs": [
    {
     "data": {
      "text/plain": [
       "Date                   65524\n",
       "Name                   65524\n",
       "Location               65524\n",
       "Email Address          65524\n",
       "Degree                 65524\n",
       "Duration               65524\n",
       "Profil                 65524\n",
       "College Name           65524\n",
       "O                      65524\n",
       "Companies worked at    65524\n",
       "Skills                 65524\n",
       "Name: Tag, dtype: int64"
      ]
     },
     "execution_count": 41,
     "metadata": {},
     "output_type": "execute_result"
    }
   ],
   "source": [
    "import math\n",
    "\n",
    "index = data.index[data['Tag'] == \"O\"]\n",
    "O_tagSize = math.ceil((len(index)*0.6))\n",
    "\n",
    "drop_indices = np.random.choice(index, O_tagSize, replace=False)\n",
    "#data = data.drop(drop_indices)\n",
    "\n",
    "data[\"Tag\"].value_counts()"
   ]
  },
  {
   "cell_type": "code",
   "execution_count": 108,
   "metadata": {},
   "outputs": [
    {
     "data": {
      "image/png": "[encoded data removed]",
      "text/plain": [
       "<Figure size 864x720 with 1 Axes>"
      ]
     },
     "metadata": {
      "needs_background": "light"
     },
     "output_type": "display_data"
    }
   ],
   "source": [
    "X = data[\"Word\"]\n",
    "y = data[\"Tag\"]\n",
    "\n",
    "\n",
    "from collections import Counter\n",
    "occ = Counter(data[\"Tag\"])\n",
    "\n",
    "plt.xticks(rotation=\"vertical\")\n",
    "plt.bar(occ.keys(), occ.values())\n",
    "plt.show()"
   ]
  },
  {
   "cell_type": "code",
   "execution_count": 3,
   "metadata": {},
   "outputs": [
    {
     "data": {
      "text/plain": [
       "11"
      ]
     },
     "execution_count": 3,
     "metadata": {},
     "output_type": "execute_result"
    }
   ],
   "source": [
    "max_len = 50\n",
    "tags = list(set(data[\"Tag\"].values))\n",
    "n_tags = len(tags); n_tags"
   ]
  },
  {
   "cell_type": "code",
   "execution_count": 4,
   "metadata": {},
   "outputs": [
    {
     "data": {
      "text/plain": [
       "14730"
      ]
     },
     "execution_count": 4,
     "metadata": {},
     "output_type": "execute_result"
    }
   ],
   "source": [
    "words = list(set(data[\"Word\"].values))\n",
    "words.append(\"ENDPAD\")\n",
    "len(data[\"Word\"])\n",
    "n_words = len(words); n_words\n"
   ]
  },
  {
   "cell_type": "code",
   "execution_count": 42,
   "metadata": {},
   "outputs": [],
   "source": [
    "class SentenceGetter(object):\n",
    "    \n",
    "    def __init__(self, data):\n",
    "        self.n_sent = 1\n",
    "        self.data = data\n",
    "        self.empty = False\n",
    "        agg_func = lambda s: [(w,t) for w, t in zip(s[\"Word\"].values.tolist(),s[\"Tag\"].values.tolist())]\n",
    "        self.grouped = self.data.groupby(\"Sentence #\").apply(agg_func)\n",
    "        self.sentences = [s for s in self.grouped]\n",
    "    \n",
    "    def get_next(self):\n",
    "        try:\n",
    "            s = self.grouped[self.n_sent]\n",
    "            print(s)\n",
    "            self.n_sent += 1\n",
    "            return s\n",
    "        except:\n",
    "            return None\n",
    "        \n",
    "getter = SentenceGetter(data)"
   ]
  },
  {
   "cell_type": "code",
   "execution_count": 43,
   "metadata": {},
   "outputs": [],
   "source": [
    "sentences = getter.sentences"
   ]
  },
  {
   "cell_type": "code",
   "execution_count": 44,
   "metadata": {},
   "outputs": [],
   "source": [
    "#pad word to a length of 50 (why ? Keras need to have same length for each input in the neural net)\n",
    "max_len = 50\n",
    "word2idx = {w: i for i, w in enumerate(words)}\n",
    "tag2idx = {t: i for i, t in enumerate(tags)}"
   ]
  },
  {
   "cell_type": "code",
   "execution_count": 45,
   "metadata": {},
   "outputs": [],
   "source": [
    "from keras.preprocessing.sequence import pad_sequences\n",
    "\n",
    "X = [[word2idx[w[0]] for w in s] for s in sentences]\n",
    "y = [[tag2idx[w[1]] for w in s] for s in sentences]\n",
    "\n",
    "\n",
    "idx2word = {i: w for w, i in word2idx.items()}\n",
    "\n",
    "idx2tag = {i: w for w, i in tag2idx.items()}\n",
    "\n",
    "\n",
    "X = pad_sequences(maxlen=max_len, sequences=X, padding=\"post\", value=n_words - 1)\n",
    "y = pad_sequences(maxlen=max_len, sequences=y, padding=\"post\", value=0)"
   ]
  },
  {
   "cell_type": "code",
   "execution_count": 46,
   "metadata": {},
   "outputs": [],
   "source": [
    "# change label to categorical\n",
    "from keras.utils import to_categorical\n",
    "t = [to_categorical(i, num_classes=n_tags) for i in y]\n"
   ]
  },
  {
   "cell_type": "code",
   "execution_count": 47,
   "metadata": {},
   "outputs": [
    {
     "name": "stdout",
     "output_type": "stream",
     "text": [
      "20181 8650 20181 8650\n"
     ]
    }
   ],
   "source": [
    "\n",
    "# split dataset into train (input & label) test (input & label)\n",
    "from sklearn.model_selection import train_test_split\n",
    "\n",
    "X_tr, X_te, y_tr, y_te = train_test_split(X, t, test_size=0.3)\n",
    "print(len(X_tr), len(X_te), len(y_tr), len(y_te))\n"
   ]
  },
  {
   "cell_type": "code",
   "execution_count": null,
   "metadata": {},
   "outputs": [],
   "source": []
  },
  {
   "cell_type": "code",
   "execution_count": 48,
   "metadata": {},
   "outputs": [],
   "source": [
    "import keras\n",
    "from keras_contrib.layers import CRF\n",
    "from keras_contrib import metrics,losses\n",
    "\n",
    "\n",
    "logdir = \"logs/scalars/\" + datetime.now().strftime(\"%Y%m%d-%H%M%S\")\n",
    "tensorboard_callback = keras.callbacks.TensorBoard(log_dir=logdir)"
   ]
  },
  {
   "cell_type": "code",
   "execution_count": 49,
   "metadata": {},
   "outputs": [
    {
     "name": "stdout",
     "output_type": "stream",
     "text": [
      "Model: \"model_5\"\n",
      "_________________________________________________________________\n",
      "Layer (type)                 Output Shape              Param #   \n",
      "=================================================================\n",
      "input_6 (InputLayer)         (None, 50)                0         \n",
      "_________________________________________________________________\n",
      "embedding_6 (Embedding)      (None, 50, 50)            736500    \n",
      "_________________________________________________________________\n",
      "bidirectional_5 (Bidirection (None, 50, 128)           58880     \n",
      "_________________________________________________________________\n",
      "crf_5 (CRF)                  (None, 50, 11)            1562      \n",
      "=================================================================\n",
      "Total params: 796,942\n",
      "Trainable params: 796,942\n",
      "Non-trainable params: 0\n",
      "_________________________________________________________________\n"
     ]
    }
   ],
   "source": [
    "from keras.models import Model, Input\n",
    "from keras.layers import LSTM, Embedding, Dense, TimeDistributed, Dropout, Bidirectional,SpatialDropout1D\n",
    "\n",
    "\n",
    "input = Input(shape=(max_len,))\n",
    "model = Embedding(input_dim=n_words, output_dim=50)(input)  # 50-dim embedding\n",
    "model = Bidirectional(LSTM(units=64, return_sequences=True, recurrent_dropout=0.5))(model)  # variational biLSTM\n",
    "out = TimeDistributed(Dense(n_tags, activation=\"softmax\"))(model)  # softmax output layer\n",
    "\n",
    "crf = CRF(n_tags)\n",
    "out = crf(model)\n",
    "\n",
    "model = Model(input, out)\n",
    "model.summary()\n"
   ]
  },
  {
   "cell_type": "code",
   "execution_count": 50,
   "metadata": {
    "scrolled": true
   },
   "outputs": [],
   "source": [
    "model.compile(optimizer=\"rmsprop\", loss=losses.crf_loss, metrics=[metrics.crf_accuracy])"
   ]
  },
  {
   "cell_type": "code",
   "execution_count": 51,
   "metadata": {
    "scrolled": false
   },
   "outputs": [
    {
     "name": "stderr",
     "output_type": "stream",
     "text": [
      "C:\\Users\\Cheikh\\Anaconda3\\envs\\tensorflow\\lib\\site-packages\\tensorflow_core\\python\\framework\\indexed_slices.py:433: UserWarning: Converting sparse IndexedSlices to a dense Tensor of unknown shape. This may consume a large amount of memory.\n",
      "  \"Converting sparse IndexedSlices to a dense Tensor of unknown shape. \"\n"
     ]
    },
    {
     "name": "stdout",
     "output_type": "stream",
     "text": [
      "Train on 14126 samples, validate on 6055 samples\n",
      "Epoch 1/5\n",
      "14126/14126 [==============================] - 44s 3ms/step - loss: 1.2388 - crf_accuracy: 0.5871 - val_loss: 0.8344 - val_crf_accuracy: 0.7452\n",
      "Epoch 2/5\n",
      "14126/14126 [==============================] - 42s 3ms/step - loss: 0.4713 - crf_accuracy: 0.8807 - val_loss: 0.1319 - val_crf_accuracy: 0.9878\n",
      "Epoch 3/5\n",
      "14126/14126 [==============================] - 43s 3ms/step - loss: 0.0982 - crf_accuracy: 0.9858 - val_loss: 0.0373 - val_crf_accuracy: 0.9931\n",
      "Epoch 4/5\n",
      "14126/14126 [==============================] - 42s 3ms/step - loss: 0.0357 - crf_accuracy: 0.9935 - val_loss: 0.0245 - val_crf_accuracy: 0.9938\n",
      "Epoch 5/5\n",
      "14126/14126 [==============================] - 44s 3ms/step - loss: 0.0208 - crf_accuracy: 0.9950 - val_loss: 0.0174 - val_crf_accuracy: 0.9947\n"
     ]
    }
   ],
   "source": [
    "history = model.fit(X_tr, np.array(y_tr), batch_size=256, epochs=5, validation_split=0.3, verbose=1,shuffle=True)"
   ]
  },
  {
   "cell_type": "code",
   "execution_count": 17,
   "metadata": {},
   "outputs": [
    {
     "data": {
      "image/png": "[encoded data removed]",
      "text/plain": [
       "<Figure size 864x720 with 4 Axes>"
      ]
     },
     "metadata": {
      "needs_background": "light"
     },
     "output_type": "display_data"
    }
   ],
   "source": [
    "def plot_metrics(history):\n",
    "    metrics =  ['val_loss', 'val_crf_accuracy', 'loss', 'crf_accuracy']\n",
    "    for n, metric in enumerate(metrics):\n",
    "        name = metric.replace(\"_\",\" \").capitalize()\n",
    "        plt.subplot(2,2,n+1)\n",
    "        plt.plot(history.epoch,  history.history[metric], color=colors[0], label='Train')\n",
    "        plt.plot(history.epoch, history.history[metric],\n",
    "             color=colors[0], linestyle=\"--\", label='Val')\n",
    "        plt.xlabel('Epoch')\n",
    "        plt.ylabel(name)\n",
    "        if metric == 'loss':\n",
    "              plt.ylim([0, plt.ylim()[1]])\n",
    "        elif metric == 'auc':\n",
    "              plt.ylim([0.8,1])\n",
    "        else:\n",
    "              plt.ylim([0,1])\n",
    "\n",
    "    plt.legend()\n",
    "plot_metrics(history)"
   ]
  },
  {
   "cell_type": "code",
   "execution_count": 52,
   "metadata": {},
   "outputs": [
    {
     "name": "stdout",
     "output_type": "stream",
     "text": [
      "8650/8650 [==============================] - 16s 2ms/step\n",
      "F1-score: 98.1%\n",
      "                     precision    recall  f1-score   support\n",
      "\n",
      "      Email Address       1.00      1.00      1.00     19328\n",
      "             Profil       0.99      0.99      0.99      8746\n",
      "             Skills       0.95      0.99      0.97     18949\n",
      "           Duration       1.00      0.98      0.99       813\n",
      "Companies worked at       0.96      0.86      0.91       925\n",
      "             Degree       0.97      0.92      0.95       813\n",
      "       College Name       0.98      0.93      0.95       883\n",
      "               Date       1.00      0.95      0.97       802\n",
      "               Name       0.99      0.95      0.97       795\n",
      "           Location       1.00      0.90      0.95       889\n",
      "\n",
      "          micro avg       0.98      0.99      0.98     52943\n",
      "          macro avg       0.98      0.99      0.98     52943\n",
      "\n"
     ]
    }
   ],
   "source": [
    "from seqeval.metrics import precision_score, recall_score, f1_score, classification_report\n",
    "\n",
    "idx2tag = {i: w for w, i in tag2idx.items()}\n",
    "\n",
    "def pred2label(pred):\n",
    "    out = []\n",
    "    for pred_i in pred:\n",
    "        out_i = []\n",
    "        for p in pred_i:\n",
    "            p_i = np.argmax(p)\n",
    "            out_i.append(idx2tag[p_i])\n",
    "        out.append(out_i)\n",
    "    return out\n",
    "\n",
    "\n",
    "y_pred = model.predict(X_te,verbose=1)\n",
    "\n",
    "pred_labels = pred2label(y_pred)\n",
    "test_labels = pred2label(y_te)\n",
    "\n",
    "print(\"F1-score: {:.1%}\".format(f1_score(test_labels, pred_labels)))\n",
    " \n",
    "print(classification_report(test_labels, pred_labels))"
   ]
  },
  {
   "cell_type": "code",
   "execution_count": 39,
   "metadata": {},
   "outputs": [
    {
     "name": "stdout",
     "output_type": "stream",
     "text": [
      "Word           ||Prediction\n",
      "==============================\n",
      "Developer      : Email Address\n",
      "in             : Email Address\n",
      "HTML5          : Email Address\n",
      ",              : Email Address\n",
      "JavaScript     : Email Address\n",
      "and            : Email Address\n",
      "CSS3           : Email Address\n",
      "(Examen 70-480): Email Address\n",
      "Oracle         : Email Address\n",
      ".              : Email Address\n",
      "Developer      : Email Address\n",
      "Java           : Email Address\n",
      "Programmer     : Email Address\n",
      "2012           : Email Address\n",
      "to             : Email Address\n",
      "2013           : Email Address\n"
     ]
    }
   ],
   "source": [
    "\n",
    "##overfitted model no good\n",
    "\n",
    "test_sentence = [\"Developer\" ,\"in\", \"HTML5\", \",\", \"JavaScript\", \"and\", \"CSS3\", \"(Examen 70-480)\"\n",
    "                ,\"Oracle\", \".\",\"Developer\" ,\"Java\", \"Programmer\",\"2012\",\"to\",\"2013\"]\n",
    "\n",
    "x_test_sent = pad_sequences(sequences=[[word2idx.get(w, 0) for w in test_sentence]],\n",
    "                            padding=\"post\", value=0, maxlen=max_len)\n",
    "p = model.predict(np.array([x_test_sent[0]]))\n",
    "\n",
    "p = np.argmax(p, axis=-1)\n",
    "print(\"{:15}||{}\".format(\"Word\", \"Prediction\"))\n",
    "print(30 * \"=\")\n",
    "for w, pred in zip(test_sentence, p[0]):\n",
    "    print(\"{:15}: {:5}\".format(w, tags[pred]))\n",
    "    \n",
    "    \n"
   ]
  },
  {
   "cell_type": "code",
   "execution_count": 125,
   "metadata": {},
   "outputs": [
    {
     "name": "stdout",
     "output_type": "stream",
     "text": [
      "[1.0147325  0.99223167 0.98583362 0.99115957 0.99438285 1.00253353\n",
      " 1.00308166 1.02608298 1.02151245 0.99708498 0.97379849]\n"
     ]
    }
   ],
   "source": [
    "## compute weight for regularization\n",
    "from sklearn.utils import class_weight\n",
    "\n",
    "y_ints = [y.argmax() for y in y_tr]\n",
    "value = class_weight.compute_class_weight('balanced',np.unique(y_ints),y_ints)\n",
    "\n",
    "print(value)"
   ]
  },
  {
   "cell_type": "code",
   "execution_count": 126,
   "metadata": {},
   "outputs": [
    {
     "name": "stdout",
     "output_type": "stream",
     "text": [
      "Model: \"model_11\"\n",
      "_________________________________________________________________\n",
      "Layer (type)                 Output Shape              Param #   \n",
      "=================================================================\n",
      "input_11 (InputLayer)        (None, 50)                0         \n",
      "_________________________________________________________________\n",
      "embedding_11 (Embedding)     (None, 50, 50)            736500    \n",
      "_________________________________________________________________\n",
      "dropout_13 (Dropout)         (None, 50, 50)            0         \n",
      "_________________________________________________________________\n",
      "bidirectional_11 (Bidirectio (None, 50, 128)           58880     \n",
      "_________________________________________________________________\n",
      "crf_10 (CRF)                 (None, 50, 11)            1562      \n",
      "=================================================================\n",
      "Total params: 796,942\n",
      "Trainable params: 796,942\n",
      "Non-trainable params: 0\n",
      "_________________________________________________________________\n"
     ]
    },
    {
     "name": "stderr",
     "output_type": "stream",
     "text": [
      "C:\\Users\\Cheikh\\Anaconda3\\envs\\tensorflow\\lib\\site-packages\\keras_contrib\\layers\\crf.py:346: UserWarning: CRF.loss_function is deprecated and it might be removed in the future. Please use losses.crf_loss instead.\n",
      "  warnings.warn('CRF.loss_function is deprecated '\n",
      "C:\\Users\\Cheikh\\Anaconda3\\envs\\tensorflow\\lib\\site-packages\\keras_contrib\\layers\\crf.py:353: UserWarning: CRF.accuracy is deprecated and it might be removed in the future. Please use metrics.crf_accuracy\n",
      "  warnings.warn('CRF.accuracy is deprecated and it '\n",
      "C:\\Users\\Cheikh\\Anaconda3\\envs\\tensorflow\\lib\\site-packages\\tensorflow_core\\python\\framework\\indexed_slices.py:433: UserWarning: Converting sparse IndexedSlices to a dense Tensor of unknown shape. This may consume a large amount of memory.\n",
      "  \"Converting sparse IndexedSlices to a dense Tensor of unknown shape. \"\n"
     ]
    },
    {
     "name": "stdout",
     "output_type": "stream",
     "text": [
      "Train on 18162 samples, validate on 2019 samples\n",
      "Epoch 1/5\n",
      "18162/18162 [==============================] - 74s 4ms/step - loss: 1.1586 - crf_viterbi_accuracy: 0.6239 - val_loss: 0.6050 - val_crf_viterbi_accuracy: 0.8260\n",
      "Epoch 2/5\n",
      "18162/18162 [==============================] - 74s 4ms/step - loss: 0.2648 - crf_viterbi_accuracy: 0.9424 - val_loss: 0.0746 - val_crf_viterbi_accuracy: 0.9843\n",
      "Epoch 3/5\n",
      "18162/18162 [==============================] - 76s 4ms/step - loss: 0.0525 - crf_viterbi_accuracy: 0.9902 - val_loss: 0.0251 - val_crf_viterbi_accuracy: 0.9944\n",
      "Epoch 4/5\n",
      "18162/18162 [==============================] - 73s 4ms/step - loss: 0.0217 - crf_viterbi_accuracy: 0.9945 - val_loss: 0.0145 - val_crf_viterbi_accuracy: 0.9956\n",
      "Epoch 5/5\n",
      "18162/18162 [==============================] - 76s 4ms/step - loss: 0.0115 - crf_viterbi_accuracy: 0.9957 - val_loss: 0.0091 - val_crf_viterbi_accuracy: 0.9963\n"
     ]
    }
   ],
   "source": [
    "from keras.models import Model, Input\n",
    "from keras.layers import LSTM, Embedding, Dense, TimeDistributed, Dropout, Bidirectional\n",
    "\n",
    "\n",
    "input = Input(shape=(max_len,))\n",
    "model2 = Embedding(input_dim=n_words, output_dim=50, input_length=max_len)(input)  # 50-dim embedding\n",
    "model2 = Dropout(0.1)(model2)\n",
    "model2 = Bidirectional(LSTM(units=64, return_sequences=True, recurrent_dropout=0.1))(model2)  # variational biLSTM\n",
    "out = TimeDistributed(Dense(n_tags, activation=\"softmax\"))(model2)  # softmax output layer\n",
    "crf = CRF(n_tags)\n",
    "out = crf(model2)\n",
    "\n",
    "model2 = Model(input, out)\n",
    "model2.summary()\n",
    "\n",
    "value = [0.99223167, 1.02550943 ,0.9933061 , 1.01081893, 0.99438285, 1.00308166,1.00308166, 0.97122094, 0.99008978, 1.01980898 ,0.99871332]\n",
    "model2.compile(optimizer=\"rmsprop\", loss=crf.loss_function, metrics=[crf.accuracy])\n",
    "history = model2.fit(X_tr, np.array(y_tr), batch_size=256, epochs=5, validation_split=0.1, verbose=1,shuffle=True,class_weight=value)"
   ]
  },
  {
   "cell_type": "code",
   "execution_count": 127,
   "metadata": {},
   "outputs": [
    {
     "name": "stdout",
     "output_type": "stream",
     "text": [
      "8650/8650 [==============================] - 24s 3ms/step\n",
      "F1-score: 98.5%\n",
      "                     precision    recall  f1-score   support\n",
      "\n",
      "             Skills      0.976     0.990     0.983     19407\n",
      "       College Name      0.939     0.927     0.933       837\n",
      "      Email Address      1.000     0.998     0.999     20619\n",
      "               Date      1.000     0.952     0.975       872\n",
      "Companies worked at      0.954     0.868     0.909       892\n",
      "             Profil      0.986     0.984     0.985      8761\n",
      "           Duration      0.997     0.971     0.984       797\n",
      "           Location      0.997     0.884     0.937       879\n",
      "               Name      0.996     0.936     0.965       843\n",
      "             Degree      0.954     0.910     0.931       852\n",
      "\n",
      "          micro avg      0.986     0.984     0.985     54759\n",
      "          macro avg      0.986     0.984     0.985     54759\n",
      "\n"
     ]
    }
   ],
   "source": [
    "y_pred = model2.predict(X_te,verbose=1)\n",
    "\n",
    "    \n",
    "pred_labels = pred2label(y_pred)\n",
    "test_labels = pred2label(y_te)\n",
    "\n",
    "print(\"F1-score: {:.1%}\".format(f1_score(test_labels, pred_labels)))\n",
    " \n",
    "print(classification_report(test_labels, pred_labels,digits=3))"
   ]
  },
  {
   "cell_type": "code",
   "execution_count": 129,
   "metadata": {},
   "outputs": [
    {
     "name": "stdout",
     "output_type": "stream",
     "text": [
      "Word           ||Prediction\n",
      "==============================\n",
      "Data           : O    \n",
      "engineer       : O    \n",
      ".              : O    \n",
      "HTML5          : O    \n",
      "with           : O    \n",
      "JavaScript     : O    \n",
      "and            : O    \n",
      "CSS3           : O    \n"
     ]
    }
   ],
   "source": [
    "test_sentence = [\"Data\",\"engineer\" ,\".\", \"HTML5\", \"with\", \"JavaScript\", \"and\", \"CSS3\"\n",
    "                ,\"Oracle\",\"from\",\"2012\",\"to\",\"2013\"]\n",
    "\n",
    "x_test_sent = pad_sequences(sequences=[[word2idx.get(w, 0) for w in test_sentence]],\n",
    "                            padding=\"post\", value=0, maxlen=max_len)\n",
    "p = model2.predict(np.array([x_test_sent[0]]))\n",
    "\n",
    "p = np.argmax(p, axis=-1)\n",
    "print(\"{:15}||{}\".format(\"Word\", \"Prediction\"))\n",
    "print(30 * \"=\")\n",
    "for w, pred in zip(test_sentence, p[0]):\n",
    "    print(\"{:15}: {:5}\".format(w, tags[pred]))"
   ]
  },
  {
   "cell_type": "code",
   "execution_count": 55,
   "metadata": {},
   "outputs": [
    {
     "ename": "ModuleNotFoundError",
     "evalue": "No module named 'gensim'",
     "output_type": "error",
     "traceback": [
      "\u001b[1;31m---------------------------------------------------------------------------\u001b[0m",
      "\u001b[1;31mModuleNotFoundError\u001b[0m                       Traceback (most recent call last)",
      "\u001b[1;32m<ipython-input-55-ed9268035aee>\u001b[0m in \u001b[0;36m<module>\u001b[1;34m\u001b[0m\n\u001b[0;32m      1\u001b[0m \u001b[1;31m## try word embedding format word2vec\u001b[0m\u001b[1;33m\u001b[0m\u001b[1;33m\u001b[0m\u001b[1;33m\u001b[0m\u001b[0m\n\u001b[0;32m      2\u001b[0m \u001b[1;32mimport\u001b[0m \u001b[0mmultiprocessing\u001b[0m\u001b[1;33m\u001b[0m\u001b[1;33m\u001b[0m\u001b[0m\n\u001b[1;32m----> 3\u001b[1;33m \u001b[1;32mfrom\u001b[0m \u001b[0mgensim\u001b[0m\u001b[1;33m.\u001b[0m\u001b[0mmodels\u001b[0m \u001b[1;32mimport\u001b[0m \u001b[0mWord2Vec\u001b[0m\u001b[1;33m\u001b[0m\u001b[1;33m\u001b[0m\u001b[0m\n\u001b[0m\u001b[0;32m      4\u001b[0m \u001b[1;32mimport\u001b[0m \u001b[0mlogging\u001b[0m\u001b[1;33m\u001b[0m\u001b[1;33m\u001b[0m\u001b[0m\n",
      "\u001b[1;31mModuleNotFoundError\u001b[0m: No module named 'gensim'"
     ]
    }
   ],
   "source": []
  },
  {
   "cell_type": "code",
   "execution_count": null,
   "metadata": {},
   "outputs": [],
   "source": [
    "cores = multiprocessing.cpu_count()"
   ]
  }
 ],
 "metadata": {
  "kernelspec": {
   "display_name": "Python 3",
   "language": "python",
   "name": "python3"
  },
  "language_info": {
   "codemirror_mode": {
    "name": "ipython",
    "version": 3
   },
   "file_extension": ".py",
   "mimetype": "text/x-python",
   "name": "python",
   "nbconvert_exporter": "python",
   "pygments_lexer": "ipython3",
   "version": "3.7.7"
  }
 },
 "nbformat": 4,
 "nbformat_minor": 2
}
